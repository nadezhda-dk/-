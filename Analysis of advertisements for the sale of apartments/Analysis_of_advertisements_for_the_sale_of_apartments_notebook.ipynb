{
 "cells": [
  {
   "cell_type": "markdown",
   "metadata": {},
   "source": [
    "# Исследование объявлений о продаже квартир\n",
    "\n",
    "На основании данных сервиса Яндекc Недвижимость — архив объявлений о продаже квартир в Санкт-Петербурге и соседних населённых пунктах за несколько лет - необходимо определить рыночную стоимость объектов недвижимости.\n",
    "\n",
    "По каждой квартире на продажу доступны два вида данных. Первые вписаны пользователем, вторые получены автоматически на основе картографических данных. Например, расстояние до центра, аэропорта, ближайшего парка и водоёма. \n",
    "\n",
    "Необходимо установить параметры, которые влияют на стоимость объетов недвижимости."
   ]
  },
  {
   "cell_type": "markdown",
   "metadata": {
    "toc": true
   },
   "source": [
    "<h1>Содержание<span class=\"tocSkip\"></span></h1>\n",
    "<div class=\"toc\"><ul class=\"toc-item\"><li><span><a href=\"#Изучение-данных-из-файла\" data-toc-modified-id=\"Изучение-данных-из-файла-1\"><span class=\"toc-item-num\">1&nbsp;&nbsp;</span>Изучение данных из файла</a></span><ul class=\"toc-item\"><li><span><a href=\"#Вывод\" data-toc-modified-id=\"Вывод-1.1\"><span class=\"toc-item-num\">1.1&nbsp;&nbsp;</span>Вывод</a></span></li></ul></li><li><span><a href=\"#Предобработка-данных\" data-toc-modified-id=\"Предобработка-данных-2\"><span class=\"toc-item-num\">2&nbsp;&nbsp;</span>Предобработка данных</a></span><ul class=\"toc-item\"><li><span><a href=\"#Вывод\" data-toc-modified-id=\"Вывод-2.1\"><span class=\"toc-item-num\">2.1&nbsp;&nbsp;</span>Вывод</a></span></li></ul></li><li><span><a href=\"#Расчёты-и-добавление-результатов-в-таблицу\" data-toc-modified-id=\"Расчёты-и-добавление-результатов-в-таблицу-3\"><span class=\"toc-item-num\">3&nbsp;&nbsp;</span>Расчёты и добавление результатов в таблицу</a></span><ul class=\"toc-item\"><li><span><a href=\"#Вывод\" data-toc-modified-id=\"Вывод-3.1\"><span class=\"toc-item-num\">3.1&nbsp;&nbsp;</span>Вывод</a></span></li></ul></li><li><span><a href=\"#Исследовательский-анализ-данных\" data-toc-modified-id=\"Исследовательский-анализ-данных-4\"><span class=\"toc-item-num\">4&nbsp;&nbsp;</span>Исследовательский анализ данных</a></span><ul class=\"toc-item\"><li><span><a href=\"#Изучение-площади,-цены,-числа-комнат,-высоты-потолков\" data-toc-modified-id=\"Изучение-площади,-цены,-числа-комнат,-высоты-потолков-4.1\"><span class=\"toc-item-num\">4.1&nbsp;&nbsp;</span>Изучение площади, цены, числа комнат, высоты потолков</a></span></li><li><span><a href=\"#Изучение-времени-продажи-квартиры\" data-toc-modified-id=\"Изучение-времени-продажи-квартиры-4.2\"><span class=\"toc-item-num\">4.2&nbsp;&nbsp;</span>Изучение времени продажи квартиры</a></span></li><li><span><a href=\"#Исключение-редких-и-выбивающихся-значений\" data-toc-modified-id=\"Исключение-редких-и-выбивающихся-значений-4.3\"><span class=\"toc-item-num\">4.3&nbsp;&nbsp;</span>Исключение редких и выбивающихся значений</a></span></li><li><span><a href=\"#Факторы-влияющие-на-стоимость-квартиры\" data-toc-modified-id=\"Факторы-влияющие-на-стоимость-квартиры-4.4\"><span class=\"toc-item-num\">4.4&nbsp;&nbsp;</span>Факторы влияющие на стоимость квартиры</a></span></li><li><span><a href=\"#Анализ-по-10-населенным-пунктам\" data-toc-modified-id=\"Анализ-по-10-населенным-пунктам-4.5\"><span class=\"toc-item-num\">4.5&nbsp;&nbsp;</span>Анализ по 10 населенным пунктам</a></span></li><li><span><a href=\"#Анализ-квартир-в-Санкт-Петербурге\" data-toc-modified-id=\"Анализ-квартир-в-Санкт-Петербурге-4.6\"><span class=\"toc-item-num\">4.6&nbsp;&nbsp;</span>Анализ квартир в Санкт-Петербурге</a></span></li><li><span><a href=\"#Анализ-квартир-в-центре-Санкт-Петербурга\" data-toc-modified-id=\"Анализ-квартир-в-центре-Санкт-Петербурга-4.7\"><span class=\"toc-item-num\">4.7&nbsp;&nbsp;</span>Анализ квартир в центре Санкт-Петербурга</a></span></li></ul></li><li><span><a href=\"#Общий-вывод\" data-toc-modified-id=\"Общий-вывод-5\"><span class=\"toc-item-num\">5&nbsp;&nbsp;</span>Общий вывод</a></span></li></ul></div>"
   ]
  },
  {
   "cell_type": "markdown",
   "metadata": {},
   "source": [
    "## Изучение данных из файла"
   ]
  },
  {
   "cell_type": "markdown",
   "id": "a0bd681b",
   "metadata": {},
   "source": [
    "Импортируем необходимые библиотеки."
   ]
  },
  {
   "cell_type": "code",
   "execution_count": 1,
   "id": "63b8500a",
   "metadata": {},
   "outputs": [],
   "source": [
    "import pandas as pd\n",
    "import matplotlib.pyplot as plt"
   ]
  },
  {
   "cell_type": "markdown",
   "metadata": {},
   "source": [
    "Прочитаем файл с данными"
   ]
  },
  {
   "cell_type": "code",
   "execution_count": 2,
   "id": "538592dd",
   "metadata": {},
   "outputs": [
    {
     "data": {
      "text/html": [
       "<div>\n",
       "<style scoped>\n",
       "    .dataframe tbody tr th:only-of-type {\n",
       "        vertical-align: middle;\n",
       "    }\n",
       "\n",
       "    .dataframe tbody tr th {\n",
       "        vertical-align: top;\n",
       "    }\n",
       "\n",
       "    .dataframe thead th {\n",
       "        text-align: right;\n",
       "    }\n",
       "</style>\n",
       "<table border=\"1\" class=\"dataframe\">\n",
       "  <thead>\n",
       "    <tr style=\"text-align: right;\">\n",
       "      <th></th>\n",
       "      <th>total_images</th>\n",
       "      <th>last_price</th>\n",
       "      <th>total_area</th>\n",
       "      <th>first_day_exposition</th>\n",
       "      <th>rooms</th>\n",
       "      <th>ceiling_height</th>\n",
       "      <th>floors_total</th>\n",
       "      <th>living_area</th>\n",
       "      <th>floor</th>\n",
       "      <th>is_apartment</th>\n",
       "      <th>studio</th>\n",
       "      <th>open_plan</th>\n",
       "      <th>kitchen_area</th>\n",
       "      <th>balcony</th>\n",
       "      <th>locality_name</th>\n",
       "      <th>airports_nearest</th>\n",
       "      <th>cityCenters_nearest</th>\n",
       "      <th>parks_around3000</th>\n",
       "      <th>parks_nearest</th>\n",
       "      <th>ponds_around3000</th>\n",
       "      <th>ponds_nearest</th>\n",
       "      <th>days_exposition</th>\n",
       "    </tr>\n",
       "  </thead>\n",
       "  <tbody>\n",
       "    <tr>\n",
       "      <th>0</th>\n",
       "      <td>20</td>\n",
       "      <td>13000000.0</td>\n",
       "      <td>108.00</td>\n",
       "      <td>2019-03-07T00:00:00</td>\n",
       "      <td>3</td>\n",
       "      <td>2.70</td>\n",
       "      <td>16.0</td>\n",
       "      <td>51.00</td>\n",
       "      <td>8</td>\n",
       "      <td>NaN</td>\n",
       "      <td>False</td>\n",
       "      <td>False</td>\n",
       "      <td>25.00</td>\n",
       "      <td>NaN</td>\n",
       "      <td>Санкт-Петербург</td>\n",
       "      <td>18863.0</td>\n",
       "      <td>16028.0</td>\n",
       "      <td>1.0</td>\n",
       "      <td>482.0</td>\n",
       "      <td>2.0</td>\n",
       "      <td>755.0</td>\n",
       "      <td>NaN</td>\n",
       "    </tr>\n",
       "    <tr>\n",
       "      <th>1</th>\n",
       "      <td>7</td>\n",
       "      <td>3350000.0</td>\n",
       "      <td>40.40</td>\n",
       "      <td>2018-12-04T00:00:00</td>\n",
       "      <td>1</td>\n",
       "      <td>NaN</td>\n",
       "      <td>11.0</td>\n",
       "      <td>18.60</td>\n",
       "      <td>1</td>\n",
       "      <td>NaN</td>\n",
       "      <td>False</td>\n",
       "      <td>False</td>\n",
       "      <td>11.00</td>\n",
       "      <td>2.0</td>\n",
       "      <td>посёлок Шушары</td>\n",
       "      <td>12817.0</td>\n",
       "      <td>18603.0</td>\n",
       "      <td>0.0</td>\n",
       "      <td>NaN</td>\n",
       "      <td>0.0</td>\n",
       "      <td>NaN</td>\n",
       "      <td>81.0</td>\n",
       "    </tr>\n",
       "    <tr>\n",
       "      <th>2</th>\n",
       "      <td>10</td>\n",
       "      <td>5196000.0</td>\n",
       "      <td>56.00</td>\n",
       "      <td>2015-08-20T00:00:00</td>\n",
       "      <td>2</td>\n",
       "      <td>NaN</td>\n",
       "      <td>5.0</td>\n",
       "      <td>34.30</td>\n",
       "      <td>4</td>\n",
       "      <td>NaN</td>\n",
       "      <td>False</td>\n",
       "      <td>False</td>\n",
       "      <td>8.30</td>\n",
       "      <td>0.0</td>\n",
       "      <td>Санкт-Петербург</td>\n",
       "      <td>21741.0</td>\n",
       "      <td>13933.0</td>\n",
       "      <td>1.0</td>\n",
       "      <td>90.0</td>\n",
       "      <td>2.0</td>\n",
       "      <td>574.0</td>\n",
       "      <td>558.0</td>\n",
       "    </tr>\n",
       "    <tr>\n",
       "      <th>3</th>\n",
       "      <td>0</td>\n",
       "      <td>64900000.0</td>\n",
       "      <td>159.00</td>\n",
       "      <td>2015-07-24T00:00:00</td>\n",
       "      <td>3</td>\n",
       "      <td>NaN</td>\n",
       "      <td>14.0</td>\n",
       "      <td>NaN</td>\n",
       "      <td>9</td>\n",
       "      <td>NaN</td>\n",
       "      <td>False</td>\n",
       "      <td>False</td>\n",
       "      <td>NaN</td>\n",
       "      <td>0.0</td>\n",
       "      <td>Санкт-Петербург</td>\n",
       "      <td>28098.0</td>\n",
       "      <td>6800.0</td>\n",
       "      <td>2.0</td>\n",
       "      <td>84.0</td>\n",
       "      <td>3.0</td>\n",
       "      <td>234.0</td>\n",
       "      <td>424.0</td>\n",
       "    </tr>\n",
       "    <tr>\n",
       "      <th>4</th>\n",
       "      <td>2</td>\n",
       "      <td>10000000.0</td>\n",
       "      <td>100.00</td>\n",
       "      <td>2018-06-19T00:00:00</td>\n",
       "      <td>2</td>\n",
       "      <td>3.03</td>\n",
       "      <td>14.0</td>\n",
       "      <td>32.00</td>\n",
       "      <td>13</td>\n",
       "      <td>NaN</td>\n",
       "      <td>False</td>\n",
       "      <td>False</td>\n",
       "      <td>41.00</td>\n",
       "      <td>NaN</td>\n",
       "      <td>Санкт-Петербург</td>\n",
       "      <td>31856.0</td>\n",
       "      <td>8098.0</td>\n",
       "      <td>2.0</td>\n",
       "      <td>112.0</td>\n",
       "      <td>1.0</td>\n",
       "      <td>48.0</td>\n",
       "      <td>121.0</td>\n",
       "    </tr>\n",
       "    <tr>\n",
       "      <th>5</th>\n",
       "      <td>10</td>\n",
       "      <td>2890000.0</td>\n",
       "      <td>30.40</td>\n",
       "      <td>2018-09-10T00:00:00</td>\n",
       "      <td>1</td>\n",
       "      <td>NaN</td>\n",
       "      <td>12.0</td>\n",
       "      <td>14.40</td>\n",
       "      <td>5</td>\n",
       "      <td>NaN</td>\n",
       "      <td>False</td>\n",
       "      <td>False</td>\n",
       "      <td>9.10</td>\n",
       "      <td>NaN</td>\n",
       "      <td>городской посёлок Янино-1</td>\n",
       "      <td>NaN</td>\n",
       "      <td>NaN</td>\n",
       "      <td>NaN</td>\n",
       "      <td>NaN</td>\n",
       "      <td>NaN</td>\n",
       "      <td>NaN</td>\n",
       "      <td>55.0</td>\n",
       "    </tr>\n",
       "    <tr>\n",
       "      <th>6</th>\n",
       "      <td>6</td>\n",
       "      <td>3700000.0</td>\n",
       "      <td>37.30</td>\n",
       "      <td>2017-11-02T00:00:00</td>\n",
       "      <td>1</td>\n",
       "      <td>NaN</td>\n",
       "      <td>26.0</td>\n",
       "      <td>10.60</td>\n",
       "      <td>6</td>\n",
       "      <td>NaN</td>\n",
       "      <td>False</td>\n",
       "      <td>False</td>\n",
       "      <td>14.40</td>\n",
       "      <td>1.0</td>\n",
       "      <td>посёлок Парголово</td>\n",
       "      <td>52996.0</td>\n",
       "      <td>19143.0</td>\n",
       "      <td>0.0</td>\n",
       "      <td>NaN</td>\n",
       "      <td>0.0</td>\n",
       "      <td>NaN</td>\n",
       "      <td>155.0</td>\n",
       "    </tr>\n",
       "    <tr>\n",
       "      <th>7</th>\n",
       "      <td>5</td>\n",
       "      <td>7915000.0</td>\n",
       "      <td>71.60</td>\n",
       "      <td>2019-04-18T00:00:00</td>\n",
       "      <td>2</td>\n",
       "      <td>NaN</td>\n",
       "      <td>24.0</td>\n",
       "      <td>NaN</td>\n",
       "      <td>22</td>\n",
       "      <td>NaN</td>\n",
       "      <td>False</td>\n",
       "      <td>False</td>\n",
       "      <td>18.90</td>\n",
       "      <td>2.0</td>\n",
       "      <td>Санкт-Петербург</td>\n",
       "      <td>23982.0</td>\n",
       "      <td>11634.0</td>\n",
       "      <td>0.0</td>\n",
       "      <td>NaN</td>\n",
       "      <td>0.0</td>\n",
       "      <td>NaN</td>\n",
       "      <td>NaN</td>\n",
       "    </tr>\n",
       "    <tr>\n",
       "      <th>8</th>\n",
       "      <td>20</td>\n",
       "      <td>2900000.0</td>\n",
       "      <td>33.16</td>\n",
       "      <td>2018-05-23T00:00:00</td>\n",
       "      <td>1</td>\n",
       "      <td>NaN</td>\n",
       "      <td>27.0</td>\n",
       "      <td>15.43</td>\n",
       "      <td>26</td>\n",
       "      <td>NaN</td>\n",
       "      <td>False</td>\n",
       "      <td>False</td>\n",
       "      <td>8.81</td>\n",
       "      <td>NaN</td>\n",
       "      <td>посёлок Мурино</td>\n",
       "      <td>NaN</td>\n",
       "      <td>NaN</td>\n",
       "      <td>NaN</td>\n",
       "      <td>NaN</td>\n",
       "      <td>NaN</td>\n",
       "      <td>NaN</td>\n",
       "      <td>189.0</td>\n",
       "    </tr>\n",
       "    <tr>\n",
       "      <th>9</th>\n",
       "      <td>18</td>\n",
       "      <td>5400000.0</td>\n",
       "      <td>61.00</td>\n",
       "      <td>2017-02-26T00:00:00</td>\n",
       "      <td>3</td>\n",
       "      <td>2.50</td>\n",
       "      <td>9.0</td>\n",
       "      <td>43.60</td>\n",
       "      <td>7</td>\n",
       "      <td>NaN</td>\n",
       "      <td>False</td>\n",
       "      <td>False</td>\n",
       "      <td>6.50</td>\n",
       "      <td>2.0</td>\n",
       "      <td>Санкт-Петербург</td>\n",
       "      <td>50898.0</td>\n",
       "      <td>15008.0</td>\n",
       "      <td>0.0</td>\n",
       "      <td>NaN</td>\n",
       "      <td>0.0</td>\n",
       "      <td>NaN</td>\n",
       "      <td>289.0</td>\n",
       "    </tr>\n",
       "  </tbody>\n",
       "</table>\n",
       "</div>"
      ],
      "text/plain": [
       "   total_images  last_price  total_area first_day_exposition  rooms  \\\n",
       "0            20  13000000.0      108.00  2019-03-07T00:00:00      3   \n",
       "1             7   3350000.0       40.40  2018-12-04T00:00:00      1   \n",
       "2            10   5196000.0       56.00  2015-08-20T00:00:00      2   \n",
       "3             0  64900000.0      159.00  2015-07-24T00:00:00      3   \n",
       "4             2  10000000.0      100.00  2018-06-19T00:00:00      2   \n",
       "5            10   2890000.0       30.40  2018-09-10T00:00:00      1   \n",
       "6             6   3700000.0       37.30  2017-11-02T00:00:00      1   \n",
       "7             5   7915000.0       71.60  2019-04-18T00:00:00      2   \n",
       "8            20   2900000.0       33.16  2018-05-23T00:00:00      1   \n",
       "9            18   5400000.0       61.00  2017-02-26T00:00:00      3   \n",
       "\n",
       "   ceiling_height  floors_total  living_area  floor is_apartment  studio  \\\n",
       "0            2.70          16.0        51.00      8          NaN   False   \n",
       "1             NaN          11.0        18.60      1          NaN   False   \n",
       "2             NaN           5.0        34.30      4          NaN   False   \n",
       "3             NaN          14.0          NaN      9          NaN   False   \n",
       "4            3.03          14.0        32.00     13          NaN   False   \n",
       "5             NaN          12.0        14.40      5          NaN   False   \n",
       "6             NaN          26.0        10.60      6          NaN   False   \n",
       "7             NaN          24.0          NaN     22          NaN   False   \n",
       "8             NaN          27.0        15.43     26          NaN   False   \n",
       "9            2.50           9.0        43.60      7          NaN   False   \n",
       "\n",
       "   open_plan  kitchen_area  balcony              locality_name  \\\n",
       "0      False         25.00      NaN            Санкт-Петербург   \n",
       "1      False         11.00      2.0             посёлок Шушары   \n",
       "2      False          8.30      0.0            Санкт-Петербург   \n",
       "3      False           NaN      0.0            Санкт-Петербург   \n",
       "4      False         41.00      NaN            Санкт-Петербург   \n",
       "5      False          9.10      NaN  городской посёлок Янино-1   \n",
       "6      False         14.40      1.0          посёлок Парголово   \n",
       "7      False         18.90      2.0            Санкт-Петербург   \n",
       "8      False          8.81      NaN             посёлок Мурино   \n",
       "9      False          6.50      2.0            Санкт-Петербург   \n",
       "\n",
       "   airports_nearest  cityCenters_nearest  parks_around3000  parks_nearest  \\\n",
       "0           18863.0              16028.0               1.0          482.0   \n",
       "1           12817.0              18603.0               0.0            NaN   \n",
       "2           21741.0              13933.0               1.0           90.0   \n",
       "3           28098.0               6800.0               2.0           84.0   \n",
       "4           31856.0               8098.0               2.0          112.0   \n",
       "5               NaN                  NaN               NaN            NaN   \n",
       "6           52996.0              19143.0               0.0            NaN   \n",
       "7           23982.0              11634.0               0.0            NaN   \n",
       "8               NaN                  NaN               NaN            NaN   \n",
       "9           50898.0              15008.0               0.0            NaN   \n",
       "\n",
       "   ponds_around3000  ponds_nearest  days_exposition  \n",
       "0               2.0          755.0              NaN  \n",
       "1               0.0            NaN             81.0  \n",
       "2               2.0          574.0            558.0  \n",
       "3               3.0          234.0            424.0  \n",
       "4               1.0           48.0            121.0  \n",
       "5               NaN            NaN             55.0  \n",
       "6               0.0            NaN            155.0  \n",
       "7               0.0            NaN              NaN  \n",
       "8               NaN            NaN            189.0  \n",
       "9               0.0            NaN            289.0  "
      ]
     },
     "execution_count": 2,
     "metadata": {},
     "output_type": "execute_result"
    }
   ],
   "source": [
    "try:\n",
    "    data = pd.read_csv('real_estate_data.csv', sep ='\\t')    #загрузка файла по локальному пути\n",
    "except:\n",
    "    data = pd.read_csv('/datasets/real_estate_data.csv', sep ='\\t') #загрузка файла по серверному пути\n",
    "\n",
    "pd.options.display.max_columns = None\n",
    "pd.options.display.max_rows = None\n",
    "data.head(10)     # получение первых 10 строк таблицы"
   ]
  },
  {
   "cell_type": "markdown",
   "id": "82d48f3d",
   "metadata": {},
   "source": [
    "Описание данных\n",
    "airports_nearest — расстояние до ближайшего аэропорта в метрах (м)\n",
    "balcony — число балконов\n",
    "ceiling_height — высота потолков (м)\n",
    "cityCenters_nearest — расстояние до центра города (м)\n",
    "days_exposition — сколько дней было размещено объявление (от публикации до снятия)\n",
    "first_day_exposition — дата публикации\n",
    "floor — этаж\n",
    "floors_total — всего этажей в доме\n",
    "is_apartment — апартаменты (булев тип)\n",
    "kitchen_area — площадь кухни в квадратных метрах (м²)\n",
    "last_price — цена на момент снятия с публикации\n",
    "living_area — жилая площадь в квадратных метрах (м²)\n",
    "locality_name — название населённого пункта\n",
    "open_plan — свободная планировка (булев тип)\n",
    "parks_around3000 — число парков в радиусе 3 км\n",
    "parks_nearest — расстояние до ближайшего парка (м)\n",
    "ponds_around3000 — число водоёмов в радиусе 3 км\n",
    "ponds_nearest — расстояние до ближайшего водоёма (м)\n",
    "rooms — число комнат\n",
    "studio — квартира-студия (булев тип)\n",
    "total_area — площадь квартиры в квадратных метрах (м²)\n",
    "total_images — число фотографий квартиры в объявлении"
   ]
  },
  {
   "cell_type": "markdown",
   "id": "40a90948",
   "metadata": {},
   "source": [
    "Изучим общую информацию о таблице"
   ]
  },
  {
   "cell_type": "code",
   "execution_count": 3,
   "id": "43116b7b",
   "metadata": {},
   "outputs": [
    {
     "name": "stdout",
     "output_type": "stream",
     "text": [
      "<class 'pandas.core.frame.DataFrame'>\n",
      "RangeIndex: 23699 entries, 0 to 23698\n",
      "Data columns (total 22 columns):\n",
      " #   Column                Non-Null Count  Dtype  \n",
      "---  ------                --------------  -----  \n",
      " 0   total_images          23699 non-null  int64  \n",
      " 1   last_price            23699 non-null  float64\n",
      " 2   total_area            23699 non-null  float64\n",
      " 3   first_day_exposition  23699 non-null  object \n",
      " 4   rooms                 23699 non-null  int64  \n",
      " 5   ceiling_height        14504 non-null  float64\n",
      " 6   floors_total          23613 non-null  float64\n",
      " 7   living_area           21796 non-null  float64\n",
      " 8   floor                 23699 non-null  int64  \n",
      " 9   is_apartment          2775 non-null   object \n",
      " 10  studio                23699 non-null  bool   \n",
      " 11  open_plan             23699 non-null  bool   \n",
      " 12  kitchen_area          21421 non-null  float64\n",
      " 13  balcony               12180 non-null  float64\n",
      " 14  locality_name         23650 non-null  object \n",
      " 15  airports_nearest      18157 non-null  float64\n",
      " 16  cityCenters_nearest   18180 non-null  float64\n",
      " 17  parks_around3000      18181 non-null  float64\n",
      " 18  parks_nearest         8079 non-null   float64\n",
      " 19  ponds_around3000      18181 non-null  float64\n",
      " 20  ponds_nearest         9110 non-null   float64\n",
      " 21  days_exposition       20518 non-null  float64\n",
      "dtypes: bool(2), float64(14), int64(3), object(3)\n",
      "memory usage: 3.7+ MB\n"
     ]
    }
   ],
   "source": [
    "data.info()"
   ]
  },
  {
   "cell_type": "markdown",
   "id": "d6f6b79d",
   "metadata": {},
   "source": [
    "В названии столбца cityCenters_nearest строчные буквы сочетаются с прописными. Необходимо исправить стиль в заголовках столбца.\n",
    "Названия прочих столбцов таблицы соответствуют общим правилам стиля и не требуют изменений. \n",
    "В столбцах разичается количество значений, что свидетельствует о наличии пропущенных значений. "
   ]
  },
  {
   "cell_type": "markdown",
   "id": "ef26f8e9",
   "metadata": {},
   "source": [
    "Посчитаем пропущенные значения"
   ]
  },
  {
   "cell_type": "code",
   "execution_count": 4,
   "id": "523883c5",
   "metadata": {
    "scrolled": true
   },
   "outputs": [
    {
     "data": {
      "text/plain": [
       "total_images                0\n",
       "last_price                  0\n",
       "total_area                  0\n",
       "first_day_exposition        0\n",
       "rooms                       0\n",
       "ceiling_height           9195\n",
       "floors_total               86\n",
       "living_area              1903\n",
       "floor                       0\n",
       "is_apartment            20924\n",
       "studio                      0\n",
       "open_plan                   0\n",
       "kitchen_area             2278\n",
       "balcony                 11519\n",
       "locality_name              49\n",
       "airports_nearest         5542\n",
       "cityCenters_nearest      5519\n",
       "parks_around3000         5518\n",
       "parks_nearest           15620\n",
       "ponds_around3000         5518\n",
       "ponds_nearest           14589\n",
       "days_exposition          3181\n",
       "dtype: int64"
      ]
     },
     "execution_count": 4,
     "metadata": {},
     "output_type": "execute_result"
    }
   ],
   "source": [
    "data.isna().sum()"
   ]
  },
  {
   "cell_type": "markdown",
   "metadata": {},
   "source": [
    "Пропущенные значения есть во многих столбцах. Далее рассмотрим какие можно заполнить и как. Посмотрим на основные характеристики данных. "
   ]
  },
  {
   "cell_type": "code",
   "execution_count": 5,
   "id": "fa1788d2",
   "metadata": {},
   "outputs": [
    {
     "data": {
      "text/html": [
       "<div>\n",
       "<style scoped>\n",
       "    .dataframe tbody tr th:only-of-type {\n",
       "        vertical-align: middle;\n",
       "    }\n",
       "\n",
       "    .dataframe tbody tr th {\n",
       "        vertical-align: top;\n",
       "    }\n",
       "\n",
       "    .dataframe thead th {\n",
       "        text-align: right;\n",
       "    }\n",
       "</style>\n",
       "<table border=\"1\" class=\"dataframe\">\n",
       "  <thead>\n",
       "    <tr style=\"text-align: right;\">\n",
       "      <th></th>\n",
       "      <th>total_images</th>\n",
       "      <th>last_price</th>\n",
       "      <th>total_area</th>\n",
       "      <th>rooms</th>\n",
       "      <th>ceiling_height</th>\n",
       "      <th>floors_total</th>\n",
       "      <th>living_area</th>\n",
       "      <th>floor</th>\n",
       "      <th>kitchen_area</th>\n",
       "      <th>balcony</th>\n",
       "      <th>airports_nearest</th>\n",
       "      <th>cityCenters_nearest</th>\n",
       "      <th>parks_around3000</th>\n",
       "      <th>parks_nearest</th>\n",
       "      <th>ponds_around3000</th>\n",
       "      <th>ponds_nearest</th>\n",
       "      <th>days_exposition</th>\n",
       "    </tr>\n",
       "  </thead>\n",
       "  <tbody>\n",
       "    <tr>\n",
       "      <th>count</th>\n",
       "      <td>23699.000000</td>\n",
       "      <td>2.369900e+04</td>\n",
       "      <td>23699.000000</td>\n",
       "      <td>23699.000000</td>\n",
       "      <td>14504.000000</td>\n",
       "      <td>23613.000000</td>\n",
       "      <td>21796.000000</td>\n",
       "      <td>23699.000000</td>\n",
       "      <td>21421.000000</td>\n",
       "      <td>12180.000000</td>\n",
       "      <td>18157.000000</td>\n",
       "      <td>18180.000000</td>\n",
       "      <td>18181.000000</td>\n",
       "      <td>8079.000000</td>\n",
       "      <td>18181.000000</td>\n",
       "      <td>9110.000000</td>\n",
       "      <td>20518.000000</td>\n",
       "    </tr>\n",
       "    <tr>\n",
       "      <th>mean</th>\n",
       "      <td>9.858475</td>\n",
       "      <td>6.541549e+06</td>\n",
       "      <td>60.348651</td>\n",
       "      <td>2.070636</td>\n",
       "      <td>2.771499</td>\n",
       "      <td>10.673824</td>\n",
       "      <td>34.457852</td>\n",
       "      <td>5.892358</td>\n",
       "      <td>10.569807</td>\n",
       "      <td>1.150082</td>\n",
       "      <td>28793.672193</td>\n",
       "      <td>14191.277833</td>\n",
       "      <td>0.611408</td>\n",
       "      <td>490.804555</td>\n",
       "      <td>0.770255</td>\n",
       "      <td>517.980900</td>\n",
       "      <td>180.888634</td>\n",
       "    </tr>\n",
       "    <tr>\n",
       "      <th>std</th>\n",
       "      <td>5.682529</td>\n",
       "      <td>1.088701e+07</td>\n",
       "      <td>35.654083</td>\n",
       "      <td>1.078405</td>\n",
       "      <td>1.261056</td>\n",
       "      <td>6.597173</td>\n",
       "      <td>22.030445</td>\n",
       "      <td>4.885249</td>\n",
       "      <td>5.905438</td>\n",
       "      <td>1.071300</td>\n",
       "      <td>12630.880622</td>\n",
       "      <td>8608.386210</td>\n",
       "      <td>0.802074</td>\n",
       "      <td>342.317995</td>\n",
       "      <td>0.938346</td>\n",
       "      <td>277.720643</td>\n",
       "      <td>219.727988</td>\n",
       "    </tr>\n",
       "    <tr>\n",
       "      <th>min</th>\n",
       "      <td>0.000000</td>\n",
       "      <td>1.219000e+04</td>\n",
       "      <td>12.000000</td>\n",
       "      <td>0.000000</td>\n",
       "      <td>1.000000</td>\n",
       "      <td>1.000000</td>\n",
       "      <td>2.000000</td>\n",
       "      <td>1.000000</td>\n",
       "      <td>1.300000</td>\n",
       "      <td>0.000000</td>\n",
       "      <td>0.000000</td>\n",
       "      <td>181.000000</td>\n",
       "      <td>0.000000</td>\n",
       "      <td>1.000000</td>\n",
       "      <td>0.000000</td>\n",
       "      <td>13.000000</td>\n",
       "      <td>1.000000</td>\n",
       "    </tr>\n",
       "    <tr>\n",
       "      <th>25%</th>\n",
       "      <td>6.000000</td>\n",
       "      <td>3.400000e+06</td>\n",
       "      <td>40.000000</td>\n",
       "      <td>1.000000</td>\n",
       "      <td>2.520000</td>\n",
       "      <td>5.000000</td>\n",
       "      <td>18.600000</td>\n",
       "      <td>2.000000</td>\n",
       "      <td>7.000000</td>\n",
       "      <td>0.000000</td>\n",
       "      <td>18585.000000</td>\n",
       "      <td>9238.000000</td>\n",
       "      <td>0.000000</td>\n",
       "      <td>288.000000</td>\n",
       "      <td>0.000000</td>\n",
       "      <td>294.000000</td>\n",
       "      <td>45.000000</td>\n",
       "    </tr>\n",
       "    <tr>\n",
       "      <th>50%</th>\n",
       "      <td>9.000000</td>\n",
       "      <td>4.650000e+06</td>\n",
       "      <td>52.000000</td>\n",
       "      <td>2.000000</td>\n",
       "      <td>2.650000</td>\n",
       "      <td>9.000000</td>\n",
       "      <td>30.000000</td>\n",
       "      <td>4.000000</td>\n",
       "      <td>9.100000</td>\n",
       "      <td>1.000000</td>\n",
       "      <td>26726.000000</td>\n",
       "      <td>13098.500000</td>\n",
       "      <td>0.000000</td>\n",
       "      <td>455.000000</td>\n",
       "      <td>1.000000</td>\n",
       "      <td>502.000000</td>\n",
       "      <td>95.000000</td>\n",
       "    </tr>\n",
       "    <tr>\n",
       "      <th>75%</th>\n",
       "      <td>14.000000</td>\n",
       "      <td>6.800000e+06</td>\n",
       "      <td>69.900000</td>\n",
       "      <td>3.000000</td>\n",
       "      <td>2.800000</td>\n",
       "      <td>16.000000</td>\n",
       "      <td>42.300000</td>\n",
       "      <td>8.000000</td>\n",
       "      <td>12.000000</td>\n",
       "      <td>2.000000</td>\n",
       "      <td>37273.000000</td>\n",
       "      <td>16293.000000</td>\n",
       "      <td>1.000000</td>\n",
       "      <td>612.000000</td>\n",
       "      <td>1.000000</td>\n",
       "      <td>729.000000</td>\n",
       "      <td>232.000000</td>\n",
       "    </tr>\n",
       "    <tr>\n",
       "      <th>max</th>\n",
       "      <td>50.000000</td>\n",
       "      <td>7.630000e+08</td>\n",
       "      <td>900.000000</td>\n",
       "      <td>19.000000</td>\n",
       "      <td>100.000000</td>\n",
       "      <td>60.000000</td>\n",
       "      <td>409.700000</td>\n",
       "      <td>33.000000</td>\n",
       "      <td>112.000000</td>\n",
       "      <td>5.000000</td>\n",
       "      <td>84869.000000</td>\n",
       "      <td>65968.000000</td>\n",
       "      <td>3.000000</td>\n",
       "      <td>3190.000000</td>\n",
       "      <td>3.000000</td>\n",
       "      <td>1344.000000</td>\n",
       "      <td>1580.000000</td>\n",
       "    </tr>\n",
       "  </tbody>\n",
       "</table>\n",
       "</div>"
      ],
      "text/plain": [
       "       total_images    last_price    total_area         rooms  ceiling_height  \\\n",
       "count  23699.000000  2.369900e+04  23699.000000  23699.000000    14504.000000   \n",
       "mean       9.858475  6.541549e+06     60.348651      2.070636        2.771499   \n",
       "std        5.682529  1.088701e+07     35.654083      1.078405        1.261056   \n",
       "min        0.000000  1.219000e+04     12.000000      0.000000        1.000000   \n",
       "25%        6.000000  3.400000e+06     40.000000      1.000000        2.520000   \n",
       "50%        9.000000  4.650000e+06     52.000000      2.000000        2.650000   \n",
       "75%       14.000000  6.800000e+06     69.900000      3.000000        2.800000   \n",
       "max       50.000000  7.630000e+08    900.000000     19.000000      100.000000   \n",
       "\n",
       "       floors_total   living_area         floor  kitchen_area       balcony  \\\n",
       "count  23613.000000  21796.000000  23699.000000  21421.000000  12180.000000   \n",
       "mean      10.673824     34.457852      5.892358     10.569807      1.150082   \n",
       "std        6.597173     22.030445      4.885249      5.905438      1.071300   \n",
       "min        1.000000      2.000000      1.000000      1.300000      0.000000   \n",
       "25%        5.000000     18.600000      2.000000      7.000000      0.000000   \n",
       "50%        9.000000     30.000000      4.000000      9.100000      1.000000   \n",
       "75%       16.000000     42.300000      8.000000     12.000000      2.000000   \n",
       "max       60.000000    409.700000     33.000000    112.000000      5.000000   \n",
       "\n",
       "       airports_nearest  cityCenters_nearest  parks_around3000  parks_nearest  \\\n",
       "count      18157.000000         18180.000000      18181.000000    8079.000000   \n",
       "mean       28793.672193         14191.277833          0.611408     490.804555   \n",
       "std        12630.880622          8608.386210          0.802074     342.317995   \n",
       "min            0.000000           181.000000          0.000000       1.000000   \n",
       "25%        18585.000000          9238.000000          0.000000     288.000000   \n",
       "50%        26726.000000         13098.500000          0.000000     455.000000   \n",
       "75%        37273.000000         16293.000000          1.000000     612.000000   \n",
       "max        84869.000000         65968.000000          3.000000    3190.000000   \n",
       "\n",
       "       ponds_around3000  ponds_nearest  days_exposition  \n",
       "count      18181.000000    9110.000000     20518.000000  \n",
       "mean           0.770255     517.980900       180.888634  \n",
       "std            0.938346     277.720643       219.727988  \n",
       "min            0.000000      13.000000         1.000000  \n",
       "25%            0.000000     294.000000        45.000000  \n",
       "50%            1.000000     502.000000        95.000000  \n",
       "75%            1.000000     729.000000       232.000000  \n",
       "max            3.000000    1344.000000      1580.000000  "
      ]
     },
     "execution_count": 5,
     "metadata": {},
     "output_type": "execute_result"
    }
   ],
   "source": [
    "data.describe()"
   ]
  },
  {
   "cell_type": "markdown",
   "metadata": {},
   "source": [
    "В данных присутустуют аномальные значения например, потолки по 100 м и квартиры площадью 900 кв.м. Как с ними быть решим далее."
   ]
  },
  {
   "cell_type": "markdown",
   "metadata": {},
   "source": [
    "### Вывод"
   ]
  },
  {
   "cell_type": "markdown",
   "metadata": {},
   "source": [
    "При обзоре данных обнаружено, что во многих столбцах присутствуют пропущенные значения, в названиях столбцов есть некорректрные названия, а также есть аномальные значения."
   ]
  },
  {
   "cell_type": "markdown",
   "metadata": {},
   "source": [
    "## Предобработка данных"
   ]
  },
  {
   "cell_type": "markdown",
   "metadata": {},
   "source": [
    "Для начала исправим назввания столбцов"
   ]
  },
  {
   "cell_type": "code",
   "execution_count": 6,
   "metadata": {
    "scrolled": true
   },
   "outputs": [
    {
     "data": {
      "text/plain": [
       "Index(['total_images', 'last_price', 'total_area', 'first_day_exposition',\n",
       "       'rooms', 'ceiling_height', 'floors_total', 'living_area', 'floor',\n",
       "       'is_apartment', 'studio', 'open_plan', 'kitchen_area', 'balcony',\n",
       "       'locality_name', 'airports_nearest', 'cityCenters_nearest',\n",
       "       'parks_around3000', 'parks_nearest', 'ponds_around3000',\n",
       "       'ponds_nearest', 'days_exposition'],\n",
       "      dtype='object')"
      ]
     },
     "execution_count": 6,
     "metadata": {},
     "output_type": "execute_result"
    }
   ],
   "source": [
    "data.columns # перечень названий столбцов таблицы data"
   ]
  },
  {
   "cell_type": "markdown",
   "metadata": {},
   "source": [
    "Приведем названия в соответствие с хорошим стилем - запищем несколько слов в названии в «змеином_регистре».\n",
    "\n",
    "Переименуем столбцы следующим образом:\n",
    "* `'cityCenters_nearest'` → `'city_сenters_nearest'`;"
   ]
  },
  {
   "cell_type": "code",
   "execution_count": 7,
   "metadata": {},
   "outputs": [],
   "source": [
    "data = data.rename(columns = {'cityCenters_nearest':'city_сenters_nearest'}) # переименование столбцов"
   ]
  },
  {
   "cell_type": "markdown",
   "metadata": {
    "id": "1dqbh00J_Zct"
   },
   "source": [
    "Проверим результат. Ещё раз выведим на экран названия столбцов:"
   ]
  },
  {
   "cell_type": "code",
   "execution_count": 8,
   "metadata": {
    "id": "d4NOAmTW_Zct",
    "scrolled": true
   },
   "outputs": [
    {
     "data": {
      "text/plain": [
       "Index(['total_images', 'last_price', 'total_area', 'first_day_exposition',\n",
       "       'rooms', 'ceiling_height', 'floors_total', 'living_area', 'floor',\n",
       "       'is_apartment', 'studio', 'open_plan', 'kitchen_area', 'balcony',\n",
       "       'locality_name', 'airports_nearest', 'city_сenters_nearest',\n",
       "       'parks_around3000', 'parks_nearest', 'ponds_around3000',\n",
       "       'ponds_nearest', 'days_exposition'],\n",
       "      dtype='object')"
      ]
     },
     "execution_count": 8,
     "metadata": {},
     "output_type": "execute_result"
    }
   ],
   "source": [
    "data.columns # проверка результатов - перечень названий столбцов"
   ]
  },
  {
   "cell_type": "markdown",
   "metadata": {},
   "source": [
    "Расмотрим столбец is_apartment. В данном столбце содержится информация о том является квартира апортаментами или нет, соответственно тип данных в данном столбце должен быть булевым (что соответствует условию). Логично предположить что пропуски в данном столбце люди допускали сознательно просто не понимая значения данного вопроса, поэтому пропущенные значения можно заменить на \"Ложь\". Так как если квартира является апортаментами владельцы об этом однозначно знают и заполнят данный столбец.     "
   ]
  },
  {
   "cell_type": "code",
   "execution_count": 9,
   "id": "31306394",
   "metadata": {
    "scrolled": true
   },
   "outputs": [
    {
     "data": {
      "text/plain": [
       "20924"
      ]
     },
     "execution_count": 9,
     "metadata": {},
     "output_type": "execute_result"
    }
   ],
   "source": [
    "# посчитаем пропущенные значения в столбце\n",
    "data['is_apartment'].isna().sum() "
   ]
  },
  {
   "cell_type": "code",
   "execution_count": 10,
   "metadata": {
    "scrolled": true
   },
   "outputs": [
    {
     "data": {
      "text/plain": [
       "False    2725\n",
       "True       50\n",
       "Name: is_apartment, dtype: int64"
      ]
     },
     "execution_count": 10,
     "metadata": {},
     "output_type": "execute_result"
    }
   ],
   "source": [
    "data['is_apartment'].value_counts() # выведем список уникальных значений до изменений"
   ]
  },
  {
   "cell_type": "code",
   "execution_count": 11,
   "id": "e0f31ee7",
   "metadata": {},
   "outputs": [],
   "source": [
    "# заполним пропуски значением False\n",
    "data['is_apartment'] = data['is_apartment'].fillna(False)"
   ]
  },
  {
   "cell_type": "code",
   "execution_count": 12,
   "metadata": {
    "scrolled": true
   },
   "outputs": [
    {
     "data": {
      "text/plain": [
       "False    23649\n",
       "True        50\n",
       "Name: is_apartment, dtype: int64"
      ]
     },
     "execution_count": 12,
     "metadata": {},
     "output_type": "execute_result"
    }
   ],
   "source": [
    "data['is_apartment'].value_counts() # выведем список уникальных значений после изменений"
   ]
  },
  {
   "cell_type": "code",
   "execution_count": 13,
   "metadata": {},
   "outputs": [
    {
     "data": {
      "text/plain": [
       "False    23649\n",
       "True        50\n",
       "Name: is_apartment, dtype: int64"
      ]
     },
     "execution_count": 13,
     "metadata": {},
     "output_type": "execute_result"
    }
   ],
   "source": [
    "# изменим тип данныз в столбце на булев\n",
    "data['is_apartment'] = data['is_apartment'].astype('bool') \n",
    "# выведем список уникальных значений после изменений\n",
    "data['is_apartment'].value_counts() "
   ]
  },
  {
   "cell_type": "markdown",
   "metadata": {},
   "source": [
    "Расмотрим столбец balcony, который содержит информация о количестве балконов."
   ]
  },
  {
   "cell_type": "code",
   "execution_count": 14,
   "id": "66f35061",
   "metadata": {
    "scrolled": true
   },
   "outputs": [
    {
     "data": {
      "text/plain": [
       "1.0    4195\n",
       "0.0    3758\n",
       "2.0    3659\n",
       "5.0     304\n",
       "4.0     183\n",
       "3.0      81\n",
       "Name: balcony, dtype: int64"
      ]
     },
     "execution_count": 14,
     "metadata": {},
     "output_type": "execute_result"
    }
   ],
   "source": [
    "data['balcony'].value_counts() # выведем список уникальных значений до изменений"
   ]
  },
  {
   "cell_type": "markdown",
   "id": "1c206db8",
   "metadata": {},
   "source": [
    "Логично предполижить,что если человек не указал число балконов — скорее всего, их нет. Такие пропуски правильно заменить на 0."
   ]
  },
  {
   "cell_type": "code",
   "execution_count": 15,
   "id": "0de45753",
   "metadata": {
    "scrolled": true
   },
   "outputs": [
    {
     "data": {
      "text/plain": [
       "0.0    15277\n",
       "1.0     4195\n",
       "2.0     3659\n",
       "5.0      304\n",
       "4.0      183\n",
       "3.0       81\n",
       "Name: balcony, dtype: int64"
      ]
     },
     "execution_count": 15,
     "metadata": {},
     "output_type": "execute_result"
    }
   ],
   "source": [
    "data['balcony'] = data['balcony'].fillna(0)\n",
    "data['balcony'].value_counts()"
   ]
  },
  {
   "cell_type": "markdown",
   "id": "92b983ad",
   "metadata": {},
   "source": [
    "Заполним значение жилой площади living_area и площади кухни kitchen_area медианным значением для среза данных исходя из наличия балконов и общей площади"
   ]
  },
  {
   "cell_type": "code",
   "execution_count": 16,
   "id": "f813cdf4",
   "metadata": {},
   "outputs": [
    {
     "data": {
      "text/plain": [
       "52.0"
      ]
     },
     "execution_count": 16,
     "metadata": {},
     "output_type": "execute_result"
    }
   ],
   "source": [
    "data['total_area'].median() #медиана общей площади"
   ]
  },
  {
   "cell_type": "code",
   "execution_count": 17,
   "id": "7cb54752",
   "metadata": {},
   "outputs": [
    {
     "data": {
      "text/plain": [
       "60.34865099793241"
      ]
     },
     "execution_count": 17,
     "metadata": {},
     "output_type": "execute_result"
    }
   ],
   "source": [
    "data['total_area'].mean() # среднее общей площади"
   ]
  },
  {
   "cell_type": "markdown",
   "id": "99f46275",
   "metadata": {},
   "source": [
    "На основании диапазонов, указанных ниже, создадим столбец total_area_category с категориями:\n",
    "0–20 — '<20';\n",
    "20–40 — '>20';\n",
    "40–65 — '>40';\n",
    "65–100 — '>65';\n",
    "100-200 — '>100'\n",
    "свыше 200 - >200.\n",
    "\n",
    "Напишем функцию которая будет возвращать нужную категорию в соотвествии со значением общей площади."
   ]
  },
  {
   "cell_type": "code",
   "execution_count": 18,
   "id": "0179807c",
   "metadata": {},
   "outputs": [
    {
     "data": {
      "text/plain": [
       "'>40'"
      ]
     },
     "execution_count": 18,
     "metadata": {},
     "output_type": "execute_result"
    }
   ],
   "source": [
    "def total_area_category(total_area):\n",
    "    if 0 < total_area <= 20:\n",
    "        return '<20'\n",
    "    elif 20 < total_area <= 40:\n",
    "        return '>20'\n",
    "    elif 40 < total_area <= 65:\n",
    "        return '>40'\n",
    "    elif 65 < total_area <= 100:\n",
    "        return '>65'\n",
    "    elif 100 < total_area <= 200:\n",
    "        return '>100'\n",
    "    elif total_area > 200:\n",
    "        return '>200'\n",
    "    \n",
    "total_area_category(65)"
   ]
  },
  {
   "cell_type": "markdown",
   "id": "b4192407",
   "metadata": {},
   "source": [
    "Добавим в датафрейм столбец total_area_category с категориями. Для этого применим созданную функцию."
   ]
  },
  {
   "cell_type": "code",
   "execution_count": 19,
   "id": "6e070c27",
   "metadata": {
    "scrolled": true
   },
   "outputs": [
    {
     "data": {
      "text/html": [
       "<div>\n",
       "<style scoped>\n",
       "    .dataframe tbody tr th:only-of-type {\n",
       "        vertical-align: middle;\n",
       "    }\n",
       "\n",
       "    .dataframe tbody tr th {\n",
       "        vertical-align: top;\n",
       "    }\n",
       "\n",
       "    .dataframe thead th {\n",
       "        text-align: right;\n",
       "    }\n",
       "</style>\n",
       "<table border=\"1\" class=\"dataframe\">\n",
       "  <thead>\n",
       "    <tr style=\"text-align: right;\">\n",
       "      <th></th>\n",
       "      <th>total_images</th>\n",
       "      <th>last_price</th>\n",
       "      <th>total_area</th>\n",
       "      <th>first_day_exposition</th>\n",
       "      <th>rooms</th>\n",
       "      <th>ceiling_height</th>\n",
       "      <th>floors_total</th>\n",
       "      <th>living_area</th>\n",
       "      <th>floor</th>\n",
       "      <th>is_apartment</th>\n",
       "      <th>studio</th>\n",
       "      <th>open_plan</th>\n",
       "      <th>kitchen_area</th>\n",
       "      <th>balcony</th>\n",
       "      <th>locality_name</th>\n",
       "      <th>airports_nearest</th>\n",
       "      <th>city_сenters_nearest</th>\n",
       "      <th>parks_around3000</th>\n",
       "      <th>parks_nearest</th>\n",
       "      <th>ponds_around3000</th>\n",
       "      <th>ponds_nearest</th>\n",
       "      <th>days_exposition</th>\n",
       "      <th>total_area_category</th>\n",
       "    </tr>\n",
       "  </thead>\n",
       "  <tbody>\n",
       "    <tr>\n",
       "      <th>0</th>\n",
       "      <td>20</td>\n",
       "      <td>13000000.0</td>\n",
       "      <td>108.0</td>\n",
       "      <td>2019-03-07T00:00:00</td>\n",
       "      <td>3</td>\n",
       "      <td>2.70</td>\n",
       "      <td>16.0</td>\n",
       "      <td>51.0</td>\n",
       "      <td>8</td>\n",
       "      <td>False</td>\n",
       "      <td>False</td>\n",
       "      <td>False</td>\n",
       "      <td>25.0</td>\n",
       "      <td>0.0</td>\n",
       "      <td>Санкт-Петербург</td>\n",
       "      <td>18863.0</td>\n",
       "      <td>16028.0</td>\n",
       "      <td>1.0</td>\n",
       "      <td>482.0</td>\n",
       "      <td>2.0</td>\n",
       "      <td>755.0</td>\n",
       "      <td>NaN</td>\n",
       "      <td>&gt;100</td>\n",
       "    </tr>\n",
       "    <tr>\n",
       "      <th>1</th>\n",
       "      <td>7</td>\n",
       "      <td>3350000.0</td>\n",
       "      <td>40.4</td>\n",
       "      <td>2018-12-04T00:00:00</td>\n",
       "      <td>1</td>\n",
       "      <td>NaN</td>\n",
       "      <td>11.0</td>\n",
       "      <td>18.6</td>\n",
       "      <td>1</td>\n",
       "      <td>False</td>\n",
       "      <td>False</td>\n",
       "      <td>False</td>\n",
       "      <td>11.0</td>\n",
       "      <td>2.0</td>\n",
       "      <td>посёлок Шушары</td>\n",
       "      <td>12817.0</td>\n",
       "      <td>18603.0</td>\n",
       "      <td>0.0</td>\n",
       "      <td>NaN</td>\n",
       "      <td>0.0</td>\n",
       "      <td>NaN</td>\n",
       "      <td>81.0</td>\n",
       "      <td>&gt;40</td>\n",
       "    </tr>\n",
       "    <tr>\n",
       "      <th>2</th>\n",
       "      <td>10</td>\n",
       "      <td>5196000.0</td>\n",
       "      <td>56.0</td>\n",
       "      <td>2015-08-20T00:00:00</td>\n",
       "      <td>2</td>\n",
       "      <td>NaN</td>\n",
       "      <td>5.0</td>\n",
       "      <td>34.3</td>\n",
       "      <td>4</td>\n",
       "      <td>False</td>\n",
       "      <td>False</td>\n",
       "      <td>False</td>\n",
       "      <td>8.3</td>\n",
       "      <td>0.0</td>\n",
       "      <td>Санкт-Петербург</td>\n",
       "      <td>21741.0</td>\n",
       "      <td>13933.0</td>\n",
       "      <td>1.0</td>\n",
       "      <td>90.0</td>\n",
       "      <td>2.0</td>\n",
       "      <td>574.0</td>\n",
       "      <td>558.0</td>\n",
       "      <td>&gt;40</td>\n",
       "    </tr>\n",
       "    <tr>\n",
       "      <th>3</th>\n",
       "      <td>0</td>\n",
       "      <td>64900000.0</td>\n",
       "      <td>159.0</td>\n",
       "      <td>2015-07-24T00:00:00</td>\n",
       "      <td>3</td>\n",
       "      <td>NaN</td>\n",
       "      <td>14.0</td>\n",
       "      <td>NaN</td>\n",
       "      <td>9</td>\n",
       "      <td>False</td>\n",
       "      <td>False</td>\n",
       "      <td>False</td>\n",
       "      <td>NaN</td>\n",
       "      <td>0.0</td>\n",
       "      <td>Санкт-Петербург</td>\n",
       "      <td>28098.0</td>\n",
       "      <td>6800.0</td>\n",
       "      <td>2.0</td>\n",
       "      <td>84.0</td>\n",
       "      <td>3.0</td>\n",
       "      <td>234.0</td>\n",
       "      <td>424.0</td>\n",
       "      <td>&gt;100</td>\n",
       "    </tr>\n",
       "    <tr>\n",
       "      <th>4</th>\n",
       "      <td>2</td>\n",
       "      <td>10000000.0</td>\n",
       "      <td>100.0</td>\n",
       "      <td>2018-06-19T00:00:00</td>\n",
       "      <td>2</td>\n",
       "      <td>3.03</td>\n",
       "      <td>14.0</td>\n",
       "      <td>32.0</td>\n",
       "      <td>13</td>\n",
       "      <td>False</td>\n",
       "      <td>False</td>\n",
       "      <td>False</td>\n",
       "      <td>41.0</td>\n",
       "      <td>0.0</td>\n",
       "      <td>Санкт-Петербург</td>\n",
       "      <td>31856.0</td>\n",
       "      <td>8098.0</td>\n",
       "      <td>2.0</td>\n",
       "      <td>112.0</td>\n",
       "      <td>1.0</td>\n",
       "      <td>48.0</td>\n",
       "      <td>121.0</td>\n",
       "      <td>&gt;65</td>\n",
       "    </tr>\n",
       "  </tbody>\n",
       "</table>\n",
       "</div>"
      ],
      "text/plain": [
       "   total_images  last_price  total_area first_day_exposition  rooms  \\\n",
       "0            20  13000000.0       108.0  2019-03-07T00:00:00      3   \n",
       "1             7   3350000.0        40.4  2018-12-04T00:00:00      1   \n",
       "2            10   5196000.0        56.0  2015-08-20T00:00:00      2   \n",
       "3             0  64900000.0       159.0  2015-07-24T00:00:00      3   \n",
       "4             2  10000000.0       100.0  2018-06-19T00:00:00      2   \n",
       "\n",
       "   ceiling_height  floors_total  living_area  floor  is_apartment  studio  \\\n",
       "0            2.70          16.0         51.0      8         False   False   \n",
       "1             NaN          11.0         18.6      1         False   False   \n",
       "2             NaN           5.0         34.3      4         False   False   \n",
       "3             NaN          14.0          NaN      9         False   False   \n",
       "4            3.03          14.0         32.0     13         False   False   \n",
       "\n",
       "   open_plan  kitchen_area  balcony    locality_name  airports_nearest  \\\n",
       "0      False          25.0      0.0  Санкт-Петербург           18863.0   \n",
       "1      False          11.0      2.0   посёлок Шушары           12817.0   \n",
       "2      False           8.3      0.0  Санкт-Петербург           21741.0   \n",
       "3      False           NaN      0.0  Санкт-Петербург           28098.0   \n",
       "4      False          41.0      0.0  Санкт-Петербург           31856.0   \n",
       "\n",
       "   city_сenters_nearest  parks_around3000  parks_nearest  ponds_around3000  \\\n",
       "0               16028.0               1.0          482.0               2.0   \n",
       "1               18603.0               0.0            NaN               0.0   \n",
       "2               13933.0               1.0           90.0               2.0   \n",
       "3                6800.0               2.0           84.0               3.0   \n",
       "4                8098.0               2.0          112.0               1.0   \n",
       "\n",
       "   ponds_nearest  days_exposition total_area_category  \n",
       "0          755.0              NaN                >100  \n",
       "1            NaN             81.0                 >40  \n",
       "2          574.0            558.0                 >40  \n",
       "3          234.0            424.0                >100  \n",
       "4           48.0            121.0                 >65  "
      ]
     },
     "execution_count": 19,
     "metadata": {},
     "output_type": "execute_result"
    }
   ],
   "source": [
    "data['total_area_category'] = data['total_area'].apply(total_area_category)\n",
    "data.head()      # выведем первые 5 строк"
   ]
  },
  {
   "cell_type": "markdown",
   "metadata": {},
   "source": [
    "Проверим как заполнились данные в новом столбце"
   ]
  },
  {
   "cell_type": "code",
   "execution_count": 20,
   "id": "1584da34",
   "metadata": {},
   "outputs": [
    {
     "data": {
      "text/plain": [
       ">40     10712\n",
       ">20      6007\n",
       ">65      5109\n",
       ">100     1609\n",
       ">200      227\n",
       "<20        35\n",
       "Name: total_area_category, dtype: int64"
      ]
     },
     "execution_count": 20,
     "metadata": {},
     "output_type": "execute_result"
    }
   ],
   "source": [
    "data['total_area_category'].value_counts()"
   ]
  },
  {
   "cell_type": "markdown",
   "metadata": {},
   "source": [
    "Сгруппируем данные по категориям с общей площадью и сравним средние и медианные значения жилой площади "
   ]
  },
  {
   "cell_type": "code",
   "execution_count": 21,
   "id": "46ce01ca",
   "metadata": {
    "scrolled": false
   },
   "outputs": [
    {
     "data": {
      "text/html": [
       "<div>\n",
       "<style scoped>\n",
       "    .dataframe tbody tr th:only-of-type {\n",
       "        vertical-align: middle;\n",
       "    }\n",
       "\n",
       "    .dataframe tbody tr th {\n",
       "        vertical-align: top;\n",
       "    }\n",
       "\n",
       "    .dataframe thead tr th {\n",
       "        text-align: left;\n",
       "    }\n",
       "\n",
       "    .dataframe thead tr:last-of-type th {\n",
       "        text-align: right;\n",
       "    }\n",
       "</style>\n",
       "<table border=\"1\" class=\"dataframe\">\n",
       "  <thead>\n",
       "    <tr>\n",
       "      <th></th>\n",
       "      <th>mean</th>\n",
       "      <th>median</th>\n",
       "    </tr>\n",
       "    <tr>\n",
       "      <th></th>\n",
       "      <th>living_area</th>\n",
       "      <th>living_area</th>\n",
       "    </tr>\n",
       "    <tr>\n",
       "      <th>total_area_category</th>\n",
       "      <th></th>\n",
       "      <th></th>\n",
       "    </tr>\n",
       "  </thead>\n",
       "  <tbody>\n",
       "    <tr>\n",
       "      <th>&lt;20</th>\n",
       "      <td>13.349583</td>\n",
       "      <td>13.5</td>\n",
       "    </tr>\n",
       "    <tr>\n",
       "      <th>&gt;100</th>\n",
       "      <td>75.185495</td>\n",
       "      <td>72.2</td>\n",
       "    </tr>\n",
       "    <tr>\n",
       "      <th>&gt;20</th>\n",
       "      <td>17.372841</td>\n",
       "      <td>17.2</td>\n",
       "    </tr>\n",
       "    <tr>\n",
       "      <th>&gt;200</th>\n",
       "      <td>165.196935</td>\n",
       "      <td>159.5</td>\n",
       "    </tr>\n",
       "    <tr>\n",
       "      <th>&gt;40</th>\n",
       "      <td>29.802933</td>\n",
       "      <td>30.0</td>\n",
       "    </tr>\n",
       "    <tr>\n",
       "      <th>&gt;65</th>\n",
       "      <td>46.318309</td>\n",
       "      <td>46.0</td>\n",
       "    </tr>\n",
       "  </tbody>\n",
       "</table>\n",
       "</div>"
      ],
      "text/plain": [
       "                           mean      median\n",
       "                    living_area living_area\n",
       "total_area_category                        \n",
       "<20                   13.349583        13.5\n",
       ">100                  75.185495        72.2\n",
       ">20                   17.372841        17.2\n",
       ">200                 165.196935       159.5\n",
       ">40                   29.802933        30.0\n",
       ">65                   46.318309        46.0"
      ]
     },
     "execution_count": 21,
     "metadata": {},
     "output_type": "execute_result"
    }
   ],
   "source": [
    "data.pivot_table(index='total_area_category', values='living_area', aggfunc=['mean', 'median'])"
   ]
  },
  {
   "cell_type": "code",
   "execution_count": 22,
   "id": "445f80a3",
   "metadata": {},
   "outputs": [
    {
     "data": {
      "text/plain": [
       "<AxesSubplot:ylabel='Frequency'>"
      ]
     },
     "execution_count": 22,
     "metadata": {},
     "output_type": "execute_result"
    },
    {
     "data": {
      "image/png": "[encoded data removed]",
      "text/plain": [
       "<Figure size 432x288 with 1 Axes>"
      ]
     },
     "metadata": {
      "needs_background": "light"
     },
     "output_type": "display_data"
    }
   ],
   "source": [
    "ax = (data.pivot_table(index='total_area_category', values='living_area', aggfunc=['mean'])\n",
    ".plot(kind='hist', y ='mean', histtype='step', bins=6, linewidth=5, alpha=0.7)\n",
    ")\n",
    "(data.pivot_table(index='total_area_category', values='living_area', aggfunc=['median'])\n",
    ".plot(kind='hist', y ='median', histtype='step', bins=6, linewidth=5, ax = ax, alpha=0.7)\n",
    ")"
   ]
  },
  {
   "cell_type": "markdown",
   "metadata": {},
   "source": [
    "По графику видно что среднее и медианное значения не сильно отличаются. Заполним пропуски медианными значениями.\n",
    "Сгруппируем данные по категориям общей площади и количеству балконов."
   ]
  },
  {
   "cell_type": "code",
   "execution_count": 23,
   "id": "fb7c5ada",
   "metadata": {},
   "outputs": [
    {
     "name": "stderr",
     "output_type": "stream",
     "text": [
      "/tmp/ipykernel_68/3308236526.py:1: FutureWarning: Indexing with multiple keys (implicitly converted to a tuple of keys) will be deprecated, use a list instead.\n",
      "  data.groupby(by=['total_area_category', 'balcony'])['living_area', 'kitchen_area'].count()\n"
     ]
    },
    {
     "data": {
      "text/html": [
       "<div>\n",
       "<style scoped>\n",
       "    .dataframe tbody tr th:only-of-type {\n",
       "        vertical-align: middle;\n",
       "    }\n",
       "\n",
       "    .dataframe tbody tr th {\n",
       "        vertical-align: top;\n",
       "    }\n",
       "\n",
       "    .dataframe thead th {\n",
       "        text-align: right;\n",
       "    }\n",
       "</style>\n",
       "<table border=\"1\" class=\"dataframe\">\n",
       "  <thead>\n",
       "    <tr style=\"text-align: right;\">\n",
       "      <th></th>\n",
       "      <th></th>\n",
       "      <th>living_area</th>\n",
       "      <th>kitchen_area</th>\n",
       "    </tr>\n",
       "    <tr>\n",
       "      <th>total_area_category</th>\n",
       "      <th>balcony</th>\n",
       "      <th></th>\n",
       "      <th></th>\n",
       "    </tr>\n",
       "  </thead>\n",
       "  <tbody>\n",
       "    <tr>\n",
       "      <th rowspan=\"3\" valign=\"top\">&lt;20</th>\n",
       "      <th>0.0</th>\n",
       "      <td>23</td>\n",
       "      <td>7</td>\n",
       "    </tr>\n",
       "    <tr>\n",
       "      <th>1.0</th>\n",
       "      <td>1</td>\n",
       "      <td>0</td>\n",
       "    </tr>\n",
       "    <tr>\n",
       "      <th>2.0</th>\n",
       "      <td>0</td>\n",
       "      <td>0</td>\n",
       "    </tr>\n",
       "    <tr>\n",
       "      <th rowspan=\"6\" valign=\"top\">&gt;100</th>\n",
       "      <th>0.0</th>\n",
       "      <td>1035</td>\n",
       "      <td>1031</td>\n",
       "    </tr>\n",
       "    <tr>\n",
       "      <th>1.0</th>\n",
       "      <td>214</td>\n",
       "      <td>215</td>\n",
       "    </tr>\n",
       "    <tr>\n",
       "      <th>2.0</th>\n",
       "      <td>121</td>\n",
       "      <td>133</td>\n",
       "    </tr>\n",
       "    <tr>\n",
       "      <th>3.0</th>\n",
       "      <td>15</td>\n",
       "      <td>16</td>\n",
       "    </tr>\n",
       "    <tr>\n",
       "      <th>4.0</th>\n",
       "      <td>31</td>\n",
       "      <td>34</td>\n",
       "    </tr>\n",
       "    <tr>\n",
       "      <th>5.0</th>\n",
       "      <td>40</td>\n",
       "      <td>44</td>\n",
       "    </tr>\n",
       "    <tr>\n",
       "      <th rowspan=\"6\" valign=\"top\">&gt;20</th>\n",
       "      <th>0.0</th>\n",
       "      <td>3488</td>\n",
       "      <td>3263</td>\n",
       "    </tr>\n",
       "    <tr>\n",
       "      <th>1.0</th>\n",
       "      <td>1098</td>\n",
       "      <td>1074</td>\n",
       "    </tr>\n",
       "    <tr>\n",
       "      <th>2.0</th>\n",
       "      <td>961</td>\n",
       "      <td>861</td>\n",
       "    </tr>\n",
       "    <tr>\n",
       "      <th>3.0</th>\n",
       "      <td>2</td>\n",
       "      <td>2</td>\n",
       "    </tr>\n",
       "    <tr>\n",
       "      <th>4.0</th>\n",
       "      <td>5</td>\n",
       "      <td>5</td>\n",
       "    </tr>\n",
       "    <tr>\n",
       "      <th>5.0</th>\n",
       "      <td>4</td>\n",
       "      <td>5</td>\n",
       "    </tr>\n",
       "    <tr>\n",
       "      <th rowspan=\"6\" valign=\"top\">&gt;200</th>\n",
       "      <th>0.0</th>\n",
       "      <td>146</td>\n",
       "      <td>147</td>\n",
       "    </tr>\n",
       "    <tr>\n",
       "      <th>1.0</th>\n",
       "      <td>40</td>\n",
       "      <td>38</td>\n",
       "    </tr>\n",
       "    <tr>\n",
       "      <th>2.0</th>\n",
       "      <td>7</td>\n",
       "      <td>6</td>\n",
       "    </tr>\n",
       "    <tr>\n",
       "      <th>3.0</th>\n",
       "      <td>2</td>\n",
       "      <td>3</td>\n",
       "    </tr>\n",
       "    <tr>\n",
       "      <th>4.0</th>\n",
       "      <td>2</td>\n",
       "      <td>2</td>\n",
       "    </tr>\n",
       "    <tr>\n",
       "      <th>5.0</th>\n",
       "      <td>2</td>\n",
       "      <td>2</td>\n",
       "    </tr>\n",
       "    <tr>\n",
       "      <th rowspan=\"6\" valign=\"top\">&gt;40</th>\n",
       "      <th>0.0</th>\n",
       "      <td>5981</td>\n",
       "      <td>5925</td>\n",
       "    </tr>\n",
       "    <tr>\n",
       "      <th>1.0</th>\n",
       "      <td>2036</td>\n",
       "      <td>2040</td>\n",
       "    </tr>\n",
       "    <tr>\n",
       "      <th>2.0</th>\n",
       "      <td>1633</td>\n",
       "      <td>1648</td>\n",
       "    </tr>\n",
       "    <tr>\n",
       "      <th>3.0</th>\n",
       "      <td>21</td>\n",
       "      <td>23</td>\n",
       "    </tr>\n",
       "    <tr>\n",
       "      <th>4.0</th>\n",
       "      <td>69</td>\n",
       "      <td>68</td>\n",
       "    </tr>\n",
       "    <tr>\n",
       "      <th>5.0</th>\n",
       "      <td>101</td>\n",
       "      <td>106</td>\n",
       "    </tr>\n",
       "    <tr>\n",
       "      <th rowspan=\"6\" valign=\"top\">&gt;65</th>\n",
       "      <th>0.0</th>\n",
       "      <td>3021</td>\n",
       "      <td>3000</td>\n",
       "    </tr>\n",
       "    <tr>\n",
       "      <th>1.0</th>\n",
       "      <td>668</td>\n",
       "      <td>677</td>\n",
       "    </tr>\n",
       "    <tr>\n",
       "      <th>2.0</th>\n",
       "      <td>789</td>\n",
       "      <td>804</td>\n",
       "    </tr>\n",
       "    <tr>\n",
       "      <th>3.0</th>\n",
       "      <td>35</td>\n",
       "      <td>34</td>\n",
       "    </tr>\n",
       "    <tr>\n",
       "      <th>4.0</th>\n",
       "      <td>69</td>\n",
       "      <td>68</td>\n",
       "    </tr>\n",
       "    <tr>\n",
       "      <th>5.0</th>\n",
       "      <td>136</td>\n",
       "      <td>140</td>\n",
       "    </tr>\n",
       "  </tbody>\n",
       "</table>\n",
       "</div>"
      ],
      "text/plain": [
       "                             living_area  kitchen_area\n",
       "total_area_category balcony                           \n",
       "<20                 0.0               23             7\n",
       "                    1.0                1             0\n",
       "                    2.0                0             0\n",
       ">100                0.0             1035          1031\n",
       "                    1.0              214           215\n",
       "                    2.0              121           133\n",
       "                    3.0               15            16\n",
       "                    4.0               31            34\n",
       "                    5.0               40            44\n",
       ">20                 0.0             3488          3263\n",
       "                    1.0             1098          1074\n",
       "                    2.0              961           861\n",
       "                    3.0                2             2\n",
       "                    4.0                5             5\n",
       "                    5.0                4             5\n",
       ">200                0.0              146           147\n",
       "                    1.0               40            38\n",
       "                    2.0                7             6\n",
       "                    3.0                2             3\n",
       "                    4.0                2             2\n",
       "                    5.0                2             2\n",
       ">40                 0.0             5981          5925\n",
       "                    1.0             2036          2040\n",
       "                    2.0             1633          1648\n",
       "                    3.0               21            23\n",
       "                    4.0               69            68\n",
       "                    5.0              101           106\n",
       ">65                 0.0             3021          3000\n",
       "                    1.0              668           677\n",
       "                    2.0              789           804\n",
       "                    3.0               35            34\n",
       "                    4.0               69            68\n",
       "                    5.0              136           140"
      ]
     },
     "execution_count": 23,
     "metadata": {},
     "output_type": "execute_result"
    }
   ],
   "source": [
    "data.groupby(by=['total_area_category', 'balcony'])['living_area', 'kitchen_area'].count() "
   ]
  },
  {
   "cell_type": "markdown",
   "metadata": {},
   "source": [
    "По таблице выше видно, что при такой группировке в некоторых категориях отсутствуют значения или их очень мало и заполнить пропуски в таком случае не представляется возможным. Так как при группировке только по категориям общей площади медианное и среднее значения близки, то можно заполнить пропуски медианным значением при группировке по категориям общей площади. Заполним пропуски в столбцах living_area и kitchen_area. "
   ]
  },
  {
   "cell_type": "code",
   "execution_count": 24,
   "id": "a98c69f5",
   "metadata": {},
   "outputs": [],
   "source": [
    "# рассчитаем медианы для жилой площади по категориям общей площади\n",
    "data_transformed_living = data.groupby('total_area_category')['living_area'].transform('median')"
   ]
  },
  {
   "cell_type": "code",
   "execution_count": 25,
   "id": "45ac853d",
   "metadata": {},
   "outputs": [],
   "source": [
    "# заполним пропуски медианным значением\n",
    "data['living_area'] = data['living_area'].fillna(data_transformed_living)"
   ]
  },
  {
   "cell_type": "code",
   "execution_count": 26,
   "id": "b3bfe0f4",
   "metadata": {},
   "outputs": [
    {
     "data": {
      "text/plain": [
       "0"
      ]
     },
     "execution_count": 26,
     "metadata": {},
     "output_type": "execute_result"
    }
   ],
   "source": [
    "# просчитаем пропуски после заполнения\n",
    "data['living_area'].isna().sum()"
   ]
  },
  {
   "cell_type": "markdown",
   "id": "5ba2c408",
   "metadata": {},
   "source": [
    "Аналогичным образом заполним пропуски в столбце с данными о площади кухни kitchen_area\t"
   ]
  },
  {
   "cell_type": "code",
   "execution_count": 27,
   "id": "d11eb2ef",
   "metadata": {},
   "outputs": [],
   "source": [
    "# рассчитаем медианы для площади кухни по категориям общей площади\n",
    "data_transformed_kitchen = data.groupby('total_area_category')['kitchen_area'].transform('median')"
   ]
  },
  {
   "cell_type": "code",
   "execution_count": 28,
   "id": "64aa9b1d",
   "metadata": {},
   "outputs": [],
   "source": [
    "# заполним пропуски медианным значением\n",
    "data['kitchen_area'] = data['kitchen_area'].fillna(data_transformed_kitchen)"
   ]
  },
  {
   "cell_type": "code",
   "execution_count": 29,
   "id": "9082355f",
   "metadata": {},
   "outputs": [
    {
     "data": {
      "text/plain": [
       "0"
      ]
     },
     "execution_count": 29,
     "metadata": {},
     "output_type": "execute_result"
    }
   ],
   "source": [
    "# просчитаем пропуски после заполнения\n",
    "data['kitchen_area'].isna().sum()"
   ]
  },
  {
   "cell_type": "markdown",
   "id": "f2a99e34",
   "metadata": {},
   "source": [
    "Рассмотрим столбец с данными о высоте потолка ceiling_height"
   ]
  },
  {
   "cell_type": "code",
   "execution_count": 30,
   "metadata": {},
   "outputs": [
    {
     "data": {
      "text/plain": [
       "(1.0, 100.0)"
      ]
     },
     "execution_count": 30,
     "metadata": {},
     "output_type": "execute_result"
    }
   ],
   "source": [
    "data['ceiling_height'].min(), data['ceiling_height'].max()"
   ]
  },
  {
   "cell_type": "markdown",
   "metadata": {},
   "source": [
    "Минимальное и максимальное значения выглядят недостоверными- потолок высотой в 1 м слишком низкий для квартиры, а потолок в 100 м - слишком высокий. Пока нисего не будем делать с данными значениями."
   ]
  },
  {
   "cell_type": "code",
   "execution_count": 31,
   "metadata": {},
   "outputs": [
    {
     "data": {
      "text/plain": [
       "9195"
      ]
     },
     "execution_count": 31,
     "metadata": {},
     "output_type": "execute_result"
    }
   ],
   "source": [
    "data['ceiling_height'].isna().sum()"
   ]
  },
  {
   "cell_type": "markdown",
   "metadata": {},
   "source": [
    "Пропущенных значений в данном столбце 9195. Однако хорошего варианта заполнения данных пропусков предложить не могу, поэтому оставим их. "
   ]
  },
  {
   "cell_type": "markdown",
   "metadata": {},
   "source": [
    "Рассмотрим столбец с данными о названии населённого пункта locality_name"
   ]
  },
  {
   "cell_type": "code",
   "execution_count": 32,
   "id": "9a18c11a",
   "metadata": {
    "scrolled": true
   },
   "outputs": [
    {
     "data": {
      "text/plain": [
       "Санкт-Петербург                                            15721\n",
       "посёлок Мурино                                               522\n",
       "посёлок Шушары                                               440\n",
       "Всеволожск                                                   398\n",
       "Пушкин                                                       369\n",
       "Колпино                                                      338\n",
       "посёлок Парголово                                            327\n",
       "Гатчина                                                      307\n",
       "деревня Кудрово                                              299\n",
       "Выборг                                                       237\n",
       "Петергоф                                                     201\n",
       "Сестрорецк                                                   183\n",
       "Красное Село                                                 178\n",
       "Кудрово                                                      173\n",
       "деревня Новое Девяткино                                      144\n",
       "Сертолово                                                    142\n",
       "Ломоносов                                                    133\n",
       "Кириши                                                       125\n",
       "Сланцы                                                       112\n",
       "Волхов                                                       111\n",
       "Кингисепп                                                    104\n",
       "Тосно                                                        104\n",
       "Кронштадт                                                     96\n",
       "Никольское                                                    93\n",
       "Коммунар                                                      89\n",
       "Сосновый Бор                                                  87\n",
       "Кировск                                                       84\n",
       "Отрадное                                                      80\n",
       "посёлок Бугры                                                 69\n",
       "Приозерск                                                     66\n",
       "посёлок Металлострой                                          66\n",
       "деревня Старая                                                64\n",
       "городской посёлок Янино-1                                     61\n",
       "Шлиссельбург                                                  57\n",
       "Луга                                                          56\n",
       "Тихвин                                                        49\n",
       "поселок Бугры                                                 45\n",
       "посёлок Стрельна                                              44\n",
       "посёлок Тельмана                                              39\n",
       "Павловск                                                      38\n",
       "поселок Романовка                                             36\n",
       "Волосово                                                      36\n",
       "Мурино                                                        34\n",
       "поселок Мурино                                                34\n",
       "посёлок городского типа Сиверский                             29\n",
       "городской посёлок Новоселье                                   28\n",
       "Ивангород                                                     28\n",
       "городской посёлок Мга                                         27\n",
       "поселок городского типа имени Свердлова                       25\n",
       "Зеленогорск                                                   24\n",
       "Сясьстрой                                                     24\n",
       "посёлок Щеглово                                               23\n",
       "посёлок городского типа Кузьмоловский                         22\n",
       "поселок городского типа Синявино                              21\n",
       "Лодейное Поле                                                 20\n",
       "деревня Лесколово                                             20\n",
       "посёлок Понтонный                                             20\n",
       "деревня Вартемяги                                             20\n",
       "посёлок Новогорелово                                          20\n",
       "поселок городского типа Рощино                                19\n",
       "Подпорожье                                                    19\n",
       "Пикалёво                                                      18\n",
       "посёлок Сосново                                               18\n",
       "деревня Бегуницы                                              17\n",
       "посёлок городского типа имени Морозова                        17\n",
       "посёлок Новый Свет                                            17\n",
       "деревня Большие Колпаны                                       16\n",
       "посёлок городского типа Токсово                               16\n",
       "Бокситогорск                                                  16\n",
       "городской поселок Большая Ижора                               16\n",
       "поселок городского типа Рахья                                 15\n",
       "посёлок городского типа Рощино                                15\n",
       "деревня Горбунки                                              15\n",
       "городской посёлок Назия                                       15\n",
       "поселок городского типа Дубровка                              15\n",
       "Новая Ладога                                                  14\n",
       "поселок Елизаветино                                           13\n",
       "посёлок городского типа Ульяновка                             13\n",
       "Каменногорск                                                  13\n",
       "деревня Гарболово                                             13\n",
       "поселок городского типа Кузьмоловский                         13\n",
       "посёлок городского типа Кузнечное                             13\n",
       "поселок городского типа Вырица                                12\n",
       "деревня Белогорка                                             11\n",
       "деревня Гостилицы                                             11\n",
       "деревня Нурма                                                 11\n",
       "Светогорск                                                    11\n",
       "посёлок городского типа имени Свердлова                       11\n",
       "посёлок Аннино                                                11\n",
       "посёлок городского типа Лебяжье                               11\n",
       "деревня Колтуши                                               11\n",
       "деревня Мистолово                                             11\n",
       "деревня Малое Верево                                          11\n",
       "деревня Низино                                                10\n",
       "деревня Лаголово                                              10\n",
       "деревня Сяськелево                                            10\n",
       "поселок Войсковицы                                            10\n",
       "посёлок городского типа Вырица                                10\n",
       "деревня Малое Карлино                                          9\n",
       "поселок городского типа Приладожский                           9\n",
       "село Русско-Высоцкое                                           9\n",
       "городской посёлок Павлово                                      9\n",
       "поселок Молодцово                                              9\n",
       "поселок Сельцо                                                 9\n",
       "деревня Батово                                                 9\n",
       "поселок городского типа Советский                              9\n",
       "деревня Оржицы                                                 9\n",
       "посёлок Пудость                                                9\n",
       "поселок Суходолье                                              8\n",
       "поселок Первомайское                                           8\n",
       "поселок Запорожское                                            8\n",
       "деревня Фёдоровское                                            8\n",
       "Приморск                                                       8\n",
       "Любань                                                         8\n",
       "деревня Калитино                                               7\n",
       "деревня Кальтино                                               7\n",
       "деревня Кипень                                                 7\n",
       "деревня Кузьмолово                                             7\n",
       "поселок Углово                                                 7\n",
       "городской поселок Янино-1                                      7\n",
       "деревня Извара                                                 7\n",
       "село Павлово                                                   7\n",
       "городской посёлок Фёдоровское                                  7\n",
       "поселок городского типа Никольский                             7\n",
       "деревня Куттузи                                                7\n",
       "деревня Малые Колпаны                                          7\n",
       "деревня Яльгелево                                              6\n",
       "деревня Лопухинка                                              6\n",
       "посёлок Ильичёво                                               6\n",
       "посёлок Мичуринское                                            6\n",
       "деревня Пудомяги                                               6\n",
       "поселок Ушаки                                                  6\n",
       "посёлок городского типа Тайцы                                  6\n",
       "посёлок Сапёрный                                               6\n",
       "деревня Лампово                                                6\n",
       "посёлок городского типа Мга                                    6\n",
       "посёлок городского типа Важины                                 6\n",
       "поселок Новый Учхоз                                            6\n",
       "деревня Заневка                                                6\n",
       "деревня Пеники                                                 6\n",
       "поселок Кобринское                                             6\n",
       "посёлок Плодовое                                               5\n",
       "поселок Новый Свет                                             5\n",
       "городской посёлок Рощино                                       5\n",
       "село Копорье                                                   5\n",
       "поселок Мичуринское                                            5\n",
       "посёлок Кобралово                                              5\n",
       "посёлок Стеклянный                                             5\n",
       "поселок Селезнёво                                              5\n",
       "деревня Юкки                                                   5\n",
       "посёлок Войскорово                                             5\n",
       "поселок Семрино                                                5\n",
       "поселок городского типа Дружная Горка                          5\n",
       "поселок Глажево                                                5\n",
       "поселок Аннино                                                 5\n",
       "посёлок Молодёжное                                             5\n",
       "поселок городского типа Красный Бор                            5\n",
       "посёлок Кикерино                                               4\n",
       "поселок Гарболово                                              4\n",
       "деревня Агалатово                                              4\n",
       "поселок городского типа Лебяжье                                4\n",
       "деревня Большая Вруда                                          4\n",
       "посёлок Суйда                                                  4\n",
       "поселок Цвелодубово                                            4\n",
       "посёлок Торфяное                                               4\n",
       "деревня Разметелево                                            4\n",
       "посёлок Терволово                                              4\n",
       "поселок городского типа Токсово                                4\n",
       "поселок Кобралово                                              4\n",
       "посёлок Гаврилово                                              4\n",
       "посёлок Усть-Луга                                              4\n",
       "посёлок Репино                                                 4\n",
       "деревня Парицы                                                 4\n",
       "Высоцк                                                         4\n",
       "посёлок Поляны                                                 4\n",
       "поселок станции Вещево                                         4\n",
       "посёлок городского типа Форносово                              4\n",
       "деревня Келози                                                 4\n",
       "деревня Разбегаево                                             4\n",
       "городской посёлок Будогощь                                     4\n",
       "посёлок Песочный                                               4\n",
       "городской посёлок Виллози                                      3\n",
       "деревня Торосово                                               3\n",
       "деревня Старополье                                             3\n",
       "поселок Заводской                                              3\n",
       "деревня Аро                                                    3\n",
       "посёлок городского типа Красный Бор                            3\n",
       "поселок Глебычево                                              3\n",
       "поселок Котельский                                             3\n",
       "деревня Торошковичи                                            3\n",
       "поселок Зимитицы                                               3\n",
       "посёлок Пригородный                                            3\n",
       "деревня Заклинье                                               3\n",
       "поселок городского типа Ефимовский                             3\n",
       "деревня Старосиверская                                         3\n",
       "поселок Победа                                                 3\n",
       "поселок Торковичи                                              3\n",
       "посёлок станции Громово                                        3\n",
       "посёлок Перово                                                 3\n",
       "поселок Громово                                                3\n",
       "посёлок Победа                                                 3\n",
       "село Рождествено                                               3\n",
       "поселок Мельниково                                             3\n",
       "деревня Ваганово                                               3\n",
       "поселок городского типа Лесогорский                            3\n",
       "поселок Стеклянный                                             3\n",
       "поселок Лукаши                                                 3\n",
       "поселок Красная Долина                                         3\n",
       "посёлок Петровское                                             3\n",
       "поселок Оредеж                                                 3\n",
       "поселок Любань                                                 3\n",
       "поселок Пушное                                                 2\n",
       "деревня Мины                                                   2\n",
       "деревня Коркино                                                2\n",
       "деревня Старая Пустошь                                         2\n",
       "село Старая Ладога                                             2\n",
       "деревня Выскатка                                               2\n",
       "городской посёлок Лесогорский                                  2\n",
       "поселок Старая Малукса                                         2\n",
       "деревня Камышовка                                              2\n",
       "поселок Ильичёво                                               2\n",
       "посёлок Ленинское                                              2\n",
       "поселок Тельмана                                               2\n",
       "деревня Рабитицы                                               2\n",
       "посёлок Усть-Ижора                                             2\n",
       "поселок Серебрянский                                           2\n",
       "поселок Починок                                                2\n",
       "посёлок Жилгородок                                             2\n",
       "деревня Бор                                                    2\n",
       "посёлок Старая Малукса                                         2\n",
       "поселок Кингисеппский                                          2\n",
       "поселок городского типа Форносово                              2\n",
       "поселок Поляны                                                 2\n",
       "деревня Ненимяки                                               2\n",
       "посёлок Возрождение                                            2\n",
       "поселок Барышево                                               2\n",
       "деревня Глинка                                                 2\n",
       "посёлок Мельниково                                             2\n",
       "поселок Житково                                                2\n",
       "посёлок городского типа Павлово                                2\n",
       "поселок Терволово                                              2\n",
       "посёлок станции Свирь                                          2\n",
       "поселок станции Приветнинское                                  2\n",
       "поселок Лесное                                                 2\n",
       "деревня Тарасово                                               2\n",
       "поселок Петровское                                             2\n",
       "деревня Ям-Тесово                                              2\n",
       "посёлок Лисий Нос                                              2\n",
       "село Паша                                                      2\n",
       "село Путилово                                                  2\n",
       "посёлок городского типа Вознесенье                             2\n",
       "деревня Старые Бегуницы                                        2\n",
       "поселок Совхозный                                              2\n",
       "посёлок Сапёрное                                               2\n",
       "деревня Фалилеево                                              2\n",
       "поселок городского типа Назия                                  2\n",
       "посёлок Александровская                                        2\n",
       "городской посёлок Советский                                    2\n",
       "поселок Рябово                                                 2\n",
       "деревня Суоранда                                               2\n",
       "деревня Борисова Грива                                         1\n",
       "садовое товарищество Рахья                                     1\n",
       "деревня Раздолье                                               1\n",
       "поселок Почап                                                  1\n",
       "деревня Тихковицы                                              1\n",
       "поселок Коммунары                                              1\n",
       "деревня Хязельки                                               1\n",
       "посёлок Петро-Славянка                                         1\n",
       "поселок Дружноселье                                            1\n",
       "поселок Гаврилово                                              1\n",
       "деревня Нижняя                                                 1\n",
       "поселок Ромашки                                                1\n",
       "деревня Куровицы                                               1\n",
       "садовое товарищество Приладожский                              1\n",
       "посёлок Форт Красная Горка                                     1\n",
       "поселок Гончарово                                              1\n",
       "поселок станции Корнево                                        1\n",
       "посёлок городского типа Рябово                                 1\n",
       "поселок Пансионат Зелёный Бор                                  1\n",
       "деревня Терпилицы                                              1\n",
       "поселок Рабитицы                                               1\n",
       "посёлок Левашово                                               1\n",
       "деревня Тойворово                                              1\n",
       "садовое товарищество Садко                                     1\n",
       "деревня Лупполово                                              1\n",
       "поселок Возрождение                                            1\n",
       "коттеджный посёлок Лесное                                      1\n",
       "деревня Чудской Бор                                            1\n",
       "деревня Котлы                                                  1\n",
       "коттеджный поселок Счастье                                     1\n",
       "поселок станции Лужайка                                        1\n",
       "деревня Пустынка                                               1\n",
       "посёлок Платформа 69-й километр                                1\n",
       "поселок Красносельское                                         1\n",
       "деревня Мануйлово                                              1\n",
       "посёлок Коробицыно                                             1\n",
       "поселок Сумино                                                 1\n",
       "деревня Сижно                                                  1\n",
       "деревня Пижма                                                  1\n",
       "поселок Тёсово-4                                               1\n",
       "посёлок Пансионат Зелёный Бор                                  1\n",
       "посёлок при железнодорожной станции Вещево                     1\n",
       "посёлок Высокоключевой                                         1\n",
       "деревня Лаврики                                                1\n",
       "деревня Большое Рейзино                                        1\n",
       "село Шум                                                       1\n",
       "деревня Меньково                                               1\n",
       "поселок Пчевжа                                                 1\n",
       "поселок городского типа Кондратьево                            1\n",
       "деревня Пчева                                                  1\n",
       "деревня Нижние Осельки                                         1\n",
       "деревня Курковицы                                              1\n",
       "поселок Коробицыно                                             1\n",
       "село Никольское                                                1\n",
       "деревня Пикколово                                              1\n",
       "садовое товарищество Новая Ропша                               1\n",
       "посёлок Шугозеро                                               1\n",
       "садоводческое некоммерческое товарищество Лесная Поляна        1\n",
       "деревня Шпаньково                                              1\n",
       "поселок Кирпичное                                              1\n",
       "деревня Старое Хинколово                                       1\n",
       "поселок Севастьяново                                           1\n",
       "посёлок Ропша                                                  1\n",
       "деревня Кисельня                                               1\n",
       "деревня Щеглово                                                1\n",
       "деревня Иссад                                                  1\n",
       "деревня Реброво                                                1\n",
       "городской посёлок Свирьстрой                                   1\n",
       "деревня Кривко                                                 1\n",
       "поселок Каложицы                                               1\n",
       "посёлок при железнодорожной станции Приветнинское              1\n",
       "поселок Гладкое                                                1\n",
       "поселок Семиозерье                                             1\n",
       "посёлок Плоское                                                1\n",
       "коттеджный поселок Кивеннапа Север                             1\n",
       "поселок Лисий Нос                                              1\n",
       "деревня Новолисино                                             1\n",
       "посёлок Белоостров                                             1\n",
       "посёлок Сумино                                                 1\n",
       "деревня Хапо-Ое                                                1\n",
       "посёлок Мыза-Ивановка                                          1\n",
       "поселок Жилгородок                                             1\n",
       "поселок Володарское                                            1\n",
       "деревня Рапполово                                              1\n",
       "поселок Усть-Луга                                              1\n",
       "деревня Ялгино                                                 1\n",
       "посёлок Алексеевка                                             1\n",
       "деревня Малая Романовка                                        1\n",
       "деревня Русско                                                 1\n",
       "деревня Трубников Бор                                          1\n",
       "деревня Вахнова Кара                                           1\n",
       "деревня Каськово                                               1\n",
       "поселок Калитино                                               1\n",
       "деревня Большая Пустомержа                                     1\n",
       "поселок Цвылёво                                                1\n",
       "деревня Снегирёвка                                             1\n",
       "посёлок Дзержинского                                           1\n",
       "поселок городского типа Рябово                                 1\n",
       "деревня Зимитицы                                               1\n",
       "деревня Большой Сабск                                          1\n",
       "поселок Жилпосёлок                                             1\n",
       "поселок городского типа Большая Ижора                          1\n",
       "деревня Пельгора                                               1\n",
       "поселок Перово                                                 1\n",
       "Name: locality_name, dtype: int64"
      ]
     },
     "execution_count": 32,
     "metadata": {},
     "output_type": "execute_result"
    }
   ],
   "source": [
    "data['locality_name'].value_counts()"
   ]
  },
  {
   "cell_type": "markdown",
   "metadata": {},
   "source": [
    "При просмотре данных из этого столбца видно что он содержит неявные дубликаты, например слова \"поселок\" и \"посёлок\". Данные неявные дубликаты необходимо устранить,для этого заменим слово 'посёлок' на 'поселок'. Также в данном столбце содержатся такие данные как \"посёлок Мурино\" и \"Мурино\", данные населенные пункты хоть и называются одинаково, но могут разными, поэтому подобные случаи не будем считать дубликатами."
   ]
  },
  {
   "cell_type": "code",
   "execution_count": 33,
   "id": "2d2c1906",
   "metadata": {},
   "outputs": [
    {
     "data": {
      "text/plain": [
       "365"
      ]
     },
     "execution_count": 33,
     "metadata": {},
     "output_type": "execute_result"
    }
   ],
   "source": [
    "# посчитаем количество уникальных значений до изменения\n",
    "len(data['locality_name'].unique())"
   ]
  },
  {
   "cell_type": "code",
   "execution_count": 34,
   "id": "1eb15fbe",
   "metadata": {},
   "outputs": [
    {
     "data": {
      "text/plain": [
       "331"
      ]
     },
     "execution_count": 34,
     "metadata": {},
     "output_type": "execute_result"
    }
   ],
   "source": [
    "# произведем замену слово 'посёлок' на 'поселок'\n",
    "data['locality_name'] = data['locality_name'].str.replace('посёлок', 'поселок')\n",
    "# посчитаем количество уникальных значений после изменения\n",
    "len(data['locality_name'].unique())"
   ]
  },
  {
   "cell_type": "markdown",
   "metadata": {},
   "source": [
    "По результату произведенных действий количество уникальных значений в данной столбце сократилось до 331."
   ]
  },
  {
   "cell_type": "markdown",
   "metadata": {},
   "source": [
    "Рассмотрим столбцы с числом парков в радиусе 3 км parks_around3000 и числом водоёмов в радиусе 3 км ponds_around3000. Если в данных столбцах пропущены значения, то скорее всего это означает, что в указанном радиусе не парков и водоемов и пропуски в таком случае можно заменить на 0."
   ]
  },
  {
   "cell_type": "code",
   "execution_count": 35,
   "metadata": {},
   "outputs": [
    {
     "data": {
      "text/plain": [
       "5518"
      ]
     },
     "execution_count": 35,
     "metadata": {},
     "output_type": "execute_result"
    }
   ],
   "source": [
    "# посчитаем пропущенные значения\n",
    "data['parks_around3000'].isna().sum()"
   ]
  },
  {
   "cell_type": "code",
   "execution_count": 36,
   "id": "10c086c8",
   "metadata": {
    "scrolled": true
   },
   "outputs": [
    {
     "data": {
      "text/plain": [
       "5518"
      ]
     },
     "execution_count": 36,
     "metadata": {},
     "output_type": "execute_result"
    }
   ],
   "source": [
    "# посчитаем пропущенные значения в parks_nearest при условии пропуска в parks_around3000\n",
    "data[data['parks_around3000'].isna()]['parks_nearest'].isna().sum()"
   ]
  },
  {
   "cell_type": "code",
   "execution_count": 37,
   "id": "5354ceb3",
   "metadata": {},
   "outputs": [
    {
     "data": {
      "text/html": [
       "<div>\n",
       "<style scoped>\n",
       "    .dataframe tbody tr th:only-of-type {\n",
       "        vertical-align: middle;\n",
       "    }\n",
       "\n",
       "    .dataframe tbody tr th {\n",
       "        vertical-align: top;\n",
       "    }\n",
       "\n",
       "    .dataframe thead th {\n",
       "        text-align: right;\n",
       "    }\n",
       "</style>\n",
       "<table border=\"1\" class=\"dataframe\">\n",
       "  <thead>\n",
       "    <tr style=\"text-align: right;\">\n",
       "      <th></th>\n",
       "      <th>total_images</th>\n",
       "      <th>last_price</th>\n",
       "      <th>total_area</th>\n",
       "      <th>first_day_exposition</th>\n",
       "      <th>rooms</th>\n",
       "      <th>ceiling_height</th>\n",
       "      <th>floors_total</th>\n",
       "      <th>living_area</th>\n",
       "      <th>floor</th>\n",
       "      <th>is_apartment</th>\n",
       "      <th>studio</th>\n",
       "      <th>open_plan</th>\n",
       "      <th>kitchen_area</th>\n",
       "      <th>balcony</th>\n",
       "      <th>locality_name</th>\n",
       "      <th>airports_nearest</th>\n",
       "      <th>city_сenters_nearest</th>\n",
       "      <th>parks_around3000</th>\n",
       "      <th>parks_nearest</th>\n",
       "      <th>ponds_around3000</th>\n",
       "      <th>ponds_nearest</th>\n",
       "      <th>days_exposition</th>\n",
       "      <th>total_area_category</th>\n",
       "    </tr>\n",
       "  </thead>\n",
       "  <tbody>\n",
       "    <tr>\n",
       "      <th>1590</th>\n",
       "      <td>3</td>\n",
       "      <td>7500000.0</td>\n",
       "      <td>70.0</td>\n",
       "      <td>2017-07-11T00:00:00</td>\n",
       "      <td>2</td>\n",
       "      <td>NaN</td>\n",
       "      <td>18.0</td>\n",
       "      <td>37.0</td>\n",
       "      <td>13</td>\n",
       "      <td>False</td>\n",
       "      <td>False</td>\n",
       "      <td>False</td>\n",
       "      <td>10.0</td>\n",
       "      <td>0.0</td>\n",
       "      <td>Санкт-Петербург</td>\n",
       "      <td>14878.0</td>\n",
       "      <td>9791.0</td>\n",
       "      <td>0.0</td>\n",
       "      <td>3064.0</td>\n",
       "      <td>1.0</td>\n",
       "      <td>264.0</td>\n",
       "      <td>4.0</td>\n",
       "      <td>&gt;65</td>\n",
       "    </tr>\n",
       "    <tr>\n",
       "      <th>10959</th>\n",
       "      <td>9</td>\n",
       "      <td>3000000.0</td>\n",
       "      <td>31.1</td>\n",
       "      <td>2017-03-21T00:00:00</td>\n",
       "      <td>1</td>\n",
       "      <td>NaN</td>\n",
       "      <td>5.0</td>\n",
       "      <td>17.7</td>\n",
       "      <td>2</td>\n",
       "      <td>False</td>\n",
       "      <td>False</td>\n",
       "      <td>False</td>\n",
       "      <td>5.5</td>\n",
       "      <td>0.0</td>\n",
       "      <td>Санкт-Петербург</td>\n",
       "      <td>14821.0</td>\n",
       "      <td>9734.0</td>\n",
       "      <td>0.0</td>\n",
       "      <td>3190.0</td>\n",
       "      <td>1.0</td>\n",
       "      <td>431.0</td>\n",
       "      <td>234.0</td>\n",
       "      <td>&gt;20</td>\n",
       "    </tr>\n",
       "    <tr>\n",
       "      <th>19208</th>\n",
       "      <td>17</td>\n",
       "      <td>14950000.0</td>\n",
       "      <td>187.0</td>\n",
       "      <td>2017-10-12T00:00:00</td>\n",
       "      <td>5</td>\n",
       "      <td>3.0</td>\n",
       "      <td>2.0</td>\n",
       "      <td>80.0</td>\n",
       "      <td>2</td>\n",
       "      <td>False</td>\n",
       "      <td>False</td>\n",
       "      <td>False</td>\n",
       "      <td>17.0</td>\n",
       "      <td>1.0</td>\n",
       "      <td>Санкт-Петербург</td>\n",
       "      <td>36805.0</td>\n",
       "      <td>8656.0</td>\n",
       "      <td>0.0</td>\n",
       "      <td>3013.0</td>\n",
       "      <td>3.0</td>\n",
       "      <td>537.0</td>\n",
       "      <td>49.0</td>\n",
       "      <td>&gt;100</td>\n",
       "    </tr>\n",
       "    <tr>\n",
       "      <th>19430</th>\n",
       "      <td>9</td>\n",
       "      <td>3900000.0</td>\n",
       "      <td>30.5</td>\n",
       "      <td>2018-02-22T00:00:00</td>\n",
       "      <td>1</td>\n",
       "      <td>2.6</td>\n",
       "      <td>5.0</td>\n",
       "      <td>16.5</td>\n",
       "      <td>1</td>\n",
       "      <td>False</td>\n",
       "      <td>False</td>\n",
       "      <td>False</td>\n",
       "      <td>5.5</td>\n",
       "      <td>0.0</td>\n",
       "      <td>Санкт-Петербург</td>\n",
       "      <td>14821.0</td>\n",
       "      <td>9734.0</td>\n",
       "      <td>0.0</td>\n",
       "      <td>3190.0</td>\n",
       "      <td>1.0</td>\n",
       "      <td>431.0</td>\n",
       "      <td>176.0</td>\n",
       "      <td>&gt;20</td>\n",
       "    </tr>\n",
       "  </tbody>\n",
       "</table>\n",
       "</div>"
      ],
      "text/plain": [
       "       total_images  last_price  total_area first_day_exposition  rooms  \\\n",
       "1590              3   7500000.0        70.0  2017-07-11T00:00:00      2   \n",
       "10959             9   3000000.0        31.1  2017-03-21T00:00:00      1   \n",
       "19208            17  14950000.0       187.0  2017-10-12T00:00:00      5   \n",
       "19430             9   3900000.0        30.5  2018-02-22T00:00:00      1   \n",
       "\n",
       "       ceiling_height  floors_total  living_area  floor  is_apartment  studio  \\\n",
       "1590              NaN          18.0         37.0     13         False   False   \n",
       "10959             NaN           5.0         17.7      2         False   False   \n",
       "19208             3.0           2.0         80.0      2         False   False   \n",
       "19430             2.6           5.0         16.5      1         False   False   \n",
       "\n",
       "       open_plan  kitchen_area  balcony    locality_name  airports_nearest  \\\n",
       "1590       False          10.0      0.0  Санкт-Петербург           14878.0   \n",
       "10959      False           5.5      0.0  Санкт-Петербург           14821.0   \n",
       "19208      False          17.0      1.0  Санкт-Петербург           36805.0   \n",
       "19430      False           5.5      0.0  Санкт-Петербург           14821.0   \n",
       "\n",
       "       city_сenters_nearest  parks_around3000  parks_nearest  \\\n",
       "1590                 9791.0               0.0         3064.0   \n",
       "10959                9734.0               0.0         3190.0   \n",
       "19208                8656.0               0.0         3013.0   \n",
       "19430                9734.0               0.0         3190.0   \n",
       "\n",
       "       ponds_around3000  ponds_nearest  days_exposition total_area_category  \n",
       "1590                1.0          264.0              4.0                 >65  \n",
       "10959               1.0          431.0            234.0                 >20  \n",
       "19208               3.0          537.0             49.0                >100  \n",
       "19430               1.0          431.0            176.0                 >20  "
      ]
     },
     "execution_count": 37,
     "metadata": {},
     "output_type": "execute_result"
    }
   ],
   "source": [
    "data[data['parks_nearest'] > 3000]"
   ]
  },
  {
   "cell_type": "markdown",
   "metadata": {},
   "source": [
    "Таким образом, количество пропусков значений в parks_nearest при условии пропуска в parks_around3000 совпадает с количеством пропусков в parks_around3000, а при значении в столбце parks_nearest больше 3000 в столбце parks_around3000 значение 0. Заменяем пропуски в parks_around3000 на 0.    "
   ]
  },
  {
   "cell_type": "markdown",
   "metadata": {},
   "source": [
    "Аналогичным образом проанализируем столбцы ponds_around3000 и ponds_nearest"
   ]
  },
  {
   "cell_type": "code",
   "execution_count": 38,
   "id": "5603402d",
   "metadata": {
    "scrolled": true
   },
   "outputs": [
    {
     "data": {
      "text/plain": [
       "5518"
      ]
     },
     "execution_count": 38,
     "metadata": {},
     "output_type": "execute_result"
    }
   ],
   "source": [
    "# посчитаем пропущенные значения в ponds_nearest при условии пропуска в ponds_around3000\n",
    "data[data['ponds_around3000'].isna()]['ponds_nearest'].isna().sum()"
   ]
  },
  {
   "cell_type": "code",
   "execution_count": 39,
   "id": "80673eeb",
   "metadata": {
    "scrolled": true
   },
   "outputs": [
    {
     "data": {
      "text/plain": [
       "5518"
      ]
     },
     "execution_count": 39,
     "metadata": {},
     "output_type": "execute_result"
    }
   ],
   "source": [
    "# посчитаем пропущенные значения\n",
    "data['ponds_around3000'].isna().sum()"
   ]
  },
  {
   "cell_type": "markdown",
   "metadata": {},
   "source": [
    "Количество пропусков значений в ponds_nearest при условии пропуска в ponds_around3000 совпадает с количеством пропусков в ponds_around3000, а при значении в столбце ponds_nearest больше 3000 в столбце parks_around3000 значение 0. Заменяем пропуски в ponds_around3000 на 0."
   ]
  },
  {
   "cell_type": "code",
   "execution_count": 40,
   "id": "a40dfd72",
   "metadata": {},
   "outputs": [],
   "source": [
    "data['parks_around3000'] = data['parks_around3000'].fillna(0)\n",
    "data['ponds_around3000'] = data['ponds_around3000'].fillna(0)"
   ]
  },
  {
   "cell_type": "code",
   "execution_count": 41,
   "id": "66a650d2",
   "metadata": {},
   "outputs": [
    {
     "data": {
      "text/plain": [
       "0"
      ]
     },
     "execution_count": 41,
     "metadata": {},
     "output_type": "execute_result"
    }
   ],
   "source": [
    "# посчитаем пропущенные значения после заполнения\n",
    "data['parks_around3000'].isna().sum()"
   ]
  },
  {
   "cell_type": "code",
   "execution_count": 42,
   "id": "fdb3e0af",
   "metadata": {},
   "outputs": [
    {
     "data": {
      "text/plain": [
       "0"
      ]
     },
     "execution_count": 42,
     "metadata": {},
     "output_type": "execute_result"
    }
   ],
   "source": [
    "# посчитаем пропущенные значения после заполнения\n",
    "data['ponds_around3000'].isna().sum()"
   ]
  },
  {
   "cell_type": "markdown",
   "metadata": {},
   "source": [
    "Рассмотрим столбец с информацией о дате публикации first_day_exposition. В данном столбце содержится дата, поэтому приведем данные к нужному формату."
   ]
  },
  {
   "cell_type": "code",
   "execution_count": 43,
   "id": "db8798aa",
   "metadata": {},
   "outputs": [],
   "source": [
    "data['first_day_exposition'] = pd.to_datetime(data['first_day_exposition'], format='%Y-%m-%dT%H:%M:%S')"
   ]
  },
  {
   "cell_type": "markdown",
   "metadata": {},
   "source": [
    "Выведем общую информацию после произведенных изменений."
   ]
  },
  {
   "cell_type": "code",
   "execution_count": 44,
   "id": "0e9964f1",
   "metadata": {
    "scrolled": true
   },
   "outputs": [
    {
     "name": "stdout",
     "output_type": "stream",
     "text": [
      "<class 'pandas.core.frame.DataFrame'>\n",
      "RangeIndex: 23699 entries, 0 to 23698\n",
      "Data columns (total 23 columns):\n",
      " #   Column                Non-Null Count  Dtype         \n",
      "---  ------                --------------  -----         \n",
      " 0   total_images          23699 non-null  int64         \n",
      " 1   last_price            23699 non-null  float64       \n",
      " 2   total_area            23699 non-null  float64       \n",
      " 3   first_day_exposition  23699 non-null  datetime64[ns]\n",
      " 4   rooms                 23699 non-null  int64         \n",
      " 5   ceiling_height        14504 non-null  float64       \n",
      " 6   floors_total          23613 non-null  float64       \n",
      " 7   living_area           23699 non-null  float64       \n",
      " 8   floor                 23699 non-null  int64         \n",
      " 9   is_apartment          23699 non-null  bool          \n",
      " 10  studio                23699 non-null  bool          \n",
      " 11  open_plan             23699 non-null  bool          \n",
      " 12  kitchen_area          23699 non-null  float64       \n",
      " 13  balcony               23699 non-null  float64       \n",
      " 14  locality_name         23650 non-null  object        \n",
      " 15  airports_nearest      18157 non-null  float64       \n",
      " 16  city_сenters_nearest  18180 non-null  float64       \n",
      " 17  parks_around3000      23699 non-null  float64       \n",
      " 18  parks_nearest         8079 non-null   float64       \n",
      " 19  ponds_around3000      23699 non-null  float64       \n",
      " 20  ponds_nearest         9110 non-null   float64       \n",
      " 21  days_exposition       20518 non-null  float64       \n",
      " 22  total_area_category   23699 non-null  object        \n",
      "dtypes: bool(3), datetime64[ns](1), float64(14), int64(3), object(2)\n",
      "memory usage: 3.7+ MB\n"
     ]
    }
   ],
   "source": [
    "data.info()"
   ]
  },
  {
   "cell_type": "markdown",
   "metadata": {},
   "source": [
    "### Вывод"
   ]
  },
  {
   "cell_type": "markdown",
   "metadata": {},
   "source": [
    "В ходе предобработки данных частично заполнены пропуски в столбцах где можно предположить логичное заполнение, также изменен тип данных на корректный. "
   ]
  },
  {
   "cell_type": "markdown",
   "metadata": {},
   "source": [
    "## Расчёты и добавление результатов в таблицу"
   ]
  },
  {
   "cell_type": "markdown",
   "id": "5db9bc49",
   "metadata": {},
   "source": [
    "Добавим в датасет информацию о стоимости 1 квадратного метра. Для этого напишем функцию с помощью которой посчитаем стоимость квадратного метра."
   ]
  },
  {
   "cell_type": "code",
   "execution_count": 45,
   "id": "07c72595",
   "metadata": {},
   "outputs": [],
   "source": [
    "def price_metr(row):\n",
    "    price = row['last_price']\n",
    "    area = row['total_area']\n",
    "    return price / area\n",
    "\n"
   ]
  },
  {
   "cell_type": "code",
   "execution_count": 46,
   "id": "02175b9b",
   "metadata": {},
   "outputs": [
    {
     "data": {
      "text/plain": [
       "last_price    500000\n",
       "total_area      1000\n",
       "dtype: int64"
      ]
     },
     "execution_count": 46,
     "metadata": {},
     "output_type": "execute_result"
    }
   ],
   "source": [
    "row = pd.Series(data= [500000, 1000], index= ['last_price', 'total_area'])\n",
    "row"
   ]
  },
  {
   "cell_type": "code",
   "execution_count": 47,
   "id": "74c94c56",
   "metadata": {},
   "outputs": [
    {
     "data": {
      "text/plain": [
       "500.0"
      ]
     },
     "execution_count": 47,
     "metadata": {},
     "output_type": "execute_result"
    }
   ],
   "source": [
    "price_metr(row)"
   ]
  },
  {
   "cell_type": "markdown",
   "metadata": {},
   "source": [
    "Добавим столбец с информацией о стоимости квдратного метра в таблицу"
   ]
  },
  {
   "cell_type": "code",
   "execution_count": 48,
   "id": "3e973d65",
   "metadata": {},
   "outputs": [
    {
     "data": {
      "text/html": [
       "<div>\n",
       "<style scoped>\n",
       "    .dataframe tbody tr th:only-of-type {\n",
       "        vertical-align: middle;\n",
       "    }\n",
       "\n",
       "    .dataframe tbody tr th {\n",
       "        vertical-align: top;\n",
       "    }\n",
       "\n",
       "    .dataframe thead th {\n",
       "        text-align: right;\n",
       "    }\n",
       "</style>\n",
       "<table border=\"1\" class=\"dataframe\">\n",
       "  <thead>\n",
       "    <tr style=\"text-align: right;\">\n",
       "      <th></th>\n",
       "      <th>total_images</th>\n",
       "      <th>last_price</th>\n",
       "      <th>total_area</th>\n",
       "      <th>first_day_exposition</th>\n",
       "      <th>rooms</th>\n",
       "      <th>ceiling_height</th>\n",
       "      <th>floors_total</th>\n",
       "      <th>living_area</th>\n",
       "      <th>floor</th>\n",
       "      <th>is_apartment</th>\n",
       "      <th>studio</th>\n",
       "      <th>open_plan</th>\n",
       "      <th>kitchen_area</th>\n",
       "      <th>balcony</th>\n",
       "      <th>locality_name</th>\n",
       "      <th>airports_nearest</th>\n",
       "      <th>city_сenters_nearest</th>\n",
       "      <th>parks_around3000</th>\n",
       "      <th>parks_nearest</th>\n",
       "      <th>ponds_around3000</th>\n",
       "      <th>ponds_nearest</th>\n",
       "      <th>days_exposition</th>\n",
       "      <th>total_area_category</th>\n",
       "      <th>price_metr</th>\n",
       "    </tr>\n",
       "  </thead>\n",
       "  <tbody>\n",
       "    <tr>\n",
       "      <th>0</th>\n",
       "      <td>20</td>\n",
       "      <td>13000000.0</td>\n",
       "      <td>108.0</td>\n",
       "      <td>2019-03-07</td>\n",
       "      <td>3</td>\n",
       "      <td>2.70</td>\n",
       "      <td>16.0</td>\n",
       "      <td>51.0</td>\n",
       "      <td>8</td>\n",
       "      <td>False</td>\n",
       "      <td>False</td>\n",
       "      <td>False</td>\n",
       "      <td>25.0</td>\n",
       "      <td>0.0</td>\n",
       "      <td>Санкт-Петербург</td>\n",
       "      <td>18863.0</td>\n",
       "      <td>16028.0</td>\n",
       "      <td>1.0</td>\n",
       "      <td>482.0</td>\n",
       "      <td>2.0</td>\n",
       "      <td>755.0</td>\n",
       "      <td>NaN</td>\n",
       "      <td>&gt;100</td>\n",
       "      <td>120370.370370</td>\n",
       "    </tr>\n",
       "    <tr>\n",
       "      <th>1</th>\n",
       "      <td>7</td>\n",
       "      <td>3350000.0</td>\n",
       "      <td>40.4</td>\n",
       "      <td>2018-12-04</td>\n",
       "      <td>1</td>\n",
       "      <td>NaN</td>\n",
       "      <td>11.0</td>\n",
       "      <td>18.6</td>\n",
       "      <td>1</td>\n",
       "      <td>False</td>\n",
       "      <td>False</td>\n",
       "      <td>False</td>\n",
       "      <td>11.0</td>\n",
       "      <td>2.0</td>\n",
       "      <td>поселок Шушары</td>\n",
       "      <td>12817.0</td>\n",
       "      <td>18603.0</td>\n",
       "      <td>0.0</td>\n",
       "      <td>NaN</td>\n",
       "      <td>0.0</td>\n",
       "      <td>NaN</td>\n",
       "      <td>81.0</td>\n",
       "      <td>&gt;40</td>\n",
       "      <td>82920.792079</td>\n",
       "    </tr>\n",
       "    <tr>\n",
       "      <th>2</th>\n",
       "      <td>10</td>\n",
       "      <td>5196000.0</td>\n",
       "      <td>56.0</td>\n",
       "      <td>2015-08-20</td>\n",
       "      <td>2</td>\n",
       "      <td>NaN</td>\n",
       "      <td>5.0</td>\n",
       "      <td>34.3</td>\n",
       "      <td>4</td>\n",
       "      <td>False</td>\n",
       "      <td>False</td>\n",
       "      <td>False</td>\n",
       "      <td>8.3</td>\n",
       "      <td>0.0</td>\n",
       "      <td>Санкт-Петербург</td>\n",
       "      <td>21741.0</td>\n",
       "      <td>13933.0</td>\n",
       "      <td>1.0</td>\n",
       "      <td>90.0</td>\n",
       "      <td>2.0</td>\n",
       "      <td>574.0</td>\n",
       "      <td>558.0</td>\n",
       "      <td>&gt;40</td>\n",
       "      <td>92785.714286</td>\n",
       "    </tr>\n",
       "    <tr>\n",
       "      <th>3</th>\n",
       "      <td>0</td>\n",
       "      <td>64900000.0</td>\n",
       "      <td>159.0</td>\n",
       "      <td>2015-07-24</td>\n",
       "      <td>3</td>\n",
       "      <td>NaN</td>\n",
       "      <td>14.0</td>\n",
       "      <td>72.2</td>\n",
       "      <td>9</td>\n",
       "      <td>False</td>\n",
       "      <td>False</td>\n",
       "      <td>False</td>\n",
       "      <td>16.0</td>\n",
       "      <td>0.0</td>\n",
       "      <td>Санкт-Петербург</td>\n",
       "      <td>28098.0</td>\n",
       "      <td>6800.0</td>\n",
       "      <td>2.0</td>\n",
       "      <td>84.0</td>\n",
       "      <td>3.0</td>\n",
       "      <td>234.0</td>\n",
       "      <td>424.0</td>\n",
       "      <td>&gt;100</td>\n",
       "      <td>408176.100629</td>\n",
       "    </tr>\n",
       "    <tr>\n",
       "      <th>4</th>\n",
       "      <td>2</td>\n",
       "      <td>10000000.0</td>\n",
       "      <td>100.0</td>\n",
       "      <td>2018-06-19</td>\n",
       "      <td>2</td>\n",
       "      <td>3.03</td>\n",
       "      <td>14.0</td>\n",
       "      <td>32.0</td>\n",
       "      <td>13</td>\n",
       "      <td>False</td>\n",
       "      <td>False</td>\n",
       "      <td>False</td>\n",
       "      <td>41.0</td>\n",
       "      <td>0.0</td>\n",
       "      <td>Санкт-Петербург</td>\n",
       "      <td>31856.0</td>\n",
       "      <td>8098.0</td>\n",
       "      <td>2.0</td>\n",
       "      <td>112.0</td>\n",
       "      <td>1.0</td>\n",
       "      <td>48.0</td>\n",
       "      <td>121.0</td>\n",
       "      <td>&gt;65</td>\n",
       "      <td>100000.000000</td>\n",
       "    </tr>\n",
       "  </tbody>\n",
       "</table>\n",
       "</div>"
      ],
      "text/plain": [
       "   total_images  last_price  total_area first_day_exposition  rooms  \\\n",
       "0            20  13000000.0       108.0           2019-03-07      3   \n",
       "1             7   3350000.0        40.4           2018-12-04      1   \n",
       "2            10   5196000.0        56.0           2015-08-20      2   \n",
       "3             0  64900000.0       159.0           2015-07-24      3   \n",
       "4             2  10000000.0       100.0           2018-06-19      2   \n",
       "\n",
       "   ceiling_height  floors_total  living_area  floor  is_apartment  studio  \\\n",
       "0            2.70          16.0         51.0      8         False   False   \n",
       "1             NaN          11.0         18.6      1         False   False   \n",
       "2             NaN           5.0         34.3      4         False   False   \n",
       "3             NaN          14.0         72.2      9         False   False   \n",
       "4            3.03          14.0         32.0     13         False   False   \n",
       "\n",
       "   open_plan  kitchen_area  balcony    locality_name  airports_nearest  \\\n",
       "0      False          25.0      0.0  Санкт-Петербург           18863.0   \n",
       "1      False          11.0      2.0   поселок Шушары           12817.0   \n",
       "2      False           8.3      0.0  Санкт-Петербург           21741.0   \n",
       "3      False          16.0      0.0  Санкт-Петербург           28098.0   \n",
       "4      False          41.0      0.0  Санкт-Петербург           31856.0   \n",
       "\n",
       "   city_сenters_nearest  parks_around3000  parks_nearest  ponds_around3000  \\\n",
       "0               16028.0               1.0          482.0               2.0   \n",
       "1               18603.0               0.0            NaN               0.0   \n",
       "2               13933.0               1.0           90.0               2.0   \n",
       "3                6800.0               2.0           84.0               3.0   \n",
       "4                8098.0               2.0          112.0               1.0   \n",
       "\n",
       "   ponds_nearest  days_exposition total_area_category     price_metr  \n",
       "0          755.0              NaN                >100  120370.370370  \n",
       "1            NaN             81.0                 >40   82920.792079  \n",
       "2          574.0            558.0                 >40   92785.714286  \n",
       "3          234.0            424.0                >100  408176.100629  \n",
       "4           48.0            121.0                 >65  100000.000000  "
      ]
     },
     "execution_count": 48,
     "metadata": {},
     "output_type": "execute_result"
    }
   ],
   "source": [
    "data['price_metr'] = data.apply(price_metr, axis=1)\n",
    "data.head()"
   ]
  },
  {
   "cell_type": "markdown",
   "id": "65ec7d5e",
   "metadata": {},
   "source": [
    "Добавим в таблицу столбцы с информацией о дне недели, месяце и годе публикации объявления"
   ]
  },
  {
   "cell_type": "code",
   "execution_count": 49,
   "id": "b13a8e6b",
   "metadata": {},
   "outputs": [
    {
     "data": {
      "text/html": [
       "<div>\n",
       "<style scoped>\n",
       "    .dataframe tbody tr th:only-of-type {\n",
       "        vertical-align: middle;\n",
       "    }\n",
       "\n",
       "    .dataframe tbody tr th {\n",
       "        vertical-align: top;\n",
       "    }\n",
       "\n",
       "    .dataframe thead th {\n",
       "        text-align: right;\n",
       "    }\n",
       "</style>\n",
       "<table border=\"1\" class=\"dataframe\">\n",
       "  <thead>\n",
       "    <tr style=\"text-align: right;\">\n",
       "      <th></th>\n",
       "      <th>total_images</th>\n",
       "      <th>last_price</th>\n",
       "      <th>total_area</th>\n",
       "      <th>first_day_exposition</th>\n",
       "      <th>rooms</th>\n",
       "      <th>ceiling_height</th>\n",
       "      <th>floors_total</th>\n",
       "      <th>living_area</th>\n",
       "      <th>floor</th>\n",
       "      <th>is_apartment</th>\n",
       "      <th>studio</th>\n",
       "      <th>open_plan</th>\n",
       "      <th>kitchen_area</th>\n",
       "      <th>balcony</th>\n",
       "      <th>locality_name</th>\n",
       "      <th>airports_nearest</th>\n",
       "      <th>city_сenters_nearest</th>\n",
       "      <th>parks_around3000</th>\n",
       "      <th>parks_nearest</th>\n",
       "      <th>ponds_around3000</th>\n",
       "      <th>ponds_nearest</th>\n",
       "      <th>days_exposition</th>\n",
       "      <th>total_area_category</th>\n",
       "      <th>price_metr</th>\n",
       "      <th>weekday_exposition</th>\n",
       "      <th>month_exposition</th>\n",
       "      <th>year_exposition</th>\n",
       "    </tr>\n",
       "  </thead>\n",
       "  <tbody>\n",
       "    <tr>\n",
       "      <th>0</th>\n",
       "      <td>20</td>\n",
       "      <td>13000000.0</td>\n",
       "      <td>108.0</td>\n",
       "      <td>2019-03-07</td>\n",
       "      <td>3</td>\n",
       "      <td>2.70</td>\n",
       "      <td>16.0</td>\n",
       "      <td>51.0</td>\n",
       "      <td>8</td>\n",
       "      <td>False</td>\n",
       "      <td>False</td>\n",
       "      <td>False</td>\n",
       "      <td>25.0</td>\n",
       "      <td>0.0</td>\n",
       "      <td>Санкт-Петербург</td>\n",
       "      <td>18863.0</td>\n",
       "      <td>16028.0</td>\n",
       "      <td>1.0</td>\n",
       "      <td>482.0</td>\n",
       "      <td>2.0</td>\n",
       "      <td>755.0</td>\n",
       "      <td>NaN</td>\n",
       "      <td>&gt;100</td>\n",
       "      <td>120370.370370</td>\n",
       "      <td>3</td>\n",
       "      <td>3</td>\n",
       "      <td>2019</td>\n",
       "    </tr>\n",
       "    <tr>\n",
       "      <th>1</th>\n",
       "      <td>7</td>\n",
       "      <td>3350000.0</td>\n",
       "      <td>40.4</td>\n",
       "      <td>2018-12-04</td>\n",
       "      <td>1</td>\n",
       "      <td>NaN</td>\n",
       "      <td>11.0</td>\n",
       "      <td>18.6</td>\n",
       "      <td>1</td>\n",
       "      <td>False</td>\n",
       "      <td>False</td>\n",
       "      <td>False</td>\n",
       "      <td>11.0</td>\n",
       "      <td>2.0</td>\n",
       "      <td>поселок Шушары</td>\n",
       "      <td>12817.0</td>\n",
       "      <td>18603.0</td>\n",
       "      <td>0.0</td>\n",
       "      <td>NaN</td>\n",
       "      <td>0.0</td>\n",
       "      <td>NaN</td>\n",
       "      <td>81.0</td>\n",
       "      <td>&gt;40</td>\n",
       "      <td>82920.792079</td>\n",
       "      <td>1</td>\n",
       "      <td>12</td>\n",
       "      <td>2018</td>\n",
       "    </tr>\n",
       "    <tr>\n",
       "      <th>2</th>\n",
       "      <td>10</td>\n",
       "      <td>5196000.0</td>\n",
       "      <td>56.0</td>\n",
       "      <td>2015-08-20</td>\n",
       "      <td>2</td>\n",
       "      <td>NaN</td>\n",
       "      <td>5.0</td>\n",
       "      <td>34.3</td>\n",
       "      <td>4</td>\n",
       "      <td>False</td>\n",
       "      <td>False</td>\n",
       "      <td>False</td>\n",
       "      <td>8.3</td>\n",
       "      <td>0.0</td>\n",
       "      <td>Санкт-Петербург</td>\n",
       "      <td>21741.0</td>\n",
       "      <td>13933.0</td>\n",
       "      <td>1.0</td>\n",
       "      <td>90.0</td>\n",
       "      <td>2.0</td>\n",
       "      <td>574.0</td>\n",
       "      <td>558.0</td>\n",
       "      <td>&gt;40</td>\n",
       "      <td>92785.714286</td>\n",
       "      <td>3</td>\n",
       "      <td>8</td>\n",
       "      <td>2015</td>\n",
       "    </tr>\n",
       "    <tr>\n",
       "      <th>3</th>\n",
       "      <td>0</td>\n",
       "      <td>64900000.0</td>\n",
       "      <td>159.0</td>\n",
       "      <td>2015-07-24</td>\n",
       "      <td>3</td>\n",
       "      <td>NaN</td>\n",
       "      <td>14.0</td>\n",
       "      <td>72.2</td>\n",
       "      <td>9</td>\n",
       "      <td>False</td>\n",
       "      <td>False</td>\n",
       "      <td>False</td>\n",
       "      <td>16.0</td>\n",
       "      <td>0.0</td>\n",
       "      <td>Санкт-Петербург</td>\n",
       "      <td>28098.0</td>\n",
       "      <td>6800.0</td>\n",
       "      <td>2.0</td>\n",
       "      <td>84.0</td>\n",
       "      <td>3.0</td>\n",
       "      <td>234.0</td>\n",
       "      <td>424.0</td>\n",
       "      <td>&gt;100</td>\n",
       "      <td>408176.100629</td>\n",
       "      <td>4</td>\n",
       "      <td>7</td>\n",
       "      <td>2015</td>\n",
       "    </tr>\n",
       "    <tr>\n",
       "      <th>4</th>\n",
       "      <td>2</td>\n",
       "      <td>10000000.0</td>\n",
       "      <td>100.0</td>\n",
       "      <td>2018-06-19</td>\n",
       "      <td>2</td>\n",
       "      <td>3.03</td>\n",
       "      <td>14.0</td>\n",
       "      <td>32.0</td>\n",
       "      <td>13</td>\n",
       "      <td>False</td>\n",
       "      <td>False</td>\n",
       "      <td>False</td>\n",
       "      <td>41.0</td>\n",
       "      <td>0.0</td>\n",
       "      <td>Санкт-Петербург</td>\n",
       "      <td>31856.0</td>\n",
       "      <td>8098.0</td>\n",
       "      <td>2.0</td>\n",
       "      <td>112.0</td>\n",
       "      <td>1.0</td>\n",
       "      <td>48.0</td>\n",
       "      <td>121.0</td>\n",
       "      <td>&gt;65</td>\n",
       "      <td>100000.000000</td>\n",
       "      <td>1</td>\n",
       "      <td>6</td>\n",
       "      <td>2018</td>\n",
       "    </tr>\n",
       "  </tbody>\n",
       "</table>\n",
       "</div>"
      ],
      "text/plain": [
       "   total_images  last_price  total_area first_day_exposition  rooms  \\\n",
       "0            20  13000000.0       108.0           2019-03-07      3   \n",
       "1             7   3350000.0        40.4           2018-12-04      1   \n",
       "2            10   5196000.0        56.0           2015-08-20      2   \n",
       "3             0  64900000.0       159.0           2015-07-24      3   \n",
       "4             2  10000000.0       100.0           2018-06-19      2   \n",
       "\n",
       "   ceiling_height  floors_total  living_area  floor  is_apartment  studio  \\\n",
       "0            2.70          16.0         51.0      8         False   False   \n",
       "1             NaN          11.0         18.6      1         False   False   \n",
       "2             NaN           5.0         34.3      4         False   False   \n",
       "3             NaN          14.0         72.2      9         False   False   \n",
       "4            3.03          14.0         32.0     13         False   False   \n",
       "\n",
       "   open_plan  kitchen_area  balcony    locality_name  airports_nearest  \\\n",
       "0      False          25.0      0.0  Санкт-Петербург           18863.0   \n",
       "1      False          11.0      2.0   поселок Шушары           12817.0   \n",
       "2      False           8.3      0.0  Санкт-Петербург           21741.0   \n",
       "3      False          16.0      0.0  Санкт-Петербург           28098.0   \n",
       "4      False          41.0      0.0  Санкт-Петербург           31856.0   \n",
       "\n",
       "   city_сenters_nearest  parks_around3000  parks_nearest  ponds_around3000  \\\n",
       "0               16028.0               1.0          482.0               2.0   \n",
       "1               18603.0               0.0            NaN               0.0   \n",
       "2               13933.0               1.0           90.0               2.0   \n",
       "3                6800.0               2.0           84.0               3.0   \n",
       "4                8098.0               2.0          112.0               1.0   \n",
       "\n",
       "   ponds_nearest  days_exposition total_area_category     price_metr  \\\n",
       "0          755.0              NaN                >100  120370.370370   \n",
       "1            NaN             81.0                 >40   82920.792079   \n",
       "2          574.0            558.0                 >40   92785.714286   \n",
       "3          234.0            424.0                >100  408176.100629   \n",
       "4           48.0            121.0                 >65  100000.000000   \n",
       "\n",
       "   weekday_exposition  month_exposition  year_exposition  \n",
       "0                   3                 3             2019  \n",
       "1                   1                12             2018  \n",
       "2                   3                 8             2015  \n",
       "3                   4                 7             2015  \n",
       "4                   1                 6             2018  "
      ]
     },
     "execution_count": 49,
     "metadata": {},
     "output_type": "execute_result"
    }
   ],
   "source": [
    "data['weekday_exposition'] = data['first_day_exposition'].dt.weekday\n",
    "data['month_exposition'] = data['first_day_exposition'].dt.month\n",
    "data['year_exposition'] = data['first_day_exposition'].dt.year\n",
    "data.head()"
   ]
  },
  {
   "cell_type": "markdown",
   "id": "507c4610",
   "metadata": {},
   "source": [
    "Добавим в таблицу столбец с информацией об этажах квартиры: варианты — первый, последний, другой\n"
   ]
  },
  {
   "cell_type": "markdown",
   "id": "deaa03bc",
   "metadata": {},
   "source": [
    " Для этого напишем функцию.\n"
   ]
  },
  {
   "cell_type": "code",
   "execution_count": 50,
   "id": "d6f54380",
   "metadata": {},
   "outputs": [
    {
     "data": {
      "text/plain": [
       "'другой'"
      ]
     },
     "execution_count": 50,
     "metadata": {},
     "output_type": "execute_result"
    }
   ],
   "source": [
    "def floors_category(row):\n",
    "    floor = row['floor']\n",
    "    end_floor = row['floors_total']\n",
    "    if floor == 1:\n",
    "        return 'первый'\n",
    "    if floor == end_floor:\n",
    "        return 'последний'\n",
    "    else:\n",
    "        return 'другой'\n",
    "\n",
    "row = pd.Series(data= [2, 10], index= ['floor', 'floors_total'])\n",
    "floors_category(row)"
   ]
  },
  {
   "cell_type": "markdown",
   "metadata": {},
   "source": [
    "Добавим в таблицу столбец floors_category"
   ]
  },
  {
   "cell_type": "code",
   "execution_count": 51,
   "id": "2c627790",
   "metadata": {},
   "outputs": [
    {
     "data": {
      "text/html": [
       "<div>\n",
       "<style scoped>\n",
       "    .dataframe tbody tr th:only-of-type {\n",
       "        vertical-align: middle;\n",
       "    }\n",
       "\n",
       "    .dataframe tbody tr th {\n",
       "        vertical-align: top;\n",
       "    }\n",
       "\n",
       "    .dataframe thead th {\n",
       "        text-align: right;\n",
       "    }\n",
       "</style>\n",
       "<table border=\"1\" class=\"dataframe\">\n",
       "  <thead>\n",
       "    <tr style=\"text-align: right;\">\n",
       "      <th></th>\n",
       "      <th>total_images</th>\n",
       "      <th>last_price</th>\n",
       "      <th>total_area</th>\n",
       "      <th>first_day_exposition</th>\n",
       "      <th>rooms</th>\n",
       "      <th>ceiling_height</th>\n",
       "      <th>floors_total</th>\n",
       "      <th>living_area</th>\n",
       "      <th>floor</th>\n",
       "      <th>is_apartment</th>\n",
       "      <th>studio</th>\n",
       "      <th>open_plan</th>\n",
       "      <th>kitchen_area</th>\n",
       "      <th>balcony</th>\n",
       "      <th>locality_name</th>\n",
       "      <th>airports_nearest</th>\n",
       "      <th>city_сenters_nearest</th>\n",
       "      <th>parks_around3000</th>\n",
       "      <th>parks_nearest</th>\n",
       "      <th>ponds_around3000</th>\n",
       "      <th>ponds_nearest</th>\n",
       "      <th>days_exposition</th>\n",
       "      <th>total_area_category</th>\n",
       "      <th>price_metr</th>\n",
       "      <th>weekday_exposition</th>\n",
       "      <th>month_exposition</th>\n",
       "      <th>year_exposition</th>\n",
       "      <th>floors_category</th>\n",
       "    </tr>\n",
       "  </thead>\n",
       "  <tbody>\n",
       "    <tr>\n",
       "      <th>0</th>\n",
       "      <td>20</td>\n",
       "      <td>13000000.0</td>\n",
       "      <td>108.0</td>\n",
       "      <td>2019-03-07</td>\n",
       "      <td>3</td>\n",
       "      <td>2.70</td>\n",
       "      <td>16.0</td>\n",
       "      <td>51.0</td>\n",
       "      <td>8</td>\n",
       "      <td>False</td>\n",
       "      <td>False</td>\n",
       "      <td>False</td>\n",
       "      <td>25.0</td>\n",
       "      <td>0.0</td>\n",
       "      <td>Санкт-Петербург</td>\n",
       "      <td>18863.0</td>\n",
       "      <td>16028.0</td>\n",
       "      <td>1.0</td>\n",
       "      <td>482.0</td>\n",
       "      <td>2.0</td>\n",
       "      <td>755.0</td>\n",
       "      <td>NaN</td>\n",
       "      <td>&gt;100</td>\n",
       "      <td>120370.370370</td>\n",
       "      <td>3</td>\n",
       "      <td>3</td>\n",
       "      <td>2019</td>\n",
       "      <td>другой</td>\n",
       "    </tr>\n",
       "    <tr>\n",
       "      <th>1</th>\n",
       "      <td>7</td>\n",
       "      <td>3350000.0</td>\n",
       "      <td>40.4</td>\n",
       "      <td>2018-12-04</td>\n",
       "      <td>1</td>\n",
       "      <td>NaN</td>\n",
       "      <td>11.0</td>\n",
       "      <td>18.6</td>\n",
       "      <td>1</td>\n",
       "      <td>False</td>\n",
       "      <td>False</td>\n",
       "      <td>False</td>\n",
       "      <td>11.0</td>\n",
       "      <td>2.0</td>\n",
       "      <td>поселок Шушары</td>\n",
       "      <td>12817.0</td>\n",
       "      <td>18603.0</td>\n",
       "      <td>0.0</td>\n",
       "      <td>NaN</td>\n",
       "      <td>0.0</td>\n",
       "      <td>NaN</td>\n",
       "      <td>81.0</td>\n",
       "      <td>&gt;40</td>\n",
       "      <td>82920.792079</td>\n",
       "      <td>1</td>\n",
       "      <td>12</td>\n",
       "      <td>2018</td>\n",
       "      <td>первый</td>\n",
       "    </tr>\n",
       "    <tr>\n",
       "      <th>2</th>\n",
       "      <td>10</td>\n",
       "      <td>5196000.0</td>\n",
       "      <td>56.0</td>\n",
       "      <td>2015-08-20</td>\n",
       "      <td>2</td>\n",
       "      <td>NaN</td>\n",
       "      <td>5.0</td>\n",
       "      <td>34.3</td>\n",
       "      <td>4</td>\n",
       "      <td>False</td>\n",
       "      <td>False</td>\n",
       "      <td>False</td>\n",
       "      <td>8.3</td>\n",
       "      <td>0.0</td>\n",
       "      <td>Санкт-Петербург</td>\n",
       "      <td>21741.0</td>\n",
       "      <td>13933.0</td>\n",
       "      <td>1.0</td>\n",
       "      <td>90.0</td>\n",
       "      <td>2.0</td>\n",
       "      <td>574.0</td>\n",
       "      <td>558.0</td>\n",
       "      <td>&gt;40</td>\n",
       "      <td>92785.714286</td>\n",
       "      <td>3</td>\n",
       "      <td>8</td>\n",
       "      <td>2015</td>\n",
       "      <td>другой</td>\n",
       "    </tr>\n",
       "    <tr>\n",
       "      <th>3</th>\n",
       "      <td>0</td>\n",
       "      <td>64900000.0</td>\n",
       "      <td>159.0</td>\n",
       "      <td>2015-07-24</td>\n",
       "      <td>3</td>\n",
       "      <td>NaN</td>\n",
       "      <td>14.0</td>\n",
       "      <td>72.2</td>\n",
       "      <td>9</td>\n",
       "      <td>False</td>\n",
       "      <td>False</td>\n",
       "      <td>False</td>\n",
       "      <td>16.0</td>\n",
       "      <td>0.0</td>\n",
       "      <td>Санкт-Петербург</td>\n",
       "      <td>28098.0</td>\n",
       "      <td>6800.0</td>\n",
       "      <td>2.0</td>\n",
       "      <td>84.0</td>\n",
       "      <td>3.0</td>\n",
       "      <td>234.0</td>\n",
       "      <td>424.0</td>\n",
       "      <td>&gt;100</td>\n",
       "      <td>408176.100629</td>\n",
       "      <td>4</td>\n",
       "      <td>7</td>\n",
       "      <td>2015</td>\n",
       "      <td>другой</td>\n",
       "    </tr>\n",
       "    <tr>\n",
       "      <th>4</th>\n",
       "      <td>2</td>\n",
       "      <td>10000000.0</td>\n",
       "      <td>100.0</td>\n",
       "      <td>2018-06-19</td>\n",
       "      <td>2</td>\n",
       "      <td>3.03</td>\n",
       "      <td>14.0</td>\n",
       "      <td>32.0</td>\n",
       "      <td>13</td>\n",
       "      <td>False</td>\n",
       "      <td>False</td>\n",
       "      <td>False</td>\n",
       "      <td>41.0</td>\n",
       "      <td>0.0</td>\n",
       "      <td>Санкт-Петербург</td>\n",
       "      <td>31856.0</td>\n",
       "      <td>8098.0</td>\n",
       "      <td>2.0</td>\n",
       "      <td>112.0</td>\n",
       "      <td>1.0</td>\n",
       "      <td>48.0</td>\n",
       "      <td>121.0</td>\n",
       "      <td>&gt;65</td>\n",
       "      <td>100000.000000</td>\n",
       "      <td>1</td>\n",
       "      <td>6</td>\n",
       "      <td>2018</td>\n",
       "      <td>другой</td>\n",
       "    </tr>\n",
       "  </tbody>\n",
       "</table>\n",
       "</div>"
      ],
      "text/plain": [
       "   total_images  last_price  total_area first_day_exposition  rooms  \\\n",
       "0            20  13000000.0       108.0           2019-03-07      3   \n",
       "1             7   3350000.0        40.4           2018-12-04      1   \n",
       "2            10   5196000.0        56.0           2015-08-20      2   \n",
       "3             0  64900000.0       159.0           2015-07-24      3   \n",
       "4             2  10000000.0       100.0           2018-06-19      2   \n",
       "\n",
       "   ceiling_height  floors_total  living_area  floor  is_apartment  studio  \\\n",
       "0            2.70          16.0         51.0      8         False   False   \n",
       "1             NaN          11.0         18.6      1         False   False   \n",
       "2             NaN           5.0         34.3      4         False   False   \n",
       "3             NaN          14.0         72.2      9         False   False   \n",
       "4            3.03          14.0         32.0     13         False   False   \n",
       "\n",
       "   open_plan  kitchen_area  balcony    locality_name  airports_nearest  \\\n",
       "0      False          25.0      0.0  Санкт-Петербург           18863.0   \n",
       "1      False          11.0      2.0   поселок Шушары           12817.0   \n",
       "2      False           8.3      0.0  Санкт-Петербург           21741.0   \n",
       "3      False          16.0      0.0  Санкт-Петербург           28098.0   \n",
       "4      False          41.0      0.0  Санкт-Петербург           31856.0   \n",
       "\n",
       "   city_сenters_nearest  parks_around3000  parks_nearest  ponds_around3000  \\\n",
       "0               16028.0               1.0          482.0               2.0   \n",
       "1               18603.0               0.0            NaN               0.0   \n",
       "2               13933.0               1.0           90.0               2.0   \n",
       "3                6800.0               2.0           84.0               3.0   \n",
       "4                8098.0               2.0          112.0               1.0   \n",
       "\n",
       "   ponds_nearest  days_exposition total_area_category     price_metr  \\\n",
       "0          755.0              NaN                >100  120370.370370   \n",
       "1            NaN             81.0                 >40   82920.792079   \n",
       "2          574.0            558.0                 >40   92785.714286   \n",
       "3          234.0            424.0                >100  408176.100629   \n",
       "4           48.0            121.0                 >65  100000.000000   \n",
       "\n",
       "   weekday_exposition  month_exposition  year_exposition floors_category  \n",
       "0                   3                 3             2019          другой  \n",
       "1                   1                12             2018          первый  \n",
       "2                   3                 8             2015          другой  \n",
       "3                   4                 7             2015          другой  \n",
       "4                   1                 6             2018          другой  "
      ]
     },
     "execution_count": 51,
     "metadata": {},
     "output_type": "execute_result"
    }
   ],
   "source": [
    "data['floors_category'] = data.apply(floors_category, axis=1)\n",
    "data.head()"
   ]
  },
  {
   "cell_type": "markdown",
   "id": "639a4b5f",
   "metadata": {},
   "source": [
    "Добавим в таблицу столбцы с информацией о соотношении жилой и общей площади, а также отношении площади кухни к общей."
   ]
  },
  {
   "cell_type": "code",
   "execution_count": 52,
   "id": "6ce61067",
   "metadata": {},
   "outputs": [
    {
     "data": {
      "text/html": [
       "<div>\n",
       "<style scoped>\n",
       "    .dataframe tbody tr th:only-of-type {\n",
       "        vertical-align: middle;\n",
       "    }\n",
       "\n",
       "    .dataframe tbody tr th {\n",
       "        vertical-align: top;\n",
       "    }\n",
       "\n",
       "    .dataframe thead th {\n",
       "        text-align: right;\n",
       "    }\n",
       "</style>\n",
       "<table border=\"1\" class=\"dataframe\">\n",
       "  <thead>\n",
       "    <tr style=\"text-align: right;\">\n",
       "      <th></th>\n",
       "      <th>total_images</th>\n",
       "      <th>last_price</th>\n",
       "      <th>total_area</th>\n",
       "      <th>first_day_exposition</th>\n",
       "      <th>rooms</th>\n",
       "      <th>ceiling_height</th>\n",
       "      <th>floors_total</th>\n",
       "      <th>living_area</th>\n",
       "      <th>floor</th>\n",
       "      <th>is_apartment</th>\n",
       "      <th>studio</th>\n",
       "      <th>open_plan</th>\n",
       "      <th>kitchen_area</th>\n",
       "      <th>balcony</th>\n",
       "      <th>locality_name</th>\n",
       "      <th>airports_nearest</th>\n",
       "      <th>city_сenters_nearest</th>\n",
       "      <th>parks_around3000</th>\n",
       "      <th>parks_nearest</th>\n",
       "      <th>ponds_around3000</th>\n",
       "      <th>ponds_nearest</th>\n",
       "      <th>days_exposition</th>\n",
       "      <th>total_area_category</th>\n",
       "      <th>price_metr</th>\n",
       "      <th>weekday_exposition</th>\n",
       "      <th>month_exposition</th>\n",
       "      <th>year_exposition</th>\n",
       "      <th>floors_category</th>\n",
       "      <th>ratio_living_area</th>\n",
       "      <th>ratio_kitchen_area</th>\n",
       "    </tr>\n",
       "  </thead>\n",
       "  <tbody>\n",
       "    <tr>\n",
       "      <th>0</th>\n",
       "      <td>20</td>\n",
       "      <td>13000000.0</td>\n",
       "      <td>108.0</td>\n",
       "      <td>2019-03-07</td>\n",
       "      <td>3</td>\n",
       "      <td>2.70</td>\n",
       "      <td>16.0</td>\n",
       "      <td>51.0</td>\n",
       "      <td>8</td>\n",
       "      <td>False</td>\n",
       "      <td>False</td>\n",
       "      <td>False</td>\n",
       "      <td>25.0</td>\n",
       "      <td>0.0</td>\n",
       "      <td>Санкт-Петербург</td>\n",
       "      <td>18863.0</td>\n",
       "      <td>16028.0</td>\n",
       "      <td>1.0</td>\n",
       "      <td>482.0</td>\n",
       "      <td>2.0</td>\n",
       "      <td>755.0</td>\n",
       "      <td>NaN</td>\n",
       "      <td>&gt;100</td>\n",
       "      <td>120370.370370</td>\n",
       "      <td>3</td>\n",
       "      <td>3</td>\n",
       "      <td>2019</td>\n",
       "      <td>другой</td>\n",
       "      <td>0.472222</td>\n",
       "      <td>0.231481</td>\n",
       "    </tr>\n",
       "    <tr>\n",
       "      <th>1</th>\n",
       "      <td>7</td>\n",
       "      <td>3350000.0</td>\n",
       "      <td>40.4</td>\n",
       "      <td>2018-12-04</td>\n",
       "      <td>1</td>\n",
       "      <td>NaN</td>\n",
       "      <td>11.0</td>\n",
       "      <td>18.6</td>\n",
       "      <td>1</td>\n",
       "      <td>False</td>\n",
       "      <td>False</td>\n",
       "      <td>False</td>\n",
       "      <td>11.0</td>\n",
       "      <td>2.0</td>\n",
       "      <td>поселок Шушары</td>\n",
       "      <td>12817.0</td>\n",
       "      <td>18603.0</td>\n",
       "      <td>0.0</td>\n",
       "      <td>NaN</td>\n",
       "      <td>0.0</td>\n",
       "      <td>NaN</td>\n",
       "      <td>81.0</td>\n",
       "      <td>&gt;40</td>\n",
       "      <td>82920.792079</td>\n",
       "      <td>1</td>\n",
       "      <td>12</td>\n",
       "      <td>2018</td>\n",
       "      <td>первый</td>\n",
       "      <td>0.460396</td>\n",
       "      <td>0.272277</td>\n",
       "    </tr>\n",
       "    <tr>\n",
       "      <th>2</th>\n",
       "      <td>10</td>\n",
       "      <td>5196000.0</td>\n",
       "      <td>56.0</td>\n",
       "      <td>2015-08-20</td>\n",
       "      <td>2</td>\n",
       "      <td>NaN</td>\n",
       "      <td>5.0</td>\n",
       "      <td>34.3</td>\n",
       "      <td>4</td>\n",
       "      <td>False</td>\n",
       "      <td>False</td>\n",
       "      <td>False</td>\n",
       "      <td>8.3</td>\n",
       "      <td>0.0</td>\n",
       "      <td>Санкт-Петербург</td>\n",
       "      <td>21741.0</td>\n",
       "      <td>13933.0</td>\n",
       "      <td>1.0</td>\n",
       "      <td>90.0</td>\n",
       "      <td>2.0</td>\n",
       "      <td>574.0</td>\n",
       "      <td>558.0</td>\n",
       "      <td>&gt;40</td>\n",
       "      <td>92785.714286</td>\n",
       "      <td>3</td>\n",
       "      <td>8</td>\n",
       "      <td>2015</td>\n",
       "      <td>другой</td>\n",
       "      <td>0.612500</td>\n",
       "      <td>0.148214</td>\n",
       "    </tr>\n",
       "    <tr>\n",
       "      <th>3</th>\n",
       "      <td>0</td>\n",
       "      <td>64900000.0</td>\n",
       "      <td>159.0</td>\n",
       "      <td>2015-07-24</td>\n",
       "      <td>3</td>\n",
       "      <td>NaN</td>\n",
       "      <td>14.0</td>\n",
       "      <td>72.2</td>\n",
       "      <td>9</td>\n",
       "      <td>False</td>\n",
       "      <td>False</td>\n",
       "      <td>False</td>\n",
       "      <td>16.0</td>\n",
       "      <td>0.0</td>\n",
       "      <td>Санкт-Петербург</td>\n",
       "      <td>28098.0</td>\n",
       "      <td>6800.0</td>\n",
       "      <td>2.0</td>\n",
       "      <td>84.0</td>\n",
       "      <td>3.0</td>\n",
       "      <td>234.0</td>\n",
       "      <td>424.0</td>\n",
       "      <td>&gt;100</td>\n",
       "      <td>408176.100629</td>\n",
       "      <td>4</td>\n",
       "      <td>7</td>\n",
       "      <td>2015</td>\n",
       "      <td>другой</td>\n",
       "      <td>0.454088</td>\n",
       "      <td>0.100629</td>\n",
       "    </tr>\n",
       "    <tr>\n",
       "      <th>4</th>\n",
       "      <td>2</td>\n",
       "      <td>10000000.0</td>\n",
       "      <td>100.0</td>\n",
       "      <td>2018-06-19</td>\n",
       "      <td>2</td>\n",
       "      <td>3.03</td>\n",
       "      <td>14.0</td>\n",
       "      <td>32.0</td>\n",
       "      <td>13</td>\n",
       "      <td>False</td>\n",
       "      <td>False</td>\n",
       "      <td>False</td>\n",
       "      <td>41.0</td>\n",
       "      <td>0.0</td>\n",
       "      <td>Санкт-Петербург</td>\n",
       "      <td>31856.0</td>\n",
       "      <td>8098.0</td>\n",
       "      <td>2.0</td>\n",
       "      <td>112.0</td>\n",
       "      <td>1.0</td>\n",
       "      <td>48.0</td>\n",
       "      <td>121.0</td>\n",
       "      <td>&gt;65</td>\n",
       "      <td>100000.000000</td>\n",
       "      <td>1</td>\n",
       "      <td>6</td>\n",
       "      <td>2018</td>\n",
       "      <td>другой</td>\n",
       "      <td>0.320000</td>\n",
       "      <td>0.410000</td>\n",
       "    </tr>\n",
       "  </tbody>\n",
       "</table>\n",
       "</div>"
      ],
      "text/plain": [
       "   total_images  last_price  total_area first_day_exposition  rooms  \\\n",
       "0            20  13000000.0       108.0           2019-03-07      3   \n",
       "1             7   3350000.0        40.4           2018-12-04      1   \n",
       "2            10   5196000.0        56.0           2015-08-20      2   \n",
       "3             0  64900000.0       159.0           2015-07-24      3   \n",
       "4             2  10000000.0       100.0           2018-06-19      2   \n",
       "\n",
       "   ceiling_height  floors_total  living_area  floor  is_apartment  studio  \\\n",
       "0            2.70          16.0         51.0      8         False   False   \n",
       "1             NaN          11.0         18.6      1         False   False   \n",
       "2             NaN           5.0         34.3      4         False   False   \n",
       "3             NaN          14.0         72.2      9         False   False   \n",
       "4            3.03          14.0         32.0     13         False   False   \n",
       "\n",
       "   open_plan  kitchen_area  balcony    locality_name  airports_nearest  \\\n",
       "0      False          25.0      0.0  Санкт-Петербург           18863.0   \n",
       "1      False          11.0      2.0   поселок Шушары           12817.0   \n",
       "2      False           8.3      0.0  Санкт-Петербург           21741.0   \n",
       "3      False          16.0      0.0  Санкт-Петербург           28098.0   \n",
       "4      False          41.0      0.0  Санкт-Петербург           31856.0   \n",
       "\n",
       "   city_сenters_nearest  parks_around3000  parks_nearest  ponds_around3000  \\\n",
       "0               16028.0               1.0          482.0               2.0   \n",
       "1               18603.0               0.0            NaN               0.0   \n",
       "2               13933.0               1.0           90.0               2.0   \n",
       "3                6800.0               2.0           84.0               3.0   \n",
       "4                8098.0               2.0          112.0               1.0   \n",
       "\n",
       "   ponds_nearest  days_exposition total_area_category     price_metr  \\\n",
       "0          755.0              NaN                >100  120370.370370   \n",
       "1            NaN             81.0                 >40   82920.792079   \n",
       "2          574.0            558.0                 >40   92785.714286   \n",
       "3          234.0            424.0                >100  408176.100629   \n",
       "4           48.0            121.0                 >65  100000.000000   \n",
       "\n",
       "   weekday_exposition  month_exposition  year_exposition floors_category  \\\n",
       "0                   3                 3             2019          другой   \n",
       "1                   1                12             2018          первый   \n",
       "2                   3                 8             2015          другой   \n",
       "3                   4                 7             2015          другой   \n",
       "4                   1                 6             2018          другой   \n",
       "\n",
       "   ratio_living_area  ratio_kitchen_area  \n",
       "0           0.472222            0.231481  \n",
       "1           0.460396            0.272277  \n",
       "2           0.612500            0.148214  \n",
       "3           0.454088            0.100629  \n",
       "4           0.320000            0.410000  "
      ]
     },
     "execution_count": 52,
     "metadata": {},
     "output_type": "execute_result"
    }
   ],
   "source": [
    "data['ratio_living_area'] = data['living_area'] / data['total_area']\n",
    "data['ratio_kitchen_area'] = data['kitchen_area'] / data['total_area']\n",
    "data.head()"
   ]
  },
  {
   "cell_type": "markdown",
   "metadata": {},
   "source": [
    "Выведем общую информацию после произведенных изменений."
   ]
  },
  {
   "cell_type": "code",
   "execution_count": 53,
   "id": "0e9964f1",
   "metadata": {
    "scrolled": true
   },
   "outputs": [
    {
     "name": "stdout",
     "output_type": "stream",
     "text": [
      "<class 'pandas.core.frame.DataFrame'>\n",
      "RangeIndex: 23699 entries, 0 to 23698\n",
      "Data columns (total 30 columns):\n",
      " #   Column                Non-Null Count  Dtype         \n",
      "---  ------                --------------  -----         \n",
      " 0   total_images          23699 non-null  int64         \n",
      " 1   last_price            23699 non-null  float64       \n",
      " 2   total_area            23699 non-null  float64       \n",
      " 3   first_day_exposition  23699 non-null  datetime64[ns]\n",
      " 4   rooms                 23699 non-null  int64         \n",
      " 5   ceiling_height        14504 non-null  float64       \n",
      " 6   floors_total          23613 non-null  float64       \n",
      " 7   living_area           23699 non-null  float64       \n",
      " 8   floor                 23699 non-null  int64         \n",
      " 9   is_apartment          23699 non-null  bool          \n",
      " 10  studio                23699 non-null  bool          \n",
      " 11  open_plan             23699 non-null  bool          \n",
      " 12  kitchen_area          23699 non-null  float64       \n",
      " 13  balcony               23699 non-null  float64       \n",
      " 14  locality_name         23650 non-null  object        \n",
      " 15  airports_nearest      18157 non-null  float64       \n",
      " 16  city_сenters_nearest  18180 non-null  float64       \n",
      " 17  parks_around3000      23699 non-null  float64       \n",
      " 18  parks_nearest         8079 non-null   float64       \n",
      " 19  ponds_around3000      23699 non-null  float64       \n",
      " 20  ponds_nearest         9110 non-null   float64       \n",
      " 21  days_exposition       20518 non-null  float64       \n",
      " 22  total_area_category   23699 non-null  object        \n",
      " 23  price_metr            23699 non-null  float64       \n",
      " 24  weekday_exposition    23699 non-null  int64         \n",
      " 25  month_exposition      23699 non-null  int64         \n",
      " 26  year_exposition       23699 non-null  int64         \n",
      " 27  floors_category       23699 non-null  object        \n",
      " 28  ratio_living_area     23699 non-null  float64       \n",
      " 29  ratio_kitchen_area    23699 non-null  float64       \n",
      "dtypes: bool(3), datetime64[ns](1), float64(17), int64(6), object(3)\n",
      "memory usage: 4.9+ MB\n"
     ]
    }
   ],
   "source": [
    "data.info()"
   ]
  },
  {
   "cell_type": "markdown",
   "metadata": {},
   "source": [
    "### Вывод"
   ]
  },
  {
   "cell_type": "markdown",
   "metadata": {},
   "source": [
    "В данном разделе в табдицу добавлены следующие значения: цена квадратного метра; день недели, месяц и год публикации объявления; этаж квартиры; варианты — первый, последний, другой; соотношение жилой и общей площади, а также отношение площади кухни к общей. "
   ]
  },
  {
   "cell_type": "markdown",
   "metadata": {},
   "source": [
    "## Исследовательский анализ данных"
   ]
  },
  {
   "cell_type": "markdown",
   "metadata": {},
   "source": [
    "### Изучение площади, цены, числа комнат, высоты потолков"
   ]
  },
  {
   "cell_type": "markdown",
   "id": "8b40f1c6",
   "metadata": {},
   "source": [
    "Изучим следующие параметры: площадь, цена, число комнат, высота потолков и постройте гистограммы для каждого параметра"
   ]
  },
  {
   "cell_type": "code",
   "execution_count": 54,
   "id": "b5a3b681",
   "metadata": {
    "scrolled": false
   },
   "outputs": [
    {
     "data": {
      "text/plain": [
       "<AxesSubplot:>"
      ]
     },
     "execution_count": 54,
     "metadata": {},
     "output_type": "execute_result"
    },
    {
     "data": {
      "image/png": "[encoded data removed]",
      "text/plain": [
       "<Figure size 432x288 with 1 Axes>"
      ]
     },
     "metadata": {
      "needs_background": "light"
     },
     "output_type": "display_data"
    }
   ],
   "source": [
    "# построим гистргамму для общей площади\n",
    "data['total_area'].hist(bins=20, range=(0, 400))"
   ]
  },
  {
   "cell_type": "code",
   "execution_count": 55,
   "id": "05cf67d8",
   "metadata": {
    "scrolled": true
   },
   "outputs": [
    {
     "data": {
      "text/plain": [
       "(12.0, 900.0)"
      ]
     },
     "execution_count": 55,
     "metadata": {},
     "output_type": "execute_result"
    }
   ],
   "source": [
    "# выведем минимальное и максимальное значения\n",
    "data['total_area'].min(), data['total_area'].max()"
   ]
  },
  {
   "cell_type": "code",
   "execution_count": 56,
   "id": "6660e97e",
   "metadata": {},
   "outputs": [
    {
     "data": {
      "text/plain": [
       "<AxesSubplot:>"
      ]
     },
     "execution_count": 56,
     "metadata": {},
     "output_type": "execute_result"
    },
    {
     "data": {
      "image/png": "[encoded data removed]",
      "text/plain": [
       "<Figure size 432x288 with 1 Axes>"
      ]
     },
     "metadata": {
      "needs_background": "light"
     },
     "output_type": "display_data"
    }
   ],
   "source": [
    "# построим диаграмму размаха\n",
    "plt.ylim(0, 200)\n",
    "data.boxplot('total_area')"
   ]
  },
  {
   "cell_type": "markdown",
   "metadata": {},
   "source": [
    "По построенным диаграммам видно, что после площади в 200 кв.м количесво объявлений очень низкое, также как и при малелькой площади до 20 кв.м. Медианное значение чуть более 50. Основное количество объявлений приходится на квартиры площадью от 25 до 75 кв.м"
   ]
  },
  {
   "cell_type": "code",
   "execution_count": 57,
   "id": "3cd972b4",
   "metadata": {
    "scrolled": false
   },
   "outputs": [
    {
     "data": {
      "text/plain": [
       "<AxesSubplot:>"
      ]
     },
     "execution_count": 57,
     "metadata": {},
     "output_type": "execute_result"
    },
    {
     "data": {
      "image/png": "[encoded data removed]",
      "text/plain": [
       "<Figure size 432x288 with 1 Axes>"
      ]
     },
     "metadata": {
      "needs_background": "light"
     },
     "output_type": "display_data"
    }
   ],
   "source": [
    "# построим гистргамму для цены на момент снятия с публикации\n",
    "data['last_price'].hist(bins=50, range=(0, 40000000))"
   ]
  },
  {
   "cell_type": "code",
   "execution_count": 58,
   "id": "3cd972b4",
   "metadata": {
    "scrolled": false
   },
   "outputs": [
    {
     "data": {
      "text/plain": [
       "<AxesSubplot:>"
      ]
     },
     "execution_count": 58,
     "metadata": {},
     "output_type": "execute_result"
    },
    {
     "data": {
      "image/png": "[encoded data removed]",
      "text/plain": [
       "<Figure size 432x288 with 1 Axes>"
      ]
     },
     "metadata": {
      "needs_background": "light"
     },
     "output_type": "display_data"
    }
   ],
   "source": [
    "# приблизим гистргамму \n",
    "data['last_price'].hist(bins=50, range=(0, 1000000))"
   ]
  },
  {
   "cell_type": "code",
   "execution_count": 59,
   "id": "690f2802",
   "metadata": {},
   "outputs": [
    {
     "data": {
      "text/plain": [
       "(12190.0, 763000000.0)"
      ]
     },
     "execution_count": 59,
     "metadata": {},
     "output_type": "execute_result"
    }
   ],
   "source": [
    "# выведем минимальное и максимальное значения\n",
    "data['last_price'].min(), data['last_price'].max()"
   ]
  },
  {
   "cell_type": "code",
   "execution_count": 60,
   "id": "6125c96b",
   "metadata": {},
   "outputs": [
    {
     "data": {
      "text/plain": [
       "<AxesSubplot:>"
      ]
     },
     "execution_count": 60,
     "metadata": {},
     "output_type": "execute_result"
    },
    {
     "data": {
      "image/png": "[encoded data removed]",
      "text/plain": [
       "<Figure size 432x288 with 1 Axes>"
      ]
     },
     "metadata": {
      "needs_background": "light"
     },
     "output_type": "display_data"
    }
   ],
   "source": [
    "# построим диаграмму размаха\n",
    "plt.ylim(0, 50000000)\n",
    "data.boxplot('last_price')"
   ]
  },
  {
   "cell_type": "markdown",
   "metadata": {},
   "source": [
    "По построенным диаграммам видно, что после цены в 4 млн. количесво объявлений очень низкое, также как и при малелькой цене до 1 млн. Цена в 12190 руб. явно не соответствует реальности. Медианное значение в районе 5 млн. Основное количество объявлений приходится на квартиры стоимостью от 3 до 8 млн."
   ]
  },
  {
   "cell_type": "code",
   "execution_count": 61,
   "id": "a3e55cec",
   "metadata": {
    "scrolled": true
   },
   "outputs": [
    {
     "data": {
      "text/plain": [
       "<AxesSubplot:>"
      ]
     },
     "execution_count": 61,
     "metadata": {},
     "output_type": "execute_result"
    },
    {
     "data": {
      "image/png": "[encoded data removed]",
      "text/plain": [
       "<Figure size 432x288 with 1 Axes>"
      ]
     },
     "metadata": {
      "needs_background": "light"
     },
     "output_type": "display_data"
    }
   ],
   "source": [
    "# построим гистргамму для количества комнат\n",
    "data['rooms'].hist(bins=12, range=(0, 10))"
   ]
  },
  {
   "cell_type": "code",
   "execution_count": 62,
   "id": "bbca57de",
   "metadata": {
    "scrolled": true
   },
   "outputs": [
    {
     "data": {
      "text/plain": [
       "(0, 19)"
      ]
     },
     "execution_count": 62,
     "metadata": {},
     "output_type": "execute_result"
    }
   ],
   "source": [
    "# выведем минимальное и максимальное значения\n",
    "data['rooms'].min(), data['rooms'].max()"
   ]
  },
  {
   "cell_type": "code",
   "execution_count": 63,
   "id": "c15ba56c",
   "metadata": {
    "scrolled": true
   },
   "outputs": [
    {
     "data": {
      "text/plain": [
       "<AxesSubplot:>"
      ]
     },
     "execution_count": 63,
     "metadata": {},
     "output_type": "execute_result"
    },
    {
     "data": {
      "image/png": "[encoded data removed]",
      "text/plain": [
       "<Figure size 432x288 with 1 Axes>"
      ]
     },
     "metadata": {
      "needs_background": "light"
     },
     "output_type": "display_data"
    }
   ],
   "source": [
    "# построим диаграмму размаха\n",
    "plt.ylim(0, 10)\n",
    "data.boxplot('rooms')"
   ]
  },
  {
   "cell_type": "markdown",
   "metadata": {},
   "source": [
    "По построенным диаграммам видно, что на квартиры с количесвом комнат более 4 объявлений значительно меньше, также как и при количестве комнат равном 0, что возможно если объявление о квартире студии. Медианное значение соответствует 2 комнатам. Основное количество объявлений приходится на квартиры с количеством комнат от 1 до 3."
   ]
  },
  {
   "cell_type": "code",
   "execution_count": 64,
   "id": "971c2c9f",
   "metadata": {
    "scrolled": true
   },
   "outputs": [
    {
     "data": {
      "text/plain": [
       "<AxesSubplot:>"
      ]
     },
     "execution_count": 64,
     "metadata": {},
     "output_type": "execute_result"
    },
    {
     "data": {
      "image/png": "[encoded data removed]",
      "text/plain": [
       "<Figure size 432x288 with 1 Axes>"
      ]
     },
     "metadata": {
      "needs_background": "light"
     },
     "output_type": "display_data"
    }
   ],
   "source": [
    "# построим гистргамму для высоты потолков\n",
    "data['ceiling_height'].hist(bins=30, range=(1, 5))"
   ]
  },
  {
   "cell_type": "code",
   "execution_count": 65,
   "id": "d919145a",
   "metadata": {
    "scrolled": true
   },
   "outputs": [
    {
     "data": {
      "text/plain": [
       "(1.0, 100.0)"
      ]
     },
     "execution_count": 65,
     "metadata": {},
     "output_type": "execute_result"
    }
   ],
   "source": [
    "# выведем минимальное и максимальное значения\n",
    "data['ceiling_height'].min(), data['ceiling_height'].max()"
   ]
  },
  {
   "cell_type": "code",
   "execution_count": 66,
   "id": "bcf457e8",
   "metadata": {},
   "outputs": [
    {
     "data": {
      "text/plain": [
       "<AxesSubplot:>"
      ]
     },
     "execution_count": 66,
     "metadata": {},
     "output_type": "execute_result"
    },
    {
     "data": {
      "image/png": "[encoded data removed]",
      "text/plain": [
       "<Figure size 432x288 with 1 Axes>"
      ]
     },
     "metadata": {
      "needs_background": "light"
     },
     "output_type": "display_data"
    }
   ],
   "source": [
    "# построим диаграмму размаха\n",
    "plt.ylim(0, 6)\n",
    "data.boxplot('ceiling_height')"
   ]
  },
  {
   "cell_type": "markdown",
   "metadata": {},
   "source": [
    "По построенным диаграммам видно, что на квартиры с высотой потолков более 3,5 м объявлений значительно меньше, также как и при высоте потолков до 2.5 м. Медианное значение в районе 2.7 м. Основное количество объявлений приходится на квартиры с высотой потолка  от 2,5 до 3 м."
   ]
  },
  {
   "cell_type": "markdown",
   "metadata": {},
   "source": [
    "### Изучение времени продажи квартиры"
   ]
  },
  {
   "cell_type": "markdown",
   "id": "17ba136e",
   "metadata": {},
   "source": [
    "Изучите время продажи квартиры. Постройте гистограмму. Посчитайте среднее и медиану. Опишите, сколько обычно занимает продажа. Когда можно считать, что продажи прошли очень быстро, а когда необычно долго"
   ]
  },
  {
   "cell_type": "code",
   "execution_count": 67,
   "id": "7f46b3ad",
   "metadata": {
    "scrolled": true
   },
   "outputs": [
    {
     "data": {
      "text/plain": [
       "<AxesSubplot:>"
      ]
     },
     "execution_count": 67,
     "metadata": {},
     "output_type": "execute_result"
    },
    {
     "data": {
      "image/png": "[encoded data removed]",
      "text/plain": [
       "<Figure size 432x288 with 1 Axes>"
      ]
     },
     "metadata": {
      "needs_background": "light"
     },
     "output_type": "display_data"
    }
   ],
   "source": [
    "# построим гистргамму для количества дней на которе было размещено объявление (от публикации до снятия)\n",
    "data['days_exposition'].hist(bins=100, range=(0,1500))"
   ]
  },
  {
   "cell_type": "code",
   "execution_count": 68,
   "metadata": {},
   "outputs": [
    {
     "data": {
      "text/plain": [
       "<AxesSubplot:>"
      ]
     },
     "execution_count": 68,
     "metadata": {},
     "output_type": "execute_result"
    },
    {
     "data": {
      "image/png": "[encoded data removed]",
      "text/plain": [
       "<Figure size 432x288 with 1 Axes>"
      ]
     },
     "metadata": {
      "needs_background": "light"
     },
     "output_type": "display_data"
    }
   ],
   "source": [
    "# рассмотрим данные поближе\n",
    "data['days_exposition'].hist(bins=100, range=(0,200))"
   ]
  },
  {
   "cell_type": "code",
   "execution_count": 69,
   "id": "16300b7e",
   "metadata": {},
   "outputs": [
    {
     "data": {
      "text/plain": [
       "<AxesSubplot:>"
      ]
     },
     "execution_count": 69,
     "metadata": {},
     "output_type": "execute_result"
    },
    {
     "data": {
      "image/png": "[encoded data removed]",
      "text/plain": [
       "<Figure size 432x288 with 1 Axes>"
      ]
     },
     "metadata": {
      "needs_background": "light"
     },
     "output_type": "display_data"
    }
   ],
   "source": [
    "# рассмотрим данные поближе\n",
    "data['days_exposition'].hist(bins=100, range=(40,92))"
   ]
  },
  {
   "cell_type": "code",
   "execution_count": 70,
   "id": "b82d901f",
   "metadata": {
    "scrolled": true
   },
   "outputs": [
    {
     "name": "stdout",
     "output_type": "stream",
     "text": [
      "1.0 1580.0\n"
     ]
    }
   ],
   "source": [
    "# выведем минимальное и максимальное значения\n",
    "print(data['days_exposition'].min(), data['days_exposition'].max())"
   ]
  },
  {
   "cell_type": "code",
   "execution_count": 71,
   "id": "e55ab394",
   "metadata": {
    "scrolled": false
   },
   "outputs": [
    {
     "name": "stdout",
     "output_type": "stream",
     "text": [
      "95.0 180.88863436982163\n"
     ]
    }
   ],
   "source": [
    "# выведем медианное и среднее значения\n",
    "print(data['days_exposition'].median(), data['days_exposition'].mean())"
   ]
  },
  {
   "cell_type": "markdown",
   "metadata": {},
   "source": [
    "Среднее количество дней на которое было размещено объявление составляет 181 день, медианное количество дней на которое было размещено объявление составляет 95 дней."
   ]
  },
  {
   "cell_type": "code",
   "execution_count": 72,
   "id": "bef08017",
   "metadata": {
    "scrolled": true
   },
   "outputs": [
    {
     "data": {
      "text/plain": [
       "<AxesSubplot:>"
      ]
     },
     "execution_count": 72,
     "metadata": {},
     "output_type": "execute_result"
    },
    {
     "data": {
      "image/png": "[encoded data removed]",
      "text/plain": [
       "<Figure size 432x288 with 1 Axes>"
      ]
     },
     "metadata": {
      "needs_background": "light"
     },
     "output_type": "display_data"
    }
   ],
   "source": [
    "# построим диаграмму размаха\n",
    "data.boxplot('days_exposition')"
   ]
  },
  {
   "cell_type": "code",
   "execution_count": 73,
   "id": "cdbc40f8",
   "metadata": {
    "scrolled": true
   },
   "outputs": [
    {
     "data": {
      "text/plain": [
       "<AxesSubplot:>"
      ]
     },
     "execution_count": 73,
     "metadata": {},
     "output_type": "execute_result"
    },
    {
     "data": {
      "image/png": "[encoded data removed]",
      "text/plain": [
       "<Figure size 432x288 with 1 Axes>"
      ]
     },
     "metadata": {
      "needs_background": "light"
     },
     "output_type": "display_data"
    }
   ],
   "source": [
    "# рассмотрим данные поближе\n",
    "plt.ylim(0, 600)\n",
    "data.boxplot('days_exposition')"
   ]
  },
  {
   "cell_type": "markdown",
   "metadata": {},
   "source": [
    "Основная часть значений находится в пределах от 50 до 220 дней. По гистрамме видно, что с увеличением количества дней количество объявлений сокращается. Сильно выбивающихся значений нет. Но при приближении гистаграммы видно что при 45, 60 и 90 днях наблюдаются резкое увеличение количества снятых объявлений (приблизительно в 9, 5 и 2,5 раза соответственно). Можно предположить что это связано с особенностями работы риелторов или особенностями работы площадки на которой эти объявления размещены. Таким образом, можно считать что продажи осуществились очень быстро в случае если объявление было размещено менее 45 дней, а необычно долго в случае размещения обявления более 220 дней."
   ]
  },
  {
   "cell_type": "markdown",
   "metadata": {},
   "source": [
    "### Исключение редких и выбивающихся значений"
   ]
  },
  {
   "cell_type": "markdown",
   "id": "d14d33c5",
   "metadata": {},
   "source": [
    " Уберите редкие и выбивающиеся значения. Опишите, какие особенности обнаружили."
   ]
  },
  {
   "cell_type": "markdown",
   "metadata": {},
   "source": [
    "По результатам произведенного анализа исключим следующие значения: объявления с количеством комнат более 8, с общей площадью площадью менее 20 кв.м и более 300, с ценой на момент снятия с публикации менее 400000 и более 40000000 и высотой потолка  менее 2 м и более 4,5 м и кличеством дней на которое было размещено объявление менее 510. "
   ]
  },
  {
   "cell_type": "code",
   "execution_count": 74,
   "id": "79628ba3",
   "metadata": {},
   "outputs": [],
   "source": [
    "data_filtered = data.query('rooms <= 8 and 20 <= total_area<= 300 and 400000 < last_price < 40000000 and 2 < ceiling_height < 4.5 and days_exposition <= 510')"
   ]
  },
  {
   "cell_type": "code",
   "execution_count": 75,
   "id": "4d3f9039",
   "metadata": {
    "scrolled": true
   },
   "outputs": [
    {
     "data": {
      "text/html": [
       "<div>\n",
       "<style scoped>\n",
       "    .dataframe tbody tr th:only-of-type {\n",
       "        vertical-align: middle;\n",
       "    }\n",
       "\n",
       "    .dataframe tbody tr th {\n",
       "        vertical-align: top;\n",
       "    }\n",
       "\n",
       "    .dataframe thead th {\n",
       "        text-align: right;\n",
       "    }\n",
       "</style>\n",
       "<table border=\"1\" class=\"dataframe\">\n",
       "  <thead>\n",
       "    <tr style=\"text-align: right;\">\n",
       "      <th></th>\n",
       "      <th>total_images</th>\n",
       "      <th>last_price</th>\n",
       "      <th>total_area</th>\n",
       "      <th>rooms</th>\n",
       "      <th>ceiling_height</th>\n",
       "      <th>floors_total</th>\n",
       "      <th>living_area</th>\n",
       "      <th>floor</th>\n",
       "      <th>kitchen_area</th>\n",
       "      <th>balcony</th>\n",
       "      <th>airports_nearest</th>\n",
       "      <th>city_сenters_nearest</th>\n",
       "      <th>parks_around3000</th>\n",
       "      <th>parks_nearest</th>\n",
       "      <th>ponds_around3000</th>\n",
       "      <th>ponds_nearest</th>\n",
       "      <th>days_exposition</th>\n",
       "      <th>price_metr</th>\n",
       "      <th>weekday_exposition</th>\n",
       "      <th>month_exposition</th>\n",
       "      <th>year_exposition</th>\n",
       "      <th>ratio_living_area</th>\n",
       "      <th>ratio_kitchen_area</th>\n",
       "    </tr>\n",
       "  </thead>\n",
       "  <tbody>\n",
       "    <tr>\n",
       "      <th>count</th>\n",
       "      <td>10812.000000</td>\n",
       "      <td>1.081200e+04</td>\n",
       "      <td>10812.000000</td>\n",
       "      <td>10812.000000</td>\n",
       "      <td>10812.000000</td>\n",
       "      <td>10808.000000</td>\n",
       "      <td>10812.000000</td>\n",
       "      <td>10812.000000</td>\n",
       "      <td>10812.000000</td>\n",
       "      <td>10812.000000</td>\n",
       "      <td>8664.000000</td>\n",
       "      <td>8679.000000</td>\n",
       "      <td>10812.000000</td>\n",
       "      <td>3837.000000</td>\n",
       "      <td>10812.000000</td>\n",
       "      <td>4174.000000</td>\n",
       "      <td>10812.000000</td>\n",
       "      <td>10812.000000</td>\n",
       "      <td>10812.000000</td>\n",
       "      <td>10812.000000</td>\n",
       "      <td>10812.000000</td>\n",
       "      <td>10812.000000</td>\n",
       "      <td>10812.000000</td>\n",
       "    </tr>\n",
       "    <tr>\n",
       "      <th>mean</th>\n",
       "      <td>10.118202</td>\n",
       "      <td>5.746806e+06</td>\n",
       "      <td>57.472857</td>\n",
       "      <td>2.026915</td>\n",
       "      <td>2.705354</td>\n",
       "      <td>10.413768</td>\n",
       "      <td>33.120279</td>\n",
       "      <td>5.723455</td>\n",
       "      <td>10.059248</td>\n",
       "      <td>0.697836</td>\n",
       "      <td>29027.171630</td>\n",
       "      <td>14404.017744</td>\n",
       "      <td>0.486404</td>\n",
       "      <td>474.931457</td>\n",
       "      <td>0.593507</td>\n",
       "      <td>531.396263</td>\n",
       "      <td>131.695801</td>\n",
       "      <td>97547.109056</td>\n",
       "      <td>2.527007</td>\n",
       "      <td>6.569460</td>\n",
       "      <td>2017.495838</td>\n",
       "      <td>0.567848</td>\n",
       "      <td>0.187291</td>\n",
       "    </tr>\n",
       "    <tr>\n",
       "      <th>std</th>\n",
       "      <td>5.576014</td>\n",
       "      <td>4.138397e+06</td>\n",
       "      <td>26.642316</td>\n",
       "      <td>0.985472</td>\n",
       "      <td>0.244053</td>\n",
       "      <td>6.258930</td>\n",
       "      <td>17.653098</td>\n",
       "      <td>4.662458</td>\n",
       "      <td>4.857594</td>\n",
       "      <td>1.004837</td>\n",
       "      <td>12845.788609</td>\n",
       "      <td>8588.838845</td>\n",
       "      <td>0.754048</td>\n",
       "      <td>316.731701</td>\n",
       "      <td>0.882437</td>\n",
       "      <td>279.806084</td>\n",
       "      <td>122.458787</td>\n",
       "      <td>34645.393292</td>\n",
       "      <td>1.785125</td>\n",
       "      <td>3.504042</td>\n",
       "      <td>0.815106</td>\n",
       "      <td>0.100697</td>\n",
       "      <td>0.070308</td>\n",
       "    </tr>\n",
       "    <tr>\n",
       "      <th>min</th>\n",
       "      <td>0.000000</td>\n",
       "      <td>4.500000e+05</td>\n",
       "      <td>20.000000</td>\n",
       "      <td>0.000000</td>\n",
       "      <td>2.200000</td>\n",
       "      <td>1.000000</td>\n",
       "      <td>2.000000</td>\n",
       "      <td>1.000000</td>\n",
       "      <td>2.000000</td>\n",
       "      <td>0.000000</td>\n",
       "      <td>0.000000</td>\n",
       "      <td>208.000000</td>\n",
       "      <td>0.000000</td>\n",
       "      <td>3.000000</td>\n",
       "      <td>0.000000</td>\n",
       "      <td>16.000000</td>\n",
       "      <td>1.000000</td>\n",
       "      <td>9615.384615</td>\n",
       "      <td>0.000000</td>\n",
       "      <td>1.000000</td>\n",
       "      <td>2015.000000</td>\n",
       "      <td>0.038462</td>\n",
       "      <td>0.025381</td>\n",
       "    </tr>\n",
       "    <tr>\n",
       "      <th>25%</th>\n",
       "      <td>6.000000</td>\n",
       "      <td>3.500000e+06</td>\n",
       "      <td>40.000000</td>\n",
       "      <td>1.000000</td>\n",
       "      <td>2.500000</td>\n",
       "      <td>5.000000</td>\n",
       "      <td>18.700000</td>\n",
       "      <td>2.000000</td>\n",
       "      <td>7.000000</td>\n",
       "      <td>0.000000</td>\n",
       "      <td>18375.250000</td>\n",
       "      <td>9815.000000</td>\n",
       "      <td>0.000000</td>\n",
       "      <td>283.000000</td>\n",
       "      <td>0.000000</td>\n",
       "      <td>305.000000</td>\n",
       "      <td>41.000000</td>\n",
       "      <td>78068.808439</td>\n",
       "      <td>1.000000</td>\n",
       "      <td>3.000000</td>\n",
       "      <td>2017.000000</td>\n",
       "      <td>0.500000</td>\n",
       "      <td>0.135802</td>\n",
       "    </tr>\n",
       "    <tr>\n",
       "      <th>50%</th>\n",
       "      <td>10.000000</td>\n",
       "      <td>4.600000e+06</td>\n",
       "      <td>51.000000</td>\n",
       "      <td>2.000000</td>\n",
       "      <td>2.650000</td>\n",
       "      <td>9.000000</td>\n",
       "      <td>30.000000</td>\n",
       "      <td>4.000000</td>\n",
       "      <td>9.000000</td>\n",
       "      <td>0.000000</td>\n",
       "      <td>27123.500000</td>\n",
       "      <td>13170.000000</td>\n",
       "      <td>0.000000</td>\n",
       "      <td>450.000000</td>\n",
       "      <td>0.000000</td>\n",
       "      <td>523.000000</td>\n",
       "      <td>89.000000</td>\n",
       "      <td>95384.615385</td>\n",
       "      <td>2.000000</td>\n",
       "      <td>7.000000</td>\n",
       "      <td>2018.000000</td>\n",
       "      <td>0.570913</td>\n",
       "      <td>0.173275</td>\n",
       "    </tr>\n",
       "    <tr>\n",
       "      <th>75%</th>\n",
       "      <td>14.000000</td>\n",
       "      <td>6.500000e+06</td>\n",
       "      <td>67.400000</td>\n",
       "      <td>3.000000</td>\n",
       "      <td>2.780000</td>\n",
       "      <td>14.000000</td>\n",
       "      <td>41.900000</td>\n",
       "      <td>8.000000</td>\n",
       "      <td>11.200000</td>\n",
       "      <td>1.000000</td>\n",
       "      <td>37412.000000</td>\n",
       "      <td>16134.000000</td>\n",
       "      <td>1.000000</td>\n",
       "      <td>603.000000</td>\n",
       "      <td>1.000000</td>\n",
       "      <td>748.000000</td>\n",
       "      <td>189.000000</td>\n",
       "      <td>113333.333333</td>\n",
       "      <td>4.000000</td>\n",
       "      <td>10.000000</td>\n",
       "      <td>2018.000000</td>\n",
       "      <td>0.638298</td>\n",
       "      <td>0.229213</td>\n",
       "    </tr>\n",
       "    <tr>\n",
       "      <th>max</th>\n",
       "      <td>50.000000</td>\n",
       "      <td>3.990000e+07</td>\n",
       "      <td>297.500000</td>\n",
       "      <td>8.000000</td>\n",
       "      <td>4.400000</td>\n",
       "      <td>60.000000</td>\n",
       "      <td>211.000000</td>\n",
       "      <td>27.000000</td>\n",
       "      <td>65.000000</td>\n",
       "      <td>5.000000</td>\n",
       "      <td>83758.000000</td>\n",
       "      <td>64857.000000</td>\n",
       "      <td>3.000000</td>\n",
       "      <td>3190.000000</td>\n",
       "      <td>3.000000</td>\n",
       "      <td>1344.000000</td>\n",
       "      <td>510.000000</td>\n",
       "      <td>552000.000000</td>\n",
       "      <td>6.000000</td>\n",
       "      <td>12.000000</td>\n",
       "      <td>2019.000000</td>\n",
       "      <td>0.983447</td>\n",
       "      <td>0.723270</td>\n",
       "    </tr>\n",
       "  </tbody>\n",
       "</table>\n",
       "</div>"
      ],
      "text/plain": [
       "       total_images    last_price    total_area         rooms  ceiling_height  \\\n",
       "count  10812.000000  1.081200e+04  10812.000000  10812.000000    10812.000000   \n",
       "mean      10.118202  5.746806e+06     57.472857      2.026915        2.705354   \n",
       "std        5.576014  4.138397e+06     26.642316      0.985472        0.244053   \n",
       "min        0.000000  4.500000e+05     20.000000      0.000000        2.200000   \n",
       "25%        6.000000  3.500000e+06     40.000000      1.000000        2.500000   \n",
       "50%       10.000000  4.600000e+06     51.000000      2.000000        2.650000   \n",
       "75%       14.000000  6.500000e+06     67.400000      3.000000        2.780000   \n",
       "max       50.000000  3.990000e+07    297.500000      8.000000        4.400000   \n",
       "\n",
       "       floors_total   living_area         floor  kitchen_area       balcony  \\\n",
       "count  10808.000000  10812.000000  10812.000000  10812.000000  10812.000000   \n",
       "mean      10.413768     33.120279      5.723455     10.059248      0.697836   \n",
       "std        6.258930     17.653098      4.662458      4.857594      1.004837   \n",
       "min        1.000000      2.000000      1.000000      2.000000      0.000000   \n",
       "25%        5.000000     18.700000      2.000000      7.000000      0.000000   \n",
       "50%        9.000000     30.000000      4.000000      9.000000      0.000000   \n",
       "75%       14.000000     41.900000      8.000000     11.200000      1.000000   \n",
       "max       60.000000    211.000000     27.000000     65.000000      5.000000   \n",
       "\n",
       "       airports_nearest  city_сenters_nearest  parks_around3000  \\\n",
       "count       8664.000000           8679.000000      10812.000000   \n",
       "mean       29027.171630          14404.017744          0.486404   \n",
       "std        12845.788609           8588.838845          0.754048   \n",
       "min            0.000000            208.000000          0.000000   \n",
       "25%        18375.250000           9815.000000          0.000000   \n",
       "50%        27123.500000          13170.000000          0.000000   \n",
       "75%        37412.000000          16134.000000          1.000000   \n",
       "max        83758.000000          64857.000000          3.000000   \n",
       "\n",
       "       parks_nearest  ponds_around3000  ponds_nearest  days_exposition  \\\n",
       "count    3837.000000      10812.000000    4174.000000     10812.000000   \n",
       "mean      474.931457          0.593507     531.396263       131.695801   \n",
       "std       316.731701          0.882437     279.806084       122.458787   \n",
       "min         3.000000          0.000000      16.000000         1.000000   \n",
       "25%       283.000000          0.000000     305.000000        41.000000   \n",
       "50%       450.000000          0.000000     523.000000        89.000000   \n",
       "75%       603.000000          1.000000     748.000000       189.000000   \n",
       "max      3190.000000          3.000000    1344.000000       510.000000   \n",
       "\n",
       "          price_metr  weekday_exposition  month_exposition  year_exposition  \\\n",
       "count   10812.000000        10812.000000      10812.000000     10812.000000   \n",
       "mean    97547.109056            2.527007          6.569460      2017.495838   \n",
       "std     34645.393292            1.785125          3.504042         0.815106   \n",
       "min      9615.384615            0.000000          1.000000      2015.000000   \n",
       "25%     78068.808439            1.000000          3.000000      2017.000000   \n",
       "50%     95384.615385            2.000000          7.000000      2018.000000   \n",
       "75%    113333.333333            4.000000         10.000000      2018.000000   \n",
       "max    552000.000000            6.000000         12.000000      2019.000000   \n",
       "\n",
       "       ratio_living_area  ratio_kitchen_area  \n",
       "count       10812.000000        10812.000000  \n",
       "mean            0.567848            0.187291  \n",
       "std             0.100697            0.070308  \n",
       "min             0.038462            0.025381  \n",
       "25%             0.500000            0.135802  \n",
       "50%             0.570913            0.173275  \n",
       "75%             0.638298            0.229213  \n",
       "max             0.983447            0.723270  "
      ]
     },
     "execution_count": 75,
     "metadata": {},
     "output_type": "execute_result"
    }
   ],
   "source": [
    "data_filtered.describe()"
   ]
  },
  {
   "cell_type": "code",
   "execution_count": 76,
   "id": "781fd773",
   "metadata": {},
   "outputs": [
    {
     "data": {
      "text/plain": [
       "(10812, 30)"
      ]
     },
     "execution_count": 76,
     "metadata": {},
     "output_type": "execute_result"
    }
   ],
   "source": [
    "# посмотрим на размер полученной таблицы \n",
    "data_filtered.shape"
   ]
  },
  {
   "cell_type": "code",
   "execution_count": 77,
   "id": "4d147cd8",
   "metadata": {},
   "outputs": [
    {
     "data": {
      "text/plain": [
       "(23699, 30)"
      ]
     },
     "execution_count": 77,
     "metadata": {},
     "output_type": "execute_result"
    }
   ],
   "source": [
    "# посмотрим на размер перврначальной таблицы \n",
    "data.shape"
   ]
  },
  {
   "cell_type": "markdown",
   "metadata": {},
   "source": [
    "Пссмотрим общую информацию о полученной таблице"
   ]
  },
  {
   "cell_type": "code",
   "execution_count": 78,
   "id": "47e1bbcb",
   "metadata": {},
   "outputs": [
    {
     "name": "stdout",
     "output_type": "stream",
     "text": [
      "<class 'pandas.core.frame.DataFrame'>\n",
      "Int64Index: 10812 entries, 4 to 23693\n",
      "Data columns (total 30 columns):\n",
      " #   Column                Non-Null Count  Dtype         \n",
      "---  ------                --------------  -----         \n",
      " 0   total_images          10812 non-null  int64         \n",
      " 1   last_price            10812 non-null  float64       \n",
      " 2   total_area            10812 non-null  float64       \n",
      " 3   first_day_exposition  10812 non-null  datetime64[ns]\n",
      " 4   rooms                 10812 non-null  int64         \n",
      " 5   ceiling_height        10812 non-null  float64       \n",
      " 6   floors_total          10808 non-null  float64       \n",
      " 7   living_area           10812 non-null  float64       \n",
      " 8   floor                 10812 non-null  int64         \n",
      " 9   is_apartment          10812 non-null  bool          \n",
      " 10  studio                10812 non-null  bool          \n",
      " 11  open_plan             10812 non-null  bool          \n",
      " 12  kitchen_area          10812 non-null  float64       \n",
      " 13  balcony               10812 non-null  float64       \n",
      " 14  locality_name         10800 non-null  object        \n",
      " 15  airports_nearest      8664 non-null   float64       \n",
      " 16  city_сenters_nearest  8679 non-null   float64       \n",
      " 17  parks_around3000      10812 non-null  float64       \n",
      " 18  parks_nearest         3837 non-null   float64       \n",
      " 19  ponds_around3000      10812 non-null  float64       \n",
      " 20  ponds_nearest         4174 non-null   float64       \n",
      " 21  days_exposition       10812 non-null  float64       \n",
      " 22  total_area_category   10812 non-null  object        \n",
      " 23  price_metr            10812 non-null  float64       \n",
      " 24  weekday_exposition    10812 non-null  int64         \n",
      " 25  month_exposition      10812 non-null  int64         \n",
      " 26  year_exposition       10812 non-null  int64         \n",
      " 27  floors_category       10812 non-null  object        \n",
      " 28  ratio_living_area     10812 non-null  float64       \n",
      " 29  ratio_kitchen_area    10812 non-null  float64       \n",
      "dtypes: bool(3), datetime64[ns](1), float64(17), int64(6), object(3)\n",
      "memory usage: 2.3+ MB\n"
     ]
    }
   ],
   "source": [
    "data_filtered.info()"
   ]
  },
  {
   "cell_type": "markdown",
   "metadata": {},
   "source": [
    "### Факторы влияющие на стоимость квартиры "
   ]
  },
  {
   "cell_type": "markdown",
   "id": "be667cea",
   "metadata": {},
   "source": [
    "Какие факторы больше всего влияют на стоимость квартиры? Изучите, зависит ли цена от площади, числа комнат, удалённости от центра. Изучите зависимость цены от того, на каком этаже расположена квартира: первом, последнем или другом. Также изучите зависимость от даты размещения: дня недели, месяца и года."
   ]
  },
  {
   "cell_type": "markdown",
   "metadata": {},
   "source": [
    "На основе полученной после удаления выбивающихся значений таблицы проведем анализ факторов которые влияют на стоимость квартиры. Создадаим датафрейм data_filtered1 который будет содержать данные о цене, площади, количестве комнат, удалённости от центра, этажности и дате размещения."
   ]
  },
  {
   "cell_type": "code",
   "execution_count": 79,
   "id": "09d4a048",
   "metadata": {},
   "outputs": [],
   "source": [
    "data_filtered1 = data_filtered.loc[:, ['last_price', 'total_area', 'rooms', 'city_сenters_nearest', \n",
    "                                       'floors_category', 'weekday_exposition', 'month_exposition', 'year_exposition']]"
   ]
  },
  {
   "cell_type": "code",
   "execution_count": 80,
   "id": "e4098858",
   "metadata": {},
   "outputs": [
    {
     "data": {
      "text/html": [
       "<div>\n",
       "<style scoped>\n",
       "    .dataframe tbody tr th:only-of-type {\n",
       "        vertical-align: middle;\n",
       "    }\n",
       "\n",
       "    .dataframe tbody tr th {\n",
       "        vertical-align: top;\n",
       "    }\n",
       "\n",
       "    .dataframe thead th {\n",
       "        text-align: right;\n",
       "    }\n",
       "</style>\n",
       "<table border=\"1\" class=\"dataframe\">\n",
       "  <thead>\n",
       "    <tr style=\"text-align: right;\">\n",
       "      <th></th>\n",
       "      <th>last_price</th>\n",
       "      <th>total_area</th>\n",
       "      <th>rooms</th>\n",
       "      <th>city_сenters_nearest</th>\n",
       "      <th>floors_category</th>\n",
       "      <th>weekday_exposition</th>\n",
       "      <th>month_exposition</th>\n",
       "      <th>year_exposition</th>\n",
       "    </tr>\n",
       "  </thead>\n",
       "  <tbody>\n",
       "    <tr>\n",
       "      <th>4</th>\n",
       "      <td>10000000.0</td>\n",
       "      <td>100.0</td>\n",
       "      <td>2</td>\n",
       "      <td>8098.0</td>\n",
       "      <td>другой</td>\n",
       "      <td>1</td>\n",
       "      <td>6</td>\n",
       "      <td>2018</td>\n",
       "    </tr>\n",
       "    <tr>\n",
       "      <th>9</th>\n",
       "      <td>5400000.0</td>\n",
       "      <td>61.0</td>\n",
       "      <td>3</td>\n",
       "      <td>15008.0</td>\n",
       "      <td>другой</td>\n",
       "      <td>6</td>\n",
       "      <td>2</td>\n",
       "      <td>2017</td>\n",
       "    </tr>\n",
       "    <tr>\n",
       "      <th>10</th>\n",
       "      <td>5050000.0</td>\n",
       "      <td>39.6</td>\n",
       "      <td>1</td>\n",
       "      <td>13878.0</td>\n",
       "      <td>другой</td>\n",
       "      <td>3</td>\n",
       "      <td>11</td>\n",
       "      <td>2017</td>\n",
       "    </tr>\n",
       "    <tr>\n",
       "      <th>13</th>\n",
       "      <td>3550000.0</td>\n",
       "      <td>42.8</td>\n",
       "      <td>2</td>\n",
       "      <td>33058.0</td>\n",
       "      <td>последний</td>\n",
       "      <td>5</td>\n",
       "      <td>7</td>\n",
       "      <td>2017</td>\n",
       "    </tr>\n",
       "    <tr>\n",
       "      <th>16</th>\n",
       "      <td>6700000.0</td>\n",
       "      <td>82.0</td>\n",
       "      <td>3</td>\n",
       "      <td>10698.0</td>\n",
       "      <td>первый</td>\n",
       "      <td>3</td>\n",
       "      <td>11</td>\n",
       "      <td>2017</td>\n",
       "    </tr>\n",
       "    <tr>\n",
       "      <th>18</th>\n",
       "      <td>3250000.0</td>\n",
       "      <td>31.0</td>\n",
       "      <td>1</td>\n",
       "      <td>10842.0</td>\n",
       "      <td>другой</td>\n",
       "      <td>4</td>\n",
       "      <td>1</td>\n",
       "      <td>2017</td>\n",
       "    </tr>\n",
       "    <tr>\n",
       "      <th>19</th>\n",
       "      <td>14200000.0</td>\n",
       "      <td>121.0</td>\n",
       "      <td>3</td>\n",
       "      <td>12843.0</td>\n",
       "      <td>другой</td>\n",
       "      <td>2</td>\n",
       "      <td>1</td>\n",
       "      <td>2019</td>\n",
       "    </tr>\n",
       "    <tr>\n",
       "      <th>20</th>\n",
       "      <td>6120000.0</td>\n",
       "      <td>80.0</td>\n",
       "      <td>3</td>\n",
       "      <td>19311.0</td>\n",
       "      <td>другой</td>\n",
       "      <td>3</td>\n",
       "      <td>9</td>\n",
       "      <td>2017</td>\n",
       "    </tr>\n",
       "    <tr>\n",
       "      <th>22</th>\n",
       "      <td>5000000.0</td>\n",
       "      <td>58.0</td>\n",
       "      <td>2</td>\n",
       "      <td>NaN</td>\n",
       "      <td>другой</td>\n",
       "      <td>0</td>\n",
       "      <td>4</td>\n",
       "      <td>2017</td>\n",
       "    </tr>\n",
       "    <tr>\n",
       "      <th>25</th>\n",
       "      <td>6800000.0</td>\n",
       "      <td>76.0</td>\n",
       "      <td>2</td>\n",
       "      <td>14640.0</td>\n",
       "      <td>другой</td>\n",
       "      <td>3</td>\n",
       "      <td>10</td>\n",
       "      <td>2015</td>\n",
       "    </tr>\n",
       "  </tbody>\n",
       "</table>\n",
       "</div>"
      ],
      "text/plain": [
       "    last_price  total_area  rooms  city_сenters_nearest floors_category  \\\n",
       "4   10000000.0       100.0      2                8098.0          другой   \n",
       "9    5400000.0        61.0      3               15008.0          другой   \n",
       "10   5050000.0        39.6      1               13878.0          другой   \n",
       "13   3550000.0        42.8      2               33058.0       последний   \n",
       "16   6700000.0        82.0      3               10698.0          первый   \n",
       "18   3250000.0        31.0      1               10842.0          другой   \n",
       "19  14200000.0       121.0      3               12843.0          другой   \n",
       "20   6120000.0        80.0      3               19311.0          другой   \n",
       "22   5000000.0        58.0      2                   NaN          другой   \n",
       "25   6800000.0        76.0      2               14640.0          другой   \n",
       "\n",
       "    weekday_exposition  month_exposition  year_exposition  \n",
       "4                    1                 6             2018  \n",
       "9                    6                 2             2017  \n",
       "10                   3                11             2017  \n",
       "13                   5                 7             2017  \n",
       "16                   3                11             2017  \n",
       "18                   4                 1             2017  \n",
       "19                   2                 1             2019  \n",
       "20                   3                 9             2017  \n",
       "22                   0                 4             2017  \n",
       "25                   3                10             2015  "
      ]
     },
     "execution_count": 80,
     "metadata": {},
     "output_type": "execute_result"
    }
   ],
   "source": [
    "data_filtered1.head(10)"
   ]
  },
  {
   "cell_type": "markdown",
   "metadata": {},
   "source": [
    "При помощи цикла построим графики зависимости стоимости квартиры от различных факторов."
   ]
  },
  {
   "cell_type": "code",
   "execution_count": 81,
   "metadata": {
    "scrolled": false
   },
   "outputs": [
    {
     "data": {
      "image/png": "[encoded data removed]",
      "text/plain": [
       "<Figure size 432x288 with 1 Axes>"
      ]
     },
     "metadata": {
      "needs_background": "light"
     },
     "output_type": "display_data"
    },
    {
     "data": {
      "image/png": "[encoded data removed]",
      "text/plain": [
       "<Figure size 432x288 with 1 Axes>"
      ]
     },
     "metadata": {
      "needs_background": "light"
     },
     "output_type": "display_data"
    },
    {
     "data": {
      "image/png": "[encoded data removed]",
      "text/plain": [
       "<Figure size 432x288 with 1 Axes>"
      ]
     },
     "metadata": {
      "needs_background": "light"
     },
     "output_type": "display_data"
    },
    {
     "data": {
      "image/png": "[encoded data removed]",
      "text/plain": [
       "<Figure size 432x288 with 1 Axes>"
      ]
     },
     "metadata": {
      "needs_background": "light"
     },
     "output_type": "display_data"
    },
    {
     "data": {
      "image/png": "[encoded data removed]",
      "text/plain": [
       "<Figure size 432x288 with 1 Axes>"
      ]
     },
     "metadata": {
      "needs_background": "light"
     },
     "output_type": "display_data"
    },
    {
     "data": {
      "image/png": "[encoded data removed]",
      "text/plain": [
       "<Figure size 432x288 with 1 Axes>"
      ]
     },
     "metadata": {
      "needs_background": "light"
     },
     "output_type": "display_data"
    },
    {
     "data": {
      "image/png": "[encoded data removed]",
      "text/plain": [
       "<Figure size 432x288 with 1 Axes>"
      ]
     },
     "metadata": {
      "needs_background": "light"
     },
     "output_type": "display_data"
    }
   ],
   "source": [
    "for arg in ['total_area', 'rooms', 'city_сenters_nearest', 'floors_category', 'weekday_exposition',\n",
    "            'month_exposition', 'year_exposition']:\n",
    "    (data_filtered1.sort_values('last_price')\n",
    "    .plot(style='o', x=arg, y='last_price', grid= True, title=(f'Зависимость last_price от {arg}'))\n",
    "    )"
   ]
  },
  {
   "cell_type": "markdown",
   "metadata": {},
   "source": [
    "По получившимся графикам видно, что с увеличением площади цена растет, при маленькой площади наблюдается более строгая прямая зависимость, а с увеличением площади разброс в цене растет. С увеличением количества комнат также увеличивается стоимость, данных с количеством комнат более 5 значительно меньше, поэтому увеличение цены прератилось. Также количество комнат связано с общей площадью квартиры. Чем ближе к центру, тем больше разброс по цене. стоимость в зависимости от дня недели не сильно изменяется, единственное что можно заметить, что в выходные стоимость ниже. По месяцам стоимость снижается в апреле-июне. В 2015 году большая часть объявлений была по меньшей цене, чем в последующие годы. В 2019 стоимость большинства объявлений уменьшилась, но возможно за этот год просто менбше данных, так как объявления по стоимости 2018 года присутствуют.  "
   ]
  },
  {
   "cell_type": "markdown",
   "metadata": {},
   "source": [
    "Добавим графики изменения стоимости по категориям этажности."
   ]
  },
  {
   "cell_type": "code",
   "execution_count": 82,
   "id": "a4c5b184",
   "metadata": {
    "scrolled": false
   },
   "outputs": [
    {
     "data": {
      "text/plain": [
       "floors_category\n",
       "другой       AxesSubplot(0.125,0.125;0.775x0.755)\n",
       "первый       AxesSubplot(0.125,0.125;0.775x0.755)\n",
       "последний    AxesSubplot(0.125,0.125;0.775x0.755)\n",
       "dtype: object"
      ]
     },
     "execution_count": 82,
     "metadata": {},
     "output_type": "execute_result"
    },
    {
     "data": {
      "image/png": "[encoded data removed]",
      "text/plain": [
       "<Figure size 576x432 with 1 Axes>"
      ]
     },
     "metadata": {
      "needs_background": "light"
     },
     "output_type": "display_data"
    },
    {
     "data": {
      "image/png": "[encoded data removed]",
      "text/plain": [
       "<Figure size 576x432 with 1 Axes>"
      ]
     },
     "metadata": {
      "needs_background": "light"
     },
     "output_type": "display_data"
    },
    {
     "data": {
      "image/png": "[encoded data removed]",
      "text/plain": [
       "<Figure size 576x432 with 1 Axes>"
      ]
     },
     "metadata": {
      "needs_background": "light"
     },
     "output_type": "display_data"
    }
   ],
   "source": [
    "data_filtered1.sort_values('last_price').groupby('floors_category').plot(style='o',x='floors_category', y='last_price', grid= True, figsize=(8,6))"
   ]
  },
  {
   "cell_type": "markdown",
   "metadata": {},
   "source": [
    "По данным графикам видно, что в каждой категории изменение цены происходит распределено одинаково и каких-либо отклонений ни в одной категории нет. Наблюдается плавное увеличение до 5 млн., затем цена начинает рости быстрее и после 10 млн. наблюдается резкий рост."
   ]
  },
  {
   "cell_type": "markdown",
   "metadata": {},
   "source": [
    "Сравним медианные значения стоимости квартир в каждой категории этажности. Для этого построим график зависимости медианной стоимости квартиры от этажности. "
   ]
  },
  {
   "cell_type": "code",
   "execution_count": 83,
   "id": "6d82ae06",
   "metadata": {
    "scrolled": true
   },
   "outputs": [
    {
     "data": {
      "image/png": "[encoded data removed]",
      "text/plain": [
       "<Figure size 576x432 with 1 Axes>"
      ]
     },
     "metadata": {
      "needs_background": "light"
     },
     "output_type": "display_data"
    }
   ],
   "source": [
    "(data_filtered1.groupby('floors_category').agg({'last_price':'median'}).sort_values('last_price')\n",
    ".plot(kind='bar', grid= True, figsize=(8,6)));"
   ]
  },
  {
   "cell_type": "markdown",
   "metadata": {},
   "source": [
    "По данному графику видно, что медианная стоимость квартир на первом этаже меньше, чем у квартир на последнем и другом этажах. Самая высокая медианная стоимость у квартир на другом этаже."
   ]
  },
  {
   "cell_type": "code",
   "execution_count": 84,
   "metadata": {
    "scrolled": false
   },
   "outputs": [
    {
     "data": {
      "text/html": [
       "<div>\n",
       "<style scoped>\n",
       "    .dataframe tbody tr th:only-of-type {\n",
       "        vertical-align: middle;\n",
       "    }\n",
       "\n",
       "    .dataframe tbody tr th {\n",
       "        vertical-align: top;\n",
       "    }\n",
       "\n",
       "    .dataframe thead th {\n",
       "        text-align: right;\n",
       "    }\n",
       "</style>\n",
       "<table border=\"1\" class=\"dataframe\">\n",
       "  <thead>\n",
       "    <tr style=\"text-align: right;\">\n",
       "      <th></th>\n",
       "      <th>last_price</th>\n",
       "      <th>total_area</th>\n",
       "      <th>rooms</th>\n",
       "      <th>city_сenters_nearest</th>\n",
       "      <th>weekday_exposition</th>\n",
       "      <th>month_exposition</th>\n",
       "      <th>year_exposition</th>\n",
       "    </tr>\n",
       "  </thead>\n",
       "  <tbody>\n",
       "    <tr>\n",
       "      <th>last_price</th>\n",
       "      <td>1.000000</td>\n",
       "      <td>0.787752</td>\n",
       "      <td>0.502938</td>\n",
       "      <td>-0.334230</td>\n",
       "      <td>-0.014194</td>\n",
       "      <td>0.003972</td>\n",
       "      <td>-0.044020</td>\n",
       "    </tr>\n",
       "    <tr>\n",
       "      <th>total_area</th>\n",
       "      <td>0.787752</td>\n",
       "      <td>1.000000</td>\n",
       "      <td>0.790591</td>\n",
       "      <td>-0.225508</td>\n",
       "      <td>-0.016203</td>\n",
       "      <td>0.000448</td>\n",
       "      <td>-0.097919</td>\n",
       "    </tr>\n",
       "    <tr>\n",
       "      <th>rooms</th>\n",
       "      <td>0.502938</td>\n",
       "      <td>0.790591</td>\n",
       "      <td>1.000000</td>\n",
       "      <td>-0.161322</td>\n",
       "      <td>-0.007853</td>\n",
       "      <td>0.001026</td>\n",
       "      <td>-0.069931</td>\n",
       "    </tr>\n",
       "    <tr>\n",
       "      <th>city_сenters_nearest</th>\n",
       "      <td>-0.334230</td>\n",
       "      <td>-0.225508</td>\n",
       "      <td>-0.161322</td>\n",
       "      <td>1.000000</td>\n",
       "      <td>0.015977</td>\n",
       "      <td>-0.033783</td>\n",
       "      <td>0.016449</td>\n",
       "    </tr>\n",
       "    <tr>\n",
       "      <th>weekday_exposition</th>\n",
       "      <td>-0.014194</td>\n",
       "      <td>-0.016203</td>\n",
       "      <td>-0.007853</td>\n",
       "      <td>0.015977</td>\n",
       "      <td>1.000000</td>\n",
       "      <td>-0.012537</td>\n",
       "      <td>-0.002179</td>\n",
       "    </tr>\n",
       "    <tr>\n",
       "      <th>month_exposition</th>\n",
       "      <td>0.003972</td>\n",
       "      <td>0.000448</td>\n",
       "      <td>0.001026</td>\n",
       "      <td>-0.033783</td>\n",
       "      <td>-0.012537</td>\n",
       "      <td>1.000000</td>\n",
       "      <td>-0.259209</td>\n",
       "    </tr>\n",
       "    <tr>\n",
       "      <th>year_exposition</th>\n",
       "      <td>-0.044020</td>\n",
       "      <td>-0.097919</td>\n",
       "      <td>-0.069931</td>\n",
       "      <td>0.016449</td>\n",
       "      <td>-0.002179</td>\n",
       "      <td>-0.259209</td>\n",
       "      <td>1.000000</td>\n",
       "    </tr>\n",
       "  </tbody>\n",
       "</table>\n",
       "</div>"
      ],
      "text/plain": [
       "                      last_price  total_area     rooms  city_сenters_nearest  \\\n",
       "last_price              1.000000    0.787752  0.502938             -0.334230   \n",
       "total_area              0.787752    1.000000  0.790591             -0.225508   \n",
       "rooms                   0.502938    0.790591  1.000000             -0.161322   \n",
       "city_сenters_nearest   -0.334230   -0.225508 -0.161322              1.000000   \n",
       "weekday_exposition     -0.014194   -0.016203 -0.007853              0.015977   \n",
       "month_exposition        0.003972    0.000448  0.001026             -0.033783   \n",
       "year_exposition        -0.044020   -0.097919 -0.069931              0.016449   \n",
       "\n",
       "                      weekday_exposition  month_exposition  year_exposition  \n",
       "last_price                     -0.014194          0.003972        -0.044020  \n",
       "total_area                     -0.016203          0.000448        -0.097919  \n",
       "rooms                          -0.007853          0.001026        -0.069931  \n",
       "city_сenters_nearest            0.015977         -0.033783         0.016449  \n",
       "weekday_exposition              1.000000         -0.012537        -0.002179  \n",
       "month_exposition               -0.012537          1.000000        -0.259209  \n",
       "year_exposition                -0.002179         -0.259209         1.000000  "
      ]
     },
     "execution_count": 84,
     "metadata": {},
     "output_type": "execute_result"
    }
   ],
   "source": [
    "# построим матрицу корреляции\n",
    "data_filtered1.corr()"
   ]
  },
  {
   "cell_type": "markdown",
   "metadata": {},
   "source": [
    "Также подтверждаются выводы сделанные на лснове графиков, что больше всего цена зависит от площади, затем от количества комнат. В этих двух случаях наблюдается прямая зависимость - при росте цены увеличиваются площадь и количество комнат. При уменьшении расстояния до центра цена растет (обратная зависимость). От дня недели, месяца и года размещения обявления стоимость квартиры практически не зависит."
   ]
  },
  {
   "cell_type": "markdown",
   "metadata": {},
   "source": [
    "### Анализ по 10 населенным пунктам "
   ]
  },
  {
   "cell_type": "markdown",
   "id": "1b42e57b",
   "metadata": {},
   "source": [
    "Выберите 10 населённых пунктов с наибольшим числом объявлений. Посчитайте среднюю цену квадратного метра в этих населённых пунктах. Выделите населённые пункты с самой высокой и низкой стоимостью жилья. Эти данные можно найти по имени в столбце locality_name."
   ]
  },
  {
   "cell_type": "markdown",
   "metadata": {},
   "source": [
    "Выведем список из 10 населённых пунктов с наибольшим числом объявлений.  "
   ]
  },
  {
   "cell_type": "code",
   "execution_count": 85,
   "id": "720118ec",
   "metadata": {},
   "outputs": [
    {
     "data": {
      "text/plain": [
       "Санкт-Петербург      7525\n",
       "Всеволожск            201\n",
       "поселок Мурино        190\n",
       "поселок Шушары        179\n",
       "Колпино               171\n",
       "Пушкин                166\n",
       "поселок Парголово     115\n",
       "Гатчина               113\n",
       "Петергоф              110\n",
       "деревня Кудрово       106\n",
       "Name: locality_name, dtype: int64"
      ]
     },
     "execution_count": 85,
     "metadata": {},
     "output_type": "execute_result"
    }
   ],
   "source": [
    "data_filtered['locality_name'].value_counts().head(10)"
   ]
  },
  {
   "cell_type": "markdown",
   "metadata": {},
   "source": [
    "Для расчета средней цены квдратного метра в этих 10 населеных пунктах создадим сводную таблицу, где сгруппируем данные о стоимости квадратного метра по насенным пунктам."
   ]
  },
  {
   "cell_type": "code",
   "execution_count": 86,
   "id": "8d91b5d7",
   "metadata": {},
   "outputs": [
    {
     "data": {
      "text/html": [
       "<div>\n",
       "<style scoped>\n",
       "    .dataframe tbody tr th:only-of-type {\n",
       "        vertical-align: middle;\n",
       "    }\n",
       "\n",
       "    .dataframe tbody tr th {\n",
       "        vertical-align: top;\n",
       "    }\n",
       "\n",
       "    .dataframe thead th {\n",
       "        text-align: right;\n",
       "    }\n",
       "</style>\n",
       "<table border=\"1\" class=\"dataframe\">\n",
       "  <thead>\n",
       "    <tr style=\"text-align: right;\">\n",
       "      <th></th>\n",
       "      <th>count</th>\n",
       "      <th>mean_price_metr</th>\n",
       "    </tr>\n",
       "    <tr>\n",
       "      <th>locality_name</th>\n",
       "      <th></th>\n",
       "      <th></th>\n",
       "    </tr>\n",
       "  </thead>\n",
       "  <tbody>\n",
       "    <tr>\n",
       "      <th>Санкт-Петербург</th>\n",
       "      <td>7525</td>\n",
       "      <td>109692.476006</td>\n",
       "    </tr>\n",
       "    <tr>\n",
       "      <th>Всеволожск</th>\n",
       "      <td>201</td>\n",
       "      <td>66291.255075</td>\n",
       "    </tr>\n",
       "    <tr>\n",
       "      <th>поселок Мурино</th>\n",
       "      <td>190</td>\n",
       "      <td>87658.812278</td>\n",
       "    </tr>\n",
       "    <tr>\n",
       "      <th>поселок Шушары</th>\n",
       "      <td>179</td>\n",
       "      <td>78624.585485</td>\n",
       "    </tr>\n",
       "    <tr>\n",
       "      <th>Колпино</th>\n",
       "      <td>171</td>\n",
       "      <td>74827.939740</td>\n",
       "    </tr>\n",
       "    <tr>\n",
       "      <th>Пушкин</th>\n",
       "      <td>166</td>\n",
       "      <td>101653.365142</td>\n",
       "    </tr>\n",
       "    <tr>\n",
       "      <th>поселок Парголово</th>\n",
       "      <td>115</td>\n",
       "      <td>89570.355642</td>\n",
       "    </tr>\n",
       "    <tr>\n",
       "      <th>Гатчина</th>\n",
       "      <td>113</td>\n",
       "      <td>69935.545927</td>\n",
       "    </tr>\n",
       "    <tr>\n",
       "      <th>Петергоф</th>\n",
       "      <td>110</td>\n",
       "      <td>83133.000359</td>\n",
       "    </tr>\n",
       "    <tr>\n",
       "      <th>деревня Кудрово</th>\n",
       "      <td>106</td>\n",
       "      <td>91143.697618</td>\n",
       "    </tr>\n",
       "  </tbody>\n",
       "</table>\n",
       "</div>"
      ],
      "text/plain": [
       "                   count  mean_price_metr\n",
       "locality_name                            \n",
       "Санкт-Петербург     7525    109692.476006\n",
       "Всеволожск           201     66291.255075\n",
       "поселок Мурино       190     87658.812278\n",
       "поселок Шушары       179     78624.585485\n",
       "Колпино              171     74827.939740\n",
       "Пушкин               166    101653.365142\n",
       "поселок Парголово    115     89570.355642\n",
       "Гатчина              113     69935.545927\n",
       "Петергоф             110     83133.000359\n",
       "деревня Кудрово      106     91143.697618"
      ]
     },
     "execution_count": 86,
     "metadata": {},
     "output_type": "execute_result"
    }
   ],
   "source": [
    "# создаем сводную таблицу\n",
    "data_filtered1 = data_filtered.pivot_table(index ='locality_name', values='price_metr', aggfunc=['count', 'mean']) \n",
    "# переименовываем столбцы\n",
    "data_filtered1.columns = ['count', 'mean_price_metr']\n",
    "# сортируем по убыванию и выводим первые 10 строк\n",
    "data_filtered1.sort_values('count', ascending = False).head(10)"
   ]
  },
  {
   "cell_type": "code",
   "execution_count": 87,
   "id": "227c7d25",
   "metadata": {},
   "outputs": [
    {
     "data": {
      "text/plain": [
       "66291.25507516805"
      ]
     },
     "execution_count": 87,
     "metadata": {},
     "output_type": "execute_result"
    }
   ],
   "source": [
    "# найдем наименьшую среднюю стоимость жилья\n",
    "data_filtered1.sort_values('count', ascending = False).head(10)['mean_price_metr'].min()"
   ]
  },
  {
   "cell_type": "markdown",
   "metadata": {},
   "source": [
    "Наименьшая стоимость жилья среди 10 населённых пунктов с наибольшим числом объявлений составляет 66291 руб во Всеволжске."
   ]
  },
  {
   "cell_type": "code",
   "execution_count": 88,
   "id": "37fd4651",
   "metadata": {},
   "outputs": [
    {
     "data": {
      "text/plain": [
       "109692.4760057058"
      ]
     },
     "execution_count": 88,
     "metadata": {},
     "output_type": "execute_result"
    }
   ],
   "source": [
    "# найдем наибольшую среднюю стоимость жилья\n",
    "data_filtered1.sort_values('count', ascending = False).head(10)['mean_price_metr'].max()"
   ]
  },
  {
   "cell_type": "markdown",
   "metadata": {},
   "source": [
    "Наибольшая стоимость жилья среди 10 населённых пунктов с наибольшим числом объявлений составляет 109692 руб в Санкт-Петербурге."
   ]
  },
  {
   "cell_type": "markdown",
   "metadata": {},
   "source": [
    "### Анализ квартир в Санкт-Петербурге"
   ]
  },
  {
   "cell_type": "markdown",
   "id": "3db691cc",
   "metadata": {},
   "source": [
    "Изучите предложения квартир: для каждой квартиры есть информация о расстоянии до центра. Выделите квартиры в Санкт-Петербурге (locality_name). Ваша задача — выяснить, какая область входит в центр. Создайте столбец с расстоянием до центра в километрах: округлите до целых значений. После этого посчитайте среднюю цену для каждого километра. Постройте график: он должен показывать, как цена зависит от удалённости от центра. Определите границу, где график сильно меняется, — это и будет центральная зона."
   ]
  },
  {
   "cell_type": "markdown",
   "metadata": {},
   "source": [
    "Запишем в переменную data_filtered_centr датафрейм с информацией по квартирам только в Санкт-Петербурге."
   ]
  },
  {
   "cell_type": "code",
   "execution_count": 89,
   "id": "7a61a3ec",
   "metadata": {},
   "outputs": [
    {
     "data": {
      "text/html": [
       "<div>\n",
       "<style scoped>\n",
       "    .dataframe tbody tr th:only-of-type {\n",
       "        vertical-align: middle;\n",
       "    }\n",
       "\n",
       "    .dataframe tbody tr th {\n",
       "        vertical-align: top;\n",
       "    }\n",
       "\n",
       "    .dataframe thead th {\n",
       "        text-align: right;\n",
       "    }\n",
       "</style>\n",
       "<table border=\"1\" class=\"dataframe\">\n",
       "  <thead>\n",
       "    <tr style=\"text-align: right;\">\n",
       "      <th></th>\n",
       "      <th>total_images</th>\n",
       "      <th>last_price</th>\n",
       "      <th>total_area</th>\n",
       "      <th>first_day_exposition</th>\n",
       "      <th>rooms</th>\n",
       "      <th>ceiling_height</th>\n",
       "      <th>floors_total</th>\n",
       "      <th>living_area</th>\n",
       "      <th>floor</th>\n",
       "      <th>is_apartment</th>\n",
       "      <th>studio</th>\n",
       "      <th>open_plan</th>\n",
       "      <th>kitchen_area</th>\n",
       "      <th>balcony</th>\n",
       "      <th>locality_name</th>\n",
       "      <th>airports_nearest</th>\n",
       "      <th>city_сenters_nearest</th>\n",
       "      <th>parks_around3000</th>\n",
       "      <th>parks_nearest</th>\n",
       "      <th>ponds_around3000</th>\n",
       "      <th>ponds_nearest</th>\n",
       "      <th>days_exposition</th>\n",
       "      <th>total_area_category</th>\n",
       "      <th>price_metr</th>\n",
       "      <th>weekday_exposition</th>\n",
       "      <th>month_exposition</th>\n",
       "      <th>year_exposition</th>\n",
       "      <th>floors_category</th>\n",
       "      <th>ratio_living_area</th>\n",
       "      <th>ratio_kitchen_area</th>\n",
       "    </tr>\n",
       "  </thead>\n",
       "  <tbody>\n",
       "    <tr>\n",
       "      <th>4</th>\n",
       "      <td>2</td>\n",
       "      <td>10000000.0</td>\n",
       "      <td>100.0</td>\n",
       "      <td>2018-06-19</td>\n",
       "      <td>2</td>\n",
       "      <td>3.03</td>\n",
       "      <td>14.0</td>\n",
       "      <td>32.0</td>\n",
       "      <td>13</td>\n",
       "      <td>False</td>\n",
       "      <td>False</td>\n",
       "      <td>False</td>\n",
       "      <td>41.0</td>\n",
       "      <td>0.0</td>\n",
       "      <td>Санкт-Петербург</td>\n",
       "      <td>31856.0</td>\n",
       "      <td>8098.0</td>\n",
       "      <td>2.0</td>\n",
       "      <td>112.0</td>\n",
       "      <td>1.0</td>\n",
       "      <td>48.0</td>\n",
       "      <td>121.0</td>\n",
       "      <td>&gt;65</td>\n",
       "      <td>100000.000000</td>\n",
       "      <td>1</td>\n",
       "      <td>6</td>\n",
       "      <td>2018</td>\n",
       "      <td>другой</td>\n",
       "      <td>0.320000</td>\n",
       "      <td>0.410000</td>\n",
       "    </tr>\n",
       "    <tr>\n",
       "      <th>9</th>\n",
       "      <td>18</td>\n",
       "      <td>5400000.0</td>\n",
       "      <td>61.0</td>\n",
       "      <td>2017-02-26</td>\n",
       "      <td>3</td>\n",
       "      <td>2.50</td>\n",
       "      <td>9.0</td>\n",
       "      <td>43.6</td>\n",
       "      <td>7</td>\n",
       "      <td>False</td>\n",
       "      <td>False</td>\n",
       "      <td>False</td>\n",
       "      <td>6.5</td>\n",
       "      <td>2.0</td>\n",
       "      <td>Санкт-Петербург</td>\n",
       "      <td>50898.0</td>\n",
       "      <td>15008.0</td>\n",
       "      <td>0.0</td>\n",
       "      <td>NaN</td>\n",
       "      <td>0.0</td>\n",
       "      <td>NaN</td>\n",
       "      <td>289.0</td>\n",
       "      <td>&gt;40</td>\n",
       "      <td>88524.590164</td>\n",
       "      <td>6</td>\n",
       "      <td>2</td>\n",
       "      <td>2017</td>\n",
       "      <td>другой</td>\n",
       "      <td>0.714754</td>\n",
       "      <td>0.106557</td>\n",
       "    </tr>\n",
       "    <tr>\n",
       "      <th>10</th>\n",
       "      <td>5</td>\n",
       "      <td>5050000.0</td>\n",
       "      <td>39.6</td>\n",
       "      <td>2017-11-16</td>\n",
       "      <td>1</td>\n",
       "      <td>2.67</td>\n",
       "      <td>12.0</td>\n",
       "      <td>20.3</td>\n",
       "      <td>3</td>\n",
       "      <td>False</td>\n",
       "      <td>False</td>\n",
       "      <td>False</td>\n",
       "      <td>8.5</td>\n",
       "      <td>0.0</td>\n",
       "      <td>Санкт-Петербург</td>\n",
       "      <td>38357.0</td>\n",
       "      <td>13878.0</td>\n",
       "      <td>1.0</td>\n",
       "      <td>310.0</td>\n",
       "      <td>2.0</td>\n",
       "      <td>553.0</td>\n",
       "      <td>137.0</td>\n",
       "      <td>&gt;20</td>\n",
       "      <td>127525.252525</td>\n",
       "      <td>3</td>\n",
       "      <td>11</td>\n",
       "      <td>2017</td>\n",
       "      <td>другой</td>\n",
       "      <td>0.512626</td>\n",
       "      <td>0.214646</td>\n",
       "    </tr>\n",
       "    <tr>\n",
       "      <th>16</th>\n",
       "      <td>11</td>\n",
       "      <td>6700000.0</td>\n",
       "      <td>82.0</td>\n",
       "      <td>2017-11-23</td>\n",
       "      <td>3</td>\n",
       "      <td>3.05</td>\n",
       "      <td>5.0</td>\n",
       "      <td>55.6</td>\n",
       "      <td>1</td>\n",
       "      <td>False</td>\n",
       "      <td>False</td>\n",
       "      <td>False</td>\n",
       "      <td>9.0</td>\n",
       "      <td>0.0</td>\n",
       "      <td>Санкт-Петербург</td>\n",
       "      <td>22108.0</td>\n",
       "      <td>10698.0</td>\n",
       "      <td>3.0</td>\n",
       "      <td>420.0</td>\n",
       "      <td>0.0</td>\n",
       "      <td>NaN</td>\n",
       "      <td>397.0</td>\n",
       "      <td>&gt;65</td>\n",
       "      <td>81707.317073</td>\n",
       "      <td>3</td>\n",
       "      <td>11</td>\n",
       "      <td>2017</td>\n",
       "      <td>первый</td>\n",
       "      <td>0.678049</td>\n",
       "      <td>0.109756</td>\n",
       "    </tr>\n",
       "    <tr>\n",
       "      <th>18</th>\n",
       "      <td>8</td>\n",
       "      <td>3250000.0</td>\n",
       "      <td>31.0</td>\n",
       "      <td>2017-01-27</td>\n",
       "      <td>1</td>\n",
       "      <td>2.50</td>\n",
       "      <td>5.0</td>\n",
       "      <td>19.4</td>\n",
       "      <td>2</td>\n",
       "      <td>False</td>\n",
       "      <td>False</td>\n",
       "      <td>False</td>\n",
       "      <td>5.6</td>\n",
       "      <td>1.0</td>\n",
       "      <td>Санкт-Петербург</td>\n",
       "      <td>44060.0</td>\n",
       "      <td>10842.0</td>\n",
       "      <td>1.0</td>\n",
       "      <td>759.0</td>\n",
       "      <td>0.0</td>\n",
       "      <td>NaN</td>\n",
       "      <td>168.0</td>\n",
       "      <td>&gt;20</td>\n",
       "      <td>104838.709677</td>\n",
       "      <td>4</td>\n",
       "      <td>1</td>\n",
       "      <td>2017</td>\n",
       "      <td>другой</td>\n",
       "      <td>0.625806</td>\n",
       "      <td>0.180645</td>\n",
       "    </tr>\n",
       "    <tr>\n",
       "      <th>19</th>\n",
       "      <td>16</td>\n",
       "      <td>14200000.0</td>\n",
       "      <td>121.0</td>\n",
       "      <td>2019-01-09</td>\n",
       "      <td>3</td>\n",
       "      <td>2.75</td>\n",
       "      <td>16.0</td>\n",
       "      <td>76.0</td>\n",
       "      <td>8</td>\n",
       "      <td>False</td>\n",
       "      <td>False</td>\n",
       "      <td>False</td>\n",
       "      <td>12.0</td>\n",
       "      <td>0.0</td>\n",
       "      <td>Санкт-Петербург</td>\n",
       "      <td>38900.0</td>\n",
       "      <td>12843.0</td>\n",
       "      <td>0.0</td>\n",
       "      <td>NaN</td>\n",
       "      <td>0.0</td>\n",
       "      <td>NaN</td>\n",
       "      <td>97.0</td>\n",
       "      <td>&gt;100</td>\n",
       "      <td>117355.371901</td>\n",
       "      <td>2</td>\n",
       "      <td>1</td>\n",
       "      <td>2019</td>\n",
       "      <td>другой</td>\n",
       "      <td>0.628099</td>\n",
       "      <td>0.099174</td>\n",
       "    </tr>\n",
       "    <tr>\n",
       "      <th>25</th>\n",
       "      <td>3</td>\n",
       "      <td>6800000.0</td>\n",
       "      <td>76.0</td>\n",
       "      <td>2015-10-01</td>\n",
       "      <td>2</td>\n",
       "      <td>2.75</td>\n",
       "      <td>23.0</td>\n",
       "      <td>39.0</td>\n",
       "      <td>18</td>\n",
       "      <td>False</td>\n",
       "      <td>False</td>\n",
       "      <td>False</td>\n",
       "      <td>15.0</td>\n",
       "      <td>2.0</td>\n",
       "      <td>Санкт-Петербург</td>\n",
       "      <td>34967.0</td>\n",
       "      <td>14640.0</td>\n",
       "      <td>0.0</td>\n",
       "      <td>NaN</td>\n",
       "      <td>1.0</td>\n",
       "      <td>564.0</td>\n",
       "      <td>300.0</td>\n",
       "      <td>&gt;65</td>\n",
       "      <td>89473.684211</td>\n",
       "      <td>3</td>\n",
       "      <td>10</td>\n",
       "      <td>2015</td>\n",
       "      <td>другой</td>\n",
       "      <td>0.513158</td>\n",
       "      <td>0.197368</td>\n",
       "    </tr>\n",
       "    <tr>\n",
       "      <th>27</th>\n",
       "      <td>20</td>\n",
       "      <td>7100000.0</td>\n",
       "      <td>70.0</td>\n",
       "      <td>2017-05-12</td>\n",
       "      <td>3</td>\n",
       "      <td>2.60</td>\n",
       "      <td>17.0</td>\n",
       "      <td>49.0</td>\n",
       "      <td>11</td>\n",
       "      <td>False</td>\n",
       "      <td>False</td>\n",
       "      <td>False</td>\n",
       "      <td>9.2</td>\n",
       "      <td>0.0</td>\n",
       "      <td>Санкт-Петербург</td>\n",
       "      <td>29197.0</td>\n",
       "      <td>11456.0</td>\n",
       "      <td>2.0</td>\n",
       "      <td>452.0</td>\n",
       "      <td>1.0</td>\n",
       "      <td>779.0</td>\n",
       "      <td>151.0</td>\n",
       "      <td>&gt;65</td>\n",
       "      <td>101428.571429</td>\n",
       "      <td>4</td>\n",
       "      <td>5</td>\n",
       "      <td>2017</td>\n",
       "      <td>другой</td>\n",
       "      <td>0.700000</td>\n",
       "      <td>0.131429</td>\n",
       "    </tr>\n",
       "    <tr>\n",
       "      <th>31</th>\n",
       "      <td>8</td>\n",
       "      <td>7200000.0</td>\n",
       "      <td>67.9</td>\n",
       "      <td>2017-10-26</td>\n",
       "      <td>2</td>\n",
       "      <td>2.80</td>\n",
       "      <td>16.0</td>\n",
       "      <td>38.1</td>\n",
       "      <td>4</td>\n",
       "      <td>False</td>\n",
       "      <td>False</td>\n",
       "      <td>False</td>\n",
       "      <td>13.4</td>\n",
       "      <td>2.0</td>\n",
       "      <td>Санкт-Петербург</td>\n",
       "      <td>32888.0</td>\n",
       "      <td>12944.0</td>\n",
       "      <td>0.0</td>\n",
       "      <td>NaN</td>\n",
       "      <td>0.0</td>\n",
       "      <td>NaN</td>\n",
       "      <td>112.0</td>\n",
       "      <td>&gt;65</td>\n",
       "      <td>106038.291605</td>\n",
       "      <td>3</td>\n",
       "      <td>10</td>\n",
       "      <td>2017</td>\n",
       "      <td>другой</td>\n",
       "      <td>0.561119</td>\n",
       "      <td>0.197349</td>\n",
       "    </tr>\n",
       "    <tr>\n",
       "      <th>34</th>\n",
       "      <td>3</td>\n",
       "      <td>3290000.0</td>\n",
       "      <td>33.0</td>\n",
       "      <td>2018-02-04</td>\n",
       "      <td>1</td>\n",
       "      <td>2.55</td>\n",
       "      <td>16.0</td>\n",
       "      <td>14.0</td>\n",
       "      <td>3</td>\n",
       "      <td>False</td>\n",
       "      <td>False</td>\n",
       "      <td>False</td>\n",
       "      <td>8.0</td>\n",
       "      <td>0.0</td>\n",
       "      <td>Санкт-Петербург</td>\n",
       "      <td>13943.0</td>\n",
       "      <td>12739.0</td>\n",
       "      <td>0.0</td>\n",
       "      <td>NaN</td>\n",
       "      <td>0.0</td>\n",
       "      <td>NaN</td>\n",
       "      <td>15.0</td>\n",
       "      <td>&gt;20</td>\n",
       "      <td>99696.969697</td>\n",
       "      <td>6</td>\n",
       "      <td>2</td>\n",
       "      <td>2018</td>\n",
       "      <td>другой</td>\n",
       "      <td>0.424242</td>\n",
       "      <td>0.242424</td>\n",
       "    </tr>\n",
       "  </tbody>\n",
       "</table>\n",
       "</div>"
      ],
      "text/plain": [
       "    total_images  last_price  total_area first_day_exposition  rooms  \\\n",
       "4              2  10000000.0       100.0           2018-06-19      2   \n",
       "9             18   5400000.0        61.0           2017-02-26      3   \n",
       "10             5   5050000.0        39.6           2017-11-16      1   \n",
       "16            11   6700000.0        82.0           2017-11-23      3   \n",
       "18             8   3250000.0        31.0           2017-01-27      1   \n",
       "19            16  14200000.0       121.0           2019-01-09      3   \n",
       "25             3   6800000.0        76.0           2015-10-01      2   \n",
       "27            20   7100000.0        70.0           2017-05-12      3   \n",
       "31             8   7200000.0        67.9           2017-10-26      2   \n",
       "34             3   3290000.0        33.0           2018-02-04      1   \n",
       "\n",
       "    ceiling_height  floors_total  living_area  floor  is_apartment  studio  \\\n",
       "4             3.03          14.0         32.0     13         False   False   \n",
       "9             2.50           9.0         43.6      7         False   False   \n",
       "10            2.67          12.0         20.3      3         False   False   \n",
       "16            3.05           5.0         55.6      1         False   False   \n",
       "18            2.50           5.0         19.4      2         False   False   \n",
       "19            2.75          16.0         76.0      8         False   False   \n",
       "25            2.75          23.0         39.0     18         False   False   \n",
       "27            2.60          17.0         49.0     11         False   False   \n",
       "31            2.80          16.0         38.1      4         False   False   \n",
       "34            2.55          16.0         14.0      3         False   False   \n",
       "\n",
       "    open_plan  kitchen_area  balcony    locality_name  airports_nearest  \\\n",
       "4       False          41.0      0.0  Санкт-Петербург           31856.0   \n",
       "9       False           6.5      2.0  Санкт-Петербург           50898.0   \n",
       "10      False           8.5      0.0  Санкт-Петербург           38357.0   \n",
       "16      False           9.0      0.0  Санкт-Петербург           22108.0   \n",
       "18      False           5.6      1.0  Санкт-Петербург           44060.0   \n",
       "19      False          12.0      0.0  Санкт-Петербург           38900.0   \n",
       "25      False          15.0      2.0  Санкт-Петербург           34967.0   \n",
       "27      False           9.2      0.0  Санкт-Петербург           29197.0   \n",
       "31      False          13.4      2.0  Санкт-Петербург           32888.0   \n",
       "34      False           8.0      0.0  Санкт-Петербург           13943.0   \n",
       "\n",
       "    city_сenters_nearest  parks_around3000  parks_nearest  ponds_around3000  \\\n",
       "4                 8098.0               2.0          112.0               1.0   \n",
       "9                15008.0               0.0            NaN               0.0   \n",
       "10               13878.0               1.0          310.0               2.0   \n",
       "16               10698.0               3.0          420.0               0.0   \n",
       "18               10842.0               1.0          759.0               0.0   \n",
       "19               12843.0               0.0            NaN               0.0   \n",
       "25               14640.0               0.0            NaN               1.0   \n",
       "27               11456.0               2.0          452.0               1.0   \n",
       "31               12944.0               0.0            NaN               0.0   \n",
       "34               12739.0               0.0            NaN               0.0   \n",
       "\n",
       "    ponds_nearest  days_exposition total_area_category     price_metr  \\\n",
       "4            48.0            121.0                 >65  100000.000000   \n",
       "9             NaN            289.0                 >40   88524.590164   \n",
       "10          553.0            137.0                 >20  127525.252525   \n",
       "16            NaN            397.0                 >65   81707.317073   \n",
       "18            NaN            168.0                 >20  104838.709677   \n",
       "19            NaN             97.0                >100  117355.371901   \n",
       "25          564.0            300.0                 >65   89473.684211   \n",
       "27          779.0            151.0                 >65  101428.571429   \n",
       "31            NaN            112.0                 >65  106038.291605   \n",
       "34            NaN             15.0                 >20   99696.969697   \n",
       "\n",
       "    weekday_exposition  month_exposition  year_exposition floors_category  \\\n",
       "4                    1                 6             2018          другой   \n",
       "9                    6                 2             2017          другой   \n",
       "10                   3                11             2017          другой   \n",
       "16                   3                11             2017          первый   \n",
       "18                   4                 1             2017          другой   \n",
       "19                   2                 1             2019          другой   \n",
       "25                   3                10             2015          другой   \n",
       "27                   4                 5             2017          другой   \n",
       "31                   3                10             2017          другой   \n",
       "34                   6                 2             2018          другой   \n",
       "\n",
       "    ratio_living_area  ratio_kitchen_area  \n",
       "4            0.320000            0.410000  \n",
       "9            0.714754            0.106557  \n",
       "10           0.512626            0.214646  \n",
       "16           0.678049            0.109756  \n",
       "18           0.625806            0.180645  \n",
       "19           0.628099            0.099174  \n",
       "25           0.513158            0.197368  \n",
       "27           0.700000            0.131429  \n",
       "31           0.561119            0.197349  \n",
       "34           0.424242            0.242424  "
      ]
     },
     "execution_count": 89,
     "metadata": {},
     "output_type": "execute_result"
    }
   ],
   "source": [
    "data_filtered_centr = data_filtered[data_filtered['locality_name'] == 'Санкт-Петербург']\n",
    "data_filtered_centr.head(10)"
   ]
  },
  {
   "cell_type": "markdown",
   "metadata": {},
   "source": [
    "Посмотрим общую информацию по полученному датафрейму."
   ]
  },
  {
   "cell_type": "code",
   "execution_count": 90,
   "id": "a2f5be3d",
   "metadata": {
    "scrolled": true
   },
   "outputs": [
    {
     "name": "stdout",
     "output_type": "stream",
     "text": [
      "<class 'pandas.core.frame.DataFrame'>\n",
      "Int64Index: 7525 entries, 4 to 23689\n",
      "Data columns (total 30 columns):\n",
      " #   Column                Non-Null Count  Dtype         \n",
      "---  ------                --------------  -----         \n",
      " 0   total_images          7525 non-null   int64         \n",
      " 1   last_price            7525 non-null   float64       \n",
      " 2   total_area            7525 non-null   float64       \n",
      " 3   first_day_exposition  7525 non-null   datetime64[ns]\n",
      " 4   rooms                 7525 non-null   int64         \n",
      " 5   ceiling_height        7525 non-null   float64       \n",
      " 6   floors_total          7522 non-null   float64       \n",
      " 7   living_area           7525 non-null   float64       \n",
      " 8   floor                 7525 non-null   int64         \n",
      " 9   is_apartment          7525 non-null   bool          \n",
      " 10  studio                7525 non-null   bool          \n",
      " 11  open_plan             7525 non-null   bool          \n",
      " 12  kitchen_area          7525 non-null   float64       \n",
      " 13  balcony               7525 non-null   float64       \n",
      " 14  locality_name         7525 non-null   object        \n",
      " 15  airports_nearest      7500 non-null   float64       \n",
      " 16  city_сenters_nearest  7515 non-null   float64       \n",
      " 17  parks_around3000      7525 non-null   float64       \n",
      " 18  parks_nearest         3446 non-null   float64       \n",
      " 19  ponds_around3000      7525 non-null   float64       \n",
      " 20  ponds_nearest         3640 non-null   float64       \n",
      " 21  days_exposition       7525 non-null   float64       \n",
      " 22  total_area_category   7525 non-null   object        \n",
      " 23  price_metr            7525 non-null   float64       \n",
      " 24  weekday_exposition    7525 non-null   int64         \n",
      " 25  month_exposition      7525 non-null   int64         \n",
      " 26  year_exposition       7525 non-null   int64         \n",
      " 27  floors_category       7525 non-null   object        \n",
      " 28  ratio_living_area     7525 non-null   float64       \n",
      " 29  ratio_kitchen_area    7525 non-null   float64       \n",
      "dtypes: bool(3), datetime64[ns](1), float64(17), int64(6), object(3)\n",
      "memory usage: 1.6+ MB\n"
     ]
    }
   ],
   "source": [
    "data_filtered_centr.info()"
   ]
  },
  {
   "cell_type": "markdown",
   "metadata": {},
   "source": [
    "Посчитаем количество пропущенных значений."
   ]
  },
  {
   "cell_type": "code",
   "execution_count": 91,
   "id": "d8664f20",
   "metadata": {
    "scrolled": true
   },
   "outputs": [
    {
     "data": {
      "text/plain": [
       "total_images               0\n",
       "last_price                 0\n",
       "total_area                 0\n",
       "first_day_exposition       0\n",
       "rooms                      0\n",
       "ceiling_height             0\n",
       "floors_total               3\n",
       "living_area                0\n",
       "floor                      0\n",
       "is_apartment               0\n",
       "studio                     0\n",
       "open_plan                  0\n",
       "kitchen_area               0\n",
       "balcony                    0\n",
       "locality_name              0\n",
       "airports_nearest          25\n",
       "city_сenters_nearest      10\n",
       "parks_around3000           0\n",
       "parks_nearest           4079\n",
       "ponds_around3000           0\n",
       "ponds_nearest           3885\n",
       "days_exposition            0\n",
       "total_area_category        0\n",
       "price_metr                 0\n",
       "weekday_exposition         0\n",
       "month_exposition           0\n",
       "year_exposition            0\n",
       "floors_category            0\n",
       "ratio_living_area          0\n",
       "ratio_kitchen_area         0\n",
       "dtype: int64"
      ]
     },
     "execution_count": 91,
     "metadata": {},
     "output_type": "execute_result"
    }
   ],
   "source": [
    "data_filtered_centr.isna().sum()"
   ]
  },
  {
   "cell_type": "markdown",
   "metadata": {},
   "source": [
    "В столбце содержащем информацию о расстоянии до центра присутствуют пропуски. Посчитаем какую долю от общего количества значений в датафрейме они составляют."
   ]
  },
  {
   "cell_type": "code",
   "execution_count": 92,
   "id": "0493a3da",
   "metadata": {
    "scrolled": true
   },
   "outputs": [
    {
     "data": {
      "text/plain": [
       "0.00132890365448505"
      ]
     },
     "execution_count": 92,
     "metadata": {},
     "output_type": "execute_result"
    }
   ],
   "source": [
    "data_filtered_centr['city_сenters_nearest'].isna().sum() / len(data_filtered_centr['city_сenters_nearest'])"
   ]
  },
  {
   "cell_type": "markdown",
   "metadata": {},
   "source": [
    "Доля пропусков составляет чуть более 0,1%, можно удалить эти строки. Ведь далее необходимо рассчитать среднюю цену для каждого километра и пропущенные значения будут мешать."
   ]
  },
  {
   "cell_type": "code",
   "execution_count": 93,
   "id": "81c0a4fc",
   "metadata": {},
   "outputs": [],
   "source": [
    "data_filtered_centr = data_filtered_centr.dropna(subset =['city_сenters_nearest'])"
   ]
  },
  {
   "cell_type": "code",
   "execution_count": 94,
   "id": "af76b890",
   "metadata": {
    "scrolled": true
   },
   "outputs": [
    {
     "data": {
      "text/plain": [
       "total_images               0\n",
       "last_price                 0\n",
       "total_area                 0\n",
       "first_day_exposition       0\n",
       "rooms                      0\n",
       "ceiling_height             0\n",
       "floors_total               3\n",
       "living_area                0\n",
       "floor                      0\n",
       "is_apartment               0\n",
       "studio                     0\n",
       "open_plan                  0\n",
       "kitchen_area               0\n",
       "balcony                    0\n",
       "locality_name              0\n",
       "airports_nearest          15\n",
       "city_сenters_nearest       0\n",
       "parks_around3000           0\n",
       "parks_nearest           4069\n",
       "ponds_around3000           0\n",
       "ponds_nearest           3875\n",
       "days_exposition            0\n",
       "total_area_category        0\n",
       "price_metr                 0\n",
       "weekday_exposition         0\n",
       "month_exposition           0\n",
       "year_exposition            0\n",
       "floors_category            0\n",
       "ratio_living_area          0\n",
       "ratio_kitchen_area         0\n",
       "dtype: int64"
      ]
     },
     "execution_count": 94,
     "metadata": {},
     "output_type": "execute_result"
    }
   ],
   "source": [
    "data_filtered_centr.isna().sum()"
   ]
  },
  {
   "cell_type": "markdown",
   "metadata": {},
   "source": [
    "Пропущенных значений в данном столбце больше нет."
   ]
  },
  {
   "cell_type": "markdown",
   "metadata": {},
   "source": [
    "Создадим датафрейм который будет содержать информацию о цене, расстоянии до центра, цене за квадратный метр и общей площади. Добвим в него столбец со значение расстояния до центра в километрах."
   ]
  },
  {
   "cell_type": "code",
   "execution_count": 95,
   "id": "86680f32",
   "metadata": {},
   "outputs": [],
   "source": [
    "data_filtered_centr1 = data_filtered_centr.loc[:, ['last_price', 'city_сenters_nearest', 'price_metr', 'total_area']]"
   ]
  },
  {
   "cell_type": "code",
   "execution_count": 96,
   "id": "74faab37",
   "metadata": {},
   "outputs": [
    {
     "data": {
      "text/html": [
       "<div>\n",
       "<style scoped>\n",
       "    .dataframe tbody tr th:only-of-type {\n",
       "        vertical-align: middle;\n",
       "    }\n",
       "\n",
       "    .dataframe tbody tr th {\n",
       "        vertical-align: top;\n",
       "    }\n",
       "\n",
       "    .dataframe thead th {\n",
       "        text-align: right;\n",
       "    }\n",
       "</style>\n",
       "<table border=\"1\" class=\"dataframe\">\n",
       "  <thead>\n",
       "    <tr style=\"text-align: right;\">\n",
       "      <th></th>\n",
       "      <th>last_price</th>\n",
       "      <th>city_сenters_nearest</th>\n",
       "      <th>price_metr</th>\n",
       "      <th>total_area</th>\n",
       "      <th>city_сenters_km</th>\n",
       "    </tr>\n",
       "  </thead>\n",
       "  <tbody>\n",
       "    <tr>\n",
       "      <th>4</th>\n",
       "      <td>10000000.0</td>\n",
       "      <td>8098.0</td>\n",
       "      <td>100000.000000</td>\n",
       "      <td>100.0</td>\n",
       "      <td>8.0</td>\n",
       "    </tr>\n",
       "    <tr>\n",
       "      <th>9</th>\n",
       "      <td>5400000.0</td>\n",
       "      <td>15008.0</td>\n",
       "      <td>88524.590164</td>\n",
       "      <td>61.0</td>\n",
       "      <td>15.0</td>\n",
       "    </tr>\n",
       "    <tr>\n",
       "      <th>10</th>\n",
       "      <td>5050000.0</td>\n",
       "      <td>13878.0</td>\n",
       "      <td>127525.252525</td>\n",
       "      <td>39.6</td>\n",
       "      <td>14.0</td>\n",
       "    </tr>\n",
       "    <tr>\n",
       "      <th>16</th>\n",
       "      <td>6700000.0</td>\n",
       "      <td>10698.0</td>\n",
       "      <td>81707.317073</td>\n",
       "      <td>82.0</td>\n",
       "      <td>11.0</td>\n",
       "    </tr>\n",
       "    <tr>\n",
       "      <th>18</th>\n",
       "      <td>3250000.0</td>\n",
       "      <td>10842.0</td>\n",
       "      <td>104838.709677</td>\n",
       "      <td>31.0</td>\n",
       "      <td>11.0</td>\n",
       "    </tr>\n",
       "    <tr>\n",
       "      <th>19</th>\n",
       "      <td>14200000.0</td>\n",
       "      <td>12843.0</td>\n",
       "      <td>117355.371901</td>\n",
       "      <td>121.0</td>\n",
       "      <td>13.0</td>\n",
       "    </tr>\n",
       "    <tr>\n",
       "      <th>25</th>\n",
       "      <td>6800000.0</td>\n",
       "      <td>14640.0</td>\n",
       "      <td>89473.684211</td>\n",
       "      <td>76.0</td>\n",
       "      <td>15.0</td>\n",
       "    </tr>\n",
       "    <tr>\n",
       "      <th>27</th>\n",
       "      <td>7100000.0</td>\n",
       "      <td>11456.0</td>\n",
       "      <td>101428.571429</td>\n",
       "      <td>70.0</td>\n",
       "      <td>11.0</td>\n",
       "    </tr>\n",
       "    <tr>\n",
       "      <th>31</th>\n",
       "      <td>7200000.0</td>\n",
       "      <td>12944.0</td>\n",
       "      <td>106038.291605</td>\n",
       "      <td>67.9</td>\n",
       "      <td>13.0</td>\n",
       "    </tr>\n",
       "    <tr>\n",
       "      <th>34</th>\n",
       "      <td>3290000.0</td>\n",
       "      <td>12739.0</td>\n",
       "      <td>99696.969697</td>\n",
       "      <td>33.0</td>\n",
       "      <td>13.0</td>\n",
       "    </tr>\n",
       "  </tbody>\n",
       "</table>\n",
       "</div>"
      ],
      "text/plain": [
       "    last_price  city_сenters_nearest     price_metr  total_area  \\\n",
       "4   10000000.0                8098.0  100000.000000       100.0   \n",
       "9    5400000.0               15008.0   88524.590164        61.0   \n",
       "10   5050000.0               13878.0  127525.252525        39.6   \n",
       "16   6700000.0               10698.0   81707.317073        82.0   \n",
       "18   3250000.0               10842.0  104838.709677        31.0   \n",
       "19  14200000.0               12843.0  117355.371901       121.0   \n",
       "25   6800000.0               14640.0   89473.684211        76.0   \n",
       "27   7100000.0               11456.0  101428.571429        70.0   \n",
       "31   7200000.0               12944.0  106038.291605        67.9   \n",
       "34   3290000.0               12739.0   99696.969697        33.0   \n",
       "\n",
       "    city_сenters_km  \n",
       "4               8.0  \n",
       "9              15.0  \n",
       "10             14.0  \n",
       "16             11.0  \n",
       "18             11.0  \n",
       "19             13.0  \n",
       "25             15.0  \n",
       "27             11.0  \n",
       "31             13.0  \n",
       "34             13.0  "
      ]
     },
     "execution_count": 96,
     "metadata": {},
     "output_type": "execute_result"
    }
   ],
   "source": [
    "data_filtered_centr1['city_сenters_km'] = round(data_filtered_centr1['city_сenters_nearest'] / 1000)\n",
    "data_filtered_centr1.head(10)"
   ]
  },
  {
   "cell_type": "code",
   "execution_count": 97,
   "id": "b8d47ec0",
   "metadata": {
    "scrolled": true
   },
   "outputs": [
    {
     "name": "stdout",
     "output_type": "stream",
     "text": [
      "<class 'pandas.core.frame.DataFrame'>\n",
      "Int64Index: 7515 entries, 4 to 23689\n",
      "Data columns (total 5 columns):\n",
      " #   Column                Non-Null Count  Dtype  \n",
      "---  ------                --------------  -----  \n",
      " 0   last_price            7515 non-null   float64\n",
      " 1   city_сenters_nearest  7515 non-null   float64\n",
      " 2   price_metr            7515 non-null   float64\n",
      " 3   total_area            7515 non-null   float64\n",
      " 4   city_сenters_km       7515 non-null   int64  \n",
      "dtypes: float64(4), int64(1)\n",
      "memory usage: 352.3 KB\n"
     ]
    }
   ],
   "source": [
    "# изменим тип данных в столбце с расстояниянием до центра в километрах на целочисленный\n",
    "data_filtered_centr1['city_сenters_km'] = data_filtered_centr1['city_сenters_km'].astype(int)\n",
    "data_filtered_centr1.info()"
   ]
  },
  {
   "cell_type": "markdown",
   "metadata": {},
   "source": [
    "Создадим сводную таблицу со средней ценой квартиры для каждого километра."
   ]
  },
  {
   "cell_type": "code",
   "execution_count": 98,
   "id": "7d57a5be",
   "metadata": {},
   "outputs": [
    {
     "data": {
      "text/html": [
       "<div>\n",
       "<style scoped>\n",
       "    .dataframe tbody tr th:only-of-type {\n",
       "        vertical-align: middle;\n",
       "    }\n",
       "\n",
       "    .dataframe tbody tr th {\n",
       "        vertical-align: top;\n",
       "    }\n",
       "\n",
       "    .dataframe thead th {\n",
       "        text-align: right;\n",
       "    }\n",
       "</style>\n",
       "<table border=\"1\" class=\"dataframe\">\n",
       "  <thead>\n",
       "    <tr style=\"text-align: right;\">\n",
       "      <th></th>\n",
       "      <th>last_price</th>\n",
       "    </tr>\n",
       "    <tr>\n",
       "      <th>city_сenters_km</th>\n",
       "      <th></th>\n",
       "    </tr>\n",
       "  </thead>\n",
       "  <tbody>\n",
       "    <tr>\n",
       "      <th>0</th>\n",
       "      <td>1.201636e+07</td>\n",
       "    </tr>\n",
       "    <tr>\n",
       "      <th>1</th>\n",
       "      <td>1.274047e+07</td>\n",
       "    </tr>\n",
       "    <tr>\n",
       "      <th>2</th>\n",
       "      <td>1.117220e+07</td>\n",
       "    </tr>\n",
       "    <tr>\n",
       "      <th>3</th>\n",
       "      <td>9.343556e+06</td>\n",
       "    </tr>\n",
       "    <tr>\n",
       "      <th>4</th>\n",
       "      <td>1.072386e+07</td>\n",
       "    </tr>\n",
       "    <tr>\n",
       "      <th>5</th>\n",
       "      <td>1.106324e+07</td>\n",
       "    </tr>\n",
       "    <tr>\n",
       "      <th>6</th>\n",
       "      <td>1.002439e+07</td>\n",
       "    </tr>\n",
       "    <tr>\n",
       "      <th>7</th>\n",
       "      <td>8.973974e+06</td>\n",
       "    </tr>\n",
       "    <tr>\n",
       "      <th>8</th>\n",
       "      <td>8.535991e+06</td>\n",
       "    </tr>\n",
       "    <tr>\n",
       "      <th>9</th>\n",
       "      <td>7.071253e+06</td>\n",
       "    </tr>\n",
       "  </tbody>\n",
       "</table>\n",
       "</div>"
      ],
      "text/plain": [
       "                   last_price\n",
       "city_сenters_km              \n",
       "0                1.201636e+07\n",
       "1                1.274047e+07\n",
       "2                1.117220e+07\n",
       "3                9.343556e+06\n",
       "4                1.072386e+07\n",
       "5                1.106324e+07\n",
       "6                1.002439e+07\n",
       "7                8.973974e+06\n",
       "8                8.535991e+06\n",
       "9                7.071253e+06"
      ]
     },
     "execution_count": 98,
     "metadata": {},
     "output_type": "execute_result"
    }
   ],
   "source": [
    "data_filtered_centr1.pivot_table(index='city_сenters_km', values='last_price').head(10)"
   ]
  },
  {
   "cell_type": "markdown",
   "metadata": {},
   "source": [
    "По полученным данным построим график зависимости цены квартиры от расстояния от центра."
   ]
  },
  {
   "cell_type": "code",
   "execution_count": 99,
   "id": "ba490a62",
   "metadata": {},
   "outputs": [
    {
     "data": {
      "text/plain": [
       "<AxesSubplot:xlabel='city_сenters_km'>"
      ]
     },
     "execution_count": 99,
     "metadata": {},
     "output_type": "execute_result"
    },
    {
     "data": {
      "image/png": "[encoded data removed]",
      "text/plain": [
       "<Figure size 720x576 with 1 Axes>"
      ]
     },
     "metadata": {
      "needs_background": "light"
     },
     "output_type": "display_data"
    }
   ],
   "source": [
    "data_filtered_centr1.pivot_table(index='city_сenters_km', values='last_price').plot(grid=True, figsize=(10, 8))"
   ]
  },
  {
   "cell_type": "markdown",
   "metadata": {},
   "source": [
    "По полученному графику видно, что с отдалением от центра средняя стоимость квартир снижается. Однако на расстоянии 27 км от центра наблюдается резкий скачок цены и далее опять снижение. Данный скачок может быть обусловлен, тем что кватртира в элитном доме или расположены рядом с достопримечательностями, а возможно владельцы плохо разбираются в рыночных ценах и написали желаемую стоимость. В любом случае динамика снижения стоимости при отдалении от центра явная, снижение цены наблюдается после 5 км, поэтому примем это расстояние за границу центральной зоны.  "
   ]
  },
  {
   "cell_type": "markdown",
   "metadata": {},
   "source": [
    "###  Анализ квартир в центре Санкт-Петербурга"
   ]
  },
  {
   "cell_type": "markdown",
   "id": "cb7ade13",
   "metadata": {},
   "source": [
    "Выделите сегмент квартир в центре. Проанализируйте эту территорию и изучите следующие параметры: площадь, цена, число комнат, высота потолков. Также выделите факторы, которые влияют на стоимость квартиры (число комнат, этаж, удалённость от центра, дата размещения объявления). Сделайте выводы. Отличаются ли они от общих выводов по всей базе?"
   ]
  },
  {
   "cell_type": "markdown",
   "metadata": {},
   "source": [
    "На основе датафрейм с информацией по квартирам только в Санкт-Петербурге data_filtered_centr проведем анализ факторов которые влияют на стоимость квартиры в центре (в пределах 5 км). Создадаим датафрейм data_filtered_centr_city который будет содержать данные о цене, площади, количестве комнат, удалённости от центра, этажности и дате размещения."
   ]
  },
  {
   "cell_type": "code",
   "execution_count": 100,
   "id": "09d4a048",
   "metadata": {},
   "outputs": [],
   "source": [
    "data_filtered_centr_city = (data_filtered_centr[data_filtered_centr['city_сenters_nearest'] <= 5000]\n",
    "                            .loc[:, ['last_price', 'total_area', 'rooms', 'city_сenters_nearest',\n",
    "                                     'floors_category', 'weekday_exposition', 'month_exposition', 'year_exposition']]\n",
    "                           )"
   ]
  },
  {
   "cell_type": "code",
   "execution_count": 101,
   "id": "e4098858",
   "metadata": {},
   "outputs": [
    {
     "data": {
      "text/html": [
       "<div>\n",
       "<style scoped>\n",
       "    .dataframe tbody tr th:only-of-type {\n",
       "        vertical-align: middle;\n",
       "    }\n",
       "\n",
       "    .dataframe tbody tr th {\n",
       "        vertical-align: top;\n",
       "    }\n",
       "\n",
       "    .dataframe thead th {\n",
       "        text-align: right;\n",
       "    }\n",
       "</style>\n",
       "<table border=\"1\" class=\"dataframe\">\n",
       "  <thead>\n",
       "    <tr style=\"text-align: right;\">\n",
       "      <th></th>\n",
       "      <th>last_price</th>\n",
       "      <th>total_area</th>\n",
       "      <th>rooms</th>\n",
       "      <th>city_сenters_nearest</th>\n",
       "      <th>floors_category</th>\n",
       "      <th>weekday_exposition</th>\n",
       "      <th>month_exposition</th>\n",
       "      <th>year_exposition</th>\n",
       "    </tr>\n",
       "  </thead>\n",
       "  <tbody>\n",
       "    <tr>\n",
       "      <th>63</th>\n",
       "      <td>20000000.0</td>\n",
       "      <td>118.0</td>\n",
       "      <td>3</td>\n",
       "      <td>4800.0</td>\n",
       "      <td>другой</td>\n",
       "      <td>1</td>\n",
       "      <td>9</td>\n",
       "      <td>2018</td>\n",
       "    </tr>\n",
       "    <tr>\n",
       "      <th>121</th>\n",
       "      <td>33000000.0</td>\n",
       "      <td>180.0</td>\n",
       "      <td>3</td>\n",
       "      <td>4264.0</td>\n",
       "      <td>другой</td>\n",
       "      <td>4</td>\n",
       "      <td>2</td>\n",
       "      <td>2017</td>\n",
       "    </tr>\n",
       "    <tr>\n",
       "      <th>136</th>\n",
       "      <td>6500000.0</td>\n",
       "      <td>51.8</td>\n",
       "      <td>2</td>\n",
       "      <td>3618.0</td>\n",
       "      <td>другой</td>\n",
       "      <td>2</td>\n",
       "      <td>8</td>\n",
       "      <td>2018</td>\n",
       "    </tr>\n",
       "    <tr>\n",
       "      <th>137</th>\n",
       "      <td>13310800.0</td>\n",
       "      <td>85.1</td>\n",
       "      <td>2</td>\n",
       "      <td>4263.0</td>\n",
       "      <td>другой</td>\n",
       "      <td>0</td>\n",
       "      <td>1</td>\n",
       "      <td>2018</td>\n",
       "    </tr>\n",
       "    <tr>\n",
       "      <th>147</th>\n",
       "      <td>27700000.0</td>\n",
       "      <td>179.6</td>\n",
       "      <td>5</td>\n",
       "      <td>4489.0</td>\n",
       "      <td>последний</td>\n",
       "      <td>3</td>\n",
       "      <td>7</td>\n",
       "      <td>2017</td>\n",
       "    </tr>\n",
       "    <tr>\n",
       "      <th>154</th>\n",
       "      <td>8200000.0</td>\n",
       "      <td>80.0</td>\n",
       "      <td>3</td>\n",
       "      <td>3167.0</td>\n",
       "      <td>другой</td>\n",
       "      <td>1</td>\n",
       "      <td>11</td>\n",
       "      <td>2018</td>\n",
       "    </tr>\n",
       "    <tr>\n",
       "      <th>159</th>\n",
       "      <td>7050000.0</td>\n",
       "      <td>66.0</td>\n",
       "      <td>3</td>\n",
       "      <td>4937.0</td>\n",
       "      <td>последний</td>\n",
       "      <td>0</td>\n",
       "      <td>9</td>\n",
       "      <td>2017</td>\n",
       "    </tr>\n",
       "    <tr>\n",
       "      <th>239</th>\n",
       "      <td>22000000.0</td>\n",
       "      <td>119.0</td>\n",
       "      <td>3</td>\n",
       "      <td>2004.0</td>\n",
       "      <td>другой</td>\n",
       "      <td>3</td>\n",
       "      <td>2</td>\n",
       "      <td>2017</td>\n",
       "    </tr>\n",
       "    <tr>\n",
       "      <th>291</th>\n",
       "      <td>5900000.0</td>\n",
       "      <td>70.0</td>\n",
       "      <td>3</td>\n",
       "      <td>4132.0</td>\n",
       "      <td>первый</td>\n",
       "      <td>1</td>\n",
       "      <td>1</td>\n",
       "      <td>2017</td>\n",
       "    </tr>\n",
       "    <tr>\n",
       "      <th>379</th>\n",
       "      <td>21000000.0</td>\n",
       "      <td>96.0</td>\n",
       "      <td>2</td>\n",
       "      <td>2391.0</td>\n",
       "      <td>первый</td>\n",
       "      <td>1</td>\n",
       "      <td>2</td>\n",
       "      <td>2017</td>\n",
       "    </tr>\n",
       "  </tbody>\n",
       "</table>\n",
       "</div>"
      ],
      "text/plain": [
       "     last_price  total_area  rooms  city_сenters_nearest floors_category  \\\n",
       "63   20000000.0       118.0      3                4800.0          другой   \n",
       "121  33000000.0       180.0      3                4264.0          другой   \n",
       "136   6500000.0        51.8      2                3618.0          другой   \n",
       "137  13310800.0        85.1      2                4263.0          другой   \n",
       "147  27700000.0       179.6      5                4489.0       последний   \n",
       "154   8200000.0        80.0      3                3167.0          другой   \n",
       "159   7050000.0        66.0      3                4937.0       последний   \n",
       "239  22000000.0       119.0      3                2004.0          другой   \n",
       "291   5900000.0        70.0      3                4132.0          первый   \n",
       "379  21000000.0        96.0      2                2391.0          первый   \n",
       "\n",
       "     weekday_exposition  month_exposition  year_exposition  \n",
       "63                    1                 9             2018  \n",
       "121                   4                 2             2017  \n",
       "136                   2                 8             2018  \n",
       "137                   0                 1             2018  \n",
       "147                   3                 7             2017  \n",
       "154                   1                11             2018  \n",
       "159                   0                 9             2017  \n",
       "239                   3                 2             2017  \n",
       "291                   1                 1             2017  \n",
       "379                   1                 2             2017  "
      ]
     },
     "execution_count": 101,
     "metadata": {},
     "output_type": "execute_result"
    }
   ],
   "source": [
    "data_filtered_centr_city.head(10)"
   ]
  },
  {
   "cell_type": "code",
   "execution_count": 102,
   "metadata": {},
   "outputs": [
    {
     "name": "stdout",
     "output_type": "stream",
     "text": [
      "<class 'pandas.core.frame.DataFrame'>\n",
      "Int64Index: 871 entries, 63 to 23644\n",
      "Data columns (total 8 columns):\n",
      " #   Column                Non-Null Count  Dtype  \n",
      "---  ------                --------------  -----  \n",
      " 0   last_price            871 non-null    float64\n",
      " 1   total_area            871 non-null    float64\n",
      " 2   rooms                 871 non-null    int64  \n",
      " 3   city_сenters_nearest  871 non-null    float64\n",
      " 4   floors_category       871 non-null    object \n",
      " 5   weekday_exposition    871 non-null    int64  \n",
      " 6   month_exposition      871 non-null    int64  \n",
      " 7   year_exposition       871 non-null    int64  \n",
      "dtypes: float64(3), int64(4), object(1)\n",
      "memory usage: 61.2+ KB\n"
     ]
    }
   ],
   "source": [
    "data_filtered_centr_city.info()"
   ]
  },
  {
   "cell_type": "markdown",
   "metadata": {},
   "source": [
    "При помощи цикла построим графики зависимости стоимости квартиры от различных факторов."
   ]
  },
  {
   "cell_type": "code",
   "execution_count": 103,
   "metadata": {
    "scrolled": false
   },
   "outputs": [
    {
     "data": {
      "image/png": "[encoded data removed]",
      "text/plain": [
       "<Figure size 432x288 with 1 Axes>"
      ]
     },
     "metadata": {
      "needs_background": "light"
     },
     "output_type": "display_data"
    },
    {
     "data": {
      "image/png": "[encoded data removed]",
      "text/plain": [
       "<Figure size 432x288 with 1 Axes>"
      ]
     },
     "metadata": {
      "needs_background": "light"
     },
     "output_type": "display_data"
    },
    {
     "data": {
      "image/png": "[encoded data removed]",
      "text/plain": [
       "<Figure size 432x288 with 1 Axes>"
      ]
     },
     "metadata": {
      "needs_background": "light"
     },
     "output_type": "display_data"
    },
    {
     "data": {
      "image/png": "[encoded data removed]",
      "text/plain": [
       "<Figure size 432x288 with 1 Axes>"
      ]
     },
     "metadata": {
      "needs_background": "light"
     },
     "output_type": "display_data"
    },
    {
     "data": {
      "image/png": "[encoded data removed]",
      "text/plain": [
       "<Figure size 432x288 with 1 Axes>"
      ]
     },
     "metadata": {
      "needs_background": "light"
     },
     "output_type": "display_data"
    },
    {
     "data": {
      "image/png": "[encoded data removed]",
      "text/plain": [
       "<Figure size 432x288 with 1 Axes>"
      ]
     },
     "metadata": {
      "needs_background": "light"
     },
     "output_type": "display_data"
    },
    {
     "data": {
      "image/png": "[encoded data removed]",
      "text/plain": [
       "<Figure size 432x288 with 1 Axes>"
      ]
     },
     "metadata": {
      "needs_background": "light"
     },
     "output_type": "display_data"
    }
   ],
   "source": [
    "for arg in ['total_area', 'rooms', 'city_сenters_nearest', 'floors_category', 'weekday_exposition',\n",
    "            'month_exposition', 'year_exposition']:\n",
    "    (data_filtered_centr_city.sort_values('last_price')\n",
    "    .plot(style='o', x=arg, y='last_price', grid= True, title=(f'Зависимость last_price от {arg}'))\n",
    "    )"
   ]
  },
  {
   "cell_type": "markdown",
   "metadata": {},
   "source": [
    "По получившимся графикам видно, что с увеличением площади цена растет, при маленькой площади наблюдается более строгая прямая зависимость, а с увеличением площади разброс в цене растет. С увеличением количества комнат также увеличивается стоимость, данных с количеством комнат более 4 значительно меньше стоимость их не увеличивается. Разброс по цене в зависимости от расстояния от центра наблюдается на всех 5 км. Но можно выделить, что до 1 км стоимость большинства квартир не находится в лдной ценовой категории, а по мере увеличения расстояния становится видно, что большинство квартир по прежнему состдоточено в стоимости от 5 до 10 млн. Минимальная стоитость кавртир по мере удаления от центра уменьшается. в зависимости от дня недели не сильно изменяетсяю Можно отметить, что в субботу убольшинства квартир стоимость ниже, чем в другие дни. По месяцам стоимость снижается в апреле-июне. В 2015 году большая часть объявлений была по меньшей цене, чем в последующие годы. В 2019 стоимость большинства объявлений уменьшилась, но возможно за этот год просто менбше данных, так как объявления по стоимости 2018 года присутствуют.  "
   ]
  },
  {
   "cell_type": "markdown",
   "metadata": {},
   "source": [
    "Добавим графики изменения стоимости по категориям этажности."
   ]
  },
  {
   "cell_type": "code",
   "execution_count": 104,
   "id": "a4c5b184",
   "metadata": {
    "scrolled": false
   },
   "outputs": [
    {
     "data": {
      "text/plain": [
       "floors_category\n",
       "другой       AxesSubplot(0.125,0.125;0.775x0.755)\n",
       "первый       AxesSubplot(0.125,0.125;0.775x0.755)\n",
       "последний    AxesSubplot(0.125,0.125;0.775x0.755)\n",
       "dtype: object"
      ]
     },
     "execution_count": 104,
     "metadata": {},
     "output_type": "execute_result"
    },
    {
     "data": {
      "image/png": "[encoded data removed]",
      "text/plain": [
       "<Figure size 576x432 with 1 Axes>"
      ]
     },
     "metadata": {
      "needs_background": "light"
     },
     "output_type": "display_data"
    },
    {
     "data": {
      "image/png": "[encoded data removed]",
      "text/plain": [
       "<Figure size 576x432 with 1 Axes>"
      ]
     },
     "metadata": {
      "needs_background": "light"
     },
     "output_type": "display_data"
    },
    {
     "data": {
      "image/png": "[encoded data removed]",
      "text/plain": [
       "<Figure size 576x432 with 1 Axes>"
      ]
     },
     "metadata": {
      "needs_background": "light"
     },
     "output_type": "display_data"
    }
   ],
   "source": [
    "data_filtered_centr_city.sort_values('last_price').groupby('floors_category').plot(style='o',x='floors_category', y='last_price', grid= True, figsize=(8,6))"
   ]
  },
  {
   "cell_type": "markdown",
   "metadata": {},
   "source": [
    "По данным графикам видно, что в каждой категории изменение цены происходит одинаково и каких-либо отклонений ни в одной категории нет. Наблюдается плавное увеличение до 10 млн., затем цена начинает рости быстрее. Стоимость квартир на последнем этаже плавно увеличивается до 15 млн. "
   ]
  },
  {
   "cell_type": "markdown",
   "metadata": {},
   "source": [
    "Сравним медианные значения стоимости квартир в каждой категории этажности. Для этого построим график зависимости медианной стоимости квартиры от этажности. "
   ]
  },
  {
   "cell_type": "code",
   "execution_count": 105,
   "id": "6d82ae06",
   "metadata": {
    "scrolled": true
   },
   "outputs": [
    {
     "data": {
      "image/png": "[encoded data removed]",
      "text/plain": [
       "<Figure size 576x432 with 1 Axes>"
      ]
     },
     "metadata": {
      "needs_background": "light"
     },
     "output_type": "display_data"
    }
   ],
   "source": [
    "(data_filtered_centr_city.groupby('floors_category').agg({'last_price':'median'}).sort_values('last_price')\n",
    ".plot(kind='bar', grid= True, figsize=(8,6)));"
   ]
  },
  {
   "cell_type": "markdown",
   "metadata": {},
   "source": [
    "По данному графику видно, что медианная стоимость квартир на первом этаже меньше, чем у квартир на последнем и другом этажах. Самая высокая медианная стоимость у квартир на другом этаже."
   ]
  },
  {
   "cell_type": "code",
   "execution_count": 106,
   "metadata": {
    "scrolled": false
   },
   "outputs": [
    {
     "data": {
      "text/html": [
       "<div>\n",
       "<style scoped>\n",
       "    .dataframe tbody tr th:only-of-type {\n",
       "        vertical-align: middle;\n",
       "    }\n",
       "\n",
       "    .dataframe tbody tr th {\n",
       "        vertical-align: top;\n",
       "    }\n",
       "\n",
       "    .dataframe thead th {\n",
       "        text-align: right;\n",
       "    }\n",
       "</style>\n",
       "<table border=\"1\" class=\"dataframe\">\n",
       "  <thead>\n",
       "    <tr style=\"text-align: right;\">\n",
       "      <th></th>\n",
       "      <th>last_price</th>\n",
       "      <th>total_area</th>\n",
       "      <th>rooms</th>\n",
       "      <th>city_сenters_nearest</th>\n",
       "      <th>weekday_exposition</th>\n",
       "      <th>month_exposition</th>\n",
       "      <th>year_exposition</th>\n",
       "    </tr>\n",
       "  </thead>\n",
       "  <tbody>\n",
       "    <tr>\n",
       "      <th>last_price</th>\n",
       "      <td>1.000000</td>\n",
       "      <td>0.711434</td>\n",
       "      <td>0.432101</td>\n",
       "      <td>-0.001028</td>\n",
       "      <td>-0.022246</td>\n",
       "      <td>-0.034866</td>\n",
       "      <td>-0.031927</td>\n",
       "    </tr>\n",
       "    <tr>\n",
       "      <th>total_area</th>\n",
       "      <td>0.711434</td>\n",
       "      <td>1.000000</td>\n",
       "      <td>0.781040</td>\n",
       "      <td>-0.044283</td>\n",
       "      <td>-0.008873</td>\n",
       "      <td>-0.062275</td>\n",
       "      <td>-0.099521</td>\n",
       "    </tr>\n",
       "    <tr>\n",
       "      <th>rooms</th>\n",
       "      <td>0.432101</td>\n",
       "      <td>0.781040</td>\n",
       "      <td>1.000000</td>\n",
       "      <td>-0.082143</td>\n",
       "      <td>-0.012067</td>\n",
       "      <td>-0.056593</td>\n",
       "      <td>-0.031964</td>\n",
       "    </tr>\n",
       "    <tr>\n",
       "      <th>city_сenters_nearest</th>\n",
       "      <td>-0.001028</td>\n",
       "      <td>-0.044283</td>\n",
       "      <td>-0.082143</td>\n",
       "      <td>1.000000</td>\n",
       "      <td>-0.073386</td>\n",
       "      <td>-0.017260</td>\n",
       "      <td>0.034111</td>\n",
       "    </tr>\n",
       "    <tr>\n",
       "      <th>weekday_exposition</th>\n",
       "      <td>-0.022246</td>\n",
       "      <td>-0.008873</td>\n",
       "      <td>-0.012067</td>\n",
       "      <td>-0.073386</td>\n",
       "      <td>1.000000</td>\n",
       "      <td>0.037917</td>\n",
       "      <td>0.015992</td>\n",
       "    </tr>\n",
       "    <tr>\n",
       "      <th>month_exposition</th>\n",
       "      <td>-0.034866</td>\n",
       "      <td>-0.062275</td>\n",
       "      <td>-0.056593</td>\n",
       "      <td>-0.017260</td>\n",
       "      <td>0.037917</td>\n",
       "      <td>1.000000</td>\n",
       "      <td>-0.234049</td>\n",
       "    </tr>\n",
       "    <tr>\n",
       "      <th>year_exposition</th>\n",
       "      <td>-0.031927</td>\n",
       "      <td>-0.099521</td>\n",
       "      <td>-0.031964</td>\n",
       "      <td>0.034111</td>\n",
       "      <td>0.015992</td>\n",
       "      <td>-0.234049</td>\n",
       "      <td>1.000000</td>\n",
       "    </tr>\n",
       "  </tbody>\n",
       "</table>\n",
       "</div>"
      ],
      "text/plain": [
       "                      last_price  total_area     rooms  city_сenters_nearest  \\\n",
       "last_price              1.000000    0.711434  0.432101             -0.001028   \n",
       "total_area              0.711434    1.000000  0.781040             -0.044283   \n",
       "rooms                   0.432101    0.781040  1.000000             -0.082143   \n",
       "city_сenters_nearest   -0.001028   -0.044283 -0.082143              1.000000   \n",
       "weekday_exposition     -0.022246   -0.008873 -0.012067             -0.073386   \n",
       "month_exposition       -0.034866   -0.062275 -0.056593             -0.017260   \n",
       "year_exposition        -0.031927   -0.099521 -0.031964              0.034111   \n",
       "\n",
       "                      weekday_exposition  month_exposition  year_exposition  \n",
       "last_price                     -0.022246         -0.034866        -0.031927  \n",
       "total_area                     -0.008873         -0.062275        -0.099521  \n",
       "rooms                          -0.012067         -0.056593        -0.031964  \n",
       "city_сenters_nearest           -0.073386         -0.017260         0.034111  \n",
       "weekday_exposition              1.000000          0.037917         0.015992  \n",
       "month_exposition                0.037917          1.000000        -0.234049  \n",
       "year_exposition                 0.015992         -0.234049         1.000000  "
      ]
     },
     "execution_count": 106,
     "metadata": {},
     "output_type": "execute_result"
    }
   ],
   "source": [
    "# построим матрицу корреляции\n",
    "data_filtered_centr_city.corr()"
   ]
  },
  {
   "cell_type": "markdown",
   "metadata": {},
   "source": [
    "Также подтверждаются выводы сделанные на основе графиков, что больше всего цена зависит от площади, затем от количества комнат. В этих двух случаях наблюдается прямая зависимость - при росте цены увеличиваются площадь и количество комнат. При уменьшении расстояния до центра цена растет (обратная зависимость), но изменение цены в центре от удаленности от центра практически не зависит. От дня недели, месяца и года размещения обявления стоимость квартиры практически не зависит."
   ]
  },
  {
   "cell_type": "markdown",
   "metadata": {},
   "source": [
    "## Общий вывод"
   ]
  },
  {
   "cell_type": "markdown",
   "metadata": {},
   "source": [
    "Был произведен анализ факторов от которых может зависеть стоимость квартир: от площади, числа комнат, удалённости от центра, этажа на котором расположена квартира: первом, последнем или другом, даты размещения: дня недели, месяца и года. \n",
    "С увеличением количества дней на которое были размещены объявления количество объявлений сокращается. Можно считать что продажи осуществились очень быстро в случае если объявление было размещено менее 45 дней, а необычно долго в случае размещения обявления более 220 дней.\n",
    "После исключения выбивающихся значений по получившимся графикам на основе данных об объявления о недвижимосте в Санкт-Петербурге и Ленинградской области видно, что с увеличением площади цена растет, при маленькой площади наблюдается более строгая прямая зависимость, а с увеличением площади разброс в цене растет. С увеличением количества комнат также увеличивается стоимость. Чем ближе к центру, тем больше разброс по цене. Стоимость в зависимости от дня недели не сильно изменяется, единственное что можно заметить, что в выходные стоимость ниже. По месяцам стоимость снижается в апреле-июне. В 2015 году большая часть объявлений была по меньшей цене, чем в последующие годы. В 2019 стоимость большинства объявлений уменьшилась, но возможно за этот год просто менбше данных, так как объявления по стоимости 2018 года присутствуют.  \n",
    "При построении графиков по данным об объявлениях о продаже недвижимости в центре Санкт-Петербурга наблюдаются те же зависимости: больше всего цена зависит от площади, затем от количества комнат. От дня недели, месяца и года размещения обявления стоимость квартиры практически не зависит. Отличием является то что в случае с центром города при уменьшении расстояния до центра изменение цены значительно меньше. "
   ]
  },
  {
   "cell_type": "markdown",
   "metadata": {},
   "source": [
    "Наименьшая стоимость жилья среди 10 населённых пунктов с наибольшим числом объявлений составляет 66291 руб во Всеволжске."
   ]
  },
  {
   "cell_type": "markdown",
   "metadata": {},
   "source": [
    "Наибольшая стоимость жилья среди 10 населённых пунктов с наибольшим числом объявлений составляет 109692 руб в Санкт-Петербурге."
   ]
  },
  {
   "cell_type": "code",
   "execution_count": null,
   "metadata": {},
   "outputs": [],
   "source": []
  }
 ],
 "metadata": {
  "ExecuteTimeLog": [
   {
    "duration": 974,
    "start_time": "2022-03-25T14:07:11.556Z"
   },
   {
    "duration": 295,
    "start_time": "2022-03-25T14:07:12.533Z"
   },
   {
    "duration": 34,
    "start_time": "2022-03-25T14:07:12.830Z"
   },
   {
    "duration": 14,
    "start_time": "2022-03-25T14:07:12.866Z"
   },
   {
    "duration": 135,
    "start_time": "2022-03-25T14:07:12.884Z"
   },
   {
    "duration": 7,
    "start_time": "2022-03-25T14:07:13.022Z"
   },
   {
    "duration": 7,
    "start_time": "2022-03-25T14:07:13.043Z"
   },
   {
    "duration": 5,
    "start_time": "2022-03-25T14:07:13.054Z"
   },
   {
    "duration": 10,
    "start_time": "2022-03-25T14:07:13.061Z"
   },
   {
    "duration": 15,
    "start_time": "2022-03-25T14:07:13.073Z"
   },
   {
    "duration": 9,
    "start_time": "2022-03-25T14:07:13.090Z"
   },
   {
    "duration": 48,
    "start_time": "2022-03-25T14:07:13.101Z"
   },
   {
    "duration": 10,
    "start_time": "2022-03-25T14:07:13.151Z"
   },
   {
    "duration": 7,
    "start_time": "2022-03-25T14:07:13.166Z"
   },
   {
    "duration": 11,
    "start_time": "2022-03-25T14:07:13.175Z"
   },
   {
    "duration": 8,
    "start_time": "2022-03-25T14:07:13.188Z"
   },
   {
    "duration": 6,
    "start_time": "2022-03-25T14:07:13.244Z"
   },
   {
    "duration": 7,
    "start_time": "2022-03-25T14:07:13.253Z"
   },
   {
    "duration": 50,
    "start_time": "2022-03-25T14:07:13.262Z"
   },
   {
    "duration": 14,
    "start_time": "2022-03-25T14:07:13.343Z"
   },
   {
    "duration": 47,
    "start_time": "2022-03-25T14:07:13.359Z"
   },
   {
    "duration": 309,
    "start_time": "2022-03-25T14:07:13.408Z"
   },
   {
    "duration": 42,
    "start_time": "2022-03-25T14:07:13.720Z"
   },
   {
    "duration": 8,
    "start_time": "2022-03-25T14:07:13.764Z"
   },
   {
    "duration": 5,
    "start_time": "2022-03-25T14:07:13.774Z"
   },
   {
    "duration": 7,
    "start_time": "2022-03-25T14:07:13.782Z"
   },
   {
    "duration": 52,
    "start_time": "2022-03-25T14:07:13.791Z"
   },
   {
    "duration": 5,
    "start_time": "2022-03-25T14:07:13.845Z"
   },
   {
    "duration": 8,
    "start_time": "2022-03-25T14:07:13.852Z"
   },
   {
    "duration": 8,
    "start_time": "2022-03-25T14:07:13.862Z"
   },
   {
    "duration": 7,
    "start_time": "2022-03-25T14:07:13.871Z"
   },
   {
    "duration": 64,
    "start_time": "2022-03-25T14:07:13.881Z"
   },
   {
    "duration": 8,
    "start_time": "2022-03-25T14:07:13.948Z"
   },
   {
    "duration": 48,
    "start_time": "2022-03-25T14:07:13.959Z"
   },
   {
    "duration": 34,
    "start_time": "2022-03-25T14:07:14.010Z"
   },
   {
    "duration": 9,
    "start_time": "2022-03-25T14:07:14.047Z"
   },
   {
    "duration": 35,
    "start_time": "2022-03-25T14:07:14.059Z"
   },
   {
    "duration": 49,
    "start_time": "2022-03-25T14:07:14.096Z"
   },
   {
    "duration": 7,
    "start_time": "2022-03-25T14:07:14.147Z"
   },
   {
    "duration": 6,
    "start_time": "2022-03-25T14:07:14.157Z"
   },
   {
    "duration": 6,
    "start_time": "2022-03-25T14:07:14.171Z"
   },
   {
    "duration": 10,
    "start_time": "2022-03-25T14:07:14.179Z"
   },
   {
    "duration": 57,
    "start_time": "2022-03-25T14:07:14.191Z"
   },
   {
    "duration": 22,
    "start_time": "2022-03-25T14:07:14.250Z"
   },
   {
    "duration": 3,
    "start_time": "2022-03-25T14:07:14.275Z"
   },
   {
    "duration": 12,
    "start_time": "2022-03-25T14:07:14.281Z"
   },
   {
    "duration": 7,
    "start_time": "2022-03-25T14:07:14.296Z"
   },
   {
    "duration": 592,
    "start_time": "2022-03-25T14:07:14.305Z"
   },
   {
    "duration": 58,
    "start_time": "2022-03-25T14:07:14.899Z"
   },
   {
    "duration": 8,
    "start_time": "2022-03-25T14:07:14.959Z"
   },
   {
    "duration": 1002,
    "start_time": "2022-03-25T14:07:14.969Z"
   },
   {
    "duration": 80,
    "start_time": "2022-03-25T14:07:15.974Z"
   },
   {
    "duration": 34,
    "start_time": "2022-03-25T14:07:16.057Z"
   },
   {
    "duration": 265,
    "start_time": "2022-03-25T14:07:16.094Z"
   },
   {
    "duration": 6,
    "start_time": "2022-03-25T14:07:16.361Z"
   },
   {
    "duration": 219,
    "start_time": "2022-03-25T14:07:16.370Z"
   },
   {
    "duration": 330,
    "start_time": "2022-03-25T14:07:16.592Z"
   },
   {
    "duration": 307,
    "start_time": "2022-03-25T14:07:16.925Z"
   },
   {
    "duration": 11,
    "start_time": "2022-03-25T14:07:17.235Z"
   },
   {
    "duration": 195,
    "start_time": "2022-03-25T14:07:17.248Z"
   },
   {
    "duration": 321,
    "start_time": "2022-03-25T14:07:17.445Z"
   },
   {
    "duration": 6,
    "start_time": "2022-03-25T14:07:17.769Z"
   },
   {
    "duration": 187,
    "start_time": "2022-03-25T14:07:17.777Z"
   },
   {
    "duration": 318,
    "start_time": "2022-03-25T14:07:17.966Z"
   },
   {
    "duration": 8,
    "start_time": "2022-03-25T14:07:18.286Z"
   },
   {
    "duration": 192,
    "start_time": "2022-03-25T14:07:18.296Z"
   },
   {
    "duration": 612,
    "start_time": "2022-03-25T14:07:18.491Z"
   },
   {
    "duration": 387,
    "start_time": "2022-03-25T14:07:19.105Z"
   },
   {
    "duration": 354,
    "start_time": "2022-03-25T14:07:19.494Z"
   },
   {
    "duration": 5,
    "start_time": "2022-03-25T14:07:19.851Z"
   },
   {
    "duration": 7,
    "start_time": "2022-03-25T14:07:19.858Z"
   },
   {
    "duration": 234,
    "start_time": "2022-03-25T14:07:19.867Z"
   },
   {
    "duration": 275,
    "start_time": "2022-03-25T14:07:20.103Z"
   },
   {
    "duration": 25,
    "start_time": "2022-03-25T14:07:20.382Z"
   },
   {
    "duration": 142,
    "start_time": "2022-03-25T14:07:20.410Z"
   },
   {
    "duration": 6,
    "start_time": "2022-03-25T14:07:20.555Z"
   },
   {
    "duration": 12,
    "start_time": "2022-03-25T14:07:20.563Z"
   },
   {
    "duration": 24,
    "start_time": "2022-03-25T14:07:20.577Z"
   },
   {
    "duration": 5,
    "start_time": "2022-03-25T14:07:20.603Z"
   },
   {
    "duration": 17,
    "start_time": "2022-03-25T14:07:20.642Z"
   },
   {
    "duration": 2167,
    "start_time": "2022-03-25T14:07:20.661Z"
   },
   {
    "duration": 819,
    "start_time": "2022-03-25T14:07:22.842Z"
   },
   {
    "duration": 317,
    "start_time": "2022-03-25T14:07:23.663Z"
   },
   {
    "duration": 27,
    "start_time": "2022-03-25T14:07:23.982Z"
   },
   {
    "duration": 31,
    "start_time": "2022-03-25T14:07:24.012Z"
   },
   {
    "duration": 41,
    "start_time": "2022-03-25T14:07:24.046Z"
   },
   {
    "duration": 7,
    "start_time": "2022-03-25T14:07:24.090Z"
   },
   {
    "duration": 45,
    "start_time": "2022-03-25T14:07:24.100Z"
   },
   {
    "duration": 74,
    "start_time": "2022-03-25T14:07:24.147Z"
   },
   {
    "duration": 28,
    "start_time": "2022-03-25T14:07:24.243Z"
   },
   {
    "duration": 13,
    "start_time": "2022-03-25T14:07:24.273Z"
   },
   {
    "duration": 6,
    "start_time": "2022-03-25T14:07:24.290Z"
   },
   {
    "duration": 49,
    "start_time": "2022-03-25T14:07:24.298Z"
   },
   {
    "duration": 13,
    "start_time": "2022-03-25T14:07:24.349Z"
   },
   {
    "duration": 6,
    "start_time": "2022-03-25T14:07:24.364Z"
   },
   {
    "duration": 22,
    "start_time": "2022-03-25T14:07:24.372Z"
   },
   {
    "duration": 52,
    "start_time": "2022-03-25T14:07:24.397Z"
   },
   {
    "duration": 26,
    "start_time": "2022-03-25T14:07:24.452Z"
   },
   {
    "duration": 300,
    "start_time": "2022-03-25T14:07:24.481Z"
   },
   {
    "duration": 7,
    "start_time": "2022-03-25T14:07:24.784Z"
   },
   {
    "duration": 21,
    "start_time": "2022-03-25T14:07:24.793Z"
   },
   {
    "duration": 37,
    "start_time": "2022-03-25T14:07:24.816Z"
   },
   {
    "duration": 1736,
    "start_time": "2022-03-25T14:07:24.855Z"
   },
   {
    "duration": 846,
    "start_time": "2022-03-25T14:07:26.594Z"
   },
   {
    "duration": 226,
    "start_time": "2022-03-25T14:07:27.442Z"
   },
   {
    "duration": 17,
    "start_time": "2022-03-25T14:07:27.671Z"
   },
   {
    "duration": 855,
    "start_time": "2022-03-25T15:25:15.901Z"
   },
   {
    "duration": 201,
    "start_time": "2022-03-25T15:25:16.758Z"
   },
   {
    "duration": 21,
    "start_time": "2022-03-25T15:25:16.961Z"
   },
   {
    "duration": 8,
    "start_time": "2022-03-25T15:25:16.984Z"
   },
   {
    "duration": 60,
    "start_time": "2022-03-25T15:25:16.993Z"
   },
   {
    "duration": 30,
    "start_time": "2022-03-25T15:25:17.055Z"
   },
   {
    "duration": 9,
    "start_time": "2022-03-25T15:25:17.086Z"
   },
   {
    "duration": 5,
    "start_time": "2022-03-25T15:25:17.097Z"
   },
   {
    "duration": 8,
    "start_time": "2022-03-25T15:25:17.104Z"
   },
   {
    "duration": 9,
    "start_time": "2022-03-25T15:25:17.115Z"
   },
   {
    "duration": 9,
    "start_time": "2022-03-25T15:25:17.126Z"
   },
   {
    "duration": 7,
    "start_time": "2022-03-25T15:25:17.137Z"
   },
   {
    "duration": 40,
    "start_time": "2022-03-25T15:25:17.146Z"
   },
   {
    "duration": 7,
    "start_time": "2022-03-25T15:25:17.188Z"
   },
   {
    "duration": 8,
    "start_time": "2022-03-25T15:25:17.197Z"
   },
   {
    "duration": 5,
    "start_time": "2022-03-25T15:25:17.207Z"
   },
   {
    "duration": 8,
    "start_time": "2022-03-25T15:25:17.214Z"
   },
   {
    "duration": 13,
    "start_time": "2022-03-25T15:25:17.224Z"
   },
   {
    "duration": 62,
    "start_time": "2022-03-25T15:25:17.239Z"
   },
   {
    "duration": 6,
    "start_time": "2022-03-25T15:25:17.303Z"
   },
   {
    "duration": 37,
    "start_time": "2022-03-25T15:25:17.311Z"
   },
   {
    "duration": 261,
    "start_time": "2022-03-25T15:25:17.350Z"
   },
   {
    "duration": 18,
    "start_time": "2022-03-25T15:25:17.613Z"
   },
   {
    "duration": 6,
    "start_time": "2022-03-25T15:25:17.633Z"
   },
   {
    "duration": 4,
    "start_time": "2022-03-25T15:25:17.641Z"
   },
   {
    "duration": 34,
    "start_time": "2022-03-25T15:25:17.647Z"
   },
   {
    "duration": 7,
    "start_time": "2022-03-25T15:25:17.683Z"
   },
   {
    "duration": 3,
    "start_time": "2022-03-25T15:25:17.696Z"
   },
   {
    "duration": 10,
    "start_time": "2022-03-25T15:25:17.701Z"
   },
   {
    "duration": 8,
    "start_time": "2022-03-25T15:25:17.713Z"
   },
   {
    "duration": 5,
    "start_time": "2022-03-25T15:25:17.723Z"
   },
   {
    "duration": 13,
    "start_time": "2022-03-25T15:25:17.729Z"
   },
   {
    "duration": 38,
    "start_time": "2022-03-25T15:25:17.744Z"
   },
   {
    "duration": 20,
    "start_time": "2022-03-25T15:25:17.784Z"
   },
   {
    "duration": 6,
    "start_time": "2022-03-25T15:25:17.805Z"
   },
   {
    "duration": 11,
    "start_time": "2022-03-25T15:25:17.813Z"
   },
   {
    "duration": 18,
    "start_time": "2022-03-25T15:25:17.826Z"
   },
   {
    "duration": 36,
    "start_time": "2022-03-25T15:25:17.846Z"
   },
   {
    "duration": 5,
    "start_time": "2022-03-25T15:25:17.883Z"
   },
   {
    "duration": 6,
    "start_time": "2022-03-25T15:25:17.890Z"
   },
   {
    "duration": 6,
    "start_time": "2022-03-25T15:25:17.897Z"
   },
   {
    "duration": 5,
    "start_time": "2022-03-25T15:25:17.904Z"
   },
   {
    "duration": 8,
    "start_time": "2022-03-25T15:25:17.911Z"
   },
   {
    "duration": 14,
    "start_time": "2022-03-25T15:25:17.920Z"
   },
   {
    "duration": 3,
    "start_time": "2022-03-25T15:25:17.936Z"
   },
   {
    "duration": 41,
    "start_time": "2022-03-25T15:25:17.941Z"
   },
   {
    "duration": 4,
    "start_time": "2022-03-25T15:25:17.984Z"
   },
   {
    "duration": 330,
    "start_time": "2022-03-25T15:25:17.990Z"
   },
   {
    "duration": 28,
    "start_time": "2022-03-25T15:25:18.322Z"
   },
   {
    "duration": 6,
    "start_time": "2022-03-25T15:25:18.352Z"
   },
   {
    "duration": 278,
    "start_time": "2022-03-25T15:25:18.380Z"
   },
   {
    "duration": 33,
    "start_time": "2022-03-25T15:25:18.659Z"
   },
   {
    "duration": 13,
    "start_time": "2022-03-25T15:25:18.694Z"
   },
   {
    "duration": 130,
    "start_time": "2022-03-25T15:25:18.708Z"
   },
   {
    "duration": 4,
    "start_time": "2022-03-25T15:25:18.840Z"
   },
   {
    "duration": 115,
    "start_time": "2022-03-25T15:25:18.846Z"
   },
   {
    "duration": 178,
    "start_time": "2022-03-25T15:25:18.962Z"
   },
   {
    "duration": 181,
    "start_time": "2022-03-25T15:25:19.142Z"
   },
   {
    "duration": 6,
    "start_time": "2022-03-25T15:25:19.324Z"
   },
   {
    "duration": 114,
    "start_time": "2022-03-25T15:25:19.331Z"
   },
   {
    "duration": 121,
    "start_time": "2022-03-25T15:25:19.447Z"
   },
   {
    "duration": 13,
    "start_time": "2022-03-25T15:25:19.569Z"
   },
   {
    "duration": 103,
    "start_time": "2022-03-25T15:25:19.584Z"
   },
   {
    "duration": 187,
    "start_time": "2022-03-25T15:25:19.688Z"
   },
   {
    "duration": 5,
    "start_time": "2022-03-25T15:25:19.880Z"
   },
   {
    "duration": 105,
    "start_time": "2022-03-25T15:25:19.886Z"
   },
   {
    "duration": 231,
    "start_time": "2022-03-25T15:25:19.992Z"
   },
   {
    "duration": 220,
    "start_time": "2022-03-25T15:25:20.224Z"
   },
   {
    "duration": 194,
    "start_time": "2022-03-25T15:25:20.445Z"
   },
   {
    "duration": 4,
    "start_time": "2022-03-25T15:25:20.640Z"
   },
   {
    "duration": 5,
    "start_time": "2022-03-25T15:25:20.646Z"
   },
   {
    "duration": 128,
    "start_time": "2022-03-25T15:25:20.653Z"
   },
   {
    "duration": 116,
    "start_time": "2022-03-25T15:25:20.782Z"
   },
   {
    "duration": 13,
    "start_time": "2022-03-25T15:25:20.900Z"
   },
   {
    "duration": 90,
    "start_time": "2022-03-25T15:25:20.915Z"
   },
   {
    "duration": 5,
    "start_time": "2022-03-25T15:25:21.007Z"
   },
   {
    "duration": 11,
    "start_time": "2022-03-25T15:25:21.014Z"
   },
   {
    "duration": 20,
    "start_time": "2022-03-25T15:25:21.027Z"
   },
   {
    "duration": 4,
    "start_time": "2022-03-25T15:25:21.048Z"
   },
   {
    "duration": 29,
    "start_time": "2022-03-25T15:25:21.054Z"
   },
   {
    "duration": 1230,
    "start_time": "2022-03-25T15:25:21.084Z"
   },
   {
    "duration": 451,
    "start_time": "2022-03-25T15:25:22.320Z"
   },
   {
    "duration": 133,
    "start_time": "2022-03-25T15:25:22.773Z"
   },
   {
    "duration": 11,
    "start_time": "2022-03-25T15:25:22.908Z"
   },
   {
    "duration": 6,
    "start_time": "2022-03-25T15:25:22.921Z"
   },
   {
    "duration": 19,
    "start_time": "2022-03-25T15:25:22.928Z"
   },
   {
    "duration": 4,
    "start_time": "2022-03-25T15:25:22.948Z"
   },
   {
    "duration": 32,
    "start_time": "2022-03-25T15:25:22.954Z"
   },
   {
    "duration": 32,
    "start_time": "2022-03-25T15:25:22.987Z"
   },
   {
    "duration": 12,
    "start_time": "2022-03-25T15:25:23.020Z"
   },
   {
    "duration": 7,
    "start_time": "2022-03-25T15:25:23.033Z"
   },
   {
    "duration": 5,
    "start_time": "2022-03-25T15:25:23.042Z"
   },
   {
    "duration": 35,
    "start_time": "2022-03-25T15:25:23.048Z"
   },
   {
    "duration": 9,
    "start_time": "2022-03-25T15:25:23.085Z"
   },
   {
    "duration": 5,
    "start_time": "2022-03-25T15:25:23.095Z"
   },
   {
    "duration": 14,
    "start_time": "2022-03-25T15:25:23.101Z"
   },
   {
    "duration": 11,
    "start_time": "2022-03-25T15:25:23.116Z"
   },
   {
    "duration": 11,
    "start_time": "2022-03-25T15:25:23.129Z"
   },
   {
    "duration": 179,
    "start_time": "2022-03-25T15:25:23.142Z"
   },
   {
    "duration": 5,
    "start_time": "2022-03-25T15:25:23.322Z"
   },
   {
    "duration": 12,
    "start_time": "2022-03-25T15:25:23.329Z"
   },
   {
    "duration": 10,
    "start_time": "2022-03-25T15:25:23.342Z"
   },
   {
    "duration": 972,
    "start_time": "2022-03-25T15:25:23.354Z"
   },
   {
    "duration": 500,
    "start_time": "2022-03-25T15:25:24.328Z"
   },
   {
    "duration": 116,
    "start_time": "2022-03-25T15:25:24.829Z"
   },
   {
    "duration": 11,
    "start_time": "2022-03-25T15:25:24.946Z"
   }
  ],
  "kernelspec": {
   "display_name": "Python 3 (ipykernel)",
   "language": "python",
   "name": "python3"
  },
  "language_info": {
   "codemirror_mode": {
    "name": "ipython",
    "version": 3
   },
   "file_extension": ".py",
   "mimetype": "text/x-python",
   "name": "python",
   "nbconvert_exporter": "python",
   "pygments_lexer": "ipython3",
   "version": "3.7.8"
  },
  "toc": {
   "base_numbering": 1,
   "nav_menu": {},
   "number_sections": true,
   "sideBar": true,
   "skip_h1_title": true,
   "title_cell": "Содержание",
   "title_sidebar": "Contents",
   "toc_cell": true,
   "toc_position": {
    "height": "calc(100% - 180px)",
    "left": "10px",
    "top": "150px",
    "width": "246.375px"
   },
   "toc_section_display": true,
   "toc_window_display": true
  }
 },
 "nbformat": 4,
 "nbformat_minor": 4
}
