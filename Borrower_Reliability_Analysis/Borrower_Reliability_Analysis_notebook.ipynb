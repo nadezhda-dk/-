{
 "cells": [
  {
   "cell_type": "markdown",
   "id": "ddee6810",
   "metadata": {},
   "source": [
    "# Исследование надежности заемщиков."
   ]
  },
  {
   "cell_type": "markdown",
   "id": "b34128b3",
   "metadata": {},
   "source": [
    "Цель исследования - необходимо выяснить, влияет ли семейное положение и количество детей клиента на факт погашения кредита в срок. Для этого нужно ответить на следующие вопросы:\n",
    "1. Есть ли зависимость между количеством детей и возвратом кредита в срок?\n",
    "2. Есть ли зависимость между семейным положением и возвратом кредита в срок?\n",
    "3. Есть ли зависимость между уровнем дохода и возвратом кредита в срок?\n",
    "4. Как разные цели кредита влияют на его возврат в срок?\n",
    "\n",
    "Результаты исследования будут учтены при построении модели кредитного скоринга."
   ]
  },
  {
   "cell_type": "markdown",
   "id": "e8339956",
   "metadata": {},
   "source": [
    "##  Обзор данных"
   ]
  },
  {
   "cell_type": "markdown",
   "id": "9898dc32",
   "metadata": {},
   "source": [
    "Импортируем необходимую библиотеку `pandas`.  "
   ]
  },
  {
   "cell_type": "code",
   "execution_count": 1,
   "id": "465b1e25",
   "metadata": {},
   "outputs": [],
   "source": [
    "import pandas as pd"
   ]
  },
  {
   "cell_type": "markdown",
   "id": "9a5fcc82",
   "metadata": {},
   "source": [
    "Прочитаем файл с данными."
   ]
  },
  {
   "cell_type": "code",
   "execution_count": 2,
   "id": "e1432805",
   "metadata": {
    "scrolled": true
   },
   "outputs": [
    {
     "data": {
      "text/html": [
       "<div>\n",
       "<style scoped>\n",
       "    .dataframe tbody tr th:only-of-type {\n",
       "        vertical-align: middle;\n",
       "    }\n",
       "\n",
       "    .dataframe tbody tr th {\n",
       "        vertical-align: top;\n",
       "    }\n",
       "\n",
       "    .dataframe thead th {\n",
       "        text-align: right;\n",
       "    }\n",
       "</style>\n",
       "<table border=\"1\" class=\"dataframe\">\n",
       "  <thead>\n",
       "    <tr style=\"text-align: right;\">\n",
       "      <th></th>\n",
       "      <th>children</th>\n",
       "      <th>days_employed</th>\n",
       "      <th>dob_years</th>\n",
       "      <th>education</th>\n",
       "      <th>education_id</th>\n",
       "      <th>family_status</th>\n",
       "      <th>family_status_id</th>\n",
       "      <th>gender</th>\n",
       "      <th>income_type</th>\n",
       "      <th>debt</th>\n",
       "      <th>total_income</th>\n",
       "      <th>purpose</th>\n",
       "    </tr>\n",
       "  </thead>\n",
       "  <tbody>\n",
       "    <tr>\n",
       "      <td>0</td>\n",
       "      <td>1</td>\n",
       "      <td>-8437.673028</td>\n",
       "      <td>42</td>\n",
       "      <td>высшее</td>\n",
       "      <td>0</td>\n",
       "      <td>женат / замужем</td>\n",
       "      <td>0</td>\n",
       "      <td>F</td>\n",
       "      <td>сотрудник</td>\n",
       "      <td>0</td>\n",
       "      <td>253875.639453</td>\n",
       "      <td>покупка жилья</td>\n",
       "    </tr>\n",
       "    <tr>\n",
       "      <td>1</td>\n",
       "      <td>1</td>\n",
       "      <td>-4024.803754</td>\n",
       "      <td>36</td>\n",
       "      <td>среднее</td>\n",
       "      <td>1</td>\n",
       "      <td>женат / замужем</td>\n",
       "      <td>0</td>\n",
       "      <td>F</td>\n",
       "      <td>сотрудник</td>\n",
       "      <td>0</td>\n",
       "      <td>112080.014102</td>\n",
       "      <td>приобретение автомобиля</td>\n",
       "    </tr>\n",
       "    <tr>\n",
       "      <td>2</td>\n",
       "      <td>0</td>\n",
       "      <td>-5623.422610</td>\n",
       "      <td>33</td>\n",
       "      <td>Среднее</td>\n",
       "      <td>1</td>\n",
       "      <td>женат / замужем</td>\n",
       "      <td>0</td>\n",
       "      <td>M</td>\n",
       "      <td>сотрудник</td>\n",
       "      <td>0</td>\n",
       "      <td>145885.952297</td>\n",
       "      <td>покупка жилья</td>\n",
       "    </tr>\n",
       "    <tr>\n",
       "      <td>3</td>\n",
       "      <td>3</td>\n",
       "      <td>-4124.747207</td>\n",
       "      <td>32</td>\n",
       "      <td>среднее</td>\n",
       "      <td>1</td>\n",
       "      <td>женат / замужем</td>\n",
       "      <td>0</td>\n",
       "      <td>M</td>\n",
       "      <td>сотрудник</td>\n",
       "      <td>0</td>\n",
       "      <td>267628.550329</td>\n",
       "      <td>дополнительное образование</td>\n",
       "    </tr>\n",
       "    <tr>\n",
       "      <td>4</td>\n",
       "      <td>0</td>\n",
       "      <td>340266.072047</td>\n",
       "      <td>53</td>\n",
       "      <td>среднее</td>\n",
       "      <td>1</td>\n",
       "      <td>гражданский брак</td>\n",
       "      <td>1</td>\n",
       "      <td>F</td>\n",
       "      <td>пенсионер</td>\n",
       "      <td>0</td>\n",
       "      <td>158616.077870</td>\n",
       "      <td>сыграть свадьбу</td>\n",
       "    </tr>\n",
       "    <tr>\n",
       "      <td>5</td>\n",
       "      <td>0</td>\n",
       "      <td>-926.185831</td>\n",
       "      <td>27</td>\n",
       "      <td>высшее</td>\n",
       "      <td>0</td>\n",
       "      <td>гражданский брак</td>\n",
       "      <td>1</td>\n",
       "      <td>M</td>\n",
       "      <td>компаньон</td>\n",
       "      <td>0</td>\n",
       "      <td>255763.565419</td>\n",
       "      <td>покупка жилья</td>\n",
       "    </tr>\n",
       "    <tr>\n",
       "      <td>6</td>\n",
       "      <td>0</td>\n",
       "      <td>-2879.202052</td>\n",
       "      <td>43</td>\n",
       "      <td>высшее</td>\n",
       "      <td>0</td>\n",
       "      <td>женат / замужем</td>\n",
       "      <td>0</td>\n",
       "      <td>F</td>\n",
       "      <td>компаньон</td>\n",
       "      <td>0</td>\n",
       "      <td>240525.971920</td>\n",
       "      <td>операции с жильем</td>\n",
       "    </tr>\n",
       "    <tr>\n",
       "      <td>7</td>\n",
       "      <td>0</td>\n",
       "      <td>-152.779569</td>\n",
       "      <td>50</td>\n",
       "      <td>СРЕДНЕЕ</td>\n",
       "      <td>1</td>\n",
       "      <td>женат / замужем</td>\n",
       "      <td>0</td>\n",
       "      <td>M</td>\n",
       "      <td>сотрудник</td>\n",
       "      <td>0</td>\n",
       "      <td>135823.934197</td>\n",
       "      <td>образование</td>\n",
       "    </tr>\n",
       "    <tr>\n",
       "      <td>8</td>\n",
       "      <td>2</td>\n",
       "      <td>-6929.865299</td>\n",
       "      <td>35</td>\n",
       "      <td>ВЫСШЕЕ</td>\n",
       "      <td>0</td>\n",
       "      <td>гражданский брак</td>\n",
       "      <td>1</td>\n",
       "      <td>F</td>\n",
       "      <td>сотрудник</td>\n",
       "      <td>0</td>\n",
       "      <td>95856.832424</td>\n",
       "      <td>на проведение свадьбы</td>\n",
       "    </tr>\n",
       "    <tr>\n",
       "      <td>9</td>\n",
       "      <td>0</td>\n",
       "      <td>-2188.756445</td>\n",
       "      <td>41</td>\n",
       "      <td>среднее</td>\n",
       "      <td>1</td>\n",
       "      <td>женат / замужем</td>\n",
       "      <td>0</td>\n",
       "      <td>M</td>\n",
       "      <td>сотрудник</td>\n",
       "      <td>0</td>\n",
       "      <td>144425.938277</td>\n",
       "      <td>покупка жилья для семьи</td>\n",
       "    </tr>\n",
       "  </tbody>\n",
       "</table>\n",
       "</div>"
      ],
      "text/plain": [
       "   children  days_employed  dob_years education  education_id  \\\n",
       "0         1   -8437.673028         42    высшее             0   \n",
       "1         1   -4024.803754         36   среднее             1   \n",
       "2         0   -5623.422610         33   Среднее             1   \n",
       "3         3   -4124.747207         32   среднее             1   \n",
       "4         0  340266.072047         53   среднее             1   \n",
       "5         0    -926.185831         27    высшее             0   \n",
       "6         0   -2879.202052         43    высшее             0   \n",
       "7         0    -152.779569         50   СРЕДНЕЕ             1   \n",
       "8         2   -6929.865299         35    ВЫСШЕЕ             0   \n",
       "9         0   -2188.756445         41   среднее             1   \n",
       "\n",
       "      family_status  family_status_id gender income_type  debt   total_income  \\\n",
       "0   женат / замужем                 0      F   сотрудник     0  253875.639453   \n",
       "1   женат / замужем                 0      F   сотрудник     0  112080.014102   \n",
       "2   женат / замужем                 0      M   сотрудник     0  145885.952297   \n",
       "3   женат / замужем                 0      M   сотрудник     0  267628.550329   \n",
       "4  гражданский брак                 1      F   пенсионер     0  158616.077870   \n",
       "5  гражданский брак                 1      M   компаньон     0  255763.565419   \n",
       "6   женат / замужем                 0      F   компаньон     0  240525.971920   \n",
       "7   женат / замужем                 0      M   сотрудник     0  135823.934197   \n",
       "8  гражданский брак                 1      F   сотрудник     0   95856.832424   \n",
       "9   женат / замужем                 0      M   сотрудник     0  144425.938277   \n",
       "\n",
       "                      purpose  \n",
       "0               покупка жилья  \n",
       "1     приобретение автомобиля  \n",
       "2               покупка жилья  \n",
       "3  дополнительное образование  \n",
       "4             сыграть свадьбу  \n",
       "5               покупка жилья  \n",
       "6           операции с жильем  \n",
       "7                 образование  \n",
       "8       на проведение свадьбы  \n",
       "9     покупка жилья для семьи  "
      ]
     },
     "execution_count": 2,
     "metadata": {},
     "output_type": "execute_result"
    }
   ],
   "source": [
    "try:\n",
    "    #загрузка файла по локальному пути\n",
    "    data = pd.read_csv('data.csv')    \n",
    "except:\n",
    "    #загрузка файла по серверному пути\n",
    "    data = pd.read_csv('/datasets/data.csv') \n",
    "\n",
    "data.head(10)     # получение первых 10 строк таблицы"
   ]
  },
  {
   "cell_type": "markdown",
   "id": "572eb632",
   "metadata": {},
   "source": [
    "Описание данных:\n",
    "`children` — количество детей в семье\n",
    "`days_employed` — общий трудовой стаж в днях\n",
    "`dob_years` — возраст клиента в годах\n",
    "`education` — уровень образования клиента\n",
    "`education_id` — идентификатор уровня образования\n",
    "`family_status` — семейное положение\n",
    "`family_status_id` — идентификатор семейного положения\n",
    "`gender` — пол клиента\n",
    "`income_type` — тип занятости\n",
    "`debt` — имел ли задолженность по возврату кредитов\n",
    "`total_income` — ежемесячный доход\n",
    "`purpose` — цель получения кредита"
   ]
  },
  {
   "cell_type": "markdown",
   "id": "6ebdb73d",
   "metadata": {},
   "source": [
    "Изучим общую информацию о таблице"
   ]
  },
  {
   "cell_type": "code",
   "execution_count": 3,
   "id": "53c6ec67",
   "metadata": {
    "scrolled": false
   },
   "outputs": [
    {
     "name": "stdout",
     "output_type": "stream",
     "text": [
      "<class 'pandas.core.frame.DataFrame'>\n",
      "RangeIndex: 21525 entries, 0 to 21524\n",
      "Data columns (total 12 columns):\n",
      "children            21525 non-null int64\n",
      "days_employed       19351 non-null float64\n",
      "dob_years           21525 non-null int64\n",
      "education           21525 non-null object\n",
      "education_id        21525 non-null int64\n",
      "family_status       21525 non-null object\n",
      "family_status_id    21525 non-null int64\n",
      "gender              21525 non-null object\n",
      "income_type         21525 non-null object\n",
      "debt                21525 non-null int64\n",
      "total_income        19351 non-null float64\n",
      "purpose             21525 non-null object\n",
      "dtypes: float64(2), int64(5), object(5)\n",
      "memory usage: 2.0+ MB\n"
     ]
    }
   ],
   "source": [
    "data.info()"
   ]
  },
  {
   "cell_type": "markdown",
   "id": "a6bb65c1",
   "metadata": {},
   "source": [
    "Названия столбцов таблицы соответствуют общим правилам стиля и не требуют изменений. В столбцах разичается количество значений, что свидетельствует о наличии пропущенных значений. Таким образом пропущенные значния присутствуют с стобцах \"days_employed\", \"total_income\". Типы всех столбцов соответствуют информации хранящихся в них.   "
   ]
  },
  {
   "cell_type": "markdown",
   "id": "fa522b2d",
   "metadata": {},
   "source": [
    "## Проверка на пропущенные значения"
   ]
  },
  {
   "cell_type": "markdown",
   "id": "255df4e4",
   "metadata": {},
   "source": [
    "Посчитаем пропущенные значения"
   ]
  },
  {
   "cell_type": "code",
   "execution_count": 4,
   "id": "73e4474a",
   "metadata": {
    "scrolled": true
   },
   "outputs": [
    {
     "data": {
      "text/plain": [
       "children               0\n",
       "days_employed       2174\n",
       "dob_years              0\n",
       "education              0\n",
       "education_id           0\n",
       "family_status          0\n",
       "family_status_id       0\n",
       "gender                 0\n",
       "income_type            0\n",
       "debt                   0\n",
       "total_income        2174\n",
       "purpose                0\n",
       "dtype: int64"
      ]
     },
     "execution_count": 4,
     "metadata": {},
     "output_type": "execute_result"
    }
   ],
   "source": [
    "data.isna().sum()"
   ]
  },
  {
   "cell_type": "markdown",
   "id": "b62ee559",
   "metadata": {},
   "source": [
    "Одинаковое количество пропущенных значений в столбцах содержащих информацию об общем трудовом стаже в днях и ежемесячном доходе. Посмотрим на строки с пропущенными значениями "
   ]
  },
  {
   "cell_type": "code",
   "execution_count": 5,
   "id": "ed879b23",
   "metadata": {
    "scrolled": true
   },
   "outputs": [
    {
     "data": {
      "text/html": [
       "<div>\n",
       "<style scoped>\n",
       "    .dataframe tbody tr th:only-of-type {\n",
       "        vertical-align: middle;\n",
       "    }\n",
       "\n",
       "    .dataframe tbody tr th {\n",
       "        vertical-align: top;\n",
       "    }\n",
       "\n",
       "    .dataframe thead th {\n",
       "        text-align: right;\n",
       "    }\n",
       "</style>\n",
       "<table border=\"1\" class=\"dataframe\">\n",
       "  <thead>\n",
       "    <tr style=\"text-align: right;\">\n",
       "      <th></th>\n",
       "      <th>children</th>\n",
       "      <th>days_employed</th>\n",
       "      <th>dob_years</th>\n",
       "      <th>education</th>\n",
       "      <th>education_id</th>\n",
       "      <th>family_status</th>\n",
       "      <th>family_status_id</th>\n",
       "      <th>gender</th>\n",
       "      <th>income_type</th>\n",
       "      <th>debt</th>\n",
       "      <th>total_income</th>\n",
       "      <th>purpose</th>\n",
       "    </tr>\n",
       "  </thead>\n",
       "  <tbody>\n",
       "    <tr>\n",
       "      <td>12</td>\n",
       "      <td>0</td>\n",
       "      <td>NaN</td>\n",
       "      <td>65</td>\n",
       "      <td>среднее</td>\n",
       "      <td>1</td>\n",
       "      <td>гражданский брак</td>\n",
       "      <td>1</td>\n",
       "      <td>M</td>\n",
       "      <td>пенсионер</td>\n",
       "      <td>0</td>\n",
       "      <td>NaN</td>\n",
       "      <td>сыграть свадьбу</td>\n",
       "    </tr>\n",
       "    <tr>\n",
       "      <td>26</td>\n",
       "      <td>0</td>\n",
       "      <td>NaN</td>\n",
       "      <td>41</td>\n",
       "      <td>среднее</td>\n",
       "      <td>1</td>\n",
       "      <td>женат / замужем</td>\n",
       "      <td>0</td>\n",
       "      <td>M</td>\n",
       "      <td>госслужащий</td>\n",
       "      <td>0</td>\n",
       "      <td>NaN</td>\n",
       "      <td>образование</td>\n",
       "    </tr>\n",
       "    <tr>\n",
       "      <td>29</td>\n",
       "      <td>0</td>\n",
       "      <td>NaN</td>\n",
       "      <td>63</td>\n",
       "      <td>среднее</td>\n",
       "      <td>1</td>\n",
       "      <td>Не женат / не замужем</td>\n",
       "      <td>4</td>\n",
       "      <td>F</td>\n",
       "      <td>пенсионер</td>\n",
       "      <td>0</td>\n",
       "      <td>NaN</td>\n",
       "      <td>строительство жилой недвижимости</td>\n",
       "    </tr>\n",
       "    <tr>\n",
       "      <td>41</td>\n",
       "      <td>0</td>\n",
       "      <td>NaN</td>\n",
       "      <td>50</td>\n",
       "      <td>среднее</td>\n",
       "      <td>1</td>\n",
       "      <td>женат / замужем</td>\n",
       "      <td>0</td>\n",
       "      <td>F</td>\n",
       "      <td>госслужащий</td>\n",
       "      <td>0</td>\n",
       "      <td>NaN</td>\n",
       "      <td>сделка с подержанным автомобилем</td>\n",
       "    </tr>\n",
       "    <tr>\n",
       "      <td>55</td>\n",
       "      <td>0</td>\n",
       "      <td>NaN</td>\n",
       "      <td>54</td>\n",
       "      <td>среднее</td>\n",
       "      <td>1</td>\n",
       "      <td>гражданский брак</td>\n",
       "      <td>1</td>\n",
       "      <td>F</td>\n",
       "      <td>пенсионер</td>\n",
       "      <td>1</td>\n",
       "      <td>NaN</td>\n",
       "      <td>сыграть свадьбу</td>\n",
       "    </tr>\n",
       "    <tr>\n",
       "      <td>65</td>\n",
       "      <td>0</td>\n",
       "      <td>NaN</td>\n",
       "      <td>21</td>\n",
       "      <td>среднее</td>\n",
       "      <td>1</td>\n",
       "      <td>Не женат / не замужем</td>\n",
       "      <td>4</td>\n",
       "      <td>M</td>\n",
       "      <td>компаньон</td>\n",
       "      <td>0</td>\n",
       "      <td>NaN</td>\n",
       "      <td>операции с коммерческой недвижимостью</td>\n",
       "    </tr>\n",
       "    <tr>\n",
       "      <td>67</td>\n",
       "      <td>0</td>\n",
       "      <td>NaN</td>\n",
       "      <td>52</td>\n",
       "      <td>высшее</td>\n",
       "      <td>0</td>\n",
       "      <td>женат / замужем</td>\n",
       "      <td>0</td>\n",
       "      <td>F</td>\n",
       "      <td>пенсионер</td>\n",
       "      <td>0</td>\n",
       "      <td>NaN</td>\n",
       "      <td>покупка жилья для семьи</td>\n",
       "    </tr>\n",
       "    <tr>\n",
       "      <td>72</td>\n",
       "      <td>1</td>\n",
       "      <td>NaN</td>\n",
       "      <td>32</td>\n",
       "      <td>высшее</td>\n",
       "      <td>0</td>\n",
       "      <td>женат / замужем</td>\n",
       "      <td>0</td>\n",
       "      <td>M</td>\n",
       "      <td>госслужащий</td>\n",
       "      <td>0</td>\n",
       "      <td>NaN</td>\n",
       "      <td>операции с коммерческой недвижимостью</td>\n",
       "    </tr>\n",
       "    <tr>\n",
       "      <td>82</td>\n",
       "      <td>2</td>\n",
       "      <td>NaN</td>\n",
       "      <td>50</td>\n",
       "      <td>высшее</td>\n",
       "      <td>0</td>\n",
       "      <td>женат / замужем</td>\n",
       "      <td>0</td>\n",
       "      <td>F</td>\n",
       "      <td>сотрудник</td>\n",
       "      <td>0</td>\n",
       "      <td>NaN</td>\n",
       "      <td>жилье</td>\n",
       "    </tr>\n",
       "    <tr>\n",
       "      <td>83</td>\n",
       "      <td>0</td>\n",
       "      <td>NaN</td>\n",
       "      <td>52</td>\n",
       "      <td>среднее</td>\n",
       "      <td>1</td>\n",
       "      <td>женат / замужем</td>\n",
       "      <td>0</td>\n",
       "      <td>M</td>\n",
       "      <td>сотрудник</td>\n",
       "      <td>0</td>\n",
       "      <td>NaN</td>\n",
       "      <td>жилье</td>\n",
       "    </tr>\n",
       "    <tr>\n",
       "      <td>90</td>\n",
       "      <td>2</td>\n",
       "      <td>NaN</td>\n",
       "      <td>35</td>\n",
       "      <td>высшее</td>\n",
       "      <td>0</td>\n",
       "      <td>женат / замужем</td>\n",
       "      <td>0</td>\n",
       "      <td>F</td>\n",
       "      <td>сотрудник</td>\n",
       "      <td>0</td>\n",
       "      <td>NaN</td>\n",
       "      <td>операции с жильем</td>\n",
       "    </tr>\n",
       "    <tr>\n",
       "      <td>94</td>\n",
       "      <td>1</td>\n",
       "      <td>NaN</td>\n",
       "      <td>34</td>\n",
       "      <td>высшее</td>\n",
       "      <td>0</td>\n",
       "      <td>гражданский брак</td>\n",
       "      <td>1</td>\n",
       "      <td>F</td>\n",
       "      <td>компаньон</td>\n",
       "      <td>0</td>\n",
       "      <td>NaN</td>\n",
       "      <td>на проведение свадьбы</td>\n",
       "    </tr>\n",
       "    <tr>\n",
       "      <td>96</td>\n",
       "      <td>0</td>\n",
       "      <td>NaN</td>\n",
       "      <td>44</td>\n",
       "      <td>СРЕДНЕЕ</td>\n",
       "      <td>1</td>\n",
       "      <td>женат / замужем</td>\n",
       "      <td>0</td>\n",
       "      <td>F</td>\n",
       "      <td>сотрудник</td>\n",
       "      <td>0</td>\n",
       "      <td>NaN</td>\n",
       "      <td>покупка жилой недвижимости</td>\n",
       "    </tr>\n",
       "    <tr>\n",
       "      <td>97</td>\n",
       "      <td>0</td>\n",
       "      <td>NaN</td>\n",
       "      <td>47</td>\n",
       "      <td>высшее</td>\n",
       "      <td>0</td>\n",
       "      <td>женат / замужем</td>\n",
       "      <td>0</td>\n",
       "      <td>F</td>\n",
       "      <td>сотрудник</td>\n",
       "      <td>0</td>\n",
       "      <td>NaN</td>\n",
       "      <td>профильное образование</td>\n",
       "    </tr>\n",
       "    <tr>\n",
       "      <td>120</td>\n",
       "      <td>0</td>\n",
       "      <td>NaN</td>\n",
       "      <td>46</td>\n",
       "      <td>среднее</td>\n",
       "      <td>1</td>\n",
       "      <td>женат / замужем</td>\n",
       "      <td>0</td>\n",
       "      <td>F</td>\n",
       "      <td>сотрудник</td>\n",
       "      <td>0</td>\n",
       "      <td>NaN</td>\n",
       "      <td>высшее образование</td>\n",
       "    </tr>\n",
       "    <tr>\n",
       "      <td>121</td>\n",
       "      <td>0</td>\n",
       "      <td>NaN</td>\n",
       "      <td>29</td>\n",
       "      <td>высшее</td>\n",
       "      <td>0</td>\n",
       "      <td>женат / замужем</td>\n",
       "      <td>0</td>\n",
       "      <td>F</td>\n",
       "      <td>компаньон</td>\n",
       "      <td>0</td>\n",
       "      <td>NaN</td>\n",
       "      <td>автомобиль</td>\n",
       "    </tr>\n",
       "    <tr>\n",
       "      <td>135</td>\n",
       "      <td>0</td>\n",
       "      <td>NaN</td>\n",
       "      <td>27</td>\n",
       "      <td>среднее</td>\n",
       "      <td>1</td>\n",
       "      <td>женат / замужем</td>\n",
       "      <td>0</td>\n",
       "      <td>M</td>\n",
       "      <td>компаньон</td>\n",
       "      <td>0</td>\n",
       "      <td>NaN</td>\n",
       "      <td>жилье</td>\n",
       "    </tr>\n",
       "    <tr>\n",
       "      <td>141</td>\n",
       "      <td>0</td>\n",
       "      <td>NaN</td>\n",
       "      <td>39</td>\n",
       "      <td>среднее</td>\n",
       "      <td>1</td>\n",
       "      <td>гражданский брак</td>\n",
       "      <td>1</td>\n",
       "      <td>M</td>\n",
       "      <td>сотрудник</td>\n",
       "      <td>0</td>\n",
       "      <td>NaN</td>\n",
       "      <td>свадьба</td>\n",
       "    </tr>\n",
       "    <tr>\n",
       "      <td>145</td>\n",
       "      <td>0</td>\n",
       "      <td>NaN</td>\n",
       "      <td>62</td>\n",
       "      <td>среднее</td>\n",
       "      <td>1</td>\n",
       "      <td>женат / замужем</td>\n",
       "      <td>0</td>\n",
       "      <td>M</td>\n",
       "      <td>пенсионер</td>\n",
       "      <td>0</td>\n",
       "      <td>NaN</td>\n",
       "      <td>строительство недвижимости</td>\n",
       "    </tr>\n",
       "    <tr>\n",
       "      <td>174</td>\n",
       "      <td>0</td>\n",
       "      <td>NaN</td>\n",
       "      <td>55</td>\n",
       "      <td>высшее</td>\n",
       "      <td>0</td>\n",
       "      <td>вдовец / вдова</td>\n",
       "      <td>2</td>\n",
       "      <td>F</td>\n",
       "      <td>компаньон</td>\n",
       "      <td>0</td>\n",
       "      <td>NaN</td>\n",
       "      <td>свой автомобиль</td>\n",
       "    </tr>\n",
       "  </tbody>\n",
       "</table>\n",
       "</div>"
      ],
      "text/plain": [
       "     children  days_employed  dob_years education  education_id  \\\n",
       "12          0            NaN         65   среднее             1   \n",
       "26          0            NaN         41   среднее             1   \n",
       "29          0            NaN         63   среднее             1   \n",
       "41          0            NaN         50   среднее             1   \n",
       "55          0            NaN         54   среднее             1   \n",
       "65          0            NaN         21   среднее             1   \n",
       "67          0            NaN         52    высшее             0   \n",
       "72          1            NaN         32    высшее             0   \n",
       "82          2            NaN         50    высшее             0   \n",
       "83          0            NaN         52   среднее             1   \n",
       "90          2            NaN         35    высшее             0   \n",
       "94          1            NaN         34    высшее             0   \n",
       "96          0            NaN         44   СРЕДНЕЕ             1   \n",
       "97          0            NaN         47    высшее             0   \n",
       "120         0            NaN         46   среднее             1   \n",
       "121         0            NaN         29    высшее             0   \n",
       "135         0            NaN         27   среднее             1   \n",
       "141         0            NaN         39   среднее             1   \n",
       "145         0            NaN         62   среднее             1   \n",
       "174         0            NaN         55    высшее             0   \n",
       "\n",
       "             family_status  family_status_id gender  income_type  debt  \\\n",
       "12        гражданский брак                 1      M    пенсионер     0   \n",
       "26         женат / замужем                 0      M  госслужащий     0   \n",
       "29   Не женат / не замужем                 4      F    пенсионер     0   \n",
       "41         женат / замужем                 0      F  госслужащий     0   \n",
       "55        гражданский брак                 1      F    пенсионер     1   \n",
       "65   Не женат / не замужем                 4      M    компаньон     0   \n",
       "67         женат / замужем                 0      F    пенсионер     0   \n",
       "72         женат / замужем                 0      M  госслужащий     0   \n",
       "82         женат / замужем                 0      F    сотрудник     0   \n",
       "83         женат / замужем                 0      M    сотрудник     0   \n",
       "90         женат / замужем                 0      F    сотрудник     0   \n",
       "94        гражданский брак                 1      F    компаньон     0   \n",
       "96         женат / замужем                 0      F    сотрудник     0   \n",
       "97         женат / замужем                 0      F    сотрудник     0   \n",
       "120        женат / замужем                 0      F    сотрудник     0   \n",
       "121        женат / замужем                 0      F    компаньон     0   \n",
       "135        женат / замужем                 0      M    компаньон     0   \n",
       "141       гражданский брак                 1      M    сотрудник     0   \n",
       "145        женат / замужем                 0      M    пенсионер     0   \n",
       "174         вдовец / вдова                 2      F    компаньон     0   \n",
       "\n",
       "     total_income                                purpose  \n",
       "12            NaN                        сыграть свадьбу  \n",
       "26            NaN                            образование  \n",
       "29            NaN       строительство жилой недвижимости  \n",
       "41            NaN       сделка с подержанным автомобилем  \n",
       "55            NaN                        сыграть свадьбу  \n",
       "65            NaN  операции с коммерческой недвижимостью  \n",
       "67            NaN                покупка жилья для семьи  \n",
       "72            NaN  операции с коммерческой недвижимостью  \n",
       "82            NaN                                  жилье  \n",
       "83            NaN                                  жилье  \n",
       "90            NaN                      операции с жильем  \n",
       "94            NaN                  на проведение свадьбы  \n",
       "96            NaN             покупка жилой недвижимости  \n",
       "97            NaN                 профильное образование  \n",
       "120           NaN                     высшее образование  \n",
       "121           NaN                             автомобиль  \n",
       "135           NaN                                  жилье  \n",
       "141           NaN                                свадьба  \n",
       "145           NaN             строительство недвижимости  \n",
       "174           NaN                        свой автомобиль  "
      ]
     },
     "execution_count": 5,
     "metadata": {},
     "output_type": "execute_result"
    }
   ],
   "source": [
    "data[data['days_employed'].isna()].head(20)   "
   ]
  },
  {
   "cell_type": "markdown",
   "id": "3ecc5430",
   "metadata": {},
   "source": [
    "В строках где пропущено значение в столбце 'days_employed' отсутствует знвчение и в столбце 'total_income', таких значений 2174. Проверим это посчитав пропущенные значения в столбце total_income для строк в которых пропущены значения в столбце days_employed.  \n"
   ]
  },
  {
   "cell_type": "code",
   "execution_count": 7,
   "id": "d1650ed7",
   "metadata": {},
   "outputs": [
    {
     "data": {
      "text/plain": [
       "2174"
      ]
     },
     "execution_count": 7,
     "metadata": {},
     "output_type": "execute_result"
    }
   ],
   "source": [
    "data[data['days_employed'].isna()]['total_income'].isna().sum()  "
   ]
  },
  {
   "cell_type": "markdown",
   "id": "ba7c6d4e",
   "metadata": {},
   "source": [
    "Посчитаем долю пропущенных значений в этих столбцах от общего количества значений."
   ]
  },
  {
   "cell_type": "code",
   "execution_count": 8,
   "id": "2275aed8",
   "metadata": {
    "scrolled": false
   },
   "outputs": [
    {
     "data": {
      "text/plain": [
       "0.10099883855981417"
      ]
     },
     "execution_count": 8,
     "metadata": {},
     "output_type": "execute_result"
    }
   ],
   "source": [
    "data['days_employed'].isna().mean()"
   ]
  },
  {
   "cell_type": "markdown",
   "id": "55eac5d9",
   "metadata": {},
   "source": [
    "Доля пропущенных значений в столбце  'days_employed' составляет чуть более 0,1."
   ]
  },
  {
   "cell_type": "code",
   "execution_count": 9,
   "id": "d018b1bc",
   "metadata": {},
   "outputs": [
    {
     "data": {
      "text/plain": [
       "0.10099883855981417"
      ]
     },
     "execution_count": 9,
     "metadata": {},
     "output_type": "execute_result"
    }
   ],
   "source": [
    "data['total_income'].isna().mean()"
   ]
  },
  {
   "cell_type": "markdown",
   "id": "358dd0ab",
   "metadata": {},
   "source": [
    "Доля пропущенных значений в столбце 'total_income' также составляет чуть более 0.1. Что достаточно много для того что бы удалить их. Поэтому пропущенные значения в данных столбцах можно будет заполнить медианным значением. Но перед этим необходимо удалить все дубликаты.\n",
    "___\n",
    "Значения пропущенны с столбцах 'total_income' и 'days_employed' одновременно  Данные пропуски могли возникнуть из-за технической ошибки, а возможно люди не указывали свой доход и стаж, так как у них отсутствует официальный заработок и стаж и соответственно не было документов оснований для заполнения данных граф. "
   ]
  },
  {
   "cell_type": "markdown",
   "id": "41cacd2e",
   "metadata": {},
   "source": [
    "Посчитаем медианное значение для столбцов 'total_income' и 'days_employed'"
   ]
  },
  {
   "cell_type": "code",
   "execution_count": 10,
   "id": "19afdea6",
   "metadata": {
    "scrolled": false
   },
   "outputs": [
    {
     "data": {
      "text/plain": [
       "-1203.369528770489"
      ]
     },
     "execution_count": 10,
     "metadata": {},
     "output_type": "execute_result"
    }
   ],
   "source": [
    "data['days_employed'].median()  #посчитаем медиану"
   ]
  },
  {
   "cell_type": "code",
   "execution_count": 11,
   "id": "4595ac24",
   "metadata": {},
   "outputs": [
    {
     "data": {
      "text/plain": [
       "145017.93753253992"
      ]
     },
     "execution_count": 11,
     "metadata": {},
     "output_type": "execute_result"
    }
   ],
   "source": [
    "data['total_income'].median()   #посчитаем медиану"
   ]
  },
  {
   "cell_type": "markdown",
   "id": "7f1d8d3d",
   "metadata": {},
   "source": [
    "Медианное значение для столбца 'days_employed' отрицательное, что противоречит смыслу содержащихся в данном столбце значений. Таким образом, для корректного заполнения пропущенных значений в данном столбце необходимо сначала избавиться от аномалий в значениях."
   ]
  },
  {
   "cell_type": "markdown",
   "id": "674db9e0",
   "metadata": {},
   "source": [
    "## Проверка данных на аномалии"
   ]
  },
  {
   "cell_type": "markdown",
   "id": "b0df6bf7",
   "metadata": {},
   "source": [
    "Проверим на корректность значения в столбцах. Для этого напишем функцию которая выведет максимальное и минимальное значение в столбце. И проверим столбцы, которые содержат числовые значения (данные типа int64 и float64)  "
   ]
  },
  {
   "cell_type": "code",
   "execution_count": 12,
   "id": "1b1ae13f",
   "metadata": {
    "scrolled": true
   },
   "outputs": [
    {
     "name": "stdout",
     "output_type": "stream",
     "text": [
      "children 20 -1\n",
      "days_employed 401755.40047533 -18388.949900568383\n",
      "dob_years 75 0\n",
      "education_id 4 0\n",
      "family_status_id 4 0\n",
      "debt 1 0\n",
      "total_income 2265604.028722744 20667.26379327158\n"
     ]
    }
   ],
   "source": [
    "def max_min(columns):\n",
    "    for column in columns:\n",
    "        print(column, max(data[column]), min(data[column]))\n",
    "\n",
    "max_min (['children','days_employed', 'dob_years', 'education_id', 'family_status_id', 'debt','total_income'])\n"
   ]
  },
  {
   "cell_type": "markdown",
   "id": "7b240457",
   "metadata": {},
   "source": [
    " В столбце children присутствует отрицательное значение, что противоречит смыслу данного столбца (количество детей не может быть отрицательным). Проверим сколько уникальных значений в данном столбце и их количество."
   ]
  },
  {
   "cell_type": "code",
   "execution_count": 13,
   "id": "f479bd88",
   "metadata": {
    "scrolled": true
   },
   "outputs": [
    {
     "data": {
      "text/plain": [
       " 0     14149\n",
       " 1      4818\n",
       " 2      2055\n",
       " 3       330\n",
       " 20       76\n",
       "-1        47\n",
       " 4        41\n",
       " 5         9\n",
       "Name: children, dtype: int64"
      ]
     },
     "execution_count": 13,
     "metadata": {},
     "output_type": "execute_result"
    }
   ],
   "source": [
    "data['children'].value_counts()"
   ]
  },
  {
   "cell_type": "markdown",
   "id": "765a1cd4",
   "metadata": {},
   "source": [
    "Отрицательное значение в данном столбце одно и встречается 47 раз. Логично заменить его на 1. Также 20 детей кажется слишком большим значением.\n",
    "Посчитаем долю значений -1 в общем количестве значений"
   ]
  },
  {
   "cell_type": "code",
   "execution_count": 14,
   "id": "579f5306",
   "metadata": {
    "scrolled": true
   },
   "outputs": [
    {
     "data": {
      "text/plain": [
       "0.002183507549361208"
      ]
     },
     "execution_count": 14,
     "metadata": {},
     "output_type": "execute_result"
    }
   ],
   "source": [
    "len(data[data['children'] == -1]) / len(data['children'])"
   ]
  },
  {
   "cell_type": "markdown",
   "id": "a2837380",
   "metadata": {},
   "source": [
    "Значения -1 составляют чуть более 0.2% от общей массы. Замена значений -1 на 1 не внесет значительных изменений."
   ]
  },
  {
   "cell_type": "code",
   "execution_count": 15,
   "id": "4c17ee0e",
   "metadata": {
    "scrolled": true
   },
   "outputs": [
    {
     "data": {
      "text/plain": [
       "0     14149\n",
       "1      4865\n",
       "2      2055\n",
       "3       330\n",
       "20       76\n",
       "4        41\n",
       "5         9\n",
       "Name: children, dtype: int64"
      ]
     },
     "execution_count": 15,
     "metadata": {},
     "output_type": "execute_result"
    }
   ],
   "source": [
    "data['children'] = data['children'].replace(-1, 1)\n",
    "data['children'].value_counts()     # проверим уникальные значения после замены"
   ]
  },
  {
   "cell_type": "markdown",
   "id": "61f8990c",
   "metadata": {},
   "source": [
    "Посчитаем долю значений 20 в общем количестве значений"
   ]
  },
  {
   "cell_type": "code",
   "execution_count": 16,
   "id": "3caf4e7f",
   "metadata": {
    "scrolled": false
   },
   "outputs": [
    {
     "data": {
      "text/plain": [
       "0.0035307781649245064"
      ]
     },
     "execution_count": 16,
     "metadata": {},
     "output_type": "execute_result"
    }
   ],
   "source": [
    "len(data[data['children'] == 20]) / len(data['children'])"
   ]
  },
  {
   "cell_type": "markdown",
   "id": "d2af5aaa",
   "metadata": {},
   "source": [
    "Доля значений равных 20 составляет чуть более 0,35%. Так как других значений с большим количеством детей нет(от 5 до 20 нет другх значений), то вероятно это аномалия, а не реальное значение. Возможно данная аномалия вызвана опечаткой и на самом деле значение должно быть равно 2 или 0. В случае со значением -1 считаю, что ввести вместо 0 значение 1 наименее вероятно и появление \"-\" в данном столбце ошибка, в то время как со значением 20 возможно больше вариантов и так как доля данных значений невелика их можно удалить."
   ]
  },
  {
   "cell_type": "code",
   "execution_count": 17,
   "id": "cabccacd",
   "metadata": {},
   "outputs": [],
   "source": [
    "# удалим стороки со значением 20\n",
    "data = data[data['children'] != 20]"
   ]
  },
  {
   "cell_type": "markdown",
   "id": "f5c5d3e1",
   "metadata": {},
   "source": [
    "Проверим уникальные значения после изменений"
   ]
  },
  {
   "cell_type": "code",
   "execution_count": 18,
   "id": "6a689980",
   "metadata": {
    "scrolled": true
   },
   "outputs": [
    {
     "data": {
      "text/plain": [
       "0    14149\n",
       "1     4865\n",
       "2     2055\n",
       "3      330\n",
       "4       41\n",
       "5        9\n",
       "Name: children, dtype: int64"
      ]
     },
     "execution_count": 18,
     "metadata": {},
     "output_type": "execute_result"
    }
   ],
   "source": [
    "data['children'].value_counts()"
   ]
  },
  {
   "cell_type": "markdown",
   "id": "f50fc765",
   "metadata": {},
   "source": [
    "Посмотрим общую информацию по датасету после изменений"
   ]
  },
  {
   "cell_type": "code",
   "execution_count": 19,
   "id": "efddd408",
   "metadata": {},
   "outputs": [
    {
     "name": "stdout",
     "output_type": "stream",
     "text": [
      "<class 'pandas.core.frame.DataFrame'>\n",
      "Int64Index: 21449 entries, 0 to 21524\n",
      "Data columns (total 12 columns):\n",
      "children            21449 non-null int64\n",
      "days_employed       19284 non-null float64\n",
      "dob_years           21449 non-null int64\n",
      "education           21449 non-null object\n",
      "education_id        21449 non-null int64\n",
      "family_status       21449 non-null object\n",
      "family_status_id    21449 non-null int64\n",
      "gender              21449 non-null object\n",
      "income_type         21449 non-null object\n",
      "debt                21449 non-null int64\n",
      "total_income        19284 non-null float64\n",
      "purpose             21449 non-null object\n",
      "dtypes: float64(2), int64(5), object(5)\n",
      "memory usage: 2.1+ MB\n"
     ]
    }
   ],
   "source": [
    "data.info()"
   ]
  },
  {
   "cell_type": "markdown",
   "id": "87242d04",
   "metadata": {},
   "source": [
    "Также в столбце days_employed присуствуют отрицательные значения. Стаж не может быть отрицательным, в сзязи с чем логично заменить данные значения на положительные. Данная ошибка могла возникнуть из-за того что даты для подсчета стажа были перепутаны местами и из более раннней даты вычиталась более поздняя. Также максимальное значение в данной столбце значительно превышает максимально возможный рабочий стаж. \n",
    "Посчитаем максимальный стаж из наших данных в годах, поделим на 365 дней в году."
   ]
  },
  {
   "cell_type": "code",
   "execution_count": 20,
   "id": "92215f4b",
   "metadata": {
    "scrolled": true
   },
   "outputs": [
    {
     "data": {
      "text/plain": [
       "1100.6997273296713"
      ]
     },
     "execution_count": 20,
     "metadata": {},
     "output_type": "execute_result"
    }
   ],
   "source": [
    "401755.40047533 / 365"
   ]
  },
  {
   "cell_type": "markdown",
   "id": "1d041084",
   "metadata": {},
   "source": [
    "И хотя не все дни в году являются рабочими, но даже при делении на 365 получается слишком большое количество лет. Возможно данные в данной столбце не в днях и тогда стоит более тщательно изучить данные в этом столбце, но в проверяемой гипотезе нет вопроса о стаже, в связи с чем не корректные данные в столбце можно проигнорировать.\n",
    "Заменим отрицательные данные на положительные, чтобы затем корректно посчитать медианное значение."
   ]
  },
  {
   "cell_type": "code",
   "execution_count": 21,
   "id": "1f985e53",
   "metadata": {},
   "outputs": [],
   "source": [
    "data['days_employed'] = data['days_employed'].abs()"
   ]
  },
  {
   "cell_type": "markdown",
   "id": "6136aefc",
   "metadata": {},
   "source": [
    "Проверим наличие отрицательных и равных нулю занчений в столбце 'days_employed'"
   ]
  },
  {
   "cell_type": "code",
   "execution_count": 22,
   "id": "3005f3c6",
   "metadata": {
    "scrolled": true
   },
   "outputs": [
    {
     "data": {
      "text/plain": [
       "0"
      ]
     },
     "execution_count": 22,
     "metadata": {},
     "output_type": "execute_result"
    }
   ],
   "source": [
    "data[data['days_employed']<= 0]['days_employed'].count()"
   ]
  },
  {
   "cell_type": "markdown",
   "id": "69cda0bc",
   "metadata": {},
   "source": [
    "В столбце dob_years минимальное значение 0. Получается некоторые люди просто не указали свой возраст. Проверим какие еще значения есть в данном столбце. Для этого посмотрим на уникальные значения данного столбца.  "
   ]
  },
  {
   "cell_type": "code",
   "execution_count": 23,
   "id": "6f5b330b",
   "metadata": {
    "scrolled": true
   },
   "outputs": [
    {
     "data": {
      "text/plain": [
       "array([ 0, 19, 20, 21, 22, 23, 24, 25, 26, 27, 28, 29, 30, 31, 32, 33, 34,\n",
       "       35, 36, 37, 38, 39, 40, 41, 42, 43, 44, 45, 46, 47, 48, 49, 50, 51,\n",
       "       52, 53, 54, 55, 56, 57, 58, 59, 60, 61, 62, 63, 64, 65, 66, 67, 68,\n",
       "       69, 70, 71, 72, 73, 74, 75])"
      ]
     },
     "execution_count": 23,
     "metadata": {},
     "output_type": "execute_result"
    }
   ],
   "source": [
    "data['dob_years'].sort_values().unique()"
   ]
  },
  {
   "cell_type": "markdown",
   "id": "90cc9a0a",
   "metadata": {},
   "source": [
    "Остальные занчения соответсвуют реальности, таким образом анаомальным является значение 0 в данном столбце. Но так как зависимость от возраста мы не рассматриваем, то можно его не изменять.   "
   ]
  },
  {
   "cell_type": "markdown",
   "id": "e1e9ff4e",
   "metadata": {},
   "source": [
    "Проверим столбец gender на наличие аномалий в данных."
   ]
  },
  {
   "cell_type": "code",
   "execution_count": 24,
   "id": "aee953dc",
   "metadata": {
    "scrolled": false
   },
   "outputs": [
    {
     "data": {
      "text/plain": [
       "F      14189\n",
       "M       7259\n",
       "XNA        1\n",
       "Name: gender, dtype: int64"
      ]
     },
     "execution_count": 24,
     "metadata": {},
     "output_type": "execute_result"
    }
   ],
   "source": [
    "data['gender'].value_counts()"
   ]
  },
  {
   "cell_type": "markdown",
   "id": "9372481c",
   "metadata": {},
   "source": [
    "Столбец содержит некорректное значения с полом XNA. Данное значение встечается только один раз и строку можно удалить, но так как в проверяемой гипотезе нет вопроса о зависимости от поле, то не будем удалять строку.   "
   ]
  },
  {
   "cell_type": "markdown",
   "id": "7a4f3527",
   "metadata": {},
   "source": [
    "##  Удаление дубликатов"
   ]
  },
  {
   "cell_type": "markdown",
   "id": "426eadd5",
   "metadata": {},
   "source": [
    "Проверим датасет на наличие явных дубликатов и сразу посчитаем их"
   ]
  },
  {
   "cell_type": "code",
   "execution_count": 25,
   "id": "a11e2d62",
   "metadata": {
    "scrolled": true
   },
   "outputs": [
    {
     "data": {
      "text/plain": [
       "54"
      ]
     },
     "execution_count": 25,
     "metadata": {},
     "output_type": "execute_result"
    }
   ],
   "source": [
    "data.duplicated().sum()"
   ]
  },
  {
   "cell_type": "markdown",
   "id": "13904186",
   "metadata": {},
   "source": [
    "Удалим явных дубликатов с удалением старых индексов и формированием новых"
   ]
  },
  {
   "cell_type": "code",
   "execution_count": 26,
   "id": "145007b8",
   "metadata": {
    "scrolled": true
   },
   "outputs": [],
   "source": [
    "data = data.drop_duplicates().reset_index(drop = True)"
   ]
  },
  {
   "cell_type": "markdown",
   "id": "007349d9",
   "metadata": {},
   "source": [
    "Ещё раз посчитаем явные дубликаты в таблице, чтобы убедиться, что полностью от них избавились"
   ]
  },
  {
   "cell_type": "code",
   "execution_count": 27,
   "id": "83f86684",
   "metadata": {
    "scrolled": true
   },
   "outputs": [
    {
     "data": {
      "text/plain": [
       "0"
      ]
     },
     "execution_count": 27,
     "metadata": {},
     "output_type": "execute_result"
    }
   ],
   "source": [
    "data.duplicated().sum()"
   ]
  },
  {
   "cell_type": "markdown",
   "id": "0b09a86f",
   "metadata": {},
   "source": [
    "Теперь проверим датасет на наличие неявных дубликатов. Начнем проверку со столбца education."
   ]
  },
  {
   "cell_type": "code",
   "execution_count": 28,
   "id": "108934d8",
   "metadata": {},
   "outputs": [
    {
     "data": {
      "text/plain": [
       "среднее                13653\n",
       "высшее                  4698\n",
       "СРЕДНЕЕ                  770\n",
       "Среднее                  705\n",
       "неоконченное высшее      666\n",
       "ВЫСШЕЕ                   271\n",
       "Высшее                   268\n",
       "начальное                250\n",
       "Неоконченное высшее       47\n",
       "НЕОКОНЧЕННОЕ ВЫСШЕЕ       29\n",
       "НАЧАЛЬНОЕ                 17\n",
       "Начальное                 15\n",
       "ученая степень             4\n",
       "Ученая степень             1\n",
       "УЧЕНАЯ СТЕПЕНЬ             1\n",
       "Name: education, dtype: int64"
      ]
     },
     "execution_count": 28,
     "metadata": {},
     "output_type": "execute_result"
    }
   ],
   "source": [
    "data['education'].value_counts() # посчитаем сколько уникальных значений и какие"
   ]
  },
  {
   "cell_type": "markdown",
   "id": "11915000",
   "metadata": {},
   "source": [
    "Значения столбца повторяются, но написанные разным регистром. Необходимо привести написание к единому регистру ля удаления неявных дубликатов."
   ]
  },
  {
   "cell_type": "code",
   "execution_count": 29,
   "id": "7d29a08d",
   "metadata": {
    "scrolled": true
   },
   "outputs": [
    {
     "data": {
      "text/plain": [
       "среднее                15128\n",
       "высшее                  5237\n",
       "неоконченное высшее      742\n",
       "начальное                282\n",
       "ученая степень             6\n",
       "Name: education, dtype: int64"
      ]
     },
     "execution_count": 29,
     "metadata": {},
     "output_type": "execute_result"
    }
   ],
   "source": [
    "data['education'] = data['education'].str.lower() # приведим значения столбца к нижнему регистру\n",
    "data['education'].value_counts()                  # пересчитаем сколько уникальных значений и какие"
   ]
  },
  {
   "cell_type": "markdown",
   "id": "38bdfac1",
   "metadata": {},
   "source": [
    "Теперь проверим столбец family_status на наличие неявных дубликатов. "
   ]
  },
  {
   "cell_type": "code",
   "execution_count": 30,
   "id": "55fd0643",
   "metadata": {
    "scrolled": true
   },
   "outputs": [
    {
     "data": {
      "text/plain": [
       "женат / замужем          12295\n",
       "гражданский брак          4151\n",
       "Не женат / не замужем     2801\n",
       "в разводе                 1193\n",
       "вдовец / вдова             955\n",
       "Name: family_status, dtype: int64"
      ]
     },
     "execution_count": 30,
     "metadata": {},
     "output_type": "execute_result"
    }
   ],
   "source": [
    "data['family_status'].value_counts()"
   ]
  },
  {
   "cell_type": "markdown",
   "id": "b88f4d2e",
   "metadata": {},
   "source": [
    "Неявные дубликаты в столбце family_status  отсутствуют."
   ]
  },
  {
   "cell_type": "markdown",
   "id": "033c8529",
   "metadata": {},
   "source": [
    "Проверим столбец income_type на наличие неявных дубликатов."
   ]
  },
  {
   "cell_type": "code",
   "execution_count": 31,
   "id": "d80d1392",
   "metadata": {
    "scrolled": true
   },
   "outputs": [
    {
     "data": {
      "text/plain": [
       "сотрудник          11048\n",
       "компаньон           5058\n",
       "пенсионер           3828\n",
       "госслужащий         1455\n",
       "предприниматель        2\n",
       "безработный            2\n",
       "в декрете              1\n",
       "студент                1\n",
       "Name: income_type, dtype: int64"
      ]
     },
     "execution_count": 31,
     "metadata": {},
     "output_type": "execute_result"
    }
   ],
   "source": [
    "data['income_type'].value_counts()"
   ]
  },
  {
   "cell_type": "markdown",
   "id": "ea8270cb",
   "metadata": {},
   "source": [
    "Неявные дубликаты в столбце income_type отсутствуют."
   ]
  },
  {
   "cell_type": "markdown",
   "id": "95483305",
   "metadata": {},
   "source": [
    "Проверим столбец purpose на наличие неявных дубликатов."
   ]
  },
  {
   "cell_type": "code",
   "execution_count": 32,
   "id": "f0d41b90",
   "metadata": {
    "scrolled": false
   },
   "outputs": [
    {
     "data": {
      "text/plain": [
       "свадьба                                   792\n",
       "на проведение свадьбы                     769\n",
       "сыграть свадьбу                           765\n",
       "операции с недвижимостью                  674\n",
       "покупка коммерческой недвижимости         659\n",
       "покупка жилья для сдачи                   651\n",
       "операции с жильем                         648\n",
       "операции с коммерческой недвижимостью     646\n",
       "покупка жилья                             643\n",
       "жилье                                     642\n",
       "покупка жилья для семьи                   637\n",
       "недвижимость                              632\n",
       "строительство собственной недвижимости    629\n",
       "операции со своей недвижимостью           626\n",
       "строительство жилой недвижимости          624\n",
       "покупка своего жилья                      620\n",
       "строительство недвижимости                619\n",
       "покупка недвижимости                      619\n",
       "ремонт жилью                              605\n",
       "покупка жилой недвижимости                604\n",
       "на покупку своего автомобиля              505\n",
       "заняться высшим образованием              496\n",
       "автомобиль                                493\n",
       "сделка с подержанным автомобилем          482\n",
       "автомобили                                477\n",
       "свой автомобиль                           476\n",
       "на покупку подержанного автомобиля        472\n",
       "на покупку автомобиля                     471\n",
       "приобретение автомобиля                   461\n",
       "дополнительное образование                457\n",
       "сделка с автомобилем                      455\n",
       "высшее образование                        447\n",
       "получение дополнительного образования     446\n",
       "образование                               445\n",
       "получение образования                     441\n",
       "профильное образование                    434\n",
       "получение высшего образования             425\n",
       "заняться образованием                     408\n",
       "Name: purpose, dtype: int64"
      ]
     },
     "execution_count": 32,
     "metadata": {},
     "output_type": "execute_result"
    }
   ],
   "source": [
    "data['purpose'].value_counts()"
   ]
  },
  {
   "cell_type": "markdown",
   "id": "b2fbd435",
   "metadata": {},
   "source": [
    "Неявные дубликаты в столбце purpose отсутствуют. Все значения записаны в одном регистре. Все значения в данном столбце сформулированы по разному, но их можно разделить на 4 категории: ‘операции с автомобилем’, ‘операции с недвижимостью’, ‘проведение свадьбы’, ‘получение образования’. Категоризацию целей кредита произвелем далее. "
   ]
  },
  {
   "cell_type": "markdown",
   "id": "21566851",
   "metadata": {},
   "source": [
    "После удаления неявных дубликатов необходимо повторно проверить датасет на наличие явных дубликатов."
   ]
  },
  {
   "cell_type": "code",
   "execution_count": 33,
   "id": "f274d99e",
   "metadata": {},
   "outputs": [
    {
     "data": {
      "text/plain": [
       "17"
      ]
     },
     "execution_count": 33,
     "metadata": {},
     "output_type": "execute_result"
    }
   ],
   "source": [
    "data.duplicated().sum() # посчитаем количество явных дубликатов"
   ]
  },
  {
   "cell_type": "markdown",
   "id": "4148b64f",
   "metadata": {},
   "source": [
    "Удалим строки с явными дубликатами."
   ]
  },
  {
   "cell_type": "code",
   "execution_count": 34,
   "id": "fe9e35fd",
   "metadata": {},
   "outputs": [
    {
     "data": {
      "text/plain": [
       "0"
      ]
     },
     "execution_count": 34,
     "metadata": {},
     "output_type": "execute_result"
    }
   ],
   "source": [
    "data = data.drop_duplicates().reset_index(drop = True)   # удалим строки с явными дубликатами\n",
    "data.duplicated().sum()                                  # посчитаем количество явных дубликатов"
   ]
  },
  {
   "cell_type": "markdown",
   "id": "d9cd0b65",
   "metadata": {},
   "source": [
    "Посмотрим общую информацию по датасету после удаления дубликатов."
   ]
  },
  {
   "cell_type": "code",
   "execution_count": 35,
   "id": "33c59be9",
   "metadata": {},
   "outputs": [
    {
     "name": "stdout",
     "output_type": "stream",
     "text": [
      "<class 'pandas.core.frame.DataFrame'>\n",
      "RangeIndex: 21378 entries, 0 to 21377\n",
      "Data columns (total 12 columns):\n",
      "children            21378 non-null int64\n",
      "days_employed       19284 non-null float64\n",
      "dob_years           21378 non-null int64\n",
      "education           21378 non-null object\n",
      "education_id        21378 non-null int64\n",
      "family_status       21378 non-null object\n",
      "family_status_id    21378 non-null int64\n",
      "gender              21378 non-null object\n",
      "income_type         21378 non-null object\n",
      "debt                21378 non-null int64\n",
      "total_income        19284 non-null float64\n",
      "purpose             21378 non-null object\n",
      "dtypes: float64(2), int64(5), object(5)\n",
      "memory usage: 2.0+ MB\n"
     ]
    }
   ],
   "source": [
    "data.info()"
   ]
  },
  {
   "cell_type": "markdown",
   "id": "bb63f2bf",
   "metadata": {},
   "source": [
    "## Заполнение пропусков"
   ]
  },
  {
   "cell_type": "markdown",
   "id": "a25f7191",
   "metadata": {},
   "source": [
    "После удаления дубликатов вернемся к заполнению пропущенных значений в столбцах  days_employed и total_income. Теперь мы избавились от отрицательных значений в столбце days_employed и дубликатов, что позволит более точно рассчитать медианное значение для заполнения пропущенных значений. Рассчитаем значения медианы для столбца days_employed."
   ]
  },
  {
   "cell_type": "code",
   "execution_count": 36,
   "id": "ec3bcb5e",
   "metadata": {
    "scrolled": true
   },
   "outputs": [
    {
     "data": {
      "text/plain": [
       "2196.507938101055"
      ]
     },
     "execution_count": 36,
     "metadata": {},
     "output_type": "execute_result"
    }
   ],
   "source": [
    "median_days_employted = data['days_employed'].median()  #посчитаем медиану\n",
    "median_days_employted"
   ]
  },
  {
   "cell_type": "markdown",
   "id": "b3b63f55",
   "metadata": {},
   "source": [
    "В проверяемой гипотезе нет вопроса о стаже, в связи с чем не корректные данные в столбце можно проигнорировать. Заменим пропущенные значения на полученное медианное значение."
   ]
  },
  {
   "cell_type": "code",
   "execution_count": 37,
   "id": "f271eb94",
   "metadata": {
    "scrolled": true
   },
   "outputs": [],
   "source": [
    "data['days_employed'] = data['days_employed'].fillna(median_days_employted) # заменяем значения в столбце days_employed"
   ]
  },
  {
   "cell_type": "markdown",
   "id": "488bb03d",
   "metadata": {},
   "source": [
    "Рассчитаем значения медианы для столбца total_income."
   ]
  },
  {
   "cell_type": "code",
   "execution_count": 38,
   "id": "ccf1c548",
   "metadata": {},
   "outputs": [
    {
     "data": {
      "text/plain": [
       "145020.80127962783"
      ]
     },
     "execution_count": 38,
     "metadata": {},
     "output_type": "execute_result"
    }
   ],
   "source": [
    "median_total_income = data['total_income'].median()    #посчитаем медиану\n",
    "median_total_income"
   ]
  },
  {
   "cell_type": "markdown",
   "id": "c5c3cc6b",
   "metadata": {},
   "source": [
    "В датаcете есть столбец income_type (тип занятости), возможно, что ежемесячный доход зависит от типа занятости. Посмотрим на количество значений и на медианное значение для каждого типа занятости. Для этого построим сводную таблицу."
   ]
  },
  {
   "cell_type": "code",
   "execution_count": 39,
   "id": "da44ffcd",
   "metadata": {
    "scrolled": true
   },
   "outputs": [
    {
     "data": {
      "text/html": [
       "<div>\n",
       "<style scoped>\n",
       "    .dataframe tbody tr th:only-of-type {\n",
       "        vertical-align: middle;\n",
       "    }\n",
       "\n",
       "    .dataframe tbody tr th {\n",
       "        vertical-align: top;\n",
       "    }\n",
       "\n",
       "    .dataframe thead tr th {\n",
       "        text-align: left;\n",
       "    }\n",
       "\n",
       "    .dataframe thead tr:last-of-type th {\n",
       "        text-align: right;\n",
       "    }\n",
       "</style>\n",
       "<table border=\"1\" class=\"dataframe\">\n",
       "  <thead>\n",
       "    <tr>\n",
       "      <th></th>\n",
       "      <th>median</th>\n",
       "      <th>count</th>\n",
       "    </tr>\n",
       "    <tr>\n",
       "      <th></th>\n",
       "      <th>total_income</th>\n",
       "      <th>total_income</th>\n",
       "    </tr>\n",
       "    <tr>\n",
       "      <th>income_type</th>\n",
       "      <th></th>\n",
       "      <th></th>\n",
       "    </tr>\n",
       "  </thead>\n",
       "  <tbody>\n",
       "    <tr>\n",
       "      <td>безработный</td>\n",
       "      <td>131339.751676</td>\n",
       "      <td>2</td>\n",
       "    </tr>\n",
       "    <tr>\n",
       "      <td>в декрете</td>\n",
       "      <td>53829.130729</td>\n",
       "      <td>1</td>\n",
       "    </tr>\n",
       "    <tr>\n",
       "      <td>госслужащий</td>\n",
       "      <td>150420.150276</td>\n",
       "      <td>1311</td>\n",
       "    </tr>\n",
       "    <tr>\n",
       "      <td>компаньон</td>\n",
       "      <td>172450.279990</td>\n",
       "      <td>4558</td>\n",
       "    </tr>\n",
       "    <tr>\n",
       "      <td>пенсионер</td>\n",
       "      <td>118406.283533</td>\n",
       "      <td>3436</td>\n",
       "    </tr>\n",
       "    <tr>\n",
       "      <td>предприниматель</td>\n",
       "      <td>499163.144947</td>\n",
       "      <td>1</td>\n",
       "    </tr>\n",
       "    <tr>\n",
       "      <td>сотрудник</td>\n",
       "      <td>142594.396847</td>\n",
       "      <td>9974</td>\n",
       "    </tr>\n",
       "    <tr>\n",
       "      <td>студент</td>\n",
       "      <td>98201.625314</td>\n",
       "      <td>1</td>\n",
       "    </tr>\n",
       "  </tbody>\n",
       "</table>\n",
       "</div>"
      ],
      "text/plain": [
       "                        median        count\n",
       "                  total_income total_income\n",
       "income_type                                \n",
       "безработный      131339.751676            2\n",
       "в декрете         53829.130729            1\n",
       "госслужащий      150420.150276         1311\n",
       "компаньон        172450.279990         4558\n",
       "пенсионер        118406.283533         3436\n",
       "предприниматель  499163.144947            1\n",
       "сотрудник        142594.396847         9974\n",
       "студент           98201.625314            1"
      ]
     },
     "execution_count": 39,
     "metadata": {},
     "output_type": "execute_result"
    }
   ],
   "source": [
    "data.pivot_table(index='income_type', values='total_income', aggfunc=['median', 'count'])"
   ]
  },
  {
   "cell_type": "markdown",
   "id": "259cf2f0",
   "metadata": {},
   "source": [
    "Таким образом, видим что в некоторых категориях только одно или два значения и медианное значение не имеет смысла.Посмотрим для какого типа занятости пропущены значения в столбце total_income"
   ]
  },
  {
   "cell_type": "code",
   "execution_count": 40,
   "id": "958228bc",
   "metadata": {
    "scrolled": false
   },
   "outputs": [
    {
     "data": {
      "text/plain": [
       "сотрудник          1067\n",
       "компаньон           498\n",
       "пенсионер           384\n",
       "госслужащий         144\n",
       "предприниматель       1\n",
       "Name: income_type, dtype: int64"
      ]
     },
     "execution_count": 40,
     "metadata": {},
     "output_type": "execute_result"
    }
   ],
   "source": [
    "data[data['total_income'].isna()]['income_type'].value_counts()"
   ]
  },
  {
   "cell_type": "markdown",
   "id": "237f6a22",
   "metadata": {},
   "source": [
    "Видим, что пропущенные значения присутствуют только в 5 типах занятости, при этом для типа занятости \"предприниматель\" только 1 значение и расчет медианного не имеет смысла и ориентироваться на одно значение в категории не верно. Для остальных 4 типов медианные значения как видно из сводной таблицы выше находятся в диапазоне от 118 тыс. (пенсионер) до 172 тыс. (компаньон), что соответствует категории \"С\", также как и медианное значение для всего столбца total_income (145 тыс.). Категоризация доходов производится далее, но данном этапе видно, что можно заполнить пропущенные значения в столбце total_income медианным значением не исказив данные.  "
   ]
  },
  {
   "cell_type": "markdown",
   "id": "cd41ea3f",
   "metadata": {},
   "source": [
    "Заменим пропущенные значения на медиану."
   ]
  },
  {
   "cell_type": "code",
   "execution_count": 41,
   "id": "f1146ea1",
   "metadata": {},
   "outputs": [
    {
     "data": {
      "text/html": [
       "<div>\n",
       "<style scoped>\n",
       "    .dataframe tbody tr th:only-of-type {\n",
       "        vertical-align: middle;\n",
       "    }\n",
       "\n",
       "    .dataframe tbody tr th {\n",
       "        vertical-align: top;\n",
       "    }\n",
       "\n",
       "    .dataframe thead th {\n",
       "        text-align: right;\n",
       "    }\n",
       "</style>\n",
       "<table border=\"1\" class=\"dataframe\">\n",
       "  <thead>\n",
       "    <tr style=\"text-align: right;\">\n",
       "      <th></th>\n",
       "      <th>children</th>\n",
       "      <th>days_employed</th>\n",
       "      <th>dob_years</th>\n",
       "      <th>education</th>\n",
       "      <th>education_id</th>\n",
       "      <th>family_status</th>\n",
       "      <th>family_status_id</th>\n",
       "      <th>gender</th>\n",
       "      <th>income_type</th>\n",
       "      <th>debt</th>\n",
       "      <th>total_income</th>\n",
       "      <th>purpose</th>\n",
       "    </tr>\n",
       "  </thead>\n",
       "  <tbody>\n",
       "    <tr>\n",
       "      <td>0</td>\n",
       "      <td>1</td>\n",
       "      <td>8437.673028</td>\n",
       "      <td>42</td>\n",
       "      <td>высшее</td>\n",
       "      <td>0</td>\n",
       "      <td>женат / замужем</td>\n",
       "      <td>0</td>\n",
       "      <td>F</td>\n",
       "      <td>сотрудник</td>\n",
       "      <td>0</td>\n",
       "      <td>253875.639453</td>\n",
       "      <td>покупка жилья</td>\n",
       "    </tr>\n",
       "    <tr>\n",
       "      <td>1</td>\n",
       "      <td>1</td>\n",
       "      <td>4024.803754</td>\n",
       "      <td>36</td>\n",
       "      <td>среднее</td>\n",
       "      <td>1</td>\n",
       "      <td>женат / замужем</td>\n",
       "      <td>0</td>\n",
       "      <td>F</td>\n",
       "      <td>сотрудник</td>\n",
       "      <td>0</td>\n",
       "      <td>112080.014102</td>\n",
       "      <td>приобретение автомобиля</td>\n",
       "    </tr>\n",
       "    <tr>\n",
       "      <td>2</td>\n",
       "      <td>0</td>\n",
       "      <td>5623.422610</td>\n",
       "      <td>33</td>\n",
       "      <td>среднее</td>\n",
       "      <td>1</td>\n",
       "      <td>женат / замужем</td>\n",
       "      <td>0</td>\n",
       "      <td>M</td>\n",
       "      <td>сотрудник</td>\n",
       "      <td>0</td>\n",
       "      <td>145885.952297</td>\n",
       "      <td>покупка жилья</td>\n",
       "    </tr>\n",
       "    <tr>\n",
       "      <td>3</td>\n",
       "      <td>3</td>\n",
       "      <td>4124.747207</td>\n",
       "      <td>32</td>\n",
       "      <td>среднее</td>\n",
       "      <td>1</td>\n",
       "      <td>женат / замужем</td>\n",
       "      <td>0</td>\n",
       "      <td>M</td>\n",
       "      <td>сотрудник</td>\n",
       "      <td>0</td>\n",
       "      <td>267628.550329</td>\n",
       "      <td>дополнительное образование</td>\n",
       "    </tr>\n",
       "    <tr>\n",
       "      <td>4</td>\n",
       "      <td>0</td>\n",
       "      <td>340266.072047</td>\n",
       "      <td>53</td>\n",
       "      <td>среднее</td>\n",
       "      <td>1</td>\n",
       "      <td>гражданский брак</td>\n",
       "      <td>1</td>\n",
       "      <td>F</td>\n",
       "      <td>пенсионер</td>\n",
       "      <td>0</td>\n",
       "      <td>158616.077870</td>\n",
       "      <td>сыграть свадьбу</td>\n",
       "    </tr>\n",
       "    <tr>\n",
       "      <td>5</td>\n",
       "      <td>0</td>\n",
       "      <td>926.185831</td>\n",
       "      <td>27</td>\n",
       "      <td>высшее</td>\n",
       "      <td>0</td>\n",
       "      <td>гражданский брак</td>\n",
       "      <td>1</td>\n",
       "      <td>M</td>\n",
       "      <td>компаньон</td>\n",
       "      <td>0</td>\n",
       "      <td>255763.565419</td>\n",
       "      <td>покупка жилья</td>\n",
       "    </tr>\n",
       "    <tr>\n",
       "      <td>6</td>\n",
       "      <td>0</td>\n",
       "      <td>2879.202052</td>\n",
       "      <td>43</td>\n",
       "      <td>высшее</td>\n",
       "      <td>0</td>\n",
       "      <td>женат / замужем</td>\n",
       "      <td>0</td>\n",
       "      <td>F</td>\n",
       "      <td>компаньон</td>\n",
       "      <td>0</td>\n",
       "      <td>240525.971920</td>\n",
       "      <td>операции с жильем</td>\n",
       "    </tr>\n",
       "    <tr>\n",
       "      <td>7</td>\n",
       "      <td>0</td>\n",
       "      <td>152.779569</td>\n",
       "      <td>50</td>\n",
       "      <td>среднее</td>\n",
       "      <td>1</td>\n",
       "      <td>женат / замужем</td>\n",
       "      <td>0</td>\n",
       "      <td>M</td>\n",
       "      <td>сотрудник</td>\n",
       "      <td>0</td>\n",
       "      <td>135823.934197</td>\n",
       "      <td>образование</td>\n",
       "    </tr>\n",
       "    <tr>\n",
       "      <td>8</td>\n",
       "      <td>2</td>\n",
       "      <td>6929.865299</td>\n",
       "      <td>35</td>\n",
       "      <td>высшее</td>\n",
       "      <td>0</td>\n",
       "      <td>гражданский брак</td>\n",
       "      <td>1</td>\n",
       "      <td>F</td>\n",
       "      <td>сотрудник</td>\n",
       "      <td>0</td>\n",
       "      <td>95856.832424</td>\n",
       "      <td>на проведение свадьбы</td>\n",
       "    </tr>\n",
       "    <tr>\n",
       "      <td>9</td>\n",
       "      <td>0</td>\n",
       "      <td>2188.756445</td>\n",
       "      <td>41</td>\n",
       "      <td>среднее</td>\n",
       "      <td>1</td>\n",
       "      <td>женат / замужем</td>\n",
       "      <td>0</td>\n",
       "      <td>M</td>\n",
       "      <td>сотрудник</td>\n",
       "      <td>0</td>\n",
       "      <td>144425.938277</td>\n",
       "      <td>покупка жилья для семьи</td>\n",
       "    </tr>\n",
       "  </tbody>\n",
       "</table>\n",
       "</div>"
      ],
      "text/plain": [
       "   children  days_employed  dob_years education  education_id  \\\n",
       "0         1    8437.673028         42    высшее             0   \n",
       "1         1    4024.803754         36   среднее             1   \n",
       "2         0    5623.422610         33   среднее             1   \n",
       "3         3    4124.747207         32   среднее             1   \n",
       "4         0  340266.072047         53   среднее             1   \n",
       "5         0     926.185831         27    высшее             0   \n",
       "6         0    2879.202052         43    высшее             0   \n",
       "7         0     152.779569         50   среднее             1   \n",
       "8         2    6929.865299         35    высшее             0   \n",
       "9         0    2188.756445         41   среднее             1   \n",
       "\n",
       "      family_status  family_status_id gender income_type  debt   total_income  \\\n",
       "0   женат / замужем                 0      F   сотрудник     0  253875.639453   \n",
       "1   женат / замужем                 0      F   сотрудник     0  112080.014102   \n",
       "2   женат / замужем                 0      M   сотрудник     0  145885.952297   \n",
       "3   женат / замужем                 0      M   сотрудник     0  267628.550329   \n",
       "4  гражданский брак                 1      F   пенсионер     0  158616.077870   \n",
       "5  гражданский брак                 1      M   компаньон     0  255763.565419   \n",
       "6   женат / замужем                 0      F   компаньон     0  240525.971920   \n",
       "7   женат / замужем                 0      M   сотрудник     0  135823.934197   \n",
       "8  гражданский брак                 1      F   сотрудник     0   95856.832424   \n",
       "9   женат / замужем                 0      M   сотрудник     0  144425.938277   \n",
       "\n",
       "                      purpose  \n",
       "0               покупка жилья  \n",
       "1     приобретение автомобиля  \n",
       "2               покупка жилья  \n",
       "3  дополнительное образование  \n",
       "4             сыграть свадьбу  \n",
       "5               покупка жилья  \n",
       "6           операции с жильем  \n",
       "7                 образование  \n",
       "8       на проведение свадьбы  \n",
       "9     покупка жилья для семьи  "
      ]
     },
     "execution_count": 41,
     "metadata": {},
     "output_type": "execute_result"
    }
   ],
   "source": [
    "data['total_income'] = data['total_income'].fillna(median_total_income)     # заменяем значения в столбце total_income\n",
    "data.head(10)                                                               # выведем первые 10 строк "
   ]
  },
  {
   "cell_type": "markdown",
   "id": "d2804275",
   "metadata": {},
   "source": [
    "Посчитаем пропущенные значения после заполнения."
   ]
  },
  {
   "cell_type": "code",
   "execution_count": 42,
   "id": "d490870c",
   "metadata": {
    "scrolled": true
   },
   "outputs": [
    {
     "data": {
      "text/plain": [
       "children            0\n",
       "days_employed       0\n",
       "dob_years           0\n",
       "education           0\n",
       "education_id        0\n",
       "family_status       0\n",
       "family_status_id    0\n",
       "gender              0\n",
       "income_type         0\n",
       "debt                0\n",
       "total_income        0\n",
       "purpose             0\n",
       "dtype: int64"
      ]
     },
     "execution_count": 42,
     "metadata": {},
     "output_type": "execute_result"
    }
   ],
   "source": [
    "data.isna().sum()"
   ]
  },
  {
   "cell_type": "markdown",
   "id": "13cfa930",
   "metadata": {},
   "source": [
    "Пропущенных значений теперь нет."
   ]
  },
  {
   "cell_type": "markdown",
   "id": "46c8358e",
   "metadata": {},
   "source": [
    "## Изменение типов данных."
   ]
  },
  {
   "cell_type": "markdown",
   "id": "19ed7b71",
   "metadata": {},
   "source": [
    "Выведем общую информацию о датасете"
   ]
  },
  {
   "cell_type": "code",
   "execution_count": 43,
   "id": "3d8a4697",
   "metadata": {},
   "outputs": [
    {
     "name": "stdout",
     "output_type": "stream",
     "text": [
      "<class 'pandas.core.frame.DataFrame'>\n",
      "RangeIndex: 21378 entries, 0 to 21377\n",
      "Data columns (total 12 columns):\n",
      "children            21378 non-null int64\n",
      "days_employed       21378 non-null float64\n",
      "dob_years           21378 non-null int64\n",
      "education           21378 non-null object\n",
      "education_id        21378 non-null int64\n",
      "family_status       21378 non-null object\n",
      "family_status_id    21378 non-null int64\n",
      "gender              21378 non-null object\n",
      "income_type         21378 non-null object\n",
      "debt                21378 non-null int64\n",
      "total_income        21378 non-null float64\n",
      "purpose             21378 non-null object\n",
      "dtypes: float64(2), int64(5), object(5)\n",
      "memory usage: 2.0+ MB\n"
     ]
    }
   ],
   "source": [
    "data.info()"
   ]
  },
  {
   "cell_type": "markdown",
   "id": "4ea70839",
   "metadata": {},
   "source": [
    "Во всех столбцах содержится одинаковое количество значений, пропущенных значений нет, все данные в подходящем типе. \n",
    "Для удобства и более высокой точности приведем целочисленные значения в столбце total_income к типу int."
   ]
  },
  {
   "cell_type": "code",
   "execution_count": 44,
   "id": "26cd6075",
   "metadata": {
    "scrolled": true
   },
   "outputs": [
    {
     "data": {
      "text/plain": [
       "0        253875\n",
       "1        112080\n",
       "2        145885\n",
       "3        267628\n",
       "4        158616\n",
       "          ...  \n",
       "21373    224791\n",
       "21374    155999\n",
       "21375     89672\n",
       "21376    244093\n",
       "21377     82047\n",
       "Name: total_income, Length: 21378, dtype: int64"
      ]
     },
     "execution_count": 44,
     "metadata": {},
     "output_type": "execute_result"
    }
   ],
   "source": [
    "data['total_income'] = data['total_income'].astype('int')\n",
    "data['total_income']"
   ]
  },
  {
   "cell_type": "markdown",
   "id": "1489fc5e",
   "metadata": {},
   "source": [
    "Проверим изменение типа данных по общей информации"
   ]
  },
  {
   "cell_type": "code",
   "execution_count": 45,
   "id": "0a848c5c",
   "metadata": {},
   "outputs": [
    {
     "name": "stdout",
     "output_type": "stream",
     "text": [
      "<class 'pandas.core.frame.DataFrame'>\n",
      "RangeIndex: 21378 entries, 0 to 21377\n",
      "Data columns (total 12 columns):\n",
      "children            21378 non-null int64\n",
      "days_employed       21378 non-null float64\n",
      "dob_years           21378 non-null int64\n",
      "education           21378 non-null object\n",
      "education_id        21378 non-null int64\n",
      "family_status       21378 non-null object\n",
      "family_status_id    21378 non-null int64\n",
      "gender              21378 non-null object\n",
      "income_type         21378 non-null object\n",
      "debt                21378 non-null int64\n",
      "total_income        21378 non-null int64\n",
      "purpose             21378 non-null object\n",
      "dtypes: float64(1), int64(6), object(5)\n",
      "memory usage: 2.0+ MB\n"
     ]
    }
   ],
   "source": [
    "data.info()"
   ]
  },
  {
   "cell_type": "markdown",
   "id": "20b1891c",
   "metadata": {},
   "source": [
    "## Формирование дополнительных датафреймов словарей, декомпозиция исходного датафрейма."
   ]
  },
  {
   "cell_type": "markdown",
   "id": "d7abec64",
   "metadata": {},
   "source": [
    "Создадим два новых датафрейма со столбцами:\n",
    "education_id и education — в первом;\n",
    "family_status_id и family_status — во втором.\n",
    "Эти новые датафреймы будут «словарями», к которым можно будет обращаться по идентификатору.\n",
    "\n",
    "Создадим датафрейм с данными об образовании."
   ]
  },
  {
   "cell_type": "code",
   "execution_count": 46,
   "id": "903e4589",
   "metadata": {
    "scrolled": true
   },
   "outputs": [
    {
     "data": {
      "text/html": [
       "<div>\n",
       "<style scoped>\n",
       "    .dataframe tbody tr th:only-of-type {\n",
       "        vertical-align: middle;\n",
       "    }\n",
       "\n",
       "    .dataframe tbody tr th {\n",
       "        vertical-align: top;\n",
       "    }\n",
       "\n",
       "    .dataframe thead th {\n",
       "        text-align: right;\n",
       "    }\n",
       "</style>\n",
       "<table border=\"1\" class=\"dataframe\">\n",
       "  <thead>\n",
       "    <tr style=\"text-align: right;\">\n",
       "      <th></th>\n",
       "      <th>education</th>\n",
       "      <th>education_id</th>\n",
       "    </tr>\n",
       "  </thead>\n",
       "  <tbody>\n",
       "    <tr>\n",
       "      <td>0</td>\n",
       "      <td>высшее</td>\n",
       "      <td>0</td>\n",
       "    </tr>\n",
       "    <tr>\n",
       "      <td>1</td>\n",
       "      <td>среднее</td>\n",
       "      <td>1</td>\n",
       "    </tr>\n",
       "    <tr>\n",
       "      <td>2</td>\n",
       "      <td>среднее</td>\n",
       "      <td>1</td>\n",
       "    </tr>\n",
       "    <tr>\n",
       "      <td>3</td>\n",
       "      <td>среднее</td>\n",
       "      <td>1</td>\n",
       "    </tr>\n",
       "    <tr>\n",
       "      <td>4</td>\n",
       "      <td>среднее</td>\n",
       "      <td>1</td>\n",
       "    </tr>\n",
       "    <tr>\n",
       "      <td>...</td>\n",
       "      <td>...</td>\n",
       "      <td>...</td>\n",
       "    </tr>\n",
       "    <tr>\n",
       "      <td>21373</td>\n",
       "      <td>среднее</td>\n",
       "      <td>1</td>\n",
       "    </tr>\n",
       "    <tr>\n",
       "      <td>21374</td>\n",
       "      <td>среднее</td>\n",
       "      <td>1</td>\n",
       "    </tr>\n",
       "    <tr>\n",
       "      <td>21375</td>\n",
       "      <td>среднее</td>\n",
       "      <td>1</td>\n",
       "    </tr>\n",
       "    <tr>\n",
       "      <td>21376</td>\n",
       "      <td>среднее</td>\n",
       "      <td>1</td>\n",
       "    </tr>\n",
       "    <tr>\n",
       "      <td>21377</td>\n",
       "      <td>среднее</td>\n",
       "      <td>1</td>\n",
       "    </tr>\n",
       "  </tbody>\n",
       "</table>\n",
       "<p>21378 rows × 2 columns</p>\n",
       "</div>"
      ],
      "text/plain": [
       "      education  education_id\n",
       "0        высшее             0\n",
       "1       среднее             1\n",
       "2       среднее             1\n",
       "3       среднее             1\n",
       "4       среднее             1\n",
       "...         ...           ...\n",
       "21373   среднее             1\n",
       "21374   среднее             1\n",
       "21375   среднее             1\n",
       "21376   среднее             1\n",
       "21377   среднее             1\n",
       "\n",
       "[21378 rows x 2 columns]"
      ]
     },
     "execution_count": 46,
     "metadata": {},
     "output_type": "execute_result"
    }
   ],
   "source": [
    "education_dict = data[['education', 'education_id']]\n",
    "education_dict"
   ]
  },
  {
   "cell_type": "markdown",
   "id": "06d296a1",
   "metadata": {},
   "source": [
    "В полученном датафрейме много дубликатов. Посчитаем их."
   ]
  },
  {
   "cell_type": "code",
   "execution_count": 47,
   "id": "c50dde26",
   "metadata": {},
   "outputs": [
    {
     "data": {
      "text/plain": [
       "21373"
      ]
     },
     "execution_count": 47,
     "metadata": {},
     "output_type": "execute_result"
    }
   ],
   "source": [
    "education_dict.duplicated().sum()"
   ]
  },
  {
   "cell_type": "markdown",
   "id": "1d49732e",
   "metadata": {},
   "source": [
    "Удалим дубликаты и изменим индексацию, выведем полученный датафрейм.\n"
   ]
  },
  {
   "cell_type": "code",
   "execution_count": 48,
   "id": "78040c34",
   "metadata": {
    "scrolled": false
   },
   "outputs": [
    {
     "data": {
      "text/html": [
       "<div>\n",
       "<style scoped>\n",
       "    .dataframe tbody tr th:only-of-type {\n",
       "        vertical-align: middle;\n",
       "    }\n",
       "\n",
       "    .dataframe tbody tr th {\n",
       "        vertical-align: top;\n",
       "    }\n",
       "\n",
       "    .dataframe thead th {\n",
       "        text-align: right;\n",
       "    }\n",
       "</style>\n",
       "<table border=\"1\" class=\"dataframe\">\n",
       "  <thead>\n",
       "    <tr style=\"text-align: right;\">\n",
       "      <th></th>\n",
       "      <th>education</th>\n",
       "      <th>education_id</th>\n",
       "    </tr>\n",
       "  </thead>\n",
       "  <tbody>\n",
       "    <tr>\n",
       "      <td>0</td>\n",
       "      <td>высшее</td>\n",
       "      <td>0</td>\n",
       "    </tr>\n",
       "    <tr>\n",
       "      <td>1</td>\n",
       "      <td>среднее</td>\n",
       "      <td>1</td>\n",
       "    </tr>\n",
       "    <tr>\n",
       "      <td>2</td>\n",
       "      <td>неоконченное высшее</td>\n",
       "      <td>2</td>\n",
       "    </tr>\n",
       "    <tr>\n",
       "      <td>3</td>\n",
       "      <td>начальное</td>\n",
       "      <td>3</td>\n",
       "    </tr>\n",
       "    <tr>\n",
       "      <td>4</td>\n",
       "      <td>ученая степень</td>\n",
       "      <td>4</td>\n",
       "    </tr>\n",
       "  </tbody>\n",
       "</table>\n",
       "</div>"
      ],
      "text/plain": [
       "             education  education_id\n",
       "0               высшее             0\n",
       "1              среднее             1\n",
       "2  неоконченное высшее             2\n",
       "3            начальное             3\n",
       "4       ученая степень             4"
      ]
     },
     "execution_count": 48,
     "metadata": {},
     "output_type": "execute_result"
    }
   ],
   "source": [
    "education_dict = education_dict.drop_duplicates().reset_index(drop=True)\n",
    "education_dict"
   ]
  },
  {
   "cell_type": "markdown",
   "id": "a929887e",
   "metadata": {},
   "source": [
    "Теперь в датафрейме нет дубликатов и каждому education_id соответствует свое значение."
   ]
  },
  {
   "cell_type": "markdown",
   "id": "1cfe11ec",
   "metadata": {},
   "source": [
    "Создадим датафрейм с данными о семейном положении и посмотрим на полученный результат."
   ]
  },
  {
   "cell_type": "code",
   "execution_count": 49,
   "id": "15f9c5a8",
   "metadata": {
    "scrolled": true
   },
   "outputs": [
    {
     "data": {
      "text/html": [
       "<div>\n",
       "<style scoped>\n",
       "    .dataframe tbody tr th:only-of-type {\n",
       "        vertical-align: middle;\n",
       "    }\n",
       "\n",
       "    .dataframe tbody tr th {\n",
       "        vertical-align: top;\n",
       "    }\n",
       "\n",
       "    .dataframe thead th {\n",
       "        text-align: right;\n",
       "    }\n",
       "</style>\n",
       "<table border=\"1\" class=\"dataframe\">\n",
       "  <thead>\n",
       "    <tr style=\"text-align: right;\">\n",
       "      <th></th>\n",
       "      <th>family_status</th>\n",
       "      <th>family_status_id</th>\n",
       "    </tr>\n",
       "  </thead>\n",
       "  <tbody>\n",
       "    <tr>\n",
       "      <td>0</td>\n",
       "      <td>женат / замужем</td>\n",
       "      <td>0</td>\n",
       "    </tr>\n",
       "    <tr>\n",
       "      <td>1</td>\n",
       "      <td>женат / замужем</td>\n",
       "      <td>0</td>\n",
       "    </tr>\n",
       "    <tr>\n",
       "      <td>2</td>\n",
       "      <td>женат / замужем</td>\n",
       "      <td>0</td>\n",
       "    </tr>\n",
       "    <tr>\n",
       "      <td>3</td>\n",
       "      <td>женат / замужем</td>\n",
       "      <td>0</td>\n",
       "    </tr>\n",
       "    <tr>\n",
       "      <td>4</td>\n",
       "      <td>гражданский брак</td>\n",
       "      <td>1</td>\n",
       "    </tr>\n",
       "    <tr>\n",
       "      <td>...</td>\n",
       "      <td>...</td>\n",
       "      <td>...</td>\n",
       "    </tr>\n",
       "    <tr>\n",
       "      <td>21373</td>\n",
       "      <td>гражданский брак</td>\n",
       "      <td>1</td>\n",
       "    </tr>\n",
       "    <tr>\n",
       "      <td>21374</td>\n",
       "      <td>женат / замужем</td>\n",
       "      <td>0</td>\n",
       "    </tr>\n",
       "    <tr>\n",
       "      <td>21375</td>\n",
       "      <td>гражданский брак</td>\n",
       "      <td>1</td>\n",
       "    </tr>\n",
       "    <tr>\n",
       "      <td>21376</td>\n",
       "      <td>женат / замужем</td>\n",
       "      <td>0</td>\n",
       "    </tr>\n",
       "    <tr>\n",
       "      <td>21377</td>\n",
       "      <td>женат / замужем</td>\n",
       "      <td>0</td>\n",
       "    </tr>\n",
       "  </tbody>\n",
       "</table>\n",
       "<p>21378 rows × 2 columns</p>\n",
       "</div>"
      ],
      "text/plain": [
       "          family_status  family_status_id\n",
       "0       женат / замужем                 0\n",
       "1       женат / замужем                 0\n",
       "2       женат / замужем                 0\n",
       "3       женат / замужем                 0\n",
       "4      гражданский брак                 1\n",
       "...                 ...               ...\n",
       "21373  гражданский брак                 1\n",
       "21374   женат / замужем                 0\n",
       "21375  гражданский брак                 1\n",
       "21376   женат / замужем                 0\n",
       "21377   женат / замужем                 0\n",
       "\n",
       "[21378 rows x 2 columns]"
      ]
     },
     "execution_count": 49,
     "metadata": {},
     "output_type": "execute_result"
    }
   ],
   "source": [
    "family_status_dict = data[['family_status', 'family_status_id']]\n",
    "family_status_dict"
   ]
  },
  {
   "cell_type": "markdown",
   "id": "44dbe076",
   "metadata": {},
   "source": [
    "Удалим дубликаты и изменим индексацию, выведем полученный датафрейм."
   ]
  },
  {
   "cell_type": "code",
   "execution_count": 50,
   "id": "949d8096",
   "metadata": {
    "scrolled": true
   },
   "outputs": [
    {
     "data": {
      "text/html": [
       "<div>\n",
       "<style scoped>\n",
       "    .dataframe tbody tr th:only-of-type {\n",
       "        vertical-align: middle;\n",
       "    }\n",
       "\n",
       "    .dataframe tbody tr th {\n",
       "        vertical-align: top;\n",
       "    }\n",
       "\n",
       "    .dataframe thead th {\n",
       "        text-align: right;\n",
       "    }\n",
       "</style>\n",
       "<table border=\"1\" class=\"dataframe\">\n",
       "  <thead>\n",
       "    <tr style=\"text-align: right;\">\n",
       "      <th></th>\n",
       "      <th>family_status</th>\n",
       "      <th>family_status_id</th>\n",
       "    </tr>\n",
       "  </thead>\n",
       "  <tbody>\n",
       "    <tr>\n",
       "      <td>0</td>\n",
       "      <td>женат / замужем</td>\n",
       "      <td>0</td>\n",
       "    </tr>\n",
       "    <tr>\n",
       "      <td>1</td>\n",
       "      <td>гражданский брак</td>\n",
       "      <td>1</td>\n",
       "    </tr>\n",
       "    <tr>\n",
       "      <td>2</td>\n",
       "      <td>вдовец / вдова</td>\n",
       "      <td>2</td>\n",
       "    </tr>\n",
       "    <tr>\n",
       "      <td>3</td>\n",
       "      <td>в разводе</td>\n",
       "      <td>3</td>\n",
       "    </tr>\n",
       "    <tr>\n",
       "      <td>4</td>\n",
       "      <td>Не женат / не замужем</td>\n",
       "      <td>4</td>\n",
       "    </tr>\n",
       "  </tbody>\n",
       "</table>\n",
       "</div>"
      ],
      "text/plain": [
       "           family_status  family_status_id\n",
       "0        женат / замужем                 0\n",
       "1       гражданский брак                 1\n",
       "2         вдовец / вдова                 2\n",
       "3              в разводе                 3\n",
       "4  Не женат / не замужем                 4"
      ]
     },
     "execution_count": 50,
     "metadata": {},
     "output_type": "execute_result"
    }
   ],
   "source": [
    "family_status_dict = family_status_dict.drop_duplicates().reset_index(drop=True)\n",
    "family_status_dict"
   ]
  },
  {
   "cell_type": "markdown",
   "id": "225f89ce",
   "metadata": {},
   "source": [
    "Теперь в датафрейме нет дубликатов и каждому family_status_id соответствует свое значение."
   ]
  },
  {
   "cell_type": "markdown",
   "id": "ca50f487",
   "metadata": {},
   "source": [
    "Удалим из исходного датафрейма столбцы education и family_status, оставив только их идентификаторы: education_id и family_status_id. "
   ]
  },
  {
   "cell_type": "code",
   "execution_count": 51,
   "id": "5b166688",
   "metadata": {},
   "outputs": [
    {
     "data": {
      "text/html": [
       "<div>\n",
       "<style scoped>\n",
       "    .dataframe tbody tr th:only-of-type {\n",
       "        vertical-align: middle;\n",
       "    }\n",
       "\n",
       "    .dataframe tbody tr th {\n",
       "        vertical-align: top;\n",
       "    }\n",
       "\n",
       "    .dataframe thead th {\n",
       "        text-align: right;\n",
       "    }\n",
       "</style>\n",
       "<table border=\"1\" class=\"dataframe\">\n",
       "  <thead>\n",
       "    <tr style=\"text-align: right;\">\n",
       "      <th></th>\n",
       "      <th>children</th>\n",
       "      <th>days_employed</th>\n",
       "      <th>dob_years</th>\n",
       "      <th>education_id</th>\n",
       "      <th>family_status_id</th>\n",
       "      <th>gender</th>\n",
       "      <th>income_type</th>\n",
       "      <th>debt</th>\n",
       "      <th>total_income</th>\n",
       "      <th>purpose</th>\n",
       "    </tr>\n",
       "  </thead>\n",
       "  <tbody>\n",
       "    <tr>\n",
       "      <td>0</td>\n",
       "      <td>1</td>\n",
       "      <td>8437.673028</td>\n",
       "      <td>42</td>\n",
       "      <td>0</td>\n",
       "      <td>0</td>\n",
       "      <td>F</td>\n",
       "      <td>сотрудник</td>\n",
       "      <td>0</td>\n",
       "      <td>253875</td>\n",
       "      <td>покупка жилья</td>\n",
       "    </tr>\n",
       "    <tr>\n",
       "      <td>1</td>\n",
       "      <td>1</td>\n",
       "      <td>4024.803754</td>\n",
       "      <td>36</td>\n",
       "      <td>1</td>\n",
       "      <td>0</td>\n",
       "      <td>F</td>\n",
       "      <td>сотрудник</td>\n",
       "      <td>0</td>\n",
       "      <td>112080</td>\n",
       "      <td>приобретение автомобиля</td>\n",
       "    </tr>\n",
       "    <tr>\n",
       "      <td>2</td>\n",
       "      <td>0</td>\n",
       "      <td>5623.422610</td>\n",
       "      <td>33</td>\n",
       "      <td>1</td>\n",
       "      <td>0</td>\n",
       "      <td>M</td>\n",
       "      <td>сотрудник</td>\n",
       "      <td>0</td>\n",
       "      <td>145885</td>\n",
       "      <td>покупка жилья</td>\n",
       "    </tr>\n",
       "    <tr>\n",
       "      <td>3</td>\n",
       "      <td>3</td>\n",
       "      <td>4124.747207</td>\n",
       "      <td>32</td>\n",
       "      <td>1</td>\n",
       "      <td>0</td>\n",
       "      <td>M</td>\n",
       "      <td>сотрудник</td>\n",
       "      <td>0</td>\n",
       "      <td>267628</td>\n",
       "      <td>дополнительное образование</td>\n",
       "    </tr>\n",
       "    <tr>\n",
       "      <td>4</td>\n",
       "      <td>0</td>\n",
       "      <td>340266.072047</td>\n",
       "      <td>53</td>\n",
       "      <td>1</td>\n",
       "      <td>1</td>\n",
       "      <td>F</td>\n",
       "      <td>пенсионер</td>\n",
       "      <td>0</td>\n",
       "      <td>158616</td>\n",
       "      <td>сыграть свадьбу</td>\n",
       "    </tr>\n",
       "  </tbody>\n",
       "</table>\n",
       "</div>"
      ],
      "text/plain": [
       "   children  days_employed  dob_years  education_id  family_status_id gender  \\\n",
       "0         1    8437.673028         42             0                 0      F   \n",
       "1         1    4024.803754         36             1                 0      F   \n",
       "2         0    5623.422610         33             1                 0      M   \n",
       "3         3    4124.747207         32             1                 0      M   \n",
       "4         0  340266.072047         53             1                 1      F   \n",
       "\n",
       "  income_type  debt  total_income                     purpose  \n",
       "0   сотрудник     0        253875               покупка жилья  \n",
       "1   сотрудник     0        112080     приобретение автомобиля  \n",
       "2   сотрудник     0        145885               покупка жилья  \n",
       "3   сотрудник     0        267628  дополнительное образование  \n",
       "4   пенсионер     0        158616             сыграть свадьбу  "
      ]
     },
     "execution_count": 51,
     "metadata": {},
     "output_type": "execute_result"
    }
   ],
   "source": [
    "data = data.drop(columns = ['family_status', 'education'],axis = 1) \n",
    "data.head()             # выведем первые 5 строк"
   ]
  },
  {
   "cell_type": "markdown",
   "id": "9d046f9d",
   "metadata": {},
   "source": [
    "## Категоризация дохода."
   ]
  },
  {
   "cell_type": "markdown",
   "id": "13e8db40",
   "metadata": {},
   "source": [
    "На основании диапазонов, указанных ниже, создадим столбец total_income_category с категориями:\n",
    "0–30000 — 'E';\n",
    "30001–50000 — 'D';\n",
    "50001–200000 — 'C';\n",
    "200001–1000000 — 'B';\n",
    "1000001 и выше — 'A'.\n",
    "Например, кредитополучателю с доходом 25000 нужно назначить категорию 'E', а клиенту, получающему 235000, — 'B'.\n",
    "\n",
    "Напишем функцию которая будет возвращать нужную категорию в соотвествии со значением дохода."
   ]
  },
  {
   "cell_type": "code",
   "execution_count": 52,
   "id": "743e1c93",
   "metadata": {},
   "outputs": [],
   "source": [
    "def income_category(income):\n",
    "    try:\n",
    "        if 0 < income <= 30000:\n",
    "            return 'E'\n",
    "        elif 30001 <= income <= 50000:\n",
    "            return 'D'\n",
    "        elif 50001 <= income <= 200000:\n",
    "            return 'C'\n",
    "        elif 200001 <= income <= 1000000:\n",
    "            return 'B'\n",
    "        elif income >= 1000001:\n",
    "            return 'A'\n",
    "    except:\n",
    "        return print(\"Доход не может быть отрицательным\")"
   ]
  },
  {
   "cell_type": "markdown",
   "id": "c313d2c0",
   "metadata": {},
   "source": [
    "Добвим в датафрейм столбец total_income_category с категориями. Для этого применим созданную функцию."
   ]
  },
  {
   "cell_type": "code",
   "execution_count": 53,
   "id": "95632477",
   "metadata": {
    "scrolled": true
   },
   "outputs": [
    {
     "data": {
      "text/html": [
       "<div>\n",
       "<style scoped>\n",
       "    .dataframe tbody tr th:only-of-type {\n",
       "        vertical-align: middle;\n",
       "    }\n",
       "\n",
       "    .dataframe tbody tr th {\n",
       "        vertical-align: top;\n",
       "    }\n",
       "\n",
       "    .dataframe thead th {\n",
       "        text-align: right;\n",
       "    }\n",
       "</style>\n",
       "<table border=\"1\" class=\"dataframe\">\n",
       "  <thead>\n",
       "    <tr style=\"text-align: right;\">\n",
       "      <th></th>\n",
       "      <th>children</th>\n",
       "      <th>days_employed</th>\n",
       "      <th>dob_years</th>\n",
       "      <th>education_id</th>\n",
       "      <th>family_status_id</th>\n",
       "      <th>gender</th>\n",
       "      <th>income_type</th>\n",
       "      <th>debt</th>\n",
       "      <th>total_income</th>\n",
       "      <th>purpose</th>\n",
       "      <th>total_income_category</th>\n",
       "    </tr>\n",
       "  </thead>\n",
       "  <tbody>\n",
       "    <tr>\n",
       "      <td>0</td>\n",
       "      <td>1</td>\n",
       "      <td>8437.673028</td>\n",
       "      <td>42</td>\n",
       "      <td>0</td>\n",
       "      <td>0</td>\n",
       "      <td>F</td>\n",
       "      <td>сотрудник</td>\n",
       "      <td>0</td>\n",
       "      <td>253875</td>\n",
       "      <td>покупка жилья</td>\n",
       "      <td>B</td>\n",
       "    </tr>\n",
       "    <tr>\n",
       "      <td>1</td>\n",
       "      <td>1</td>\n",
       "      <td>4024.803754</td>\n",
       "      <td>36</td>\n",
       "      <td>1</td>\n",
       "      <td>0</td>\n",
       "      <td>F</td>\n",
       "      <td>сотрудник</td>\n",
       "      <td>0</td>\n",
       "      <td>112080</td>\n",
       "      <td>приобретение автомобиля</td>\n",
       "      <td>C</td>\n",
       "    </tr>\n",
       "    <tr>\n",
       "      <td>2</td>\n",
       "      <td>0</td>\n",
       "      <td>5623.422610</td>\n",
       "      <td>33</td>\n",
       "      <td>1</td>\n",
       "      <td>0</td>\n",
       "      <td>M</td>\n",
       "      <td>сотрудник</td>\n",
       "      <td>0</td>\n",
       "      <td>145885</td>\n",
       "      <td>покупка жилья</td>\n",
       "      <td>C</td>\n",
       "    </tr>\n",
       "    <tr>\n",
       "      <td>3</td>\n",
       "      <td>3</td>\n",
       "      <td>4124.747207</td>\n",
       "      <td>32</td>\n",
       "      <td>1</td>\n",
       "      <td>0</td>\n",
       "      <td>M</td>\n",
       "      <td>сотрудник</td>\n",
       "      <td>0</td>\n",
       "      <td>267628</td>\n",
       "      <td>дополнительное образование</td>\n",
       "      <td>B</td>\n",
       "    </tr>\n",
       "    <tr>\n",
       "      <td>4</td>\n",
       "      <td>0</td>\n",
       "      <td>340266.072047</td>\n",
       "      <td>53</td>\n",
       "      <td>1</td>\n",
       "      <td>1</td>\n",
       "      <td>F</td>\n",
       "      <td>пенсионер</td>\n",
       "      <td>0</td>\n",
       "      <td>158616</td>\n",
       "      <td>сыграть свадьбу</td>\n",
       "      <td>C</td>\n",
       "    </tr>\n",
       "  </tbody>\n",
       "</table>\n",
       "</div>"
      ],
      "text/plain": [
       "   children  days_employed  dob_years  education_id  family_status_id gender  \\\n",
       "0         1    8437.673028         42             0                 0      F   \n",
       "1         1    4024.803754         36             1                 0      F   \n",
       "2         0    5623.422610         33             1                 0      M   \n",
       "3         3    4124.747207         32             1                 0      M   \n",
       "4         0  340266.072047         53             1                 1      F   \n",
       "\n",
       "  income_type  debt  total_income                     purpose  \\\n",
       "0   сотрудник     0        253875               покупка жилья   \n",
       "1   сотрудник     0        112080     приобретение автомобиля   \n",
       "2   сотрудник     0        145885               покупка жилья   \n",
       "3   сотрудник     0        267628  дополнительное образование   \n",
       "4   пенсионер     0        158616             сыграть свадьбу   \n",
       "\n",
       "  total_income_category  \n",
       "0                     B  \n",
       "1                     C  \n",
       "2                     C  \n",
       "3                     B  \n",
       "4                     C  "
      ]
     },
     "execution_count": 53,
     "metadata": {},
     "output_type": "execute_result"
    }
   ],
   "source": [
    "data['total_income_category'] = data['total_income'].apply(income_category)\n",
    "data.head()      # выведем первые 5 строк"
   ]
  },
  {
   "cell_type": "markdown",
   "id": "972948bf",
   "metadata": {},
   "source": [
    "Посмотрим на уникальные значения нового столбца"
   ]
  },
  {
   "cell_type": "code",
   "execution_count": 54,
   "id": "8da8f1ec",
   "metadata": {
    "scrolled": false
   },
   "outputs": [
    {
     "data": {
      "text/plain": [
       "C    15960\n",
       "B     5021\n",
       "D      350\n",
       "A       25\n",
       "E       22\n",
       "Name: total_income_category, dtype: int64"
      ]
     },
     "execution_count": 54,
     "metadata": {},
     "output_type": "execute_result"
    }
   ],
   "source": [
    "data['total_income_category'].value_counts()"
   ]
  },
  {
   "cell_type": "markdown",
   "id": "a5c41872",
   "metadata": {},
   "source": [
    "Проверим все ли значения в новом столбце заполнены по общей информации. "
   ]
  },
  {
   "cell_type": "code",
   "execution_count": 55,
   "id": "c73629e1",
   "metadata": {
    "scrolled": false
   },
   "outputs": [
    {
     "name": "stdout",
     "output_type": "stream",
     "text": [
      "<class 'pandas.core.frame.DataFrame'>\n",
      "RangeIndex: 21378 entries, 0 to 21377\n",
      "Data columns (total 11 columns):\n",
      "children                 21378 non-null int64\n",
      "days_employed            21378 non-null float64\n",
      "dob_years                21378 non-null int64\n",
      "education_id             21378 non-null int64\n",
      "family_status_id         21378 non-null int64\n",
      "gender                   21378 non-null object\n",
      "income_type              21378 non-null object\n",
      "debt                     21378 non-null int64\n",
      "total_income             21378 non-null int64\n",
      "purpose                  21378 non-null object\n",
      "total_income_category    21378 non-null object\n",
      "dtypes: float64(1), int64(6), object(4)\n",
      "memory usage: 1.8+ MB\n"
     ]
    }
   ],
   "source": [
    "data.info()"
   ]
  },
  {
   "cell_type": "markdown",
   "id": "8b64c1ab",
   "metadata": {},
   "source": [
    "Пустых значений в новой столбце нет.\n",
    "Таким образом, произведена категоризация данных по уровню дохода.Теперь основываясь на категории возможно изучить влияет ли какая-то категория на вероятность задолженности по кредиту."
   ]
  },
  {
   "cell_type": "markdown",
   "id": "e43b34b6",
   "metadata": {},
   "source": [
    "## Категоризация целей кредита."
   ]
  },
  {
   "cell_type": "markdown",
   "id": "0f079ebd",
   "metadata": {},
   "source": [
    "Мы видели, что в столбце purpose находились дублирующие причины, которые отличались формулировкой, поэтому причины стоит категоризировать. \n",
    "Создадим функцию, которая на основании данных из столбца purpose сформирует новый столбец purpose_category, в который войдут следующие категории:\n",
    "‘операции с автомобилем’,\n",
    "‘операции с недвижимостью’,\n",
    "‘проведение свадьбы’,\n",
    "‘получение образования’.\n",
    "Например, если в столбце purpose находится подстрока 'на покупку автомобиля', то в столбце purpose_category должна появиться строка 'операции с автомобилем'.\n",
    "Вы можете использовать собственную функцию и метод apply(). Изучите данные в столбце purpose и определите, какие подстроки помогут вам правильно определить категорию"
   ]
  },
  {
   "cell_type": "markdown",
   "id": "38e2dab9",
   "metadata": {},
   "source": [
    "Еще раз выведем все уникальные значения столбца purpose"
   ]
  },
  {
   "cell_type": "code",
   "execution_count": 56,
   "id": "caa55c3c",
   "metadata": {},
   "outputs": [
    {
     "data": {
      "text/plain": [
       "свадьба                                   790\n",
       "на проведение свадьбы                     764\n",
       "сыграть свадьбу                           761\n",
       "операции с недвижимостью                  674\n",
       "покупка коммерческой недвижимости         658\n",
       "покупка жилья для сдачи                   650\n",
       "операции с жильем                         648\n",
       "операции с коммерческой недвижимостью     646\n",
       "покупка жилья                             643\n",
       "жилье                                     642\n",
       "покупка жилья для семьи                   637\n",
       "недвижимость                              632\n",
       "строительство собственной недвижимости    629\n",
       "операции со своей недвижимостью           626\n",
       "строительство жилой недвижимости          623\n",
       "покупка своего жилья                      620\n",
       "строительство недвижимости                619\n",
       "покупка недвижимости                      619\n",
       "ремонт жилью                              605\n",
       "покупка жилой недвижимости                604\n",
       "на покупку своего автомобиля              505\n",
       "заняться высшим образованием              496\n",
       "автомобиль                                493\n",
       "сделка с подержанным автомобилем          482\n",
       "автомобили                                477\n",
       "свой автомобиль                           475\n",
       "на покупку подержанного автомобиля        472\n",
       "на покупку автомобиля                     470\n",
       "приобретение автомобиля                   461\n",
       "дополнительное образование                457\n",
       "сделка с автомобилем                      455\n",
       "высшее образование                        447\n",
       "получение дополнительного образования     445\n",
       "образование                               445\n",
       "получение образования                     441\n",
       "профильное образование                    434\n",
       "получение высшего образования             425\n",
       "заняться образованием                     408\n",
       "Name: purpose, dtype: int64"
      ]
     },
     "execution_count": 56,
     "metadata": {},
     "output_type": "execute_result"
    }
   ],
   "source": [
    "data['purpose'].value_counts()"
   ]
  },
  {
   "cell_type": "markdown",
   "id": "f16dbf12",
   "metadata": {},
   "source": [
    "Для категоризации целей кредита используем лемматизацию. Для этого импортируем необходимую библиотеку "
   ]
  },
  {
   "cell_type": "code",
   "execution_count": 57,
   "id": "97a639dc",
   "metadata": {},
   "outputs": [],
   "source": [
    "from pymystem3 import Mystem\n",
    "m = Mystem()"
   ]
  },
  {
   "cell_type": "markdown",
   "id": "2676971b",
   "metadata": {},
   "source": [
    "В сзязи с тем что библиотека pymystem3 на операционной системе Windows работает крайне долго, то лемматизацию применим только к уникальным значеням столбца purpose. \n",
    "Создадим словарь main_category который будет содержать в качестве ключа - лемму ключевого слова по которой будет происходить определение категории, а в качестве значения - категорию целей кредита. Проанализировав уникальные значения столбца purpose в качестве леммы ключевого слова примимаем следующие значения: свадьба, жилье, недвижимость, автомобиль. А заполнять будем словарь purpose_category который в качестве ключа будет содержать уникальные значения столбца purpose, а в качества значения - категорию целей кредита. "
   ]
  },
  {
   "cell_type": "code",
   "execution_count": 58,
   "id": "1b0bbcda",
   "metadata": {},
   "outputs": [
    {
     "data": {
      "text/plain": [
       "{'покупка жилья': 'операции с недвижимостью',\n",
       " 'приобретение автомобиля': 'операции с автомобилем',\n",
       " 'дополнительное образование': 'получение образования',\n",
       " 'сыграть свадьбу': 'проведение свадьбы',\n",
       " 'операции с жильем': 'операции с недвижимостью',\n",
       " 'образование': 'получение образования',\n",
       " 'на проведение свадьбы': 'проведение свадьбы',\n",
       " 'покупка жилья для семьи': 'операции с недвижимостью',\n",
       " 'покупка недвижимости': 'операции с недвижимостью',\n",
       " 'покупка коммерческой недвижимости': 'операции с недвижимостью',\n",
       " 'покупка жилой недвижимости': 'операции с недвижимостью',\n",
       " 'строительство собственной недвижимости': 'операции с недвижимостью',\n",
       " 'недвижимость': 'операции с недвижимостью',\n",
       " 'строительство недвижимости': 'операции с недвижимостью',\n",
       " 'на покупку подержанного автомобиля': 'операции с автомобилем',\n",
       " 'на покупку своего автомобиля': 'операции с автомобилем',\n",
       " 'операции с коммерческой недвижимостью': 'операции с недвижимостью',\n",
       " 'строительство жилой недвижимости': 'операции с недвижимостью',\n",
       " 'жилье': 'операции с недвижимостью',\n",
       " 'операции со своей недвижимостью': 'операции с недвижимостью',\n",
       " 'автомобили': 'операции с автомобилем',\n",
       " 'заняться образованием': 'получение образования',\n",
       " 'сделка с подержанным автомобилем': 'операции с автомобилем',\n",
       " 'получение образования': 'получение образования',\n",
       " 'автомобиль': 'операции с автомобилем',\n",
       " 'свадьба': 'проведение свадьбы',\n",
       " 'получение дополнительного образования': 'получение образования',\n",
       " 'покупка своего жилья': 'операции с недвижимостью',\n",
       " 'операции с недвижимостью': 'операции с недвижимостью',\n",
       " 'получение высшего образования': 'получение образования',\n",
       " 'свой автомобиль': 'операции с автомобилем',\n",
       " 'сделка с автомобилем': 'операции с автомобилем',\n",
       " 'профильное образование': 'получение образования',\n",
       " 'высшее образование': 'получение образования',\n",
       " 'покупка жилья для сдачи': 'операции с недвижимостью',\n",
       " 'на покупку автомобиля': 'операции с автомобилем',\n",
       " 'ремонт жилью': 'операции с недвижимостью',\n",
       " 'заняться высшим образованием': 'получение образования'}"
      ]
     },
     "execution_count": 58,
     "metadata": {},
     "output_type": "execute_result"
    }
   ],
   "source": [
    "purpose_category = {}  # создаем пустой словарь для записи \n",
    "main_category = {'свадьба':'проведение свадьбы', 'жилье':'операции с недвижимостью', \n",
    "                 'недвижимость':'операции с недвижимостью', 'автомобиль':'операции с автомобилем', \n",
    "                 'образование':'получение образования'} # создаем словарь с ключевыми словами и категориями целей кредита\n",
    "purpose_unique = list(data['purpose'].unique()) # создаем список уникальных значений столбца purpose\n",
    "\n",
    "for i in purpose_unique:            # для каждого уникальных значений столбца purpose\n",
    "    purpose_category[i] = ''        # в словарь purpose_category записываем в качестве ключа уникальное значение столбца purpose\n",
    "    lemmas = m.lemmatize(i)         # применяем лемматизацию к каждому уникальному значению столбца purpose\n",
    "    for word in lemmas:             # для каждого слова из леммы из уникального значения столбца purpose\n",
    "        if word in main_category.keys(): # проверяем соотвествует ли слово одному ключей словаря main_category\n",
    "            purpose_category[i] = main_category[word] # если соотвествует присваеваем значение катагории в словарь purpose_category \n",
    "    if purpose_category[i] == '':        # если значение словаря purpose_category не заполнилось в соответствии с main_category\n",
    "        purpose_category[i] = 'прочие цели' # то присваиваем категорию \"прочие цели\"\n",
    "\n",
    "purpose_category # выведем созданный словарь\n"
   ]
  },
  {
   "cell_type": "markdown",
   "id": "f9d4ed5a",
   "metadata": {},
   "source": [
    "Напишем функцию которая вернет значение категории по значению столбца purpose."
   ]
  },
  {
   "cell_type": "code",
   "execution_count": 59,
   "id": "a20de24d",
   "metadata": {},
   "outputs": [],
   "source": [
    "def category_purpose_debt(purpose):\n",
    "    return purpose_category[purpose]"
   ]
  },
  {
   "cell_type": "markdown",
   "id": "36970d5f",
   "metadata": {
    "scrolled": true
   },
   "source": [
    "Сформируем новый столбец purpose_category, в который войдут следующие категории целей кредита.\n",
    "Например, если в столбце purpose находится подстрока 'на покупку автомобиля', то в столбце purpose_category должна появиться строка 'операции с автомобилем'.\n",
    "Для этого используем функцию category_purpose_debt и метод apply(). "
   ]
  },
  {
   "cell_type": "code",
   "execution_count": 60,
   "id": "ad1a9c4e",
   "metadata": {},
   "outputs": [
    {
     "data": {
      "text/html": [
       "<div>\n",
       "<style scoped>\n",
       "    .dataframe tbody tr th:only-of-type {\n",
       "        vertical-align: middle;\n",
       "    }\n",
       "\n",
       "    .dataframe tbody tr th {\n",
       "        vertical-align: top;\n",
       "    }\n",
       "\n",
       "    .dataframe thead th {\n",
       "        text-align: right;\n",
       "    }\n",
       "</style>\n",
       "<table border=\"1\" class=\"dataframe\">\n",
       "  <thead>\n",
       "    <tr style=\"text-align: right;\">\n",
       "      <th></th>\n",
       "      <th>children</th>\n",
       "      <th>days_employed</th>\n",
       "      <th>dob_years</th>\n",
       "      <th>education_id</th>\n",
       "      <th>family_status_id</th>\n",
       "      <th>gender</th>\n",
       "      <th>income_type</th>\n",
       "      <th>debt</th>\n",
       "      <th>total_income</th>\n",
       "      <th>purpose</th>\n",
       "      <th>total_income_category</th>\n",
       "      <th>purpose_category</th>\n",
       "    </tr>\n",
       "  </thead>\n",
       "  <tbody>\n",
       "    <tr>\n",
       "      <td>0</td>\n",
       "      <td>1</td>\n",
       "      <td>8437.673028</td>\n",
       "      <td>42</td>\n",
       "      <td>0</td>\n",
       "      <td>0</td>\n",
       "      <td>F</td>\n",
       "      <td>сотрудник</td>\n",
       "      <td>0</td>\n",
       "      <td>253875</td>\n",
       "      <td>покупка жилья</td>\n",
       "      <td>B</td>\n",
       "      <td>операции с недвижимостью</td>\n",
       "    </tr>\n",
       "    <tr>\n",
       "      <td>1</td>\n",
       "      <td>1</td>\n",
       "      <td>4024.803754</td>\n",
       "      <td>36</td>\n",
       "      <td>1</td>\n",
       "      <td>0</td>\n",
       "      <td>F</td>\n",
       "      <td>сотрудник</td>\n",
       "      <td>0</td>\n",
       "      <td>112080</td>\n",
       "      <td>приобретение автомобиля</td>\n",
       "      <td>C</td>\n",
       "      <td>операции с автомобилем</td>\n",
       "    </tr>\n",
       "    <tr>\n",
       "      <td>2</td>\n",
       "      <td>0</td>\n",
       "      <td>5623.422610</td>\n",
       "      <td>33</td>\n",
       "      <td>1</td>\n",
       "      <td>0</td>\n",
       "      <td>M</td>\n",
       "      <td>сотрудник</td>\n",
       "      <td>0</td>\n",
       "      <td>145885</td>\n",
       "      <td>покупка жилья</td>\n",
       "      <td>C</td>\n",
       "      <td>операции с недвижимостью</td>\n",
       "    </tr>\n",
       "    <tr>\n",
       "      <td>3</td>\n",
       "      <td>3</td>\n",
       "      <td>4124.747207</td>\n",
       "      <td>32</td>\n",
       "      <td>1</td>\n",
       "      <td>0</td>\n",
       "      <td>M</td>\n",
       "      <td>сотрудник</td>\n",
       "      <td>0</td>\n",
       "      <td>267628</td>\n",
       "      <td>дополнительное образование</td>\n",
       "      <td>B</td>\n",
       "      <td>получение образования</td>\n",
       "    </tr>\n",
       "    <tr>\n",
       "      <td>4</td>\n",
       "      <td>0</td>\n",
       "      <td>340266.072047</td>\n",
       "      <td>53</td>\n",
       "      <td>1</td>\n",
       "      <td>1</td>\n",
       "      <td>F</td>\n",
       "      <td>пенсионер</td>\n",
       "      <td>0</td>\n",
       "      <td>158616</td>\n",
       "      <td>сыграть свадьбу</td>\n",
       "      <td>C</td>\n",
       "      <td>проведение свадьбы</td>\n",
       "    </tr>\n",
       "    <tr>\n",
       "      <td>5</td>\n",
       "      <td>0</td>\n",
       "      <td>926.185831</td>\n",
       "      <td>27</td>\n",
       "      <td>0</td>\n",
       "      <td>1</td>\n",
       "      <td>M</td>\n",
       "      <td>компаньон</td>\n",
       "      <td>0</td>\n",
       "      <td>255763</td>\n",
       "      <td>покупка жилья</td>\n",
       "      <td>B</td>\n",
       "      <td>операции с недвижимостью</td>\n",
       "    </tr>\n",
       "    <tr>\n",
       "      <td>6</td>\n",
       "      <td>0</td>\n",
       "      <td>2879.202052</td>\n",
       "      <td>43</td>\n",
       "      <td>0</td>\n",
       "      <td>0</td>\n",
       "      <td>F</td>\n",
       "      <td>компаньон</td>\n",
       "      <td>0</td>\n",
       "      <td>240525</td>\n",
       "      <td>операции с жильем</td>\n",
       "      <td>B</td>\n",
       "      <td>операции с недвижимостью</td>\n",
       "    </tr>\n",
       "    <tr>\n",
       "      <td>7</td>\n",
       "      <td>0</td>\n",
       "      <td>152.779569</td>\n",
       "      <td>50</td>\n",
       "      <td>1</td>\n",
       "      <td>0</td>\n",
       "      <td>M</td>\n",
       "      <td>сотрудник</td>\n",
       "      <td>0</td>\n",
       "      <td>135823</td>\n",
       "      <td>образование</td>\n",
       "      <td>C</td>\n",
       "      <td>получение образования</td>\n",
       "    </tr>\n",
       "    <tr>\n",
       "      <td>8</td>\n",
       "      <td>2</td>\n",
       "      <td>6929.865299</td>\n",
       "      <td>35</td>\n",
       "      <td>0</td>\n",
       "      <td>1</td>\n",
       "      <td>F</td>\n",
       "      <td>сотрудник</td>\n",
       "      <td>0</td>\n",
       "      <td>95856</td>\n",
       "      <td>на проведение свадьбы</td>\n",
       "      <td>C</td>\n",
       "      <td>проведение свадьбы</td>\n",
       "    </tr>\n",
       "    <tr>\n",
       "      <td>9</td>\n",
       "      <td>0</td>\n",
       "      <td>2188.756445</td>\n",
       "      <td>41</td>\n",
       "      <td>1</td>\n",
       "      <td>0</td>\n",
       "      <td>M</td>\n",
       "      <td>сотрудник</td>\n",
       "      <td>0</td>\n",
       "      <td>144425</td>\n",
       "      <td>покупка жилья для семьи</td>\n",
       "      <td>C</td>\n",
       "      <td>операции с недвижимостью</td>\n",
       "    </tr>\n",
       "  </tbody>\n",
       "</table>\n",
       "</div>"
      ],
      "text/plain": [
       "   children  days_employed  dob_years  education_id  family_status_id gender  \\\n",
       "0         1    8437.673028         42             0                 0      F   \n",
       "1         1    4024.803754         36             1                 0      F   \n",
       "2         0    5623.422610         33             1                 0      M   \n",
       "3         3    4124.747207         32             1                 0      M   \n",
       "4         0  340266.072047         53             1                 1      F   \n",
       "5         0     926.185831         27             0                 1      M   \n",
       "6         0    2879.202052         43             0                 0      F   \n",
       "7         0     152.779569         50             1                 0      M   \n",
       "8         2    6929.865299         35             0                 1      F   \n",
       "9         0    2188.756445         41             1                 0      M   \n",
       "\n",
       "  income_type  debt  total_income                     purpose  \\\n",
       "0   сотрудник     0        253875               покупка жилья   \n",
       "1   сотрудник     0        112080     приобретение автомобиля   \n",
       "2   сотрудник     0        145885               покупка жилья   \n",
       "3   сотрудник     0        267628  дополнительное образование   \n",
       "4   пенсионер     0        158616             сыграть свадьбу   \n",
       "5   компаньон     0        255763               покупка жилья   \n",
       "6   компаньон     0        240525           операции с жильем   \n",
       "7   сотрудник     0        135823                 образование   \n",
       "8   сотрудник     0         95856       на проведение свадьбы   \n",
       "9   сотрудник     0        144425     покупка жилья для семьи   \n",
       "\n",
       "  total_income_category          purpose_category  \n",
       "0                     B  операции с недвижимостью  \n",
       "1                     C    операции с автомобилем  \n",
       "2                     C  операции с недвижимостью  \n",
       "3                     B     получение образования  \n",
       "4                     C        проведение свадьбы  \n",
       "5                     B  операции с недвижимостью  \n",
       "6                     B  операции с недвижимостью  \n",
       "7                     C     получение образования  \n",
       "8                     C        проведение свадьбы  \n",
       "9                     C  операции с недвижимостью  "
      ]
     },
     "execution_count": 60,
     "metadata": {},
     "output_type": "execute_result"
    }
   ],
   "source": [
    "data['purpose_category'] = data['purpose'].apply(category_purpose_debt)\n",
    "data.head(10) # выведем первые 10 строк"
   ]
  },
  {
   "cell_type": "markdown",
   "id": "fc2012cd",
   "metadata": {},
   "source": [
    "Посмотрим на уникальные значения нового столбца"
   ]
  },
  {
   "cell_type": "code",
   "execution_count": 61,
   "id": "4aa3cd9c",
   "metadata": {
    "scrolled": true
   },
   "outputs": [
    {
     "data": {
      "text/plain": [
       "операции с недвижимостью    10775\n",
       "операции с автомобилем       4290\n",
       "получение образования        3998\n",
       "проведение свадьбы           2315\n",
       "Name: purpose_category, dtype: int64"
      ]
     },
     "execution_count": 61,
     "metadata": {},
     "output_type": "execute_result"
    }
   ],
   "source": [
    "data['purpose_category'].value_counts()"
   ]
  },
  {
   "cell_type": "markdown",
   "id": "5a9dafab",
   "metadata": {
    "scrolled": true
   },
   "source": [
    "Все распределено по заданным категориям, значений в категории \"прочие цели\" нет. "
   ]
  },
  {
   "cell_type": "markdown",
   "id": "c95cc078",
   "metadata": {},
   "source": [
    "Проверим все ли значения в новом столбце заполнены по общей информации."
   ]
  },
  {
   "cell_type": "code",
   "execution_count": 62,
   "id": "fd40a1c8",
   "metadata": {},
   "outputs": [
    {
     "name": "stdout",
     "output_type": "stream",
     "text": [
      "<class 'pandas.core.frame.DataFrame'>\n",
      "RangeIndex: 21378 entries, 0 to 21377\n",
      "Data columns (total 12 columns):\n",
      "children                 21378 non-null int64\n",
      "days_employed            21378 non-null float64\n",
      "dob_years                21378 non-null int64\n",
      "education_id             21378 non-null int64\n",
      "family_status_id         21378 non-null int64\n",
      "gender                   21378 non-null object\n",
      "income_type              21378 non-null object\n",
      "debt                     21378 non-null int64\n",
      "total_income             21378 non-null int64\n",
      "purpose                  21378 non-null object\n",
      "total_income_category    21378 non-null object\n",
      "purpose_category         21378 non-null object\n",
      "dtypes: float64(1), int64(6), object(5)\n",
      "memory usage: 2.0+ MB\n"
     ]
    }
   ],
   "source": [
    "data.info()"
   ]
  },
  {
   "cell_type": "markdown",
   "id": "40aca31b",
   "metadata": {},
   "source": [
    "Пустых значений в новом столбце нет. Таким образом, произведена категоризация данных по целям кредита.Теперь основываясь на категории возможно изучить влияет ли какая-то категория на вероятность задолженности по кредиту."
   ]
  },
  {
   "cell_type": "markdown",
   "id": "7bda79c1",
   "metadata": {},
   "source": [
    "## Ответы на вопросы."
   ]
  },
  {
   "cell_type": "markdown",
   "id": "dfda81f2",
   "metadata": {},
   "source": [
    "### Вопрос 1:"
   ]
  },
  {
   "cell_type": "markdown",
   "id": "a5c668e6",
   "metadata": {},
   "source": [
    "Есть ли зависимость между количеством детей и возвратом кредита в срок?\n",
    "Есть ли зависимость между семейным положением и возвратом кредита в срок?\n",
    "Есть ли зависимость между уровнем дохода и возвратом кредита в срок?\n",
    "Как разные цели кредита влияют на его возврат в срок?"
   ]
  },
  {
   "cell_type": "markdown",
   "id": "4e5a43bc",
   "metadata": {},
   "source": [
    "Для ответа на данный вопрос сгруппируем данные по количеству детей и посчитаем количество кредитов в группе и количеством невозвратов в срок и  долю невозвратов в каждой группе. "
   ]
  },
  {
   "cell_type": "code",
   "execution_count": 63,
   "id": "cc7e406c",
   "metadata": {
    "scrolled": false
   },
   "outputs": [
    {
     "data": {
      "text/html": [
       "<div>\n",
       "<style scoped>\n",
       "    .dataframe tbody tr th:only-of-type {\n",
       "        vertical-align: middle;\n",
       "    }\n",
       "\n",
       "    .dataframe tbody tr th {\n",
       "        vertical-align: top;\n",
       "    }\n",
       "\n",
       "    .dataframe thead tr th {\n",
       "        text-align: left;\n",
       "    }\n",
       "\n",
       "    .dataframe thead tr:last-of-type th {\n",
       "        text-align: right;\n",
       "    }\n",
       "</style>\n",
       "<table border=\"1\" class=\"dataframe\">\n",
       "  <thead>\n",
       "    <tr>\n",
       "      <th></th>\n",
       "      <th colspan=\"3\" halign=\"left\">debt</th>\n",
       "    </tr>\n",
       "    <tr>\n",
       "      <th></th>\n",
       "      <th>count</th>\n",
       "      <th>sum</th>\n",
       "      <th>mean</th>\n",
       "    </tr>\n",
       "    <tr>\n",
       "      <th>children</th>\n",
       "      <th></th>\n",
       "      <th></th>\n",
       "      <th></th>\n",
       "    </tr>\n",
       "  </thead>\n",
       "  <tbody>\n",
       "    <tr>\n",
       "      <td>0</td>\n",
       "      <td>14091</td>\n",
       "      <td>1063</td>\n",
       "      <td>0.075438</td>\n",
       "    </tr>\n",
       "    <tr>\n",
       "      <td>1</td>\n",
       "      <td>4855</td>\n",
       "      <td>445</td>\n",
       "      <td>0.091658</td>\n",
       "    </tr>\n",
       "    <tr>\n",
       "      <td>2</td>\n",
       "      <td>2052</td>\n",
       "      <td>194</td>\n",
       "      <td>0.094542</td>\n",
       "    </tr>\n",
       "    <tr>\n",
       "      <td>3</td>\n",
       "      <td>330</td>\n",
       "      <td>27</td>\n",
       "      <td>0.081818</td>\n",
       "    </tr>\n",
       "    <tr>\n",
       "      <td>4</td>\n",
       "      <td>41</td>\n",
       "      <td>4</td>\n",
       "      <td>0.097561</td>\n",
       "    </tr>\n",
       "    <tr>\n",
       "      <td>5</td>\n",
       "      <td>9</td>\n",
       "      <td>0</td>\n",
       "      <td>0.000000</td>\n",
       "    </tr>\n",
       "  </tbody>\n",
       "</table>\n",
       "</div>"
      ],
      "text/plain": [
       "           debt                \n",
       "          count   sum      mean\n",
       "children                       \n",
       "0         14091  1063  0.075438\n",
       "1          4855   445  0.091658\n",
       "2          2052   194  0.094542\n",
       "3           330    27  0.081818\n",
       "4            41     4  0.097561\n",
       "5             9     0  0.000000"
      ]
     },
     "execution_count": 63,
     "metadata": {},
     "output_type": "execute_result"
    }
   ],
   "source": [
    "data_of_children = data.groupby(['children']).agg({'debt':['count', 'sum', 'mean']})\n",
    "data_of_children"
   ]
  },
  {
   "cell_type": "markdown",
   "id": "73bf82be",
   "metadata": {},
   "source": [
    "Таким образом, в таблице наглядно видно что доля невозвратов в срок меньше всего у людей без детей. С увеличением количества детей доля невозвратов в срок растет, за исключением клиентов с 3 детьми - доля невозвратов уменьшилась, но все равно больше чем у клиентов без детей, и клиентов с 5 детьми - невозвраты отсутствуют, но  и кретов всего 9 штук."
   ]
  },
  {
   "cell_type": "markdown",
   "id": "b29d12f5",
   "metadata": {},
   "source": [
    "### Вопрос 2:"
   ]
  },
  {
   "cell_type": "markdown",
   "id": "766dcd42",
   "metadata": {},
   "source": [
    "Есть ли зависимость между семейным положением и возвратом кредита в срок?\n",
    "Есть ли зависимость между уровнем дохода и возвратом кредита в срок?\n",
    "Как разные цели кредита влияют на его возврат в срок?"
   ]
  },
  {
   "cell_type": "markdown",
   "id": "522be813",
   "metadata": {},
   "source": [
    "Для ответа на данный вопрос сгруппируем данные по семейному положению и посчитаем количество кредитов кредитов в группе и количеством невозвратов в срок. "
   ]
  },
  {
   "cell_type": "code",
   "execution_count": 64,
   "id": "e009b3f2",
   "metadata": {
    "scrolled": true
   },
   "outputs": [
    {
     "data": {
      "text/html": [
       "<div>\n",
       "<style scoped>\n",
       "    .dataframe tbody tr th:only-of-type {\n",
       "        vertical-align: middle;\n",
       "    }\n",
       "\n",
       "    .dataframe tbody tr th {\n",
       "        vertical-align: top;\n",
       "    }\n",
       "\n",
       "    .dataframe thead tr th {\n",
       "        text-align: left;\n",
       "    }\n",
       "\n",
       "    .dataframe thead tr:last-of-type th {\n",
       "        text-align: right;\n",
       "    }\n",
       "</style>\n",
       "<table border=\"1\" class=\"dataframe\">\n",
       "  <thead>\n",
       "    <tr>\n",
       "      <th></th>\n",
       "      <th colspan=\"2\" halign=\"left\">debt</th>\n",
       "    </tr>\n",
       "    <tr>\n",
       "      <th></th>\n",
       "      <th>count</th>\n",
       "      <th>sum</th>\n",
       "    </tr>\n",
       "    <tr>\n",
       "      <th>family_status_id</th>\n",
       "      <th></th>\n",
       "      <th></th>\n",
       "    </tr>\n",
       "  </thead>\n",
       "  <tbody>\n",
       "    <tr>\n",
       "      <td>0</td>\n",
       "      <td>12290</td>\n",
       "      <td>928</td>\n",
       "    </tr>\n",
       "    <tr>\n",
       "      <td>1</td>\n",
       "      <td>4139</td>\n",
       "      <td>385</td>\n",
       "    </tr>\n",
       "    <tr>\n",
       "      <td>2</td>\n",
       "      <td>955</td>\n",
       "      <td>63</td>\n",
       "    </tr>\n",
       "    <tr>\n",
       "      <td>3</td>\n",
       "      <td>1193</td>\n",
       "      <td>84</td>\n",
       "    </tr>\n",
       "    <tr>\n",
       "      <td>4</td>\n",
       "      <td>2801</td>\n",
       "      <td>273</td>\n",
       "    </tr>\n",
       "  </tbody>\n",
       "</table>\n",
       "</div>"
      ],
      "text/plain": [
       "                   debt     \n",
       "                  count  sum\n",
       "family_status_id            \n",
       "0                 12290  928\n",
       "1                  4139  385\n",
       "2                   955   63\n",
       "3                  1193   84\n",
       "4                  2801  273"
      ]
     },
     "execution_count": 64,
     "metadata": {},
     "output_type": "execute_result"
    }
   ],
   "source": [
    "data_of_family = data.groupby('family_status_id').agg({'debt':['count', 'sum']})\n",
    "data_of_family"
   ]
  },
  {
   "cell_type": "markdown",
   "id": "ac4d73aa",
   "metadata": {},
   "source": [
    "Для корректной оценки посчитаем долю невозвратов в каждой группе и добавим столбец overdue_ration с этими значениями в таблицу"
   ]
  },
  {
   "cell_type": "code",
   "execution_count": 65,
   "id": "0ef4a62b",
   "metadata": {},
   "outputs": [
    {
     "data": {
      "text/html": [
       "<div>\n",
       "<style scoped>\n",
       "    .dataframe tbody tr th:only-of-type {\n",
       "        vertical-align: middle;\n",
       "    }\n",
       "\n",
       "    .dataframe tbody tr th {\n",
       "        vertical-align: top;\n",
       "    }\n",
       "\n",
       "    .dataframe thead tr th {\n",
       "        text-align: left;\n",
       "    }\n",
       "\n",
       "    .dataframe thead tr:last-of-type th {\n",
       "        text-align: right;\n",
       "    }\n",
       "</style>\n",
       "<table border=\"1\" class=\"dataframe\">\n",
       "  <thead>\n",
       "    <tr>\n",
       "      <th></th>\n",
       "      <th colspan=\"2\" halign=\"left\">debt</th>\n",
       "      <th>overdue_ration</th>\n",
       "    </tr>\n",
       "    <tr>\n",
       "      <th></th>\n",
       "      <th>count</th>\n",
       "      <th>sum</th>\n",
       "      <th></th>\n",
       "    </tr>\n",
       "    <tr>\n",
       "      <th>family_status_id</th>\n",
       "      <th></th>\n",
       "      <th></th>\n",
       "      <th></th>\n",
       "    </tr>\n",
       "  </thead>\n",
       "  <tbody>\n",
       "    <tr>\n",
       "      <td>0</td>\n",
       "      <td>12290</td>\n",
       "      <td>928</td>\n",
       "      <td>0.075509</td>\n",
       "    </tr>\n",
       "    <tr>\n",
       "      <td>1</td>\n",
       "      <td>4139</td>\n",
       "      <td>385</td>\n",
       "      <td>0.093018</td>\n",
       "    </tr>\n",
       "    <tr>\n",
       "      <td>2</td>\n",
       "      <td>955</td>\n",
       "      <td>63</td>\n",
       "      <td>0.065969</td>\n",
       "    </tr>\n",
       "    <tr>\n",
       "      <td>3</td>\n",
       "      <td>1193</td>\n",
       "      <td>84</td>\n",
       "      <td>0.070411</td>\n",
       "    </tr>\n",
       "    <tr>\n",
       "      <td>4</td>\n",
       "      <td>2801</td>\n",
       "      <td>273</td>\n",
       "      <td>0.097465</td>\n",
       "    </tr>\n",
       "  </tbody>\n",
       "</table>\n",
       "</div>"
      ],
      "text/plain": [
       "                   debt      overdue_ration\n",
       "                  count  sum               \n",
       "family_status_id                           \n",
       "0                 12290  928       0.075509\n",
       "1                  4139  385       0.093018\n",
       "2                   955   63       0.065969\n",
       "3                  1193   84       0.070411\n",
       "4                  2801  273       0.097465"
      ]
     },
     "execution_count": 65,
     "metadata": {},
     "output_type": "execute_result"
    }
   ],
   "source": [
    "data_of_family['overdue_ration'] = data_of_family['debt']['sum'] / data_of_family['debt']['count']\n",
    "data_of_family"
   ]
  },
  {
   "cell_type": "markdown",
   "id": "88001a3f",
   "metadata": {},
   "source": [
    "Добавим значения столбца семейного положения соответствующие столбцу family_status_id. Для этого объединим таблицу data_of_family с таблицей family_status_dict по столбцу family_status_id "
   ]
  },
  {
   "cell_type": "code",
   "execution_count": 66,
   "id": "457ff925",
   "metadata": {
    "scrolled": true
   },
   "outputs": [
    {
     "name": "stderr",
     "output_type": "stream",
     "text": [
      "/opt/conda/lib/python3.7/site-packages/pandas/core/reshape/merge.py:617: UserWarning: merging between different levels can give an unintended result (2 levels on the left, 1 on the right)\n",
      "  warnings.warn(msg, UserWarning)\n"
     ]
    },
    {
     "data": {
      "text/html": [
       "<div>\n",
       "<style scoped>\n",
       "    .dataframe tbody tr th:only-of-type {\n",
       "        vertical-align: middle;\n",
       "    }\n",
       "\n",
       "    .dataframe tbody tr th {\n",
       "        vertical-align: top;\n",
       "    }\n",
       "\n",
       "    .dataframe thead th {\n",
       "        text-align: right;\n",
       "    }\n",
       "</style>\n",
       "<table border=\"1\" class=\"dataframe\">\n",
       "  <thead>\n",
       "    <tr style=\"text-align: right;\">\n",
       "      <th></th>\n",
       "      <th>family_status_id</th>\n",
       "      <th>(debt, count)</th>\n",
       "      <th>(debt, sum)</th>\n",
       "      <th>(overdue_ration, )</th>\n",
       "      <th>family_status</th>\n",
       "    </tr>\n",
       "  </thead>\n",
       "  <tbody>\n",
       "    <tr>\n",
       "      <td>0</td>\n",
       "      <td>0</td>\n",
       "      <td>12290</td>\n",
       "      <td>928</td>\n",
       "      <td>0.075509</td>\n",
       "      <td>женат / замужем</td>\n",
       "    </tr>\n",
       "    <tr>\n",
       "      <td>1</td>\n",
       "      <td>1</td>\n",
       "      <td>4139</td>\n",
       "      <td>385</td>\n",
       "      <td>0.093018</td>\n",
       "      <td>гражданский брак</td>\n",
       "    </tr>\n",
       "    <tr>\n",
       "      <td>2</td>\n",
       "      <td>2</td>\n",
       "      <td>955</td>\n",
       "      <td>63</td>\n",
       "      <td>0.065969</td>\n",
       "      <td>вдовец / вдова</td>\n",
       "    </tr>\n",
       "    <tr>\n",
       "      <td>3</td>\n",
       "      <td>3</td>\n",
       "      <td>1193</td>\n",
       "      <td>84</td>\n",
       "      <td>0.070411</td>\n",
       "      <td>в разводе</td>\n",
       "    </tr>\n",
       "    <tr>\n",
       "      <td>4</td>\n",
       "      <td>4</td>\n",
       "      <td>2801</td>\n",
       "      <td>273</td>\n",
       "      <td>0.097465</td>\n",
       "      <td>Не женат / не замужем</td>\n",
       "    </tr>\n",
       "  </tbody>\n",
       "</table>\n",
       "</div>"
      ],
      "text/plain": [
       "   family_status_id  (debt, count)  (debt, sum)  (overdue_ration, )  \\\n",
       "0                 0          12290          928            0.075509   \n",
       "1                 1           4139          385            0.093018   \n",
       "2                 2            955           63            0.065969   \n",
       "3                 3           1193           84            0.070411   \n",
       "4                 4           2801          273            0.097465   \n",
       "\n",
       "           family_status  \n",
       "0        женат / замужем  \n",
       "1       гражданский брак  \n",
       "2         вдовец / вдова  \n",
       "3              в разводе  \n",
       "4  Не женат / не замужем  "
      ]
     },
     "execution_count": 66,
     "metadata": {},
     "output_type": "execute_result"
    }
   ],
   "source": [
    "data_of_family = data_of_family.merge(family_status_dict, on='family_status_id', how='right')\n",
    "data_of_family"
   ]
  },
  {
   "cell_type": "markdown",
   "id": "9db23fe7",
   "metadata": {},
   "source": [
    "Таким образом, в таблице наглядно видно что доля невозвратов в срок меньше всего у вдовцов/вдов, а больше всего у клиентов в статусе Не женат / не замужем, а также в стасусе Гражданский брак.  "
   ]
  },
  {
   "cell_type": "markdown",
   "id": "df62f138",
   "metadata": {},
   "source": [
    "### Вопрос 3:"
   ]
  },
  {
   "cell_type": "markdown",
   "id": "bc5610d2",
   "metadata": {},
   "source": [
    "Есть ли зависимость между уровнем дохода и возвратом кредита в срок?\n",
    "Как разные цели кредита влияют на его возврат в срок?"
   ]
  },
  {
   "cell_type": "markdown",
   "id": "dcf07096",
   "metadata": {},
   "source": [
    "Для ответа на данный вопрос сгруппируем данные по категории уровня дохода и посчитаем количество кредитов кредитов в группе и количеством невозвратов в срок. "
   ]
  },
  {
   "cell_type": "code",
   "execution_count": 67,
   "id": "9e3270d1",
   "metadata": {
    "scrolled": true
   },
   "outputs": [
    {
     "data": {
      "text/html": [
       "<div>\n",
       "<style scoped>\n",
       "    .dataframe tbody tr th:only-of-type {\n",
       "        vertical-align: middle;\n",
       "    }\n",
       "\n",
       "    .dataframe tbody tr th {\n",
       "        vertical-align: top;\n",
       "    }\n",
       "\n",
       "    .dataframe thead tr th {\n",
       "        text-align: left;\n",
       "    }\n",
       "\n",
       "    .dataframe thead tr:last-of-type th {\n",
       "        text-align: right;\n",
       "    }\n",
       "</style>\n",
       "<table border=\"1\" class=\"dataframe\">\n",
       "  <thead>\n",
       "    <tr>\n",
       "      <th></th>\n",
       "      <th colspan=\"2\" halign=\"left\">debt</th>\n",
       "    </tr>\n",
       "    <tr>\n",
       "      <th></th>\n",
       "      <th>count</th>\n",
       "      <th>sum</th>\n",
       "    </tr>\n",
       "    <tr>\n",
       "      <th>total_income_category</th>\n",
       "      <th></th>\n",
       "      <th></th>\n",
       "    </tr>\n",
       "  </thead>\n",
       "  <tbody>\n",
       "    <tr>\n",
       "      <td>A</td>\n",
       "      <td>25</td>\n",
       "      <td>2</td>\n",
       "    </tr>\n",
       "    <tr>\n",
       "      <td>B</td>\n",
       "      <td>5021</td>\n",
       "      <td>354</td>\n",
       "    </tr>\n",
       "    <tr>\n",
       "      <td>C</td>\n",
       "      <td>15960</td>\n",
       "      <td>1354</td>\n",
       "    </tr>\n",
       "    <tr>\n",
       "      <td>D</td>\n",
       "      <td>350</td>\n",
       "      <td>21</td>\n",
       "    </tr>\n",
       "    <tr>\n",
       "      <td>E</td>\n",
       "      <td>22</td>\n",
       "      <td>2</td>\n",
       "    </tr>\n",
       "  </tbody>\n",
       "</table>\n",
       "</div>"
      ],
      "text/plain": [
       "                        debt      \n",
       "                       count   sum\n",
       "total_income_category             \n",
       "A                         25     2\n",
       "B                       5021   354\n",
       "C                      15960  1354\n",
       "D                        350    21\n",
       "E                         22     2"
      ]
     },
     "execution_count": 67,
     "metadata": {},
     "output_type": "execute_result"
    }
   ],
   "source": [
    "data_of_income = data.groupby('total_income_category').agg({'debt':['count', 'sum']})\n",
    "data_of_income"
   ]
  },
  {
   "cell_type": "markdown",
   "id": "7ff45dea",
   "metadata": {},
   "source": [
    "Для корректной оценки посчитаем долю невозвратов в каждой группе и добавим столбец overdue_ration с этими значениями в таблицу"
   ]
  },
  {
   "cell_type": "code",
   "execution_count": 68,
   "id": "1d643fb4",
   "metadata": {},
   "outputs": [
    {
     "data": {
      "text/html": [
       "<div>\n",
       "<style scoped>\n",
       "    .dataframe tbody tr th:only-of-type {\n",
       "        vertical-align: middle;\n",
       "    }\n",
       "\n",
       "    .dataframe tbody tr th {\n",
       "        vertical-align: top;\n",
       "    }\n",
       "\n",
       "    .dataframe thead tr th {\n",
       "        text-align: left;\n",
       "    }\n",
       "\n",
       "    .dataframe thead tr:last-of-type th {\n",
       "        text-align: right;\n",
       "    }\n",
       "</style>\n",
       "<table border=\"1\" class=\"dataframe\">\n",
       "  <thead>\n",
       "    <tr>\n",
       "      <th></th>\n",
       "      <th colspan=\"2\" halign=\"left\">debt</th>\n",
       "      <th>overdue_ration</th>\n",
       "    </tr>\n",
       "    <tr>\n",
       "      <th></th>\n",
       "      <th>count</th>\n",
       "      <th>sum</th>\n",
       "      <th></th>\n",
       "    </tr>\n",
       "    <tr>\n",
       "      <th>total_income_category</th>\n",
       "      <th></th>\n",
       "      <th></th>\n",
       "      <th></th>\n",
       "    </tr>\n",
       "  </thead>\n",
       "  <tbody>\n",
       "    <tr>\n",
       "      <td>A</td>\n",
       "      <td>25</td>\n",
       "      <td>2</td>\n",
       "      <td>0.080000</td>\n",
       "    </tr>\n",
       "    <tr>\n",
       "      <td>B</td>\n",
       "      <td>5021</td>\n",
       "      <td>354</td>\n",
       "      <td>0.070504</td>\n",
       "    </tr>\n",
       "    <tr>\n",
       "      <td>C</td>\n",
       "      <td>15960</td>\n",
       "      <td>1354</td>\n",
       "      <td>0.084837</td>\n",
       "    </tr>\n",
       "    <tr>\n",
       "      <td>D</td>\n",
       "      <td>350</td>\n",
       "      <td>21</td>\n",
       "      <td>0.060000</td>\n",
       "    </tr>\n",
       "    <tr>\n",
       "      <td>E</td>\n",
       "      <td>22</td>\n",
       "      <td>2</td>\n",
       "      <td>0.090909</td>\n",
       "    </tr>\n",
       "  </tbody>\n",
       "</table>\n",
       "</div>"
      ],
      "text/plain": [
       "                        debt       overdue_ration\n",
       "                       count   sum               \n",
       "total_income_category                            \n",
       "A                         25     2       0.080000\n",
       "B                       5021   354       0.070504\n",
       "C                      15960  1354       0.084837\n",
       "D                        350    21       0.060000\n",
       "E                         22     2       0.090909"
      ]
     },
     "execution_count": 68,
     "metadata": {},
     "output_type": "execute_result"
    }
   ],
   "source": [
    "data_of_income['overdue_ration'] = data_of_income['debt']['sum'] / data_of_income['debt']['count']\n",
    "data_of_income"
   ]
  },
  {
   "cell_type": "markdown",
   "id": "d29d77dd",
   "metadata": {},
   "source": [
    "Таким образом, в таблице наглядно видно что доля невозвратов в срок меньше всего у клиентов в категории дохода D, а больше всего в категории дохода Е. Зависимости что с ростом уровня дохода снижается количество невозвратов нет, так как в категории доходов А и Е доля невозвратов довольно высока. "
   ]
  },
  {
   "cell_type": "markdown",
   "id": "ffeee67c",
   "metadata": {},
   "source": [
    "### Вопрос 4:"
   ]
  },
  {
   "cell_type": "markdown",
   "id": "5dd225e7",
   "metadata": {},
   "source": [
    "Как разные цели кредита влияют на его возврат в срок?"
   ]
  },
  {
   "cell_type": "markdown",
   "id": "4b8b08bd",
   "metadata": {},
   "source": [
    "Для ответа на данный вопрос сгруппируем данные по категории целей кредита и посчитаем количество кредитов кредитов в группе и количеством невозвратов в срок. "
   ]
  },
  {
   "cell_type": "code",
   "execution_count": 69,
   "id": "208ff2e7",
   "metadata": {
    "scrolled": true
   },
   "outputs": [
    {
     "data": {
      "text/html": [
       "<div>\n",
       "<style scoped>\n",
       "    .dataframe tbody tr th:only-of-type {\n",
       "        vertical-align: middle;\n",
       "    }\n",
       "\n",
       "    .dataframe tbody tr th {\n",
       "        vertical-align: top;\n",
       "    }\n",
       "\n",
       "    .dataframe thead tr th {\n",
       "        text-align: left;\n",
       "    }\n",
       "\n",
       "    .dataframe thead tr:last-of-type th {\n",
       "        text-align: right;\n",
       "    }\n",
       "</style>\n",
       "<table border=\"1\" class=\"dataframe\">\n",
       "  <thead>\n",
       "    <tr>\n",
       "      <th></th>\n",
       "      <th colspan=\"2\" halign=\"left\">debt</th>\n",
       "    </tr>\n",
       "    <tr>\n",
       "      <th></th>\n",
       "      <th>count</th>\n",
       "      <th>sum</th>\n",
       "    </tr>\n",
       "    <tr>\n",
       "      <th>purpose_category</th>\n",
       "      <th></th>\n",
       "      <th></th>\n",
       "    </tr>\n",
       "  </thead>\n",
       "  <tbody>\n",
       "    <tr>\n",
       "      <td>операции с автомобилем</td>\n",
       "      <td>4290</td>\n",
       "      <td>401</td>\n",
       "    </tr>\n",
       "    <tr>\n",
       "      <td>операции с недвижимостью</td>\n",
       "      <td>10775</td>\n",
       "      <td>780</td>\n",
       "    </tr>\n",
       "    <tr>\n",
       "      <td>получение образования</td>\n",
       "      <td>3998</td>\n",
       "      <td>369</td>\n",
       "    </tr>\n",
       "    <tr>\n",
       "      <td>проведение свадьбы</td>\n",
       "      <td>2315</td>\n",
       "      <td>183</td>\n",
       "    </tr>\n",
       "  </tbody>\n",
       "</table>\n",
       "</div>"
      ],
      "text/plain": [
       "                           debt     \n",
       "                          count  sum\n",
       "purpose_category                    \n",
       "операции с автомобилем     4290  401\n",
       "операции с недвижимостью  10775  780\n",
       "получение образования      3998  369\n",
       "проведение свадьбы         2315  183"
      ]
     },
     "execution_count": 69,
     "metadata": {},
     "output_type": "execute_result"
    }
   ],
   "source": [
    "data_of_purpose = data.groupby('purpose_category').agg({'debt':['count', 'sum']})\n",
    "data_of_purpose"
   ]
  },
  {
   "cell_type": "markdown",
   "id": "fea65bbb",
   "metadata": {},
   "source": [
    "Для корректной оценки посчитаем долю невозвратов в каждой группе и добавим столбец overdue_ration с этими значениями в таблицу"
   ]
  },
  {
   "cell_type": "code",
   "execution_count": 70,
   "id": "d29ddddc",
   "metadata": {},
   "outputs": [
    {
     "data": {
      "text/html": [
       "<div>\n",
       "<style scoped>\n",
       "    .dataframe tbody tr th:only-of-type {\n",
       "        vertical-align: middle;\n",
       "    }\n",
       "\n",
       "    .dataframe tbody tr th {\n",
       "        vertical-align: top;\n",
       "    }\n",
       "\n",
       "    .dataframe thead tr th {\n",
       "        text-align: left;\n",
       "    }\n",
       "\n",
       "    .dataframe thead tr:last-of-type th {\n",
       "        text-align: right;\n",
       "    }\n",
       "</style>\n",
       "<table border=\"1\" class=\"dataframe\">\n",
       "  <thead>\n",
       "    <tr>\n",
       "      <th></th>\n",
       "      <th colspan=\"2\" halign=\"left\">debt</th>\n",
       "      <th>overdue_ration</th>\n",
       "    </tr>\n",
       "    <tr>\n",
       "      <th></th>\n",
       "      <th>count</th>\n",
       "      <th>sum</th>\n",
       "      <th></th>\n",
       "    </tr>\n",
       "    <tr>\n",
       "      <th>purpose_category</th>\n",
       "      <th></th>\n",
       "      <th></th>\n",
       "      <th></th>\n",
       "    </tr>\n",
       "  </thead>\n",
       "  <tbody>\n",
       "    <tr>\n",
       "      <td>операции с автомобилем</td>\n",
       "      <td>4290</td>\n",
       "      <td>401</td>\n",
       "      <td>0.093473</td>\n",
       "    </tr>\n",
       "    <tr>\n",
       "      <td>операции с недвижимостью</td>\n",
       "      <td>10775</td>\n",
       "      <td>780</td>\n",
       "      <td>0.072390</td>\n",
       "    </tr>\n",
       "    <tr>\n",
       "      <td>получение образования</td>\n",
       "      <td>3998</td>\n",
       "      <td>369</td>\n",
       "      <td>0.092296</td>\n",
       "    </tr>\n",
       "    <tr>\n",
       "      <td>проведение свадьбы</td>\n",
       "      <td>2315</td>\n",
       "      <td>183</td>\n",
       "      <td>0.079050</td>\n",
       "    </tr>\n",
       "  </tbody>\n",
       "</table>\n",
       "</div>"
      ],
      "text/plain": [
       "                           debt      overdue_ration\n",
       "                          count  sum               \n",
       "purpose_category                                   \n",
       "операции с автомобилем     4290  401       0.093473\n",
       "операции с недвижимостью  10775  780       0.072390\n",
       "получение образования      3998  369       0.092296\n",
       "проведение свадьбы         2315  183       0.079050"
      ]
     },
     "execution_count": 70,
     "metadata": {},
     "output_type": "execute_result"
    }
   ],
   "source": [
    "data_of_purpose['overdue_ration'] = data_of_purpose['debt']['sum'] / data_of_purpose['debt']['count'] \n",
    "data_of_purpose"
   ]
  },
  {
   "cell_type": "markdown",
   "id": "ef1074f4",
   "metadata": {},
   "source": [
    "Таким образом, в таблице наглядно видно что доля невозвратов в срок меньше всего по операциям c недвижимостью, а больше всего по операциям с автомобилем. Но в целом доля невозвратов не сильно изменяется в зависимости от цели кредита. "
   ]
  },
  {
   "cell_type": "markdown",
   "id": "1e604f6d",
   "metadata": {},
   "source": [
    "## Общий вывод:"
   ]
  },
  {
   "cell_type": "markdown",
   "id": "c56357be",
   "metadata": {},
   "source": [
    "Исходя из полученных данных можно сделать следующий вывод: Семейное положение и наличие детей в семье влияют на факт погашения кредита в срок. Так доля невозвратов в срок меньше всего у людей без детей и в целом с увеличением количества детей доля невозвратов в срок растет. Также доля невозвратов в срок меньше всего у вдовцов/вдов, а больше всего у клиентов в статусе Не женат / не замужем, а также в стасусе Гражданский брак. \n",
    "Доля невозвратов в срок меньше всего у клиентов в категории дохода D, а больше всего в категории дохода Е. Зависимости что с ростом уровня дохода снижается количество невозвратов нет, так как в категории доходов А и Е доля невозвратов довольно высока. \n",
    "Доля невозвратов в срок меньше всего по операциям c недвижимостью, а больше всего по операциям с автомобилем и на получение образования. Но в целом доля невозвратов не сильно изменяется в зависимости от цели кредита. \n",
    "Поэтому наиболее надежными клиентами для банка являются вдовы/вдовцы без детей или с небольшим количеством детей с категорией дохода D и с целью кредита на операции c недвижимостью."
   ]
  }
 ],
 "metadata": {
  "ExecuteTimeLog": [
   {
    "duration": 90,
    "start_time": "2022-03-03T04:13:55.347Z"
   },
   {
    "duration": 1240,
    "start_time": "2022-03-03T04:44:55.797Z"
   },
   {
    "duration": 22,
    "start_time": "2022-03-03T04:44:57.040Z"
   },
   {
    "duration": 17,
    "start_time": "2022-03-03T04:44:57.081Z"
   },
   {
    "duration": 35,
    "start_time": "2022-03-03T04:44:57.102Z"
   },
   {
    "duration": 24,
    "start_time": "2022-03-03T04:45:02.076Z"
   },
   {
    "duration": 269,
    "start_time": "2022-03-03T05:56:58.769Z"
   },
   {
    "duration": 13,
    "start_time": "2022-03-03T05:56:59.041Z"
   },
   {
    "duration": 34,
    "start_time": "2022-03-03T05:56:59.058Z"
   },
   {
    "duration": 26,
    "start_time": "2022-03-03T05:56:59.094Z"
   },
   {
    "duration": 6,
    "start_time": "2022-03-03T05:56:59.123Z"
   },
   {
    "duration": 6,
    "start_time": "2022-03-03T05:56:59.132Z"
   },
   {
    "duration": 84,
    "start_time": "2022-03-03T05:56:59.140Z"
   },
   {
    "duration": 8,
    "start_time": "2022-03-03T05:56:59.227Z"
   },
   {
    "duration": 10,
    "start_time": "2022-03-03T05:56:59.238Z"
   },
   {
    "duration": 34,
    "start_time": "2022-03-03T05:56:59.250Z"
   },
   {
    "duration": 5,
    "start_time": "2022-03-03T05:56:59.286Z"
   },
   {
    "duration": 10,
    "start_time": "2022-03-03T05:56:59.294Z"
   },
   {
    "duration": 28,
    "start_time": "2022-03-03T05:56:59.306Z"
   },
   {
    "duration": 61,
    "start_time": "2022-03-03T05:56:59.337Z"
   },
   {
    "duration": 22,
    "start_time": "2022-03-03T05:56:59.401Z"
   },
   {
    "duration": 10,
    "start_time": "2022-03-03T05:56:59.426Z"
   },
   {
    "duration": 53,
    "start_time": "2022-03-03T05:56:59.438Z"
   },
   {
    "duration": 18,
    "start_time": "2022-03-03T05:56:59.493Z"
   },
   {
    "duration": 13,
    "start_time": "2022-03-03T05:56:59.513Z"
   },
   {
    "duration": 11,
    "start_time": "2022-03-03T05:56:59.528Z"
   },
   {
    "duration": 12,
    "start_time": "2022-03-03T05:56:59.541Z"
   },
   {
    "duration": 46,
    "start_time": "2022-03-03T05:56:59.555Z"
   },
   {
    "duration": 41,
    "start_time": "2022-03-03T05:56:59.606Z"
   },
   {
    "duration": 32,
    "start_time": "2022-03-03T05:56:59.650Z"
   },
   {
    "duration": 6,
    "start_time": "2022-03-03T05:56:59.685Z"
   },
   {
    "duration": 8,
    "start_time": "2022-03-03T05:56:59.693Z"
   },
   {
    "duration": 25,
    "start_time": "2022-03-03T05:56:59.703Z"
   },
   {
    "duration": 11,
    "start_time": "2022-03-03T05:56:59.730Z"
   },
   {
    "duration": 51,
    "start_time": "2022-03-03T05:56:59.743Z"
   },
   {
    "duration": 8,
    "start_time": "2022-03-03T05:56:59.796Z"
   },
   {
    "duration": 15,
    "start_time": "2022-03-03T05:56:59.806Z"
   },
   {
    "duration": 14,
    "start_time": "2022-03-03T05:56:59.823Z"
   },
   {
    "duration": 50,
    "start_time": "2022-03-03T05:56:59.839Z"
   },
   {
    "duration": 14,
    "start_time": "2022-03-03T05:56:59.891Z"
   },
   {
    "duration": 12,
    "start_time": "2022-03-03T05:56:59.907Z"
   },
   {
    "duration": 18,
    "start_time": "2022-03-03T05:56:59.921Z"
   },
   {
    "duration": 50,
    "start_time": "2022-03-03T05:56:59.941Z"
   },
   {
    "duration": 5,
    "start_time": "2022-03-03T05:56:59.993Z"
   },
   {
    "duration": 45,
    "start_time": "2022-03-03T05:57:00.000Z"
   },
   {
    "duration": 9,
    "start_time": "2022-03-03T05:57:00.047Z"
   },
   {
    "duration": 32,
    "start_time": "2022-03-03T05:57:00.058Z"
   },
   {
    "duration": 10,
    "start_time": "2022-03-03T05:57:00.092Z"
   },
   {
    "duration": 17,
    "start_time": "2022-03-03T05:57:00.104Z"
   },
   {
    "duration": 917,
    "start_time": "2022-03-03T05:57:00.123Z"
   },
   {
    "duration": 3,
    "start_time": "2022-03-03T05:57:01.043Z"
   },
   {
    "duration": 45,
    "start_time": "2022-03-03T05:57:01.048Z"
   },
   {
    "duration": 10,
    "start_time": "2022-03-03T05:57:27.124Z"
   },
   {
    "duration": 7,
    "start_time": "2022-03-03T05:57:47.490Z"
   },
   {
    "duration": 994,
    "start_time": "2022-03-03T06:18:04.987Z"
   },
   {
    "duration": 15,
    "start_time": "2022-03-03T06:18:05.984Z"
   },
   {
    "duration": 81,
    "start_time": "2022-03-03T06:18:06.002Z"
   },
   {
    "duration": 65,
    "start_time": "2022-03-03T06:18:06.087Z"
   },
   {
    "duration": 22,
    "start_time": "2022-03-03T06:18:06.154Z"
   },
   {
    "duration": 35,
    "start_time": "2022-03-03T06:18:06.178Z"
   },
   {
    "duration": 105,
    "start_time": "2022-03-03T06:18:06.216Z"
   },
   {
    "duration": 58,
    "start_time": "2022-03-03T06:18:06.323Z"
   },
   {
    "duration": 53,
    "start_time": "2022-03-03T06:18:06.385Z"
   },
   {
    "duration": 35,
    "start_time": "2022-03-03T06:18:06.441Z"
   },
   {
    "duration": 36,
    "start_time": "2022-03-03T06:18:06.479Z"
   },
   {
    "duration": 35,
    "start_time": "2022-03-03T06:18:06.518Z"
   },
   {
    "duration": 67,
    "start_time": "2022-03-03T06:18:06.556Z"
   },
   {
    "duration": 38,
    "start_time": "2022-03-03T06:18:06.626Z"
   },
   {
    "duration": 76,
    "start_time": "2022-03-03T06:18:06.667Z"
   },
   {
    "duration": 16,
    "start_time": "2022-03-03T06:18:06.746Z"
   },
   {
    "duration": 47,
    "start_time": "2022-03-03T06:18:06.765Z"
   },
   {
    "duration": 59,
    "start_time": "2022-03-03T06:18:06.814Z"
   },
   {
    "duration": 29,
    "start_time": "2022-03-03T06:18:06.876Z"
   },
   {
    "duration": 39,
    "start_time": "2022-03-03T06:18:06.908Z"
   },
   {
    "duration": 38,
    "start_time": "2022-03-03T06:18:06.950Z"
   },
   {
    "duration": 29,
    "start_time": "2022-03-03T06:18:06.991Z"
   },
   {
    "duration": 68,
    "start_time": "2022-03-03T06:18:07.022Z"
   },
   {
    "duration": 13,
    "start_time": "2022-03-03T06:18:07.093Z"
   },
   {
    "duration": 30,
    "start_time": "2022-03-03T06:18:07.108Z"
   },
   {
    "duration": 33,
    "start_time": "2022-03-03T06:18:07.141Z"
   },
   {
    "duration": 37,
    "start_time": "2022-03-03T06:18:07.184Z"
   },
   {
    "duration": 19,
    "start_time": "2022-03-03T06:18:07.226Z"
   },
   {
    "duration": 44,
    "start_time": "2022-03-03T06:18:07.248Z"
   },
   {
    "duration": 10,
    "start_time": "2022-03-03T06:18:07.294Z"
   },
   {
    "duration": 41,
    "start_time": "2022-03-03T06:18:07.306Z"
   },
   {
    "duration": 34,
    "start_time": "2022-03-03T06:18:07.349Z"
   },
   {
    "duration": 31,
    "start_time": "2022-03-03T06:18:07.385Z"
   },
   {
    "duration": 44,
    "start_time": "2022-03-03T06:18:07.418Z"
   },
   {
    "duration": 32,
    "start_time": "2022-03-03T06:18:07.464Z"
   },
   {
    "duration": 44,
    "start_time": "2022-03-03T06:18:07.498Z"
   },
   {
    "duration": 36,
    "start_time": "2022-03-03T06:18:07.544Z"
   },
   {
    "duration": 28,
    "start_time": "2022-03-03T06:18:07.583Z"
   },
   {
    "duration": 59,
    "start_time": "2022-03-03T06:18:07.613Z"
   },
   {
    "duration": 39,
    "start_time": "2022-03-03T06:18:07.674Z"
   },
   {
    "duration": 48,
    "start_time": "2022-03-03T06:18:07.715Z"
   },
   {
    "duration": 31,
    "start_time": "2022-03-03T06:18:07.766Z"
   },
   {
    "duration": 35,
    "start_time": "2022-03-03T06:18:07.799Z"
   },
   {
    "duration": 931,
    "start_time": "2022-03-03T06:18:07.836Z"
   },
   {
    "duration": 12,
    "start_time": "2022-03-03T06:18:08.770Z"
   },
   {
    "duration": 41,
    "start_time": "2022-03-03T06:18:08.784Z"
   },
   {
    "duration": 22,
    "start_time": "2022-03-03T06:18:08.828Z"
   },
   {
    "duration": 27,
    "start_time": "2022-03-03T06:18:08.853Z"
   },
   {
    "duration": 27,
    "start_time": "2022-03-03T06:18:08.882Z"
   },
   {
    "duration": 36,
    "start_time": "2022-03-03T06:18:08.912Z"
   },
   {
    "duration": 41,
    "start_time": "2022-03-03T06:18:08.950Z"
   },
   {
    "duration": 36,
    "start_time": "2022-03-03T06:18:08.993Z"
   },
   {
    "duration": 40,
    "start_time": "2022-03-03T06:18:09.031Z"
   },
   {
    "duration": 42,
    "start_time": "2022-03-03T06:18:09.073Z"
   },
   {
    "duration": 29,
    "start_time": "2022-03-03T06:18:09.117Z"
   },
   {
    "duration": 35,
    "start_time": "2022-03-03T06:18:09.148Z"
   },
   {
    "duration": 32,
    "start_time": "2022-03-03T06:18:09.185Z"
   },
   {
    "duration": 964,
    "start_time": "2022-03-03T06:22:27.275Z"
   },
   {
    "duration": 14,
    "start_time": "2022-03-03T06:22:28.242Z"
   },
   {
    "duration": 27,
    "start_time": "2022-03-03T06:22:28.260Z"
   },
   {
    "duration": 28,
    "start_time": "2022-03-03T06:22:28.290Z"
   },
   {
    "duration": 8,
    "start_time": "2022-03-03T06:22:28.320Z"
   },
   {
    "duration": 17,
    "start_time": "2022-03-03T06:22:28.331Z"
   },
   {
    "duration": 70,
    "start_time": "2022-03-03T06:22:28.350Z"
   },
   {
    "duration": 8,
    "start_time": "2022-03-03T06:22:28.423Z"
   },
   {
    "duration": 9,
    "start_time": "2022-03-03T06:22:28.434Z"
   },
   {
    "duration": 39,
    "start_time": "2022-03-03T06:22:28.445Z"
   },
   {
    "duration": 8,
    "start_time": "2022-03-03T06:22:28.487Z"
   },
   {
    "duration": 11,
    "start_time": "2022-03-03T06:22:28.497Z"
   },
   {
    "duration": 24,
    "start_time": "2022-03-03T06:22:28.511Z"
   },
   {
    "duration": 65,
    "start_time": "2022-03-03T06:22:28.538Z"
   },
   {
    "duration": 23,
    "start_time": "2022-03-03T06:22:28.606Z"
   },
   {
    "duration": 9,
    "start_time": "2022-03-03T06:22:28.632Z"
   },
   {
    "duration": 54,
    "start_time": "2022-03-03T06:22:28.644Z"
   },
   {
    "duration": 10,
    "start_time": "2022-03-03T06:22:28.701Z"
   },
   {
    "duration": 13,
    "start_time": "2022-03-03T06:22:28.713Z"
   },
   {
    "duration": 19,
    "start_time": "2022-03-03T06:22:28.728Z"
   },
   {
    "duration": 37,
    "start_time": "2022-03-03T06:22:28.751Z"
   },
   {
    "duration": 39,
    "start_time": "2022-03-03T06:22:28.790Z"
   },
   {
    "duration": 61,
    "start_time": "2022-03-03T06:22:28.834Z"
   },
   {
    "duration": 12,
    "start_time": "2022-03-03T06:22:28.898Z"
   },
   {
    "duration": 10,
    "start_time": "2022-03-03T06:22:28.912Z"
   },
   {
    "duration": 7,
    "start_time": "2022-03-03T06:22:28.925Z"
   },
   {
    "duration": 60,
    "start_time": "2022-03-03T06:22:28.934Z"
   },
   {
    "duration": 12,
    "start_time": "2022-03-03T06:22:28.996Z"
   },
   {
    "duration": 13,
    "start_time": "2022-03-03T06:22:29.010Z"
   },
   {
    "duration": 8,
    "start_time": "2022-03-03T06:22:29.025Z"
   },
   {
    "duration": 51,
    "start_time": "2022-03-03T06:22:29.035Z"
   },
   {
    "duration": 14,
    "start_time": "2022-03-03T06:22:29.088Z"
   },
   {
    "duration": 13,
    "start_time": "2022-03-03T06:22:29.104Z"
   },
   {
    "duration": 12,
    "start_time": "2022-03-03T06:22:29.120Z"
   },
   {
    "duration": 50,
    "start_time": "2022-03-03T06:22:29.135Z"
   },
   {
    "duration": 15,
    "start_time": "2022-03-03T06:22:29.187Z"
   },
   {
    "duration": 17,
    "start_time": "2022-03-03T06:22:29.205Z"
   },
   {
    "duration": 8,
    "start_time": "2022-03-03T06:22:29.224Z"
   },
   {
    "duration": 63,
    "start_time": "2022-03-03T06:22:29.234Z"
   },
   {
    "duration": 10,
    "start_time": "2022-03-03T06:22:29.299Z"
   },
   {
    "duration": 18,
    "start_time": "2022-03-03T06:22:29.311Z"
   },
   {
    "duration": 10,
    "start_time": "2022-03-03T06:22:29.331Z"
   },
   {
    "duration": 38,
    "start_time": "2022-03-03T06:22:29.344Z"
   },
   {
    "duration": 924,
    "start_time": "2022-03-03T06:22:29.385Z"
   },
   {
    "duration": 3,
    "start_time": "2022-03-03T06:22:30.312Z"
   },
   {
    "duration": 43,
    "start_time": "2022-03-03T06:22:30.318Z"
   },
   {
    "duration": 21,
    "start_time": "2022-03-03T06:22:30.364Z"
   },
   {
    "duration": 27,
    "start_time": "2022-03-03T06:22:30.388Z"
   },
   {
    "duration": 18,
    "start_time": "2022-03-03T06:22:30.417Z"
   },
   {
    "duration": 46,
    "start_time": "2022-03-03T06:22:30.437Z"
   },
   {
    "duration": 16,
    "start_time": "2022-03-03T06:22:30.486Z"
   },
   {
    "duration": 17,
    "start_time": "2022-03-03T06:22:30.504Z"
   },
   {
    "duration": 29,
    "start_time": "2022-03-03T06:22:30.524Z"
   },
   {
    "duration": 39,
    "start_time": "2022-03-03T06:22:30.556Z"
   },
   {
    "duration": 28,
    "start_time": "2022-03-03T06:22:30.598Z"
   },
   {
    "duration": 19,
    "start_time": "2022-03-03T06:22:30.628Z"
   },
   {
    "duration": 43,
    "start_time": "2022-03-03T06:22:30.649Z"
   },
   {
    "duration": 93,
    "start_time": "2022-03-05T15:02:41.863Z"
   },
   {
    "duration": 584,
    "start_time": "2022-03-05T15:03:53.129Z"
   },
   {
    "duration": 252,
    "start_time": "2022-03-05T15:03:55.501Z"
   },
   {
    "duration": 10,
    "start_time": "2022-03-05T15:05:09.448Z"
   },
   {
    "duration": 10,
    "start_time": "2022-03-05T15:06:08.806Z"
   },
   {
    "duration": 14,
    "start_time": "2022-03-05T15:06:29.363Z"
   },
   {
    "duration": 15,
    "start_time": "2022-03-05T15:07:20.067Z"
   },
   {
    "duration": 4,
    "start_time": "2022-03-05T15:08:18.128Z"
   },
   {
    "duration": 5,
    "start_time": "2022-03-05T15:08:55.915Z"
   },
   {
    "duration": 5,
    "start_time": "2022-03-05T15:10:10.348Z"
   },
   {
    "duration": 5,
    "start_time": "2022-03-05T15:10:11.356Z"
   },
   {
    "duration": 26,
    "start_time": "2022-03-05T15:10:43.244Z"
   },
   {
    "duration": 6,
    "start_time": "2022-03-05T15:11:35.140Z"
   },
   {
    "duration": 6,
    "start_time": "2022-03-05T15:11:36.845Z"
   },
   {
    "duration": 7,
    "start_time": "2022-03-05T15:11:50.870Z"
   },
   {
    "duration": 3,
    "start_time": "2022-03-05T15:12:57.117Z"
   },
   {
    "duration": 5,
    "start_time": "2022-03-05T15:13:56.206Z"
   },
   {
    "duration": 5,
    "start_time": "2022-03-05T15:14:47.902Z"
   },
   {
    "duration": 6,
    "start_time": "2022-03-05T15:14:49.237Z"
   },
   {
    "duration": 6,
    "start_time": "2022-03-05T15:14:53.189Z"
   },
   {
    "duration": 16,
    "start_time": "2022-03-05T15:15:08.558Z"
   },
   {
    "duration": 16,
    "start_time": "2022-03-05T15:15:14.590Z"
   },
   {
    "duration": 7,
    "start_time": "2022-03-05T15:15:21.518Z"
   },
   {
    "duration": 16,
    "start_time": "2022-03-05T15:15:25.671Z"
   },
   {
    "duration": 6,
    "start_time": "2022-03-05T15:15:29.710Z"
   },
   {
    "duration": 7,
    "start_time": "2022-03-05T15:16:12.719Z"
   },
   {
    "duration": 7,
    "start_time": "2022-03-05T15:16:18.823Z"
   },
   {
    "duration": 16,
    "start_time": "2022-03-05T15:16:50.559Z"
   },
   {
    "duration": 28,
    "start_time": "2022-03-05T15:16:53.406Z"
   },
   {
    "duration": 9,
    "start_time": "2022-03-05T15:16:56.447Z"
   },
   {
    "duration": 6,
    "start_time": "2022-03-05T15:17:42.729Z"
   },
   {
    "duration": 6,
    "start_time": "2022-03-05T15:17:54.028Z"
   },
   {
    "duration": 4,
    "start_time": "2022-03-05T15:19:11.825Z"
   },
   {
    "duration": 20,
    "start_time": "2022-03-05T15:21:02.368Z"
   },
   {
    "duration": 7,
    "start_time": "2022-03-05T15:23:08.708Z"
   },
   {
    "duration": 6,
    "start_time": "2022-03-05T15:25:36.500Z"
   },
   {
    "duration": 18,
    "start_time": "2022-03-05T15:25:42.338Z"
   },
   {
    "duration": 8,
    "start_time": "2022-03-05T15:25:51.626Z"
   },
   {
    "duration": 14,
    "start_time": "2022-03-05T15:35:55.864Z"
   },
   {
    "duration": 9,
    "start_time": "2022-03-05T15:37:36.584Z"
   },
   {
    "duration": 10,
    "start_time": "2022-03-05T15:38:07.576Z"
   },
   {
    "duration": 6,
    "start_time": "2022-03-05T15:38:09.806Z"
   },
   {
    "duration": 11,
    "start_time": "2022-03-05T15:38:12.583Z"
   },
   {
    "duration": 9,
    "start_time": "2022-03-05T15:38:32.528Z"
   },
   {
    "duration": 6,
    "start_time": "2022-03-05T15:38:36.841Z"
   },
   {
    "duration": 9,
    "start_time": "2022-03-05T15:38:39.073Z"
   },
   {
    "duration": 10,
    "start_time": "2022-03-05T15:38:44.873Z"
   },
   {
    "duration": 10,
    "start_time": "2022-03-05T15:38:47.295Z"
   },
   {
    "duration": 10,
    "start_time": "2022-03-05T15:38:52.175Z"
   },
   {
    "duration": 3,
    "start_time": "2022-03-05T15:39:15.393Z"
   },
   {
    "duration": 19,
    "start_time": "2022-03-05T15:39:18.456Z"
   },
   {
    "duration": 7,
    "start_time": "2022-03-05T15:39:22.648Z"
   },
   {
    "duration": 10,
    "start_time": "2022-03-05T15:40:16.393Z"
   },
   {
    "duration": 8,
    "start_time": "2022-03-05T15:40:26.799Z"
   },
   {
    "duration": 6,
    "start_time": "2022-03-05T15:40:29.360Z"
   },
   {
    "duration": 591,
    "start_time": "2022-03-05T15:40:32.425Z"
   },
   {
    "duration": 3,
    "start_time": "2022-03-05T15:40:35.832Z"
   },
   {
    "duration": 15,
    "start_time": "2022-03-05T15:40:38.114Z"
   },
   {
    "duration": 7,
    "start_time": "2022-03-05T15:40:41.315Z"
   },
   {
    "duration": 12,
    "start_time": "2022-03-05T15:40:44.978Z"
   },
   {
    "duration": 11,
    "start_time": "2022-03-05T15:41:39.073Z"
   },
   {
    "duration": 13,
    "start_time": "2022-03-05T15:41:41.849Z"
   },
   {
    "duration": 12,
    "start_time": "2022-03-05T15:41:51.591Z"
   },
   {
    "duration": 11,
    "start_time": "2022-03-05T15:42:20.602Z"
   },
   {
    "duration": 10,
    "start_time": "2022-03-05T15:42:36.019Z"
   },
   {
    "duration": 16,
    "start_time": "2022-03-05T15:42:45.530Z"
   },
   {
    "duration": 12,
    "start_time": "2022-03-05T15:42:55.394Z"
   },
   {
    "duration": 11,
    "start_time": "2022-03-05T15:42:57.817Z"
   },
   {
    "duration": 11,
    "start_time": "2022-03-05T15:43:23.435Z"
   },
   {
    "duration": 9,
    "start_time": "2022-03-05T15:43:28.994Z"
   },
   {
    "duration": 92,
    "start_time": "2022-03-05T15:50:28.845Z"
   },
   {
    "duration": 3,
    "start_time": "2022-03-05T15:51:42.689Z"
   },
   {
    "duration": 289,
    "start_time": "2022-03-05T15:51:42.696Z"
   },
   {
    "duration": 9,
    "start_time": "2022-03-05T15:51:42.987Z"
   },
   {
    "duration": 8,
    "start_time": "2022-03-05T15:51:42.998Z"
   },
   {
    "duration": 15,
    "start_time": "2022-03-05T15:51:43.007Z"
   },
   {
    "duration": 6,
    "start_time": "2022-03-05T15:51:43.023Z"
   },
   {
    "duration": 11,
    "start_time": "2022-03-05T15:51:43.030Z"
   },
   {
    "duration": 12,
    "start_time": "2022-03-05T15:51:43.043Z"
   },
   {
    "duration": 8,
    "start_time": "2022-03-05T15:51:43.057Z"
   },
   {
    "duration": 9,
    "start_time": "2022-03-05T15:51:43.067Z"
   },
   {
    "duration": 46,
    "start_time": "2022-03-05T15:51:43.077Z"
   },
   {
    "duration": 5,
    "start_time": "2022-03-05T15:51:43.125Z"
   },
   {
    "duration": 28,
    "start_time": "2022-03-05T15:51:43.131Z"
   },
   {
    "duration": 23,
    "start_time": "2022-03-05T15:51:43.161Z"
   },
   {
    "duration": 12,
    "start_time": "2022-03-05T15:51:43.186Z"
   },
   {
    "duration": 17,
    "start_time": "2022-03-05T15:51:43.200Z"
   },
   {
    "duration": 17,
    "start_time": "2022-03-05T15:51:43.218Z"
   },
   {
    "duration": 15,
    "start_time": "2022-03-05T15:51:43.237Z"
   },
   {
    "duration": 15,
    "start_time": "2022-03-05T15:51:43.254Z"
   },
   {
    "duration": 29,
    "start_time": "2022-03-05T15:51:43.271Z"
   },
   {
    "duration": 17,
    "start_time": "2022-03-05T15:51:43.302Z"
   },
   {
    "duration": 15,
    "start_time": "2022-03-05T15:51:43.320Z"
   },
   {
    "duration": 13,
    "start_time": "2022-03-05T15:51:43.337Z"
   },
   {
    "duration": 41,
    "start_time": "2022-03-05T15:51:43.354Z"
   },
   {
    "duration": 29,
    "start_time": "2022-03-05T15:51:43.398Z"
   },
   {
    "duration": 29,
    "start_time": "2022-03-05T15:51:43.428Z"
   },
   {
    "duration": 17,
    "start_time": "2022-03-05T15:51:43.459Z"
   },
   {
    "duration": 27,
    "start_time": "2022-03-05T15:51:43.477Z"
   },
   {
    "duration": 57,
    "start_time": "2022-03-05T15:51:43.506Z"
   },
   {
    "duration": 9,
    "start_time": "2022-03-05T15:51:43.565Z"
   },
   {
    "duration": 27,
    "start_time": "2022-03-05T15:51:43.575Z"
   },
   {
    "duration": 40,
    "start_time": "2022-03-05T15:51:43.603Z"
   },
   {
    "duration": 27,
    "start_time": "2022-03-05T15:51:43.645Z"
   },
   {
    "duration": 40,
    "start_time": "2022-03-05T15:51:43.674Z"
   },
   {
    "duration": 8,
    "start_time": "2022-03-05T15:51:43.715Z"
   },
   {
    "duration": 14,
    "start_time": "2022-03-05T15:51:43.725Z"
   },
   {
    "duration": 9,
    "start_time": "2022-03-05T15:51:43.741Z"
   },
   {
    "duration": 21,
    "start_time": "2022-03-05T15:51:43.752Z"
   },
   {
    "duration": 27,
    "start_time": "2022-03-05T15:51:43.775Z"
   },
   {
    "duration": 11,
    "start_time": "2022-03-05T15:51:43.804Z"
   },
   {
    "duration": 11,
    "start_time": "2022-03-05T15:51:43.817Z"
   },
   {
    "duration": 19,
    "start_time": "2022-03-05T15:51:43.829Z"
   },
   {
    "duration": 23,
    "start_time": "2022-03-05T15:51:43.849Z"
   },
   {
    "duration": 11,
    "start_time": "2022-03-05T15:51:43.873Z"
   },
   {
    "duration": 23,
    "start_time": "2022-03-05T15:51:43.885Z"
   },
   {
    "duration": 11,
    "start_time": "2022-03-05T15:51:43.909Z"
   },
   {
    "duration": 5,
    "start_time": "2022-03-05T15:51:43.922Z"
   },
   {
    "duration": 22,
    "start_time": "2022-03-05T15:51:43.929Z"
   },
   {
    "duration": 6,
    "start_time": "2022-03-05T15:51:43.953Z"
   },
   {
    "duration": 40,
    "start_time": "2022-03-05T15:51:43.961Z"
   },
   {
    "duration": 8,
    "start_time": "2022-03-05T15:51:44.003Z"
   },
   {
    "duration": 18,
    "start_time": "2022-03-05T15:51:44.012Z"
   },
   {
    "duration": 639,
    "start_time": "2022-03-05T15:51:44.032Z"
   },
   {
    "duration": 3,
    "start_time": "2022-03-05T15:51:44.673Z"
   },
   {
    "duration": 27,
    "start_time": "2022-03-05T15:51:44.678Z"
   },
   {
    "duration": 6,
    "start_time": "2022-03-05T15:51:44.707Z"
   },
   {
    "duration": 11,
    "start_time": "2022-03-05T15:51:44.715Z"
   },
   {
    "duration": 11,
    "start_time": "2022-03-05T15:51:44.728Z"
   },
   {
    "duration": 9,
    "start_time": "2022-03-05T15:51:44.740Z"
   },
   {
    "duration": 11,
    "start_time": "2022-03-05T15:51:44.751Z"
   },
   {
    "duration": 41,
    "start_time": "2022-03-05T15:51:44.763Z"
   },
   {
    "duration": 11,
    "start_time": "2022-03-05T15:51:44.806Z"
   },
   {
    "duration": 12,
    "start_time": "2022-03-05T15:51:44.818Z"
   },
   {
    "duration": 10,
    "start_time": "2022-03-05T15:51:44.831Z"
   },
   {
    "duration": 12,
    "start_time": "2022-03-05T15:51:44.843Z"
   },
   {
    "duration": 9,
    "start_time": "2022-03-05T15:51:44.857Z"
   },
   {
    "duration": 57,
    "start_time": "2022-03-06T04:12:30.342Z"
   },
   {
    "duration": 547,
    "start_time": "2022-03-06T04:20:40.374Z"
   },
   {
    "duration": 164,
    "start_time": "2022-03-06T04:20:40.923Z"
   },
   {
    "duration": 12,
    "start_time": "2022-03-06T04:20:41.089Z"
   },
   {
    "duration": 9,
    "start_time": "2022-03-06T04:20:41.103Z"
   },
   {
    "duration": 17,
    "start_time": "2022-03-06T04:20:51.778Z"
   },
   {
    "duration": 4059,
    "start_time": "2022-03-06T04:20:56.097Z"
   },
   {
    "duration": 17,
    "start_time": "2022-03-06T04:21:01.802Z"
   },
   {
    "duration": 16,
    "start_time": "2022-03-06T04:22:51.589Z"
   },
   {
    "duration": 3,
    "start_time": "2022-03-06T04:26:47.030Z"
   },
   {
    "duration": 3,
    "start_time": "2022-03-06T04:26:50.921Z"
   },
   {
    "duration": 3,
    "start_time": "2022-03-06T04:26:58.349Z"
   },
   {
    "duration": 3,
    "start_time": "2022-03-06T04:27:03.422Z"
   },
   {
    "duration": 3,
    "start_time": "2022-03-06T04:27:52.160Z"
   },
   {
    "duration": 5,
    "start_time": "2022-03-06T04:28:08.980Z"
   },
   {
    "duration": 22,
    "start_time": "2022-03-06T04:42:28.207Z"
   },
   {
    "duration": 10,
    "start_time": "2022-03-06T04:43:48.304Z"
   },
   {
    "duration": 8,
    "start_time": "2022-03-06T04:43:55.653Z"
   },
   {
    "duration": 21,
    "start_time": "2022-03-06T04:44:12.984Z"
   },
   {
    "duration": 180,
    "start_time": "2022-03-06T04:44:23.393Z"
   },
   {
    "duration": 7,
    "start_time": "2022-03-06T04:44:34.693Z"
   },
   {
    "duration": 3,
    "start_time": "2022-03-06T04:45:46.119Z"
   },
   {
    "duration": 167,
    "start_time": "2022-03-06T04:45:46.131Z"
   },
   {
    "duration": 10,
    "start_time": "2022-03-06T04:45:46.300Z"
   },
   {
    "duration": 12,
    "start_time": "2022-03-06T04:45:46.312Z"
   },
   {
    "duration": 6,
    "start_time": "2022-03-06T04:46:12.289Z"
   },
   {
    "duration": 22,
    "start_time": "2022-03-06T04:46:43.210Z"
   },
   {
    "duration": 6,
    "start_time": "2022-03-06T04:47:04.204Z"
   },
   {
    "duration": 4,
    "start_time": "2022-03-06T04:47:10.717Z"
   },
   {
    "duration": 5,
    "start_time": "2022-03-06T04:47:16.890Z"
   },
   {
    "duration": 4,
    "start_time": "2022-03-06T04:47:23.829Z"
   },
   {
    "duration": 5072,
    "start_time": "2022-03-06T04:47:30.562Z"
   },
   {
    "duration": 20,
    "start_time": "2022-03-06T04:48:00.963Z"
   },
   {
    "duration": 19,
    "start_time": "2022-03-06T04:49:04.021Z"
   },
   {
    "duration": 4511,
    "start_time": "2022-03-06T04:49:10.773Z"
   },
   {
    "duration": 16,
    "start_time": "2022-03-06T04:49:16.686Z"
   },
   {
    "duration": 5,
    "start_time": "2022-03-06T04:54:20.543Z"
   },
   {
    "duration": 5,
    "start_time": "2022-03-06T04:59:58.330Z"
   },
   {
    "duration": 6,
    "start_time": "2022-03-06T05:02:04.051Z"
   },
   {
    "duration": 5,
    "start_time": "2022-03-06T05:02:31.256Z"
   },
   {
    "duration": 6,
    "start_time": "2022-03-06T05:03:12.735Z"
   },
   {
    "duration": 5,
    "start_time": "2022-03-06T05:03:45.942Z"
   },
   {
    "duration": 5,
    "start_time": "2022-03-06T05:03:59.433Z"
   },
   {
    "duration": 7,
    "start_time": "2022-03-06T05:04:11.544Z"
   },
   {
    "duration": 5,
    "start_time": "2022-03-06T05:51:04.209Z"
   },
   {
    "duration": 2,
    "start_time": "2022-03-06T05:51:09.871Z"
   },
   {
    "duration": 219,
    "start_time": "2022-03-06T05:51:09.878Z"
   },
   {
    "duration": 10,
    "start_time": "2022-03-06T05:51:10.099Z"
   },
   {
    "duration": 11,
    "start_time": "2022-03-06T05:51:10.111Z"
   },
   {
    "duration": 25,
    "start_time": "2022-03-06T05:51:10.123Z"
   },
   {
    "duration": 5,
    "start_time": "2022-03-06T05:51:10.150Z"
   },
   {
    "duration": 12,
    "start_time": "2022-03-06T05:51:10.157Z"
   },
   {
    "duration": 6,
    "start_time": "2022-03-06T05:51:10.170Z"
   },
   {
    "duration": 5,
    "start_time": "2022-03-06T05:51:10.178Z"
   },
   {
    "duration": 9,
    "start_time": "2022-03-06T05:51:10.185Z"
   },
   {
    "duration": 7,
    "start_time": "2022-03-06T05:51:10.195Z"
   },
   {
    "duration": 59,
    "start_time": "2022-03-06T05:51:10.203Z"
   },
   {
    "duration": 5,
    "start_time": "2022-03-06T05:51:10.264Z"
   },
   {
    "duration": 8,
    "start_time": "2022-03-06T05:51:10.271Z"
   },
   {
    "duration": 8,
    "start_time": "2022-03-06T05:51:10.280Z"
   },
   {
    "duration": 4,
    "start_time": "2022-03-06T05:51:10.290Z"
   },
   {
    "duration": 5,
    "start_time": "2022-03-06T05:51:10.296Z"
   },
   {
    "duration": 37,
    "start_time": "2022-03-06T05:51:10.302Z"
   },
   {
    "duration": 7,
    "start_time": "2022-03-06T05:51:10.341Z"
   },
   {
    "duration": 9,
    "start_time": "2022-03-06T05:51:10.349Z"
   },
   {
    "duration": 18,
    "start_time": "2022-03-06T05:51:10.359Z"
   },
   {
    "duration": 19,
    "start_time": "2022-03-06T05:51:10.379Z"
   },
   {
    "duration": 46,
    "start_time": "2022-03-06T05:51:10.399Z"
   },
   {
    "duration": 8,
    "start_time": "2022-03-06T05:51:10.448Z"
   },
   {
    "duration": 19,
    "start_time": "2022-03-06T05:51:10.458Z"
   },
   {
    "duration": 7,
    "start_time": "2022-03-06T05:51:10.479Z"
   },
   {
    "duration": 9,
    "start_time": "2022-03-06T05:51:10.488Z"
   },
   {
    "duration": 45,
    "start_time": "2022-03-06T05:51:10.499Z"
   },
   {
    "duration": 20,
    "start_time": "2022-03-06T05:51:10.546Z"
   },
   {
    "duration": 31,
    "start_time": "2022-03-06T05:51:10.568Z"
   },
   {
    "duration": 10,
    "start_time": "2022-03-06T05:51:10.601Z"
   },
   {
    "duration": 26,
    "start_time": "2022-03-06T05:51:10.613Z"
   },
   {
    "duration": 6,
    "start_time": "2022-03-06T05:51:10.641Z"
   },
   {
    "duration": 3,
    "start_time": "2022-03-06T05:51:24.355Z"
   },
   {
    "duration": 165,
    "start_time": "2022-03-06T05:51:24.361Z"
   },
   {
    "duration": 10,
    "start_time": "2022-03-06T05:51:24.528Z"
   },
   {
    "duration": 9,
    "start_time": "2022-03-06T05:51:24.540Z"
   },
   {
    "duration": 18,
    "start_time": "2022-03-06T05:51:24.551Z"
   },
   {
    "duration": 4,
    "start_time": "2022-03-06T05:51:24.571Z"
   },
   {
    "duration": 10,
    "start_time": "2022-03-06T05:51:24.577Z"
   },
   {
    "duration": 5,
    "start_time": "2022-03-06T05:51:24.589Z"
   },
   {
    "duration": 5,
    "start_time": "2022-03-06T05:51:24.596Z"
   },
   {
    "duration": 36,
    "start_time": "2022-03-06T05:51:24.603Z"
   },
   {
    "duration": 5,
    "start_time": "2022-03-06T05:51:24.641Z"
   },
   {
    "duration": 30,
    "start_time": "2022-03-06T05:51:24.647Z"
   },
   {
    "duration": 9,
    "start_time": "2022-03-06T05:51:24.678Z"
   },
   {
    "duration": 7,
    "start_time": "2022-03-06T05:51:24.689Z"
   },
   {
    "duration": 10,
    "start_time": "2022-03-06T05:51:24.698Z"
   },
   {
    "duration": 29,
    "start_time": "2022-03-06T05:51:24.710Z"
   },
   {
    "duration": 7,
    "start_time": "2022-03-06T05:51:24.741Z"
   },
   {
    "duration": 8,
    "start_time": "2022-03-06T05:51:24.750Z"
   },
   {
    "duration": 8,
    "start_time": "2022-03-06T05:51:24.759Z"
   },
   {
    "duration": 7,
    "start_time": "2022-03-06T05:51:24.768Z"
   },
   {
    "duration": 17,
    "start_time": "2022-03-06T05:51:24.777Z"
   },
   {
    "duration": 52,
    "start_time": "2022-03-06T05:51:24.796Z"
   },
   {
    "duration": 16,
    "start_time": "2022-03-06T05:51:24.850Z"
   },
   {
    "duration": 8,
    "start_time": "2022-03-06T05:51:24.869Z"
   },
   {
    "duration": 17,
    "start_time": "2022-03-06T05:51:24.879Z"
   },
   {
    "duration": 10,
    "start_time": "2022-03-06T05:51:24.898Z"
   },
   {
    "duration": 32,
    "start_time": "2022-03-06T05:51:24.910Z"
   },
   {
    "duration": 12,
    "start_time": "2022-03-06T05:51:24.943Z"
   },
   {
    "duration": 25,
    "start_time": "2022-03-06T05:51:24.956Z"
   },
   {
    "duration": 30,
    "start_time": "2022-03-06T05:51:24.983Z"
   },
   {
    "duration": 27,
    "start_time": "2022-03-06T05:51:25.015Z"
   },
   {
    "duration": 5,
    "start_time": "2022-03-06T05:51:28.202Z"
   },
   {
    "duration": 7,
    "start_time": "2022-03-06T05:51:32.423Z"
   },
   {
    "duration": 588,
    "start_time": "2022-03-06T05:52:06.834Z"
   },
   {
    "duration": 172,
    "start_time": "2022-03-06T05:52:08.127Z"
   },
   {
    "duration": 13,
    "start_time": "2022-03-06T05:52:11.591Z"
   },
   {
    "duration": 11,
    "start_time": "2022-03-06T05:52:16.077Z"
   },
   {
    "duration": 18,
    "start_time": "2022-03-06T05:52:19.066Z"
   },
   {
    "duration": 7,
    "start_time": "2022-03-06T05:52:29.166Z"
   },
   {
    "duration": 5,
    "start_time": "2022-03-06T05:52:30.937Z"
   },
   {
    "duration": 6,
    "start_time": "2022-03-06T05:52:37.878Z"
   },
   {
    "duration": 5,
    "start_time": "2022-03-06T05:52:49.666Z"
   },
   {
    "duration": 5,
    "start_time": "2022-03-06T05:52:50.340Z"
   },
   {
    "duration": 4,
    "start_time": "2022-03-06T05:53:22.830Z"
   },
   {
    "duration": 17,
    "start_time": "2022-03-06T05:53:42.704Z"
   },
   {
    "duration": 17,
    "start_time": "2022-03-06T05:53:43.627Z"
   },
   {
    "duration": 5,
    "start_time": "2022-03-06T05:54:17.401Z"
   },
   {
    "duration": 5,
    "start_time": "2022-03-06T05:54:31.340Z"
   },
   {
    "duration": 235,
    "start_time": "2022-03-06T05:54:47.591Z"
   },
   {
    "duration": 5,
    "start_time": "2022-03-06T05:54:51.164Z"
   },
   {
    "duration": 4,
    "start_time": "2022-03-06T05:54:51.973Z"
   },
   {
    "duration": 25,
    "start_time": "2022-03-06T05:56:05.234Z"
   },
   {
    "duration": 4,
    "start_time": "2022-03-06T05:56:27.443Z"
   },
   {
    "duration": 528,
    "start_time": "2022-03-06T05:57:05.876Z"
   },
   {
    "duration": 296,
    "start_time": "2022-03-06T05:57:06.675Z"
   },
   {
    "duration": 4,
    "start_time": "2022-03-06T05:57:15.688Z"
   },
   {
    "duration": 26,
    "start_time": "2022-03-06T05:57:22.904Z"
   },
   {
    "duration": 23,
    "start_time": "2022-03-06T05:57:38.676Z"
   },
   {
    "duration": 3,
    "start_time": "2022-03-06T05:58:53.466Z"
   },
   {
    "duration": 171,
    "start_time": "2022-03-06T05:58:53.472Z"
   },
   {
    "duration": 11,
    "start_time": "2022-03-06T05:58:53.644Z"
   },
   {
    "duration": 8,
    "start_time": "2022-03-06T05:58:53.657Z"
   },
   {
    "duration": 16,
    "start_time": "2022-03-06T05:58:53.667Z"
   },
   {
    "duration": 5,
    "start_time": "2022-03-06T05:58:53.684Z"
   },
   {
    "duration": 10,
    "start_time": "2022-03-06T05:58:53.690Z"
   },
   {
    "duration": 4,
    "start_time": "2022-03-06T05:58:53.702Z"
   },
   {
    "duration": 10,
    "start_time": "2022-03-06T05:58:53.738Z"
   },
   {
    "duration": 5,
    "start_time": "2022-03-06T05:58:53.751Z"
   },
   {
    "duration": 5,
    "start_time": "2022-03-06T05:58:53.758Z"
   },
   {
    "duration": 29,
    "start_time": "2022-03-06T05:58:53.764Z"
   },
   {
    "duration": 5,
    "start_time": "2022-03-06T05:58:53.795Z"
   },
   {
    "duration": 37,
    "start_time": "2022-03-06T05:58:53.801Z"
   },
   {
    "duration": 6,
    "start_time": "2022-03-06T05:58:53.840Z"
   },
   {
    "duration": 9,
    "start_time": "2022-03-06T05:58:53.847Z"
   },
   {
    "duration": 7,
    "start_time": "2022-03-06T05:58:53.857Z"
   },
   {
    "duration": 8,
    "start_time": "2022-03-06T05:58:53.866Z"
   },
   {
    "duration": 8,
    "start_time": "2022-03-06T05:58:53.875Z"
   },
   {
    "duration": 7,
    "start_time": "2022-03-06T05:58:53.884Z"
   },
   {
    "duration": 18,
    "start_time": "2022-03-06T05:58:53.892Z"
   },
   {
    "duration": 39,
    "start_time": "2022-03-06T05:58:53.911Z"
   },
   {
    "duration": 16,
    "start_time": "2022-03-06T05:58:53.951Z"
   },
   {
    "duration": 6,
    "start_time": "2022-03-06T05:58:53.970Z"
   },
   {
    "duration": 20,
    "start_time": "2022-03-06T05:58:53.978Z"
   },
   {
    "duration": 10,
    "start_time": "2022-03-06T05:58:53.999Z"
   },
   {
    "duration": 7,
    "start_time": "2022-03-06T05:58:54.038Z"
   },
   {
    "duration": 9,
    "start_time": "2022-03-06T05:58:54.047Z"
   },
   {
    "duration": 19,
    "start_time": "2022-03-06T05:58:54.057Z"
   },
   {
    "duration": 30,
    "start_time": "2022-03-06T05:58:54.078Z"
   },
   {
    "duration": 36,
    "start_time": "2022-03-06T05:58:54.110Z"
   },
   {
    "duration": 5,
    "start_time": "2022-03-06T05:58:54.148Z"
   },
   {
    "duration": 5,
    "start_time": "2022-03-06T05:58:54.154Z"
   },
   {
    "duration": 23,
    "start_time": "2022-03-06T06:02:12.902Z"
   },
   {
    "duration": 17,
    "start_time": "2022-03-06T06:02:41.489Z"
   },
   {
    "duration": 13,
    "start_time": "2022-03-06T06:03:12.308Z"
   },
   {
    "duration": 2,
    "start_time": "2022-03-06T06:09:23.130Z"
   },
   {
    "duration": 172,
    "start_time": "2022-03-06T06:09:23.136Z"
   },
   {
    "duration": 10,
    "start_time": "2022-03-06T06:09:23.310Z"
   },
   {
    "duration": 17,
    "start_time": "2022-03-06T06:09:23.322Z"
   },
   {
    "duration": 18,
    "start_time": "2022-03-06T06:09:23.341Z"
   },
   {
    "duration": 5,
    "start_time": "2022-03-06T06:09:23.361Z"
   },
   {
    "duration": 11,
    "start_time": "2022-03-06T06:09:23.368Z"
   },
   {
    "duration": 6,
    "start_time": "2022-03-06T06:09:23.380Z"
   },
   {
    "duration": 5,
    "start_time": "2022-03-06T06:09:23.389Z"
   },
   {
    "duration": 43,
    "start_time": "2022-03-06T06:09:23.396Z"
   },
   {
    "duration": 5,
    "start_time": "2022-03-06T06:09:23.441Z"
   },
   {
    "duration": 30,
    "start_time": "2022-03-06T06:09:23.448Z"
   },
   {
    "duration": 6,
    "start_time": "2022-03-06T06:09:23.479Z"
   },
   {
    "duration": 6,
    "start_time": "2022-03-06T06:09:23.486Z"
   },
   {
    "duration": 46,
    "start_time": "2022-03-06T06:09:23.493Z"
   },
   {
    "duration": 4,
    "start_time": "2022-03-06T06:09:23.540Z"
   },
   {
    "duration": 5,
    "start_time": "2022-03-06T06:09:23.546Z"
   },
   {
    "duration": 9,
    "start_time": "2022-03-06T06:09:23.553Z"
   },
   {
    "duration": 14,
    "start_time": "2022-03-06T06:09:23.563Z"
   },
   {
    "duration": 7,
    "start_time": "2022-03-06T06:09:23.578Z"
   },
   {
    "duration": 18,
    "start_time": "2022-03-06T06:09:23.587Z"
   },
   {
    "duration": 41,
    "start_time": "2022-03-06T06:09:23.607Z"
   },
   {
    "duration": 14,
    "start_time": "2022-03-06T06:09:23.650Z"
   },
   {
    "duration": 7,
    "start_time": "2022-03-06T06:09:23.668Z"
   },
   {
    "duration": 21,
    "start_time": "2022-03-06T06:09:23.677Z"
   },
   {
    "duration": 15,
    "start_time": "2022-03-06T06:09:23.699Z"
   },
   {
    "duration": 26,
    "start_time": "2022-03-06T06:09:23.716Z"
   },
   {
    "duration": 8,
    "start_time": "2022-03-06T06:09:23.744Z"
   },
   {
    "duration": 18,
    "start_time": "2022-03-06T06:09:23.754Z"
   },
   {
    "duration": 30,
    "start_time": "2022-03-06T06:09:23.774Z"
   },
   {
    "duration": 32,
    "start_time": "2022-03-06T06:09:23.806Z"
   },
   {
    "duration": 10,
    "start_time": "2022-03-06T06:09:23.840Z"
   },
   {
    "duration": 8,
    "start_time": "2022-03-06T06:09:23.851Z"
   },
   {
    "duration": 7,
    "start_time": "2022-03-06T06:09:23.861Z"
   },
   {
    "duration": 37,
    "start_time": "2022-03-06T06:09:23.869Z"
   },
   {
    "duration": 7,
    "start_time": "2022-03-06T06:09:23.907Z"
   },
   {
    "duration": 24,
    "start_time": "2022-03-06T06:09:23.915Z"
   },
   {
    "duration": 9,
    "start_time": "2022-03-06T06:09:23.940Z"
   },
   {
    "duration": 11,
    "start_time": "2022-03-06T06:09:23.951Z"
   },
   {
    "duration": 5,
    "start_time": "2022-03-06T06:09:23.963Z"
   },
   {
    "duration": 11,
    "start_time": "2022-03-06T06:09:23.970Z"
   },
   {
    "duration": 9,
    "start_time": "2022-03-06T06:09:23.983Z"
   },
   {
    "duration": 8,
    "start_time": "2022-03-06T06:09:23.993Z"
   },
   {
    "duration": 10,
    "start_time": "2022-03-06T06:09:24.037Z"
   },
   {
    "duration": 9,
    "start_time": "2022-03-06T06:09:24.048Z"
   },
   {
    "duration": 11,
    "start_time": "2022-03-06T06:09:24.058Z"
   },
   {
    "duration": 11,
    "start_time": "2022-03-06T06:09:24.070Z"
   },
   {
    "duration": 11,
    "start_time": "2022-03-06T06:09:24.083Z"
   },
   {
    "duration": 46,
    "start_time": "2022-03-06T06:09:24.096Z"
   },
   {
    "duration": 7,
    "start_time": "2022-03-06T06:09:24.144Z"
   },
   {
    "duration": 12,
    "start_time": "2022-03-06T06:09:24.153Z"
   },
   {
    "duration": 7,
    "start_time": "2022-03-06T06:09:24.167Z"
   },
   {
    "duration": 4,
    "start_time": "2022-03-06T06:09:24.176Z"
   },
   {
    "duration": 685,
    "start_time": "2022-03-06T06:09:24.182Z"
   },
   {
    "duration": 3,
    "start_time": "2022-03-06T06:09:24.869Z"
   },
   {
    "duration": 24,
    "start_time": "2022-03-06T06:09:24.874Z"
   },
   {
    "duration": 7,
    "start_time": "2022-03-06T06:09:24.900Z"
   },
   {
    "duration": 30,
    "start_time": "2022-03-06T06:09:24.909Z"
   },
   {
    "duration": 12,
    "start_time": "2022-03-06T06:09:24.941Z"
   },
   {
    "duration": 10,
    "start_time": "2022-03-06T06:10:12.805Z"
   },
   {
    "duration": 15,
    "start_time": "2022-03-06T06:10:19.987Z"
   },
   {
    "duration": 608,
    "start_time": "2022-03-06T06:27:35.748Z"
   },
   {
    "duration": 175,
    "start_time": "2022-03-06T06:27:36.358Z"
   },
   {
    "duration": 12,
    "start_time": "2022-03-06T06:27:36.535Z"
   },
   {
    "duration": 10,
    "start_time": "2022-03-06T06:27:36.550Z"
   },
   {
    "duration": 18,
    "start_time": "2022-03-06T06:27:36.562Z"
   },
   {
    "duration": 6,
    "start_time": "2022-03-06T06:27:36.581Z"
   },
   {
    "duration": 10,
    "start_time": "2022-03-06T06:27:36.588Z"
   },
   {
    "duration": 4,
    "start_time": "2022-03-06T06:27:36.601Z"
   },
   {
    "duration": 32,
    "start_time": "2022-03-06T06:27:36.608Z"
   },
   {
    "duration": 5,
    "start_time": "2022-03-06T06:27:36.642Z"
   },
   {
    "duration": 13,
    "start_time": "2022-03-06T06:27:36.648Z"
   },
   {
    "duration": 29,
    "start_time": "2022-03-06T06:27:36.662Z"
   },
   {
    "duration": 8,
    "start_time": "2022-03-06T06:27:36.693Z"
   },
   {
    "duration": 37,
    "start_time": "2022-03-06T06:27:36.703Z"
   },
   {
    "duration": 7,
    "start_time": "2022-03-06T06:27:36.741Z"
   },
   {
    "duration": 8,
    "start_time": "2022-03-06T06:27:36.750Z"
   },
   {
    "duration": 5,
    "start_time": "2022-03-06T06:27:36.760Z"
   },
   {
    "duration": 14,
    "start_time": "2022-03-06T06:27:36.766Z"
   },
   {
    "duration": 8,
    "start_time": "2022-03-06T06:27:36.782Z"
   },
   {
    "duration": 15,
    "start_time": "2022-03-06T06:27:36.791Z"
   },
   {
    "duration": 40,
    "start_time": "2022-03-06T06:27:36.808Z"
   },
   {
    "duration": 18,
    "start_time": "2022-03-06T06:27:36.850Z"
   },
   {
    "duration": 16,
    "start_time": "2022-03-06T06:27:36.872Z"
   },
   {
    "duration": 8,
    "start_time": "2022-03-06T06:27:36.890Z"
   },
   {
    "duration": 48,
    "start_time": "2022-03-06T06:27:36.899Z"
   },
   {
    "duration": 10,
    "start_time": "2022-03-06T06:27:36.948Z"
   },
   {
    "duration": 11,
    "start_time": "2022-03-06T06:27:36.960Z"
   },
   {
    "duration": 9,
    "start_time": "2022-03-06T06:27:36.973Z"
   },
   {
    "duration": 21,
    "start_time": "2022-03-06T06:27:36.984Z"
   },
   {
    "duration": 60,
    "start_time": "2022-03-06T06:27:37.007Z"
   },
   {
    "duration": 10,
    "start_time": "2022-03-06T06:27:37.069Z"
   },
   {
    "duration": 5,
    "start_time": "2022-03-06T06:27:37.081Z"
   },
   {
    "duration": 10,
    "start_time": "2022-03-06T06:27:37.087Z"
   },
   {
    "duration": 9,
    "start_time": "2022-03-06T06:27:37.098Z"
   },
   {
    "duration": 39,
    "start_time": "2022-03-06T06:27:37.109Z"
   },
   {
    "duration": 7,
    "start_time": "2022-03-06T06:27:37.149Z"
   },
   {
    "duration": 13,
    "start_time": "2022-03-06T06:27:37.158Z"
   },
   {
    "duration": 9,
    "start_time": "2022-03-06T06:27:37.174Z"
   },
   {
    "duration": 13,
    "start_time": "2022-03-06T06:27:37.185Z"
   },
   {
    "duration": 40,
    "start_time": "2022-03-06T06:27:37.200Z"
   },
   {
    "duration": 10,
    "start_time": "2022-03-06T06:27:37.242Z"
   },
   {
    "duration": 13,
    "start_time": "2022-03-06T06:27:37.254Z"
   },
   {
    "duration": 13,
    "start_time": "2022-03-06T06:27:37.268Z"
   },
   {
    "duration": 12,
    "start_time": "2022-03-06T06:27:37.283Z"
   },
   {
    "duration": 14,
    "start_time": "2022-03-06T06:27:37.297Z"
   },
   {
    "duration": 33,
    "start_time": "2022-03-06T06:27:37.313Z"
   },
   {
    "duration": 12,
    "start_time": "2022-03-06T06:27:37.348Z"
   },
   {
    "duration": 5,
    "start_time": "2022-03-06T06:27:37.361Z"
   },
   {
    "duration": 20,
    "start_time": "2022-03-06T06:27:37.367Z"
   },
   {
    "duration": 8,
    "start_time": "2022-03-06T06:27:37.389Z"
   },
   {
    "duration": 44,
    "start_time": "2022-03-06T06:27:37.398Z"
   },
   {
    "duration": 7,
    "start_time": "2022-03-06T06:27:37.444Z"
   },
   {
    "duration": 6,
    "start_time": "2022-03-06T06:27:37.453Z"
   },
   {
    "duration": 669,
    "start_time": "2022-03-06T06:27:37.460Z"
   },
   {
    "duration": 7,
    "start_time": "2022-03-06T06:27:38.131Z"
   },
   {
    "duration": 24,
    "start_time": "2022-03-06T06:27:38.140Z"
   },
   {
    "duration": 8,
    "start_time": "2022-03-06T06:27:38.165Z"
   },
   {
    "duration": 15,
    "start_time": "2022-03-06T06:27:38.174Z"
   },
   {
    "duration": 12,
    "start_time": "2022-03-06T06:27:38.190Z"
   },
   {
    "duration": 37,
    "start_time": "2022-03-06T06:27:38.204Z"
   },
   {
    "duration": 11,
    "start_time": "2022-03-06T06:27:38.243Z"
   },
   {
    "duration": 16,
    "start_time": "2022-03-06T06:27:38.256Z"
   },
   {
    "duration": 16,
    "start_time": "2022-03-06T06:27:38.274Z"
   },
   {
    "duration": 12,
    "start_time": "2022-03-06T06:27:38.292Z"
   },
   {
    "duration": 11,
    "start_time": "2022-03-06T06:27:38.339Z"
   },
   {
    "duration": 22,
    "start_time": "2022-03-06T06:27:38.352Z"
   },
   {
    "duration": 10,
    "start_time": "2022-03-06T06:27:38.376Z"
   },
   {
    "duration": 6,
    "start_time": "2022-03-06T06:31:37.510Z"
   },
   {
    "duration": 16,
    "start_time": "2022-03-06T06:32:09.018Z"
   },
   {
    "duration": 13,
    "start_time": "2022-03-06T06:32:19.139Z"
   },
   {
    "duration": 643,
    "start_time": "2022-03-06T06:32:33.217Z"
   },
   {
    "duration": 173,
    "start_time": "2022-03-06T06:32:33.862Z"
   },
   {
    "duration": 12,
    "start_time": "2022-03-06T06:32:34.037Z"
   },
   {
    "duration": 9,
    "start_time": "2022-03-06T06:32:34.051Z"
   },
   {
    "duration": 17,
    "start_time": "2022-03-06T06:32:34.061Z"
   },
   {
    "duration": 6,
    "start_time": "2022-03-06T06:32:34.080Z"
   },
   {
    "duration": 22,
    "start_time": "2022-03-06T06:32:34.087Z"
   },
   {
    "duration": 14,
    "start_time": "2022-03-06T06:32:34.112Z"
   },
   {
    "duration": 13,
    "start_time": "2022-03-06T06:32:34.128Z"
   },
   {
    "duration": 7,
    "start_time": "2022-03-06T06:32:34.143Z"
   },
   {
    "duration": 5,
    "start_time": "2022-03-06T06:32:34.152Z"
   },
   {
    "duration": 29,
    "start_time": "2022-03-06T06:32:34.159Z"
   },
   {
    "duration": 7,
    "start_time": "2022-03-06T06:32:34.189Z"
   },
   {
    "duration": 42,
    "start_time": "2022-03-06T06:32:34.197Z"
   },
   {
    "duration": 7,
    "start_time": "2022-03-06T06:32:34.242Z"
   },
   {
    "duration": 6,
    "start_time": "2022-03-06T06:32:34.251Z"
   },
   {
    "duration": 6,
    "start_time": "2022-03-06T06:32:34.259Z"
   },
   {
    "duration": 8,
    "start_time": "2022-03-06T06:32:34.267Z"
   },
   {
    "duration": 14,
    "start_time": "2022-03-06T06:32:34.277Z"
   },
   {
    "duration": 10,
    "start_time": "2022-03-06T06:32:34.293Z"
   },
   {
    "duration": 44,
    "start_time": "2022-03-06T06:32:34.305Z"
   },
   {
    "duration": 19,
    "start_time": "2022-03-06T06:32:34.351Z"
   },
   {
    "duration": 16,
    "start_time": "2022-03-06T06:32:34.374Z"
   },
   {
    "duration": 7,
    "start_time": "2022-03-06T06:32:34.393Z"
   },
   {
    "duration": 48,
    "start_time": "2022-03-06T06:32:34.402Z"
   },
   {
    "duration": 9,
    "start_time": "2022-03-06T06:32:34.452Z"
   },
   {
    "duration": 9,
    "start_time": "2022-03-06T06:32:34.463Z"
   },
   {
    "duration": 10,
    "start_time": "2022-03-06T06:32:34.473Z"
   },
   {
    "duration": 19,
    "start_time": "2022-03-06T06:32:34.484Z"
   },
   {
    "duration": 62,
    "start_time": "2022-03-06T06:32:34.505Z"
   },
   {
    "duration": 10,
    "start_time": "2022-03-06T06:32:34.569Z"
   },
   {
    "duration": 10,
    "start_time": "2022-03-06T06:32:34.581Z"
   },
   {
    "duration": 4,
    "start_time": "2022-03-06T06:32:34.593Z"
   },
   {
    "duration": 8,
    "start_time": "2022-03-06T06:32:34.599Z"
   },
   {
    "duration": 48,
    "start_time": "2022-03-06T06:32:34.609Z"
   },
   {
    "duration": 8,
    "start_time": "2022-03-06T06:32:34.659Z"
   },
   {
    "duration": 15,
    "start_time": "2022-03-06T06:32:34.669Z"
   },
   {
    "duration": 10,
    "start_time": "2022-03-06T06:32:34.685Z"
   },
   {
    "duration": 45,
    "start_time": "2022-03-06T06:32:34.697Z"
   },
   {
    "duration": 6,
    "start_time": "2022-03-06T06:32:34.744Z"
   },
   {
    "duration": 12,
    "start_time": "2022-03-06T06:32:34.752Z"
   },
   {
    "duration": 10,
    "start_time": "2022-03-06T06:32:34.766Z"
   },
   {
    "duration": 9,
    "start_time": "2022-03-06T06:32:34.777Z"
   },
   {
    "duration": 50,
    "start_time": "2022-03-06T06:32:34.788Z"
   },
   {
    "duration": 10,
    "start_time": "2022-03-06T06:32:34.839Z"
   },
   {
    "duration": 14,
    "start_time": "2022-03-06T06:32:34.851Z"
   },
   {
    "duration": 12,
    "start_time": "2022-03-06T06:32:34.867Z"
   },
   {
    "duration": 3,
    "start_time": "2022-03-06T06:32:34.881Z"
   },
   {
    "duration": 24,
    "start_time": "2022-03-06T06:32:34.885Z"
   },
   {
    "duration": 30,
    "start_time": "2022-03-06T06:32:34.911Z"
   },
   {
    "duration": 13,
    "start_time": "2022-03-06T06:32:34.942Z"
   },
   {
    "duration": 7,
    "start_time": "2022-03-06T06:32:34.957Z"
   },
   {
    "duration": 7,
    "start_time": "2022-03-06T06:32:34.966Z"
   },
   {
    "duration": 670,
    "start_time": "2022-03-06T06:32:34.975Z"
   },
   {
    "duration": 2,
    "start_time": "2022-03-06T06:32:35.647Z"
   },
   {
    "duration": 42,
    "start_time": "2022-03-06T06:32:35.651Z"
   },
   {
    "duration": 15,
    "start_time": "2022-03-06T06:32:35.694Z"
   },
   {
    "duration": 27,
    "start_time": "2022-03-06T06:32:35.710Z"
   },
   {
    "duration": 12,
    "start_time": "2022-03-06T06:32:35.739Z"
   },
   {
    "duration": 30,
    "start_time": "2022-03-06T06:32:35.752Z"
   },
   {
    "duration": 12,
    "start_time": "2022-03-06T06:32:35.784Z"
   },
   {
    "duration": 17,
    "start_time": "2022-03-06T06:32:35.798Z"
   },
   {
    "duration": 37,
    "start_time": "2022-03-06T06:32:35.816Z"
   },
   {
    "duration": 25,
    "start_time": "2022-03-06T06:32:35.855Z"
   },
   {
    "duration": 32,
    "start_time": "2022-03-06T06:32:35.881Z"
   },
   {
    "duration": 14,
    "start_time": "2022-03-06T06:32:35.915Z"
   },
   {
    "duration": 30,
    "start_time": "2022-03-06T06:32:35.931Z"
   },
   {
    "duration": 6,
    "start_time": "2022-03-06T06:34:02.596Z"
   },
   {
    "duration": 646,
    "start_time": "2022-03-06T06:34:32.939Z"
   },
   {
    "duration": 168,
    "start_time": "2022-03-06T06:34:33.587Z"
   },
   {
    "duration": 11,
    "start_time": "2022-03-06T06:34:33.758Z"
   },
   {
    "duration": 12,
    "start_time": "2022-03-06T06:34:33.771Z"
   },
   {
    "duration": 23,
    "start_time": "2022-03-06T06:34:33.784Z"
   },
   {
    "duration": 5,
    "start_time": "2022-03-06T06:34:33.808Z"
   },
   {
    "duration": 27,
    "start_time": "2022-03-06T06:34:33.815Z"
   },
   {
    "duration": 9,
    "start_time": "2022-03-06T06:34:33.845Z"
   },
   {
    "duration": 14,
    "start_time": "2022-03-06T06:34:33.856Z"
   },
   {
    "duration": 10,
    "start_time": "2022-03-06T06:34:33.872Z"
   },
   {
    "duration": 7,
    "start_time": "2022-03-06T06:34:33.884Z"
   },
   {
    "duration": 52,
    "start_time": "2022-03-06T06:34:33.893Z"
   },
   {
    "duration": 6,
    "start_time": "2022-03-06T06:34:33.947Z"
   },
   {
    "duration": 10,
    "start_time": "2022-03-06T06:34:33.954Z"
   },
   {
    "duration": 10,
    "start_time": "2022-03-06T06:34:33.966Z"
   },
   {
    "duration": 3,
    "start_time": "2022-03-06T06:34:33.978Z"
   },
   {
    "duration": 6,
    "start_time": "2022-03-06T06:34:33.983Z"
   },
   {
    "duration": 9,
    "start_time": "2022-03-06T06:34:33.991Z"
   },
   {
    "duration": 37,
    "start_time": "2022-03-06T06:34:34.002Z"
   },
   {
    "duration": 8,
    "start_time": "2022-03-06T06:34:34.041Z"
   },
   {
    "duration": 19,
    "start_time": "2022-03-06T06:34:34.051Z"
   },
   {
    "duration": 19,
    "start_time": "2022-03-06T06:34:34.072Z"
   },
   {
    "duration": 45,
    "start_time": "2022-03-06T06:34:34.094Z"
   },
   {
    "duration": 7,
    "start_time": "2022-03-06T06:34:34.142Z"
   },
   {
    "duration": 19,
    "start_time": "2022-03-06T06:34:34.151Z"
   },
   {
    "duration": 8,
    "start_time": "2022-03-06T06:34:34.171Z"
   },
   {
    "duration": 11,
    "start_time": "2022-03-06T06:34:34.180Z"
   },
   {
    "duration": 9,
    "start_time": "2022-03-06T06:34:34.193Z"
   },
   {
    "duration": 48,
    "start_time": "2022-03-06T06:34:34.203Z"
   },
   {
    "duration": 33,
    "start_time": "2022-03-06T06:34:34.253Z"
   },
   {
    "duration": 12,
    "start_time": "2022-03-06T06:34:34.288Z"
   },
   {
    "duration": 36,
    "start_time": "2022-03-06T06:34:34.302Z"
   },
   {
    "duration": 5,
    "start_time": "2022-03-06T06:34:34.340Z"
   },
   {
    "duration": 6,
    "start_time": "2022-03-06T06:34:34.347Z"
   },
   {
    "duration": 23,
    "start_time": "2022-03-06T06:34:34.355Z"
   },
   {
    "duration": 9,
    "start_time": "2022-03-06T06:34:34.380Z"
   },
   {
    "duration": 52,
    "start_time": "2022-03-06T06:34:34.390Z"
   },
   {
    "duration": 11,
    "start_time": "2022-03-06T06:34:34.445Z"
   },
   {
    "duration": 12,
    "start_time": "2022-03-06T06:34:34.458Z"
   },
   {
    "duration": 7,
    "start_time": "2022-03-06T06:34:34.473Z"
   },
   {
    "duration": 12,
    "start_time": "2022-03-06T06:34:34.482Z"
   },
   {
    "duration": 53,
    "start_time": "2022-03-06T06:34:34.495Z"
   },
   {
    "duration": 7,
    "start_time": "2022-03-06T06:34:34.549Z"
   },
   {
    "duration": 10,
    "start_time": "2022-03-06T06:34:34.557Z"
   },
   {
    "duration": 9,
    "start_time": "2022-03-06T06:34:34.569Z"
   },
   {
    "duration": 10,
    "start_time": "2022-03-06T06:34:34.580Z"
   },
   {
    "duration": 49,
    "start_time": "2022-03-06T06:34:34.592Z"
   },
   {
    "duration": 5,
    "start_time": "2022-03-06T06:34:34.643Z"
   },
   {
    "duration": 19,
    "start_time": "2022-03-06T06:34:34.650Z"
   },
   {
    "duration": 9,
    "start_time": "2022-03-06T06:34:34.671Z"
   },
   {
    "duration": 12,
    "start_time": "2022-03-06T06:34:34.682Z"
   },
   {
    "duration": 7,
    "start_time": "2022-03-06T06:34:34.696Z"
   },
   {
    "duration": 35,
    "start_time": "2022-03-06T06:34:34.705Z"
   },
   {
    "duration": 676,
    "start_time": "2022-03-06T06:34:34.742Z"
   },
   {
    "duration": 3,
    "start_time": "2022-03-06T06:34:35.419Z"
   },
   {
    "duration": 26,
    "start_time": "2022-03-06T06:34:35.424Z"
   },
   {
    "duration": 7,
    "start_time": "2022-03-06T06:34:35.451Z"
   },
   {
    "duration": 16,
    "start_time": "2022-03-06T06:34:35.460Z"
   },
   {
    "duration": 13,
    "start_time": "2022-03-06T06:34:35.478Z"
   },
   {
    "duration": 12,
    "start_time": "2022-03-06T06:34:35.492Z"
   },
   {
    "duration": 13,
    "start_time": "2022-03-06T06:34:35.538Z"
   },
   {
    "duration": 12,
    "start_time": "2022-03-06T06:34:35.553Z"
   },
   {
    "duration": 20,
    "start_time": "2022-03-06T06:34:35.566Z"
   },
   {
    "duration": 14,
    "start_time": "2022-03-06T06:34:35.587Z"
   },
   {
    "duration": 42,
    "start_time": "2022-03-06T06:34:35.603Z"
   },
   {
    "duration": 12,
    "start_time": "2022-03-06T06:34:35.647Z"
   },
   {
    "duration": 15,
    "start_time": "2022-03-06T06:34:35.661Z"
   },
   {
    "duration": 443,
    "start_time": "2022-03-06T10:40:54.034Z"
   },
   {
    "duration": 788,
    "start_time": "2022-03-06T10:40:59.727Z"
   },
   {
    "duration": 308,
    "start_time": "2022-03-06T10:41:00.518Z"
   },
   {
    "duration": 17,
    "start_time": "2022-03-06T10:41:00.830Z"
   },
   {
    "duration": 15,
    "start_time": "2022-03-06T10:41:00.850Z"
   },
   {
    "duration": 27,
    "start_time": "2022-03-06T10:41:00.868Z"
   },
   {
    "duration": 7,
    "start_time": "2022-03-06T10:41:00.933Z"
   },
   {
    "duration": 11,
    "start_time": "2022-03-06T10:41:00.942Z"
   },
   {
    "duration": 9,
    "start_time": "2022-03-06T10:41:00.956Z"
   },
   {
    "duration": 9,
    "start_time": "2022-03-06T10:41:00.967Z"
   },
   {
    "duration": 13,
    "start_time": "2022-03-06T10:41:00.978Z"
   },
   {
    "duration": 7,
    "start_time": "2022-03-06T10:41:01.033Z"
   },
   {
    "duration": 45,
    "start_time": "2022-03-06T10:41:01.042Z"
   },
   {
    "duration": 8,
    "start_time": "2022-03-06T10:41:01.089Z"
   },
   {
    "duration": 40,
    "start_time": "2022-03-06T10:41:01.099Z"
   },
   {
    "duration": 13,
    "start_time": "2022-03-06T10:41:01.141Z"
   },
   {
    "duration": 8,
    "start_time": "2022-03-06T10:41:06.585Z"
   },
   {
    "duration": 8,
    "start_time": "2022-03-06T10:53:49.365Z"
   },
   {
    "duration": 5,
    "start_time": "2022-03-06T10:54:25.948Z"
   },
   {
    "duration": 9,
    "start_time": "2022-03-06T10:54:59.430Z"
   },
   {
    "duration": 17,
    "start_time": "2022-03-06T10:55:17.413Z"
   },
   {
    "duration": 5,
    "start_time": "2022-03-06T10:55:36.526Z"
   },
   {
    "duration": 8,
    "start_time": "2022-03-06T10:55:40.781Z"
   },
   {
    "duration": 9,
    "start_time": "2022-03-06T10:56:53.503Z"
   },
   {
    "duration": 362,
    "start_time": "2022-03-06T10:57:24.597Z"
   },
   {
    "duration": 8,
    "start_time": "2022-03-06T10:57:45.302Z"
   },
   {
    "duration": 6,
    "start_time": "2022-03-06T10:58:09.935Z"
   },
   {
    "duration": 320,
    "start_time": "2022-03-06T10:58:22.719Z"
   },
   {
    "duration": 8,
    "start_time": "2022-03-06T10:58:54.535Z"
   },
   {
    "duration": 5,
    "start_time": "2022-03-06T11:00:52.407Z"
   },
   {
    "duration": 8,
    "start_time": "2022-03-06T11:00:53.598Z"
   },
   {
    "duration": 8,
    "start_time": "2022-03-06T11:00:55.888Z"
   },
   {
    "duration": 10,
    "start_time": "2022-03-06T11:00:58.679Z"
   },
   {
    "duration": 24,
    "start_time": "2022-03-06T11:01:01.783Z"
   },
   {
    "duration": 29,
    "start_time": "2022-03-06T11:01:04.056Z"
   },
   {
    "duration": 23,
    "start_time": "2022-03-06T11:01:11.880Z"
   },
   {
    "duration": 9,
    "start_time": "2022-03-06T11:01:15.952Z"
   },
   {
    "duration": 25,
    "start_time": "2022-03-06T11:01:18.583Z"
   },
   {
    "duration": 10,
    "start_time": "2022-03-06T11:01:21.222Z"
   },
   {
    "duration": 10,
    "start_time": "2022-03-06T11:01:27.522Z"
   },
   {
    "duration": 10,
    "start_time": "2022-03-06T11:01:33.112Z"
   },
   {
    "duration": 24,
    "start_time": "2022-03-06T11:01:39.352Z"
   },
   {
    "duration": 41,
    "start_time": "2022-03-06T11:01:41.735Z"
   },
   {
    "duration": 14,
    "start_time": "2022-03-06T11:01:44.256Z"
   },
   {
    "duration": 7,
    "start_time": "2022-03-06T11:01:57.431Z"
   },
   {
    "duration": 5,
    "start_time": "2022-03-06T11:02:21.585Z"
   },
   {
    "duration": 7,
    "start_time": "2022-03-06T11:02:25.704Z"
   },
   {
    "duration": 7,
    "start_time": "2022-03-06T11:02:28.264Z"
   },
   {
    "duration": 7,
    "start_time": "2022-03-06T11:02:33.616Z"
   },
   {
    "duration": 6,
    "start_time": "2022-03-06T11:02:35.216Z"
   },
   {
    "duration": 33,
    "start_time": "2022-03-06T11:02:39.735Z"
   },
   {
    "duration": 11,
    "start_time": "2022-03-06T11:02:52.931Z"
   },
   {
    "duration": 21,
    "start_time": "2022-03-06T11:03:40.265Z"
   },
   {
    "duration": 15,
    "start_time": "2022-03-06T11:04:39.249Z"
   },
   {
    "duration": 16,
    "start_time": "2022-03-06T11:05:04.219Z"
   },
   {
    "duration": 15,
    "start_time": "2022-03-06T11:05:19.665Z"
   },
   {
    "duration": 11,
    "start_time": "2022-03-06T11:05:25.361Z"
   },
   {
    "duration": 15,
    "start_time": "2022-03-06T11:05:34.185Z"
   },
   {
    "duration": 15,
    "start_time": "2022-03-06T11:05:39.889Z"
   },
   {
    "duration": 9,
    "start_time": "2022-03-06T11:05:42.273Z"
   },
   {
    "duration": 12,
    "start_time": "2022-03-06T11:05:48.953Z"
   },
   {
    "duration": 14,
    "start_time": "2022-03-06T11:05:52.866Z"
   },
   {
    "duration": 13,
    "start_time": "2022-03-06T11:05:55.929Z"
   },
   {
    "duration": 18,
    "start_time": "2022-03-06T11:06:02.953Z"
   },
   {
    "duration": 6,
    "start_time": "2022-03-06T11:06:16.090Z"
   },
   {
    "duration": 28,
    "start_time": "2022-03-06T11:06:18.882Z"
   },
   {
    "duration": 13,
    "start_time": "2022-03-06T11:06:22.681Z"
   },
   {
    "duration": 11,
    "start_time": "2022-03-06T11:07:00.729Z"
   },
   {
    "duration": 19,
    "start_time": "2022-03-06T11:07:05.745Z"
   },
   {
    "duration": 10,
    "start_time": "2022-03-06T11:07:10.386Z"
   },
   {
    "duration": 69,
    "start_time": "2022-03-06T11:07:15.657Z"
   },
   {
    "duration": 918,
    "start_time": "2022-03-06T11:07:19.146Z"
   },
   {
    "duration": 4,
    "start_time": "2022-03-06T11:07:22.665Z"
   },
   {
    "duration": 27,
    "start_time": "2022-03-06T11:07:25.154Z"
   },
   {
    "duration": 10,
    "start_time": "2022-03-06T11:07:28.422Z"
   },
   {
    "duration": 19,
    "start_time": "2022-03-06T11:07:32.785Z"
   },
   {
    "duration": 18,
    "start_time": "2022-03-06T11:07:43.226Z"
   },
   {
    "duration": 17,
    "start_time": "2022-03-06T11:08:28.731Z"
   },
   {
    "duration": 139,
    "start_time": "2022-03-06T11:08:35.210Z"
   },
   {
    "duration": 18,
    "start_time": "2022-03-06T11:10:11.058Z"
   },
   {
    "duration": 17,
    "start_time": "2022-03-06T11:10:15.124Z"
   },
   {
    "duration": 20,
    "start_time": "2022-03-06T11:10:38.269Z"
   },
   {
    "duration": 17,
    "start_time": "2022-03-06T11:11:25.820Z"
   },
   {
    "duration": 14,
    "start_time": "2022-03-06T11:11:31.347Z"
   },
   {
    "duration": 19,
    "start_time": "2022-03-06T11:12:32.966Z"
   },
   {
    "duration": 18,
    "start_time": "2022-03-06T11:12:53.500Z"
   },
   {
    "duration": 17,
    "start_time": "2022-03-06T11:12:55.715Z"
   },
   {
    "duration": 19,
    "start_time": "2022-03-06T11:13:00.612Z"
   },
   {
    "duration": 7,
    "start_time": "2022-03-06T11:36:08.611Z"
   },
   {
    "duration": 18,
    "start_time": "2022-03-06T11:36:47.412Z"
   },
   {
    "duration": 19,
    "start_time": "2022-03-06T11:43:30.423Z"
   },
   {
    "duration": 106,
    "start_time": "2022-03-06T11:46:38.048Z"
   },
   {
    "duration": 4,
    "start_time": "2022-03-06T11:48:02.879Z"
   },
   {
    "duration": 313,
    "start_time": "2022-03-06T11:48:02.885Z"
   },
   {
    "duration": 34,
    "start_time": "2022-03-06T11:48:03.201Z"
   },
   {
    "duration": 12,
    "start_time": "2022-03-06T11:48:03.237Z"
   },
   {
    "duration": 24,
    "start_time": "2022-03-06T11:48:03.251Z"
   },
   {
    "duration": 8,
    "start_time": "2022-03-06T11:48:03.277Z"
   },
   {
    "duration": 8,
    "start_time": "2022-03-06T11:48:03.334Z"
   },
   {
    "duration": 5,
    "start_time": "2022-03-06T11:48:03.345Z"
   },
   {
    "duration": 6,
    "start_time": "2022-03-06T11:48:03.352Z"
   },
   {
    "duration": 7,
    "start_time": "2022-03-06T11:48:03.361Z"
   },
   {
    "duration": 7,
    "start_time": "2022-03-06T11:48:03.370Z"
   },
   {
    "duration": 93,
    "start_time": "2022-03-06T11:48:03.379Z"
   },
   {
    "duration": 9,
    "start_time": "2022-03-06T11:48:03.474Z"
   },
   {
    "duration": 8,
    "start_time": "2022-03-06T11:48:03.485Z"
   },
   {
    "duration": 44,
    "start_time": "2022-03-06T11:48:03.495Z"
   },
   {
    "duration": 8,
    "start_time": "2022-03-06T11:48:03.541Z"
   },
   {
    "duration": 8,
    "start_time": "2022-03-06T11:48:03.551Z"
   },
   {
    "duration": 8,
    "start_time": "2022-03-06T11:48:03.561Z"
   },
   {
    "duration": 14,
    "start_time": "2022-03-06T11:48:03.574Z"
   },
   {
    "duration": 5,
    "start_time": "2022-03-06T11:48:03.634Z"
   },
   {
    "duration": 4,
    "start_time": "2022-03-06T11:48:03.642Z"
   },
   {
    "duration": 10,
    "start_time": "2022-03-06T11:48:03.649Z"
   },
   {
    "duration": 9,
    "start_time": "2022-03-06T11:48:03.661Z"
   },
   {
    "duration": 16,
    "start_time": "2022-03-06T11:48:03.673Z"
   },
   {
    "duration": 65,
    "start_time": "2022-03-06T11:48:03.691Z"
   },
   {
    "duration": 27,
    "start_time": "2022-03-06T11:48:03.758Z"
   },
   {
    "duration": 47,
    "start_time": "2022-03-06T11:48:03.787Z"
   },
   {
    "duration": 10,
    "start_time": "2022-03-06T11:48:03.836Z"
   },
   {
    "duration": 27,
    "start_time": "2022-03-06T11:48:03.848Z"
   },
   {
    "duration": 8,
    "start_time": "2022-03-06T11:48:03.877Z"
   },
   {
    "duration": 9,
    "start_time": "2022-03-06T11:48:03.887Z"
   },
   {
    "duration": 12,
    "start_time": "2022-03-06T11:48:03.933Z"
   },
   {
    "duration": 28,
    "start_time": "2022-03-06T11:48:03.948Z"
   },
   {
    "duration": 73,
    "start_time": "2022-03-06T11:48:03.979Z"
   },
   {
    "duration": 13,
    "start_time": "2022-03-06T11:48:04.054Z"
   },
   {
    "duration": 6,
    "start_time": "2022-03-06T11:48:04.069Z"
   },
   {
    "duration": 7,
    "start_time": "2022-03-06T11:48:04.077Z"
   },
   {
    "duration": 8,
    "start_time": "2022-03-06T11:48:04.086Z"
   },
   {
    "duration": 64,
    "start_time": "2022-03-06T11:48:04.096Z"
   },
   {
    "duration": 10,
    "start_time": "2022-03-06T11:48:04.162Z"
   },
   {
    "duration": 20,
    "start_time": "2022-03-06T11:48:04.174Z"
   },
   {
    "duration": 45,
    "start_time": "2022-03-06T11:48:04.197Z"
   },
   {
    "duration": 14,
    "start_time": "2022-03-06T11:48:04.245Z"
   },
   {
    "duration": 8,
    "start_time": "2022-03-06T11:48:04.262Z"
   },
   {
    "duration": 15,
    "start_time": "2022-03-06T11:48:04.273Z"
   },
   {
    "duration": 56,
    "start_time": "2022-03-06T11:48:04.290Z"
   },
   {
    "duration": 9,
    "start_time": "2022-03-06T11:48:04.348Z"
   },
   {
    "duration": 12,
    "start_time": "2022-03-06T11:48:04.360Z"
   },
   {
    "duration": 13,
    "start_time": "2022-03-06T11:48:04.374Z"
   },
   {
    "duration": 54,
    "start_time": "2022-03-06T11:48:04.390Z"
   },
   {
    "duration": 17,
    "start_time": "2022-03-06T11:48:04.446Z"
   },
   {
    "duration": 6,
    "start_time": "2022-03-06T11:48:04.465Z"
   },
   {
    "duration": 61,
    "start_time": "2022-03-06T11:48:04.473Z"
   },
   {
    "duration": 9,
    "start_time": "2022-03-06T11:48:04.537Z"
   },
   {
    "duration": 15,
    "start_time": "2022-03-06T11:48:04.553Z"
   },
   {
    "duration": 10,
    "start_time": "2022-03-06T11:48:04.570Z"
   },
   {
    "duration": 67,
    "start_time": "2022-03-06T11:48:04.583Z"
   },
   {
    "duration": 929,
    "start_time": "2022-03-06T11:48:04.653Z"
   },
   {
    "duration": 4,
    "start_time": "2022-03-06T11:48:05.585Z"
   },
   {
    "duration": 49,
    "start_time": "2022-03-06T11:48:05.592Z"
   },
   {
    "duration": 10,
    "start_time": "2022-03-06T11:48:05.644Z"
   },
   {
    "duration": 19,
    "start_time": "2022-03-06T11:48:05.657Z"
   },
   {
    "duration": 62,
    "start_time": "2022-03-06T11:48:05.678Z"
   },
   {
    "duration": 17,
    "start_time": "2022-03-06T11:48:05.742Z"
   },
   {
    "duration": 16,
    "start_time": "2022-03-06T11:48:05.761Z"
   },
   {
    "duration": 21,
    "start_time": "2022-03-06T11:48:05.779Z"
   },
   {
    "duration": 19,
    "start_time": "2022-03-06T11:48:05.833Z"
   },
   {
    "duration": 18,
    "start_time": "2022-03-06T11:48:05.855Z"
   },
   {
    "duration": 55,
    "start_time": "2022-03-06T11:48:05.876Z"
   },
   {
    "duration": 21,
    "start_time": "2022-03-06T11:48:05.934Z"
   },
   {
    "duration": 633,
    "start_time": "2022-03-06T17:34:34.234Z"
   },
   {
    "duration": 183,
    "start_time": "2022-03-06T17:34:34.870Z"
   },
   {
    "duration": 11,
    "start_time": "2022-03-06T17:34:35.055Z"
   },
   {
    "duration": 16,
    "start_time": "2022-03-06T17:34:35.068Z"
   },
   {
    "duration": 26,
    "start_time": "2022-03-06T17:34:35.085Z"
   },
   {
    "duration": 25,
    "start_time": "2022-03-06T17:34:35.113Z"
   },
   {
    "duration": 8,
    "start_time": "2022-03-06T17:34:35.140Z"
   },
   {
    "duration": 5,
    "start_time": "2022-03-06T17:34:35.152Z"
   },
   {
    "duration": 6,
    "start_time": "2022-03-06T17:34:35.160Z"
   },
   {
    "duration": 6,
    "start_time": "2022-03-06T17:34:35.168Z"
   },
   {
    "duration": 5,
    "start_time": "2022-03-06T17:34:35.176Z"
   },
   {
    "duration": 74,
    "start_time": "2022-03-06T17:34:35.182Z"
   },
   {
    "duration": 8,
    "start_time": "2022-03-06T17:34:35.258Z"
   },
   {
    "duration": 9,
    "start_time": "2022-03-06T17:34:35.268Z"
   },
   {
    "duration": 9,
    "start_time": "2022-03-06T17:34:35.279Z"
   },
   {
    "duration": 7,
    "start_time": "2022-03-06T17:34:35.290Z"
   },
   {
    "duration": 39,
    "start_time": "2022-03-06T17:34:35.299Z"
   },
   {
    "duration": 8,
    "start_time": "2022-03-06T17:34:35.340Z"
   },
   {
    "duration": 21,
    "start_time": "2022-03-06T17:34:35.350Z"
   },
   {
    "duration": 4,
    "start_time": "2022-03-06T17:34:35.373Z"
   },
   {
    "duration": 9,
    "start_time": "2022-03-06T17:34:35.379Z"
   },
   {
    "duration": 10,
    "start_time": "2022-03-06T17:34:35.390Z"
   },
   {
    "duration": 7,
    "start_time": "2022-03-06T17:34:35.404Z"
   },
   {
    "duration": 30,
    "start_time": "2022-03-06T17:34:35.413Z"
   },
   {
    "duration": 22,
    "start_time": "2022-03-06T17:34:35.445Z"
   },
   {
    "duration": 18,
    "start_time": "2022-03-06T17:34:35.468Z"
   },
   {
    "duration": 16,
    "start_time": "2022-03-06T17:34:35.488Z"
   },
   {
    "duration": 34,
    "start_time": "2022-03-06T17:34:35.505Z"
   },
   {
    "duration": 21,
    "start_time": "2022-03-06T17:34:35.541Z"
   },
   {
    "duration": 9,
    "start_time": "2022-03-06T17:34:35.564Z"
   },
   {
    "duration": 9,
    "start_time": "2022-03-06T17:34:35.575Z"
   },
   {
    "duration": 13,
    "start_time": "2022-03-06T17:34:35.586Z"
   },
   {
    "duration": 38,
    "start_time": "2022-03-06T17:34:35.600Z"
   },
   {
    "duration": 30,
    "start_time": "2022-03-06T17:34:35.640Z"
   },
   {
    "duration": 9,
    "start_time": "2022-03-06T17:34:35.672Z"
   },
   {
    "duration": 5,
    "start_time": "2022-03-06T17:34:35.683Z"
   },
   {
    "duration": 4,
    "start_time": "2022-03-06T17:34:35.689Z"
   },
   {
    "duration": 8,
    "start_time": "2022-03-06T17:34:35.695Z"
   },
   {
    "duration": 52,
    "start_time": "2022-03-06T17:34:35.705Z"
   },
   {
    "duration": 7,
    "start_time": "2022-03-06T17:34:35.759Z"
   },
   {
    "duration": 13,
    "start_time": "2022-03-06T17:34:35.767Z"
   },
   {
    "duration": 12,
    "start_time": "2022-03-06T17:34:35.782Z"
   },
   {
    "duration": 50,
    "start_time": "2022-03-06T17:34:35.796Z"
   },
   {
    "duration": 6,
    "start_time": "2022-03-06T17:34:35.848Z"
   },
   {
    "duration": 12,
    "start_time": "2022-03-06T17:34:35.855Z"
   },
   {
    "duration": 10,
    "start_time": "2022-03-06T17:34:35.869Z"
   },
   {
    "duration": 11,
    "start_time": "2022-03-06T17:34:35.881Z"
   },
   {
    "duration": 11,
    "start_time": "2022-03-06T17:34:35.893Z"
   },
   {
    "duration": 40,
    "start_time": "2022-03-06T17:34:35.906Z"
   },
   {
    "duration": 10,
    "start_time": "2022-03-06T17:34:35.947Z"
   },
   {
    "duration": 12,
    "start_time": "2022-03-06T17:34:35.959Z"
   },
   {
    "duration": 5,
    "start_time": "2022-03-06T17:34:35.972Z"
   },
   {
    "duration": 19,
    "start_time": "2022-03-06T17:34:35.979Z"
   },
   {
    "duration": 39,
    "start_time": "2022-03-06T17:34:36.000Z"
   },
   {
    "duration": 13,
    "start_time": "2022-03-06T17:34:36.040Z"
   },
   {
    "duration": 7,
    "start_time": "2022-03-06T17:34:36.054Z"
   },
   {
    "duration": 6,
    "start_time": "2022-03-06T17:34:36.063Z"
   },
   {
    "duration": 685,
    "start_time": "2022-03-06T17:34:36.071Z"
   },
   {
    "duration": 3,
    "start_time": "2022-03-06T17:34:36.757Z"
   },
   {
    "duration": 22,
    "start_time": "2022-03-06T17:34:36.761Z"
   },
   {
    "duration": 8,
    "start_time": "2022-03-06T17:34:36.785Z"
   },
   {
    "duration": 16,
    "start_time": "2022-03-06T17:34:36.794Z"
   },
   {
    "duration": 35,
    "start_time": "2022-03-06T17:34:36.811Z"
   },
   {
    "duration": 12,
    "start_time": "2022-03-06T17:34:36.848Z"
   },
   {
    "duration": 12,
    "start_time": "2022-03-06T17:34:36.861Z"
   },
   {
    "duration": 14,
    "start_time": "2022-03-06T17:34:36.875Z"
   },
   {
    "duration": 48,
    "start_time": "2022-03-06T17:34:36.890Z"
   },
   {
    "duration": 12,
    "start_time": "2022-03-06T17:34:36.943Z"
   },
   {
    "duration": 20,
    "start_time": "2022-03-06T17:34:36.956Z"
   },
   {
    "duration": 11,
    "start_time": "2022-03-06T17:34:36.978Z"
   }
  ],
  "celltoolbar": "Отсутствует",
  "kernelspec": {
   "display_name": "Python 3 (ipykernel)",
   "language": "python",
   "name": "python3"
  },
  "language_info": {
   "codemirror_mode": {
    "name": "ipython",
    "version": 3
   },
   "file_extension": ".py",
   "mimetype": "text/x-python",
   "name": "python",
   "nbconvert_exporter": "python",
   "pygments_lexer": "ipython3",
   "version": "3.7.8"
  },
  "toc": {
   "base_numbering": 1,
   "nav_menu": {},
   "number_sections": true,
   "sideBar": true,
   "skip_h1_title": true,
   "title_cell": "Table of Contents",
   "title_sidebar": "Contents",
   "toc_cell": false,
   "toc_position": {
    "height": "calc(100% - 180px)",
    "left": "10px",
    "top": "150px",
    "width": "165px"
   },
   "toc_section_display": true,
   "toc_window_display": true
  }
 },
 "nbformat": 4,
 "nbformat_minor": 5
}
